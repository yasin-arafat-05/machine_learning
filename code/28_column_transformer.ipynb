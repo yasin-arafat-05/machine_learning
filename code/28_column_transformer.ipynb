{
 "cells": [
  {
   "cell_type": "code",
   "execution_count": 2,
   "metadata": {},
   "outputs": [],
   "source": [
    "\n",
    "import numpy as np \n",
    "import pandas as pd \n",
    "import matplotlib.pyplot as plt \n",
    "import seaborn as sns\n"
   ]
  },
  {
   "cell_type": "code",
   "execution_count": 3,
   "metadata": {},
   "outputs": [],
   "source": [
    "\n",
    "df = pd.read_csv(\"dataset/covid_toy.csv\")\n"
   ]
  },
  {
   "cell_type": "code",
   "execution_count": 4,
   "metadata": {},
   "outputs": [
    {
     "name": "stdout",
     "output_type": "stream",
     "text": [
      "sample: \n",
      "      age  gender  fever   cough       city has_covid\n",
      "29   34  Female    NaN  Strong     Mumbai       Yes\n",
      "76   80    Male  100.0    Mild  Bangalore       Yes\n",
      "\n",
      "shpae: (100, 6)\n",
      "\n",
      "<class 'pandas.core.frame.DataFrame'>\n",
      "RangeIndex: 100 entries, 0 to 99\n",
      "Data columns (total 6 columns):\n",
      " #   Column     Non-Null Count  Dtype  \n",
      "---  ------     --------------  -----  \n",
      " 0   age        100 non-null    int64  \n",
      " 1   gender     100 non-null    object \n",
      " 2   fever      90 non-null     float64\n",
      " 3   cough      100 non-null    object \n",
      " 4   city       100 non-null    object \n",
      " 5   has_covid  100 non-null    object \n",
      "dtypes: float64(1), int64(1), object(4)\n",
      "memory usage: 4.8+ KB\n",
      "info : None\n",
      "\n",
      "Missing value count: \n",
      " age           0\n",
      "gender        0\n",
      "fever        10\n",
      "cough         0\n",
      "city          0\n",
      "has_covid     0\n",
      "dtype: int64\n"
     ]
    }
   ],
   "source": [
    "\n",
    "print(\"sample: \\n  {}\".format(df.sample(2)))\n",
    "\n",
    "print()\n",
    "\n",
    "print(f\"shpae: {df.shape}\")\n",
    "\n",
    "print()\n",
    "\n",
    "print(f\"info : {df.info()}\")\n",
    "\n",
    "\n",
    "print()\n",
    "\n",
    "print(f\"Missing value count: \\n {df.isnull().sum()}\")\n"
   ]
  },
  {
   "cell_type": "code",
   "execution_count": 5,
   "metadata": {},
   "outputs": [
    {
     "name": "stdout",
     "output_type": "stream",
     "text": [
      "shape of X_train : (70, 5)\n",
      "shape of X_test : (30, 5)\n",
      "shape of y_train : (70,)\n",
      "shape of y_test : (30,)\n"
     ]
    }
   ],
   "source": [
    "from sklearn.model_selection import train_test_split\n",
    "\n",
    "X_train,X_test,y_train,y_test = train_test_split(df.iloc[:,:5],df[\"has_covid\"],test_size=0.3)\n",
    "\n",
    "print(f\"shape of X_train : {X_train.shape}\")\n",
    "print(f\"shape of X_test : {X_test.shape}\")\n",
    "print(f\"shape of y_train : {y_train.shape}\")\n",
    "print(f\"shape of y_test : {y_test.shape}\")\n"
   ]
  },
  {
   "cell_type": "markdown",
   "metadata": {},
   "source": [
    "<br>\n",
    "<br>\n",
    "\n",
    "\n",
    "# Do without Column Transformer:\n",
    "\n",
    "\n",
    "<br>\n",
    "<br>"
   ]
  },
  {
   "cell_type": "markdown",
   "metadata": {},
   "source": [
    "#### Remove Missing Value:"
   ]
  },
  {
   "cell_type": "code",
   "execution_count": 6,
   "metadata": {},
   "outputs": [
    {
     "data": {
      "text/plain": [
       "(70, 1)"
      ]
     },
     "execution_count": 6,
     "metadata": {},
     "output_type": "execute_result"
    }
   ],
   "source": [
    "\n",
    "from sklearn.impute import SimpleImputer\n",
    "\n",
    "# simple imputer for filling nan vlaue for (Fever)\n",
    "\n",
    "si = SimpleImputer(strategy=\"mean\")\n",
    "\n",
    "X_train_fever = si.fit_transform(X_train[[\"fever\"]])\n",
    "X_test_fever = si.transform(X_test[[\"fever\"]])\n",
    "\n",
    "X_train_fever.shape\n"
   ]
  },
  {
   "cell_type": "markdown",
   "metadata": {},
   "source": [
    "#### Ordinal Encoding:"
   ]
  },
  {
   "cell_type": "code",
   "execution_count": 7,
   "metadata": {},
   "outputs": [
    {
     "data": {
      "text/plain": [
       "(30, 1)"
      ]
     },
     "execution_count": 7,
     "metadata": {},
     "output_type": "execute_result"
    }
   ],
   "source": [
    "from sklearn.preprocessing import OrdinalEncoder\n",
    "\n",
    "oe = OrdinalEncoder(categories=[[\"Mild\",\"Strong\"]])\n",
    "\n",
    "X_train_cough = oe.fit_transform(X_train[['cough']])\n",
    "X_test_cough = oe.fit_transform(X_test[['cough']])\n",
    "\n",
    "X_test_cough.shape"
   ]
  },
  {
   "cell_type": "markdown",
   "metadata": {},
   "source": [
    "#### OHE -> City and Gender:"
   ]
  },
  {
   "cell_type": "code",
   "execution_count": 8,
   "metadata": {},
   "outputs": [
    {
     "data": {
      "text/plain": [
       "gender\n",
       "Female    39\n",
       "Male      31\n",
       "Name: count, dtype: int64"
      ]
     },
     "execution_count": 8,
     "metadata": {},
     "output_type": "execute_result"
    }
   ],
   "source": [
    "X_train[\"gender\"].value_counts()"
   ]
  },
  {
   "cell_type": "code",
   "execution_count": 9,
   "metadata": {},
   "outputs": [
    {
     "data": {
      "text/plain": [
       "city\n",
       "Bangalore    21\n",
       "Kolkata      21\n",
       "Delhi        17\n",
       "Mumbai       11\n",
       "Name: count, dtype: int64"
      ]
     },
     "execution_count": 9,
     "metadata": {},
     "output_type": "execute_result"
    }
   ],
   "source": [
    "X_train[\"city\"].value_counts()"
   ]
  },
  {
   "cell_type": "code",
   "execution_count": 10,
   "metadata": {},
   "outputs": [
    {
     "data": {
      "text/plain": [
       "(30, 4)"
      ]
     },
     "execution_count": 10,
     "metadata": {},
     "output_type": "execute_result"
    }
   ],
   "source": [
    "from sklearn.preprocessing import OneHotEncoder\n",
    "\n",
    "ohe = OneHotEncoder(drop=\"first\",sparse_output=False)\n",
    "\n",
    "X_train_gender_city = ohe.fit_transform(X_train[[\"gender\",\"city\"]])\n",
    "\n",
    "X_test_gender_city = ohe.fit_transform(X_test[[\"gender\",\"city\"]])\n",
    "\n",
    "X_test_gender_city.shape"
   ]
  },
  {
   "cell_type": "markdown",
   "metadata": {},
   "source": [
    "#### Seperating: Age"
   ]
  },
  {
   "cell_type": "code",
   "execution_count": 11,
   "metadata": {},
   "outputs": [
    {
     "data": {
      "text/plain": [
       "(70, 1)"
      ]
     },
     "execution_count": 11,
     "metadata": {},
     "output_type": "execute_result"
    }
   ],
   "source": [
    "\n",
    "# every thing in numpy array we shold also convert this into numpy array:\n",
    "\n",
    "X_train_age = X_train.drop(columns=[\"gender\",\"fever\",\"cough\",\"city\"]).values\n",
    "X_test_age = X_test.drop(columns=[\"gender\",\"fever\",\"cough\",\"city\"]).values \n",
    "\n",
    "X_train_age.shape\n",
    "\n",
    "# we need the shpae (70,1) other wise we cann't implement np.concatenate()\n"
   ]
  },
  {
   "cell_type": "markdown",
   "metadata": {},
   "source": [
    "#### concreate everyting:"
   ]
  },
  {
   "cell_type": "code",
   "execution_count": 12,
   "metadata": {},
   "outputs": [
    {
     "name": "stdout",
     "output_type": "stream",
     "text": [
      "(70, 1)\n",
      "(70, 1)\n",
      "(70, 4)\n",
      "(70, 1)\n"
     ]
    }
   ],
   "source": [
    "print(X_train_age.shape)\n",
    "print(X_train_cough.shape)\n",
    "print(X_train_gender_city.shape)\n",
    "print(X_train_fever.shape)"
   ]
  },
  {
   "cell_type": "code",
   "execution_count": 13,
   "metadata": {},
   "outputs": [
    {
     "data": {
      "text/plain": [
       "(70, 7)"
      ]
     },
     "execution_count": 13,
     "metadata": {},
     "output_type": "execute_result"
    }
   ],
   "source": [
    "\n",
    "X_train_transformed = np.concatenate((X_train_age,X_train_cough,X_train_gender_city,X_train_fever),axis=1)\n",
    "X_test_transformed = np.concatenate((X_test_age,X_test_cough,X_test_gender_city,X_test_fever),axis=1)\n",
    "\n",
    "X_train_transformed.shape\n"
   ]
  },
  {
   "cell_type": "markdown",
   "metadata": {},
   "source": [
    "<br>\n",
    "<br>\n",
    "<br>\n",
    "\n",
    "# now using column transformer:\n",
    "\n",
    "<br>\n",
    "<br>\n",
    "<br>"
   ]
  },
  {
   "cell_type": "code",
   "execution_count": 14,
   "metadata": {},
   "outputs": [
    {
     "data": {
      "text/plain": [
       "Index(['age', 'gender', 'fever', 'cough', 'city', 'has_covid'], dtype='object')"
      ]
     },
     "execution_count": 14,
     "metadata": {},
     "output_type": "execute_result"
    }
   ],
   "source": [
    "df.columns"
   ]
  },
  {
   "cell_type": "code",
   "execution_count": 15,
   "metadata": {},
   "outputs": [],
   "source": [
    "from sklearn.compose import ColumnTransformer\n",
    "\n",
    "ctm = ColumnTransformer(\n",
    "    transformers=[\n",
    "        (\"tnf1\",SimpleImputer(),[\"fever\"]),\n",
    "        (\"tnf2\",OrdinalEncoder(categories=[[\"Mild\",\"Strong\"]]),[\"cough\"]),\n",
    "        (\"tnf3\",OneHotEncoder(sparse_output=False,drop='first'),[\"gender\",\"city\"]),\n",
    "    ],\n",
    "    remainder=\"passthrough\",\n",
    ")\n"
   ]
  },
  {
   "cell_type": "code",
   "execution_count": 18,
   "metadata": {},
   "outputs": [
    {
     "data": {
      "text/plain": [
       "array([[103.        ,   0.        ,   0.        ,   0.        ,\n",
       "          0.        ,   0.        ,  16.        ],\n",
       "       [100.96969697,   0.        ,   0.        ,   1.        ,\n",
       "          0.        ,   0.        ,  75.        ],\n",
       "       [100.96969697,   1.        ,   0.        ,   0.        ,\n",
       "          0.        ,   0.        ,  42.        ],\n",
       "       [104.        ,   1.        ,   0.        ,   1.        ,\n",
       "          0.        ,   0.        ,  75.        ],\n",
       "       [ 98.        ,   1.        ,   1.        ,   0.        ,\n",
       "          0.        ,   1.        ,  23.        ],\n",
       "       [102.        ,   0.        ,   1.        ,   0.        ,\n",
       "          1.        ,   0.        ,   5.        ],\n",
       "       [101.        ,   1.        ,   0.        ,   1.        ,\n",
       "          0.        ,   0.        ,  34.        ],\n",
       "       [102.        ,   0.        ,   1.        ,   0.        ,\n",
       "          0.        ,   1.        ,  74.        ],\n",
       "       [101.        ,   1.        ,   0.        ,   1.        ,\n",
       "          0.        ,   0.        ,  68.        ],\n",
       "       [ 99.        ,   1.        ,   0.        ,   0.        ,\n",
       "          1.        ,   0.        ,  25.        ],\n",
       "       [102.        ,   1.        ,   0.        ,   0.        ,\n",
       "          0.        ,   0.        ,  24.        ],\n",
       "       [ 99.        ,   0.        ,   1.        ,   1.        ,\n",
       "          0.        ,   0.        ,  65.        ],\n",
       "       [102.        ,   1.        ,   0.        ,   0.        ,\n",
       "          0.        ,   0.        ,  82.        ],\n",
       "       [100.        ,   0.        ,   1.        ,   0.        ,\n",
       "          0.        ,   0.        ,  10.        ],\n",
       "       [101.        ,   1.        ,   0.        ,   0.        ,\n",
       "          1.        ,   0.        ,  51.        ],\n",
       "       [ 99.        ,   0.        ,   0.        ,   0.        ,\n",
       "          0.        ,   0.        ,  22.        ],\n",
       "       [101.        ,   0.        ,   1.        ,   1.        ,\n",
       "          0.        ,   0.        ,  15.        ],\n",
       "       [ 98.        ,   1.        ,   0.        ,   1.        ,\n",
       "          0.        ,   0.        ,  40.        ],\n",
       "       [101.        ,   0.        ,   0.        ,   0.        ,\n",
       "          0.        ,   1.        ,  19.        ],\n",
       "       [101.        ,   0.        ,   0.        ,   1.        ,\n",
       "          0.        ,   0.        ,  64.        ],\n",
       "       [100.        ,   1.        ,   0.        ,   0.        ,\n",
       "          0.        ,   0.        ,  47.        ],\n",
       "       [104.        ,   0.        ,   1.        ,   0.        ,\n",
       "          1.        ,   0.        ,  16.        ],\n",
       "       [100.        ,   1.        ,   0.        ,   0.        ,\n",
       "          1.        ,   0.        ,  13.        ],\n",
       "       [101.        ,   0.        ,   0.        ,   0.        ,\n",
       "          0.        ,   1.        ,  65.        ],\n",
       "       [104.        ,   0.        ,   1.        ,   0.        ,\n",
       "          0.        ,   0.        ,  25.        ],\n",
       "       [103.        ,   0.        ,   0.        ,   1.        ,\n",
       "          0.        ,   0.        ,  73.        ],\n",
       "       [102.        ,   0.        ,   0.        ,   1.        ,\n",
       "          0.        ,   0.        ,  49.        ],\n",
       "       [ 98.        ,   0.        ,   1.        ,   1.        ,\n",
       "          0.        ,   0.        ,  83.        ],\n",
       "       [102.        ,   0.        ,   0.        ,   0.        ,\n",
       "          0.        ,   0.        ,  69.        ],\n",
       "       [103.        ,   1.        ,   1.        ,   0.        ,\n",
       "          1.        ,   0.        ,  70.        ],\n",
       "       [104.        ,   1.        ,   0.        ,   1.        ,\n",
       "          0.        ,   0.        ,  34.        ],\n",
       "       [103.        ,   0.        ,   1.        ,   0.        ,\n",
       "          1.        ,   0.        ,  83.        ],\n",
       "       [104.        ,   0.        ,   1.        ,   0.        ,\n",
       "          0.        ,   1.        ,  44.        ],\n",
       "       [100.96969697,   0.        ,   1.        ,   0.        ,\n",
       "          0.        ,   1.        ,  23.        ],\n",
       "       [104.        ,   0.        ,   0.        ,   0.        ,\n",
       "          0.        ,   0.        ,  18.        ],\n",
       "       [102.        ,   1.        ,   1.        ,   1.        ,\n",
       "          0.        ,   0.        ,  20.        ],\n",
       "       [ 98.        ,   1.        ,   1.        ,   0.        ,\n",
       "          0.        ,   0.        ,  12.        ],\n",
       "       [ 98.        ,   0.        ,   0.        ,   0.        ,\n",
       "          1.        ,   0.        ,  26.        ],\n",
       "       [100.        ,   0.        ,   1.        ,   0.        ,\n",
       "          0.        ,   0.        ,  11.        ],\n",
       "       [ 98.        ,   0.        ,   1.        ,   0.        ,\n",
       "          1.        ,   0.        ,  24.        ],\n",
       "       [100.        ,   0.        ,   1.        ,   0.        ,\n",
       "          1.        ,   0.        ,  27.        ],\n",
       "       [101.        ,   0.        ,   0.        ,   0.        ,\n",
       "          1.        ,   0.        ,  83.        ],\n",
       "       [ 98.        ,   1.        ,   1.        ,   0.        ,\n",
       "          1.        ,   0.        ,  34.        ],\n",
       "       [104.        ,   0.        ,   0.        ,   0.        ,\n",
       "          1.        ,   0.        ,   6.        ],\n",
       "       [101.        ,   0.        ,   0.        ,   1.        ,\n",
       "          0.        ,   0.        ,  49.        ],\n",
       "       [ 98.        ,   0.        ,   0.        ,   0.        ,\n",
       "          0.        ,   1.        ,  65.        ],\n",
       "       [104.        ,   0.        ,   1.        ,   0.        ,\n",
       "          1.        ,   0.        ,  51.        ],\n",
       "       [ 99.        ,   0.        ,   1.        ,   0.        ,\n",
       "          0.        ,   0.        ,  72.        ],\n",
       "       [103.        ,   0.        ,   0.        ,   0.        ,\n",
       "          1.        ,   0.        ,  50.        ],\n",
       "       [104.        ,   0.        ,   1.        ,   0.        ,\n",
       "          0.        ,   1.        ,  42.        ],\n",
       "       [100.        ,   0.        ,   1.        ,   0.        ,\n",
       "          0.        ,   0.        ,  80.        ],\n",
       "       [ 99.        ,   1.        ,   0.        ,   0.        ,\n",
       "          0.        ,   0.        ,  49.        ],\n",
       "       [100.        ,   0.        ,   0.        ,   0.        ,\n",
       "          1.        ,   0.        ,   5.        ],\n",
       "       [103.        ,   0.        ,   1.        ,   0.        ,\n",
       "          1.        ,   0.        ,  60.        ],\n",
       "       [101.        ,   0.        ,   1.        ,   1.        ,\n",
       "          0.        ,   0.        ,  42.        ],\n",
       "       [104.        ,   1.        ,   0.        ,   0.        ,\n",
       "          0.        ,   0.        ,  56.        ],\n",
       "       [103.        ,   0.        ,   0.        ,   0.        ,\n",
       "          1.        ,   0.        ,  48.        ],\n",
       "       [ 99.        ,   0.        ,   0.        ,   0.        ,\n",
       "          0.        ,   1.        ,  14.        ],\n",
       "       [104.        ,   0.        ,   1.        ,   0.        ,\n",
       "          0.        ,   0.        ,  51.        ],\n",
       "       [ 98.        ,   1.        ,   0.        ,   0.        ,\n",
       "          1.        ,   0.        ,  10.        ],\n",
       "       [101.        ,   0.        ,   1.        ,   1.        ,\n",
       "          0.        ,   0.        ,  19.        ],\n",
       "       [ 99.        ,   0.        ,   1.        ,   0.        ,\n",
       "          0.        ,   0.        ,  65.        ],\n",
       "       [100.96969697,   0.        ,   1.        ,   0.        ,\n",
       "          1.        ,   0.        ,  82.        ],\n",
       "       [ 98.        ,   1.        ,   0.        ,   0.        ,\n",
       "          0.        ,   1.        ,  81.        ],\n",
       "       [100.        ,   0.        ,   1.        ,   1.        ,\n",
       "          0.        ,   0.        ,  27.        ],\n",
       "       [101.        ,   1.        ,   1.        ,   0.        ,\n",
       "          0.        ,   0.        ,  47.        ],\n",
       "       [103.        ,   0.        ,   0.        ,   0.        ,\n",
       "          1.        ,   0.        ,  69.        ],\n",
       "       [ 98.        ,   0.        ,   0.        ,   0.        ,\n",
       "          0.        ,   0.        ,  64.        ],\n",
       "       [ 99.        ,   0.        ,   0.        ,   0.        ,\n",
       "          0.        ,   1.        ,  60.        ],\n",
       "       [100.        ,   1.        ,   0.        ,   0.        ,\n",
       "          0.        ,   0.        ,  19.        ]])"
      ]
     },
     "execution_count": 18,
     "metadata": {},
     "output_type": "execute_result"
    }
   ],
   "source": [
    "ctm.fit_transform(X_train)"
   ]
  },
  {
   "cell_type": "code",
   "execution_count": 17,
   "metadata": {},
   "outputs": [
    {
     "data": {
      "text/plain": [
       "(30, 7)"
      ]
     },
     "execution_count": 17,
     "metadata": {},
     "output_type": "execute_result"
    }
   ],
   "source": [
    "ctm.transform(X_test).shape"
   ]
  },
  {
   "cell_type": "code",
   "execution_count": null,
   "metadata": {},
   "outputs": [],
   "source": []
  }
 ],
 "metadata": {
  "kernelspec": {
   "display_name": "mlEnv",
   "language": "python",
   "name": "python3"
  },
  "language_info": {
   "codemirror_mode": {
    "name": "ipython",
    "version": 3
   },
   "file_extension": ".py",
   "mimetype": "text/x-python",
   "name": "python",
   "nbconvert_exporter": "python",
   "pygments_lexer": "ipython3",
   "version": "3.12.3"
  }
 },
 "nbformat": 4,
 "nbformat_minor": 2
}
