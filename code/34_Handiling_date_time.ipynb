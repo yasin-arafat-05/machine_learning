{
 "cells": [
  {
   "cell_type": "markdown",
   "metadata": {},
   "source": [
    "<br>\n",
    "<br>\n",
    "<br>\n",
    "\n",
    "# Handling Date And Time: \n",
    "\n",
    "<br>\n",
    "<br>\n",
    "<br>"
   ]
  },
  {
   "cell_type": "code",
   "execution_count": 68,
   "metadata": {},
   "outputs": [],
   "source": [
    "import datetime\n",
    "import numpy as np \n",
    "import pandas as pd "
   ]
  },
  {
   "cell_type": "code",
   "execution_count": 69,
   "metadata": {},
   "outputs": [
    {
     "name": "stdout",
     "output_type": "stream",
     "text": [
      "                    date                              msg\n",
      "593  2015-01-31 00:40:00      п.поцелую девушке0934514694\n",
      "38   2013-10-26 00:12:00  сделаю инт массаж М за 40 Света\n",
      "\n",
      "           date  product_id  city_id  orders\n",
      "263  2019-11-03        6694       25       2\n",
      "587  2019-10-30        6153       22       6\n",
      "\n"
     ]
    }
   ],
   "source": [
    "df_message = pd.read_csv(\"dataset/messages.csv\")\n",
    "df_order = pd.read_csv(\"dataset/orders.csv\")\n",
    "\n",
    "print(df_message.sample(2))\n",
    "\n",
    "print()\n",
    "\n",
    "print(df_order.sample(2))\n",
    "\n",
    "print()\n"
   ]
  },
  {
   "cell_type": "markdown",
   "metadata": {},
   "source": [
    "<br>\n",
    "<br>\n",
    "\n",
    "# Working with Date: \n",
    "\n",
    "<br>\n",
    "<br>"
   ]
  },
  {
   "cell_type": "code",
   "execution_count": 70,
   "metadata": {},
   "outputs": [
    {
     "name": "stdout",
     "output_type": "stream",
     "text": [
      "<class 'pandas.core.frame.DataFrame'>\n",
      "RangeIndex: 1000 entries, 0 to 999\n",
      "Data columns (total 4 columns):\n",
      " #   Column      Non-Null Count  Dtype \n",
      "---  ------      --------------  ----- \n",
      " 0   date        1000 non-null   object\n",
      " 1   product_id  1000 non-null   int64 \n",
      " 2   city_id     1000 non-null   int64 \n",
      " 3   orders      1000 non-null   int64 \n",
      "dtypes: int64(3), object(1)\n",
      "memory usage: 31.4+ KB\n"
     ]
    }
   ],
   "source": [
    "df_order.info()"
   ]
  },
  {
   "cell_type": "code",
   "execution_count": 71,
   "metadata": {},
   "outputs": [
    {
     "name": "stdout",
     "output_type": "stream",
     "text": [
      "<class 'pandas.core.frame.DataFrame'>\n",
      "RangeIndex: 1000 entries, 0 to 999\n",
      "Data columns (total 4 columns):\n",
      " #   Column      Non-Null Count  Dtype         \n",
      "---  ------      --------------  -----         \n",
      " 0   date        1000 non-null   datetime64[ns]\n",
      " 1   product_id  1000 non-null   int64         \n",
      " 2   city_id     1000 non-null   int64         \n",
      " 3   orders      1000 non-null   int64         \n",
      "dtypes: datetime64[ns](1), int64(3)\n",
      "memory usage: 31.4 KB\n"
     ]
    }
   ],
   "source": [
    "\n",
    "df_order[\"date\"] = pd.to_datetime(df_order[\"date\"])\n",
    "\n",
    "df_order.info()\n"
   ]
  },
  {
   "cell_type": "code",
   "execution_count": 72,
   "metadata": {},
   "outputs": [
    {
     "data": {
      "text/plain": [
       "0      2019\n",
       "1      2018\n",
       "2      2018\n",
       "3      2019\n",
       "4      2019\n",
       "       ... \n",
       "995    2018\n",
       "996    2018\n",
       "997    2019\n",
       "998    2019\n",
       "999    2019\n",
       "Name: date, Length: 1000, dtype: int32"
      ]
     },
     "execution_count": 72,
     "metadata": {},
     "output_type": "execute_result"
    }
   ],
   "source": [
    "\n",
    "# extract year:\n",
    "\n",
    "df_order[\"date\"].dt.year"
   ]
  },
  {
   "cell_type": "code",
   "execution_count": 73,
   "metadata": {},
   "outputs": [
    {
     "data": {
      "text/plain": [
       "0      12\n",
       "1       8\n",
       "2      10\n",
       "3       8\n",
       "4       1\n",
       "       ..\n",
       "995    10\n",
       "996    12\n",
       "997     5\n",
       "998     3\n",
       "999    10\n",
       "Name: date, Length: 1000, dtype: int32"
      ]
     },
     "execution_count": 73,
     "metadata": {},
     "output_type": "execute_result"
    }
   ],
   "source": [
    "# extract month :\n",
    "\n",
    "df_order[\"date\"].dt.month"
   ]
  },
  {
   "cell_type": "code",
   "execution_count": 74,
   "metadata": {},
   "outputs": [
    {
     "data": {
      "text/plain": [
       "0      December\n",
       "1        August\n",
       "2       October\n",
       "3        August\n",
       "4       January\n",
       "         ...   \n",
       "995     October\n",
       "996    December\n",
       "997         May\n",
       "998       March\n",
       "999     October\n",
       "Name: date, Length: 1000, dtype: object"
      ]
     },
     "execution_count": 74,
     "metadata": {},
     "output_type": "execute_result"
    }
   ],
   "source": [
    "\n",
    "# extract month name:\n",
    "\n",
    "df_order[\"date\"].dt.month_name()\n"
   ]
  },
  {
   "cell_type": "code",
   "execution_count": 75,
   "metadata": {},
   "outputs": [
    {
     "data": {
      "text/plain": [
       "0      10\n",
       "1      15\n",
       "2      23\n",
       "3      17\n",
       "4       6\n",
       "       ..\n",
       "995     8\n",
       "996     6\n",
       "997     7\n",
       "998     3\n",
       "999    15\n",
       "Name: date, Length: 1000, dtype: int32"
      ]
     },
     "execution_count": 75,
     "metadata": {},
     "output_type": "execute_result"
    }
   ],
   "source": [
    "\n",
    "# extract day:\n",
    "\n",
    "df_order[\"date\"].dt.day"
   ]
  },
  {
   "cell_type": "code",
   "execution_count": 76,
   "metadata": {},
   "outputs": [
    {
     "data": {
      "text/html": [
       "<div>\n",
       "<style scoped>\n",
       "    .dataframe tbody tr th:only-of-type {\n",
       "        vertical-align: middle;\n",
       "    }\n",
       "\n",
       "    .dataframe tbody tr th {\n",
       "        vertical-align: top;\n",
       "    }\n",
       "\n",
       "    .dataframe thead th {\n",
       "        text-align: right;\n",
       "    }\n",
       "</style>\n",
       "<table border=\"1\" class=\"dataframe\">\n",
       "  <thead>\n",
       "    <tr style=\"text-align: right;\">\n",
       "      <th></th>\n",
       "      <th>date</th>\n",
       "      <th>product_id</th>\n",
       "      <th>city_id</th>\n",
       "      <th>orders</th>\n",
       "      <th>day_name</th>\n",
       "    </tr>\n",
       "  </thead>\n",
       "  <tbody>\n",
       "    <tr>\n",
       "      <th>461</th>\n",
       "      <td>2019-10-20</td>\n",
       "      <td>5125</td>\n",
       "      <td>3</td>\n",
       "      <td>3</td>\n",
       "      <td>Sunday</td>\n",
       "    </tr>\n",
       "    <tr>\n",
       "      <th>848</th>\n",
       "      <td>2019-07-11</td>\n",
       "      <td>3524</td>\n",
       "      <td>25</td>\n",
       "      <td>99</td>\n",
       "      <td>Thursday</td>\n",
       "    </tr>\n",
       "    <tr>\n",
       "      <th>931</th>\n",
       "      <td>2018-12-14</td>\n",
       "      <td>2654</td>\n",
       "      <td>11</td>\n",
       "      <td>1</td>\n",
       "      <td>Friday</td>\n",
       "    </tr>\n",
       "    <tr>\n",
       "      <th>727</th>\n",
       "      <td>2019-10-20</td>\n",
       "      <td>1932</td>\n",
       "      <td>18</td>\n",
       "      <td>6</td>\n",
       "      <td>Sunday</td>\n",
       "    </tr>\n",
       "    <tr>\n",
       "      <th>928</th>\n",
       "      <td>2019-01-02</td>\n",
       "      <td>5371</td>\n",
       "      <td>22</td>\n",
       "      <td>4</td>\n",
       "      <td>Wednesday</td>\n",
       "    </tr>\n",
       "  </tbody>\n",
       "</table>\n",
       "</div>"
      ],
      "text/plain": [
       "          date  product_id  city_id  orders   day_name\n",
       "461 2019-10-20        5125        3       3     Sunday\n",
       "848 2019-07-11        3524       25      99   Thursday\n",
       "931 2018-12-14        2654       11       1     Friday\n",
       "727 2019-10-20        1932       18       6     Sunday\n",
       "928 2019-01-02        5371       22       4  Wednesday"
      ]
     },
     "execution_count": 76,
     "metadata": {},
     "output_type": "execute_result"
    }
   ],
   "source": [
    "\n",
    "# extract day_name: \n",
    "df_order[\"day_name\"] = df_order[\"date\"].dt.day_name()\n",
    "df_order.sample(5)"
   ]
  },
  {
   "cell_type": "code",
   "execution_count": 77,
   "metadata": {},
   "outputs": [
    {
     "data": {
      "text/html": [
       "<div>\n",
       "<style scoped>\n",
       "    .dataframe tbody tr th:only-of-type {\n",
       "        vertical-align: middle;\n",
       "    }\n",
       "\n",
       "    .dataframe tbody tr th {\n",
       "        vertical-align: top;\n",
       "    }\n",
       "\n",
       "    .dataframe thead th {\n",
       "        text-align: right;\n",
       "    }\n",
       "</style>\n",
       "<table border=\"1\" class=\"dataframe\">\n",
       "  <thead>\n",
       "    <tr style=\"text-align: right;\">\n",
       "      <th></th>\n",
       "      <th>date</th>\n",
       "      <th>product_id</th>\n",
       "      <th>city_id</th>\n",
       "      <th>orders</th>\n",
       "      <th>day_name</th>\n",
       "      <th>is_weekend</th>\n",
       "    </tr>\n",
       "  </thead>\n",
       "  <tbody>\n",
       "    <tr>\n",
       "      <th>435</th>\n",
       "      <td>2018-10-20</td>\n",
       "      <td>4847</td>\n",
       "      <td>26</td>\n",
       "      <td>9</td>\n",
       "      <td>Saturday</td>\n",
       "      <td>1</td>\n",
       "    </tr>\n",
       "    <tr>\n",
       "      <th>175</th>\n",
       "      <td>2018-09-04</td>\n",
       "      <td>3125</td>\n",
       "      <td>1</td>\n",
       "      <td>10</td>\n",
       "      <td>Tuesday</td>\n",
       "      <td>0</td>\n",
       "    </tr>\n",
       "    <tr>\n",
       "      <th>764</th>\n",
       "      <td>2019-07-26</td>\n",
       "      <td>6850</td>\n",
       "      <td>1</td>\n",
       "      <td>2</td>\n",
       "      <td>Friday</td>\n",
       "      <td>0</td>\n",
       "    </tr>\n",
       "    <tr>\n",
       "      <th>236</th>\n",
       "      <td>2018-08-24</td>\n",
       "      <td>4576</td>\n",
       "      <td>22</td>\n",
       "      <td>3</td>\n",
       "      <td>Friday</td>\n",
       "      <td>0</td>\n",
       "    </tr>\n",
       "    <tr>\n",
       "      <th>741</th>\n",
       "      <td>2019-11-10</td>\n",
       "      <td>7318</td>\n",
       "      <td>25</td>\n",
       "      <td>1</td>\n",
       "      <td>Sunday</td>\n",
       "      <td>1</td>\n",
       "    </tr>\n",
       "  </tbody>\n",
       "</table>\n",
       "</div>"
      ],
      "text/plain": [
       "          date  product_id  city_id  orders  day_name  is_weekend\n",
       "435 2018-10-20        4847       26       9  Saturday           1\n",
       "175 2018-09-04        3125        1      10   Tuesday           0\n",
       "764 2019-07-26        6850        1       2    Friday           0\n",
       "236 2018-08-24        4576       22       3    Friday           0\n",
       "741 2019-11-10        7318       25       1    Sunday           1"
      ]
     },
     "execution_count": 77,
     "metadata": {},
     "output_type": "execute_result"
    }
   ],
   "source": [
    "# is weekend:\n",
    "\n",
    "df_order[\"is_weekend\"] = np.where(df_order[\"day_name\"].isin([\"Sunday\",\"Saturday\"]),1,0)\n",
    "\n",
    "df_order.sample(5)"
   ]
  },
  {
   "cell_type": "code",
   "execution_count": 78,
   "metadata": {},
   "outputs": [
    {
     "data": {
      "text/html": [
       "<div>\n",
       "<style scoped>\n",
       "    .dataframe tbody tr th:only-of-type {\n",
       "        vertical-align: middle;\n",
       "    }\n",
       "\n",
       "    .dataframe tbody tr th {\n",
       "        vertical-align: top;\n",
       "    }\n",
       "\n",
       "    .dataframe thead th {\n",
       "        text-align: right;\n",
       "    }\n",
       "</style>\n",
       "<table border=\"1\" class=\"dataframe\">\n",
       "  <thead>\n",
       "    <tr style=\"text-align: right;\">\n",
       "      <th></th>\n",
       "      <th>date</th>\n",
       "      <th>product_id</th>\n",
       "      <th>city_id</th>\n",
       "      <th>orders</th>\n",
       "      <th>day_name</th>\n",
       "      <th>is_weekend</th>\n",
       "      <th>quarter</th>\n",
       "    </tr>\n",
       "  </thead>\n",
       "  <tbody>\n",
       "    <tr>\n",
       "      <th>328</th>\n",
       "      <td>2019-11-20</td>\n",
       "      <td>7467</td>\n",
       "      <td>23</td>\n",
       "      <td>2</td>\n",
       "      <td>Wednesday</td>\n",
       "      <td>0</td>\n",
       "      <td>4</td>\n",
       "    </tr>\n",
       "    <tr>\n",
       "      <th>758</th>\n",
       "      <td>2019-01-03</td>\n",
       "      <td>2306</td>\n",
       "      <td>14</td>\n",
       "      <td>2</td>\n",
       "      <td>Thursday</td>\n",
       "      <td>0</td>\n",
       "      <td>1</td>\n",
       "    </tr>\n",
       "    <tr>\n",
       "      <th>594</th>\n",
       "      <td>2019-04-14</td>\n",
       "      <td>547</td>\n",
       "      <td>4</td>\n",
       "      <td>86</td>\n",
       "      <td>Sunday</td>\n",
       "      <td>1</td>\n",
       "      <td>2</td>\n",
       "    </tr>\n",
       "    <tr>\n",
       "      <th>622</th>\n",
       "      <td>2018-09-21</td>\n",
       "      <td>3234</td>\n",
       "      <td>25</td>\n",
       "      <td>2</td>\n",
       "      <td>Friday</td>\n",
       "      <td>0</td>\n",
       "      <td>3</td>\n",
       "    </tr>\n",
       "    <tr>\n",
       "      <th>28</th>\n",
       "      <td>2019-04-20</td>\n",
       "      <td>5501</td>\n",
       "      <td>16</td>\n",
       "      <td>1</td>\n",
       "      <td>Saturday</td>\n",
       "      <td>1</td>\n",
       "      <td>2</td>\n",
       "    </tr>\n",
       "  </tbody>\n",
       "</table>\n",
       "</div>"
      ],
      "text/plain": [
       "          date  product_id  city_id  orders   day_name  is_weekend  quarter\n",
       "328 2019-11-20        7467       23       2  Wednesday           0        4\n",
       "758 2019-01-03        2306       14       2   Thursday           0        1\n",
       "594 2019-04-14         547        4      86     Sunday           1        2\n",
       "622 2018-09-21        3234       25       2     Friday           0        3\n",
       "28  2019-04-20        5501       16       1   Saturday           1        2"
      ]
     },
     "execution_count": 78,
     "metadata": {},
     "output_type": "execute_result"
    }
   ],
   "source": [
    "\n",
    "# find quarter:\n",
    "df_order[\"quarter\"] = df_order[\"date\"].dt.quarter\n",
    "\n",
    "df_order.sample(5)\n"
   ]
  },
  {
   "cell_type": "code",
   "execution_count": 89,
   "metadata": {},
   "outputs": [
    {
     "data": {
      "text/html": [
       "<div>\n",
       "<style scoped>\n",
       "    .dataframe tbody tr th:only-of-type {\n",
       "        vertical-align: middle;\n",
       "    }\n",
       "\n",
       "    .dataframe tbody tr th {\n",
       "        vertical-align: top;\n",
       "    }\n",
       "\n",
       "    .dataframe thead th {\n",
       "        text-align: right;\n",
       "    }\n",
       "</style>\n",
       "<table border=\"1\" class=\"dataframe\">\n",
       "  <thead>\n",
       "    <tr style=\"text-align: right;\">\n",
       "      <th></th>\n",
       "      <th>date</th>\n",
       "      <th>product_id</th>\n",
       "      <th>city_id</th>\n",
       "      <th>orders</th>\n",
       "      <th>day_name</th>\n",
       "      <th>is_weekend</th>\n",
       "      <th>quarter</th>\n",
       "      <th>semester</th>\n",
       "    </tr>\n",
       "  </thead>\n",
       "  <tbody>\n",
       "    <tr>\n",
       "      <th>181</th>\n",
       "      <td>2019-04-12</td>\n",
       "      <td>1744</td>\n",
       "      <td>13</td>\n",
       "      <td>2</td>\n",
       "      <td>Friday</td>\n",
       "      <td>0</td>\n",
       "      <td>2</td>\n",
       "      <td>1</td>\n",
       "    </tr>\n",
       "    <tr>\n",
       "      <th>289</th>\n",
       "      <td>2019-11-21</td>\n",
       "      <td>483</td>\n",
       "      <td>14</td>\n",
       "      <td>3</td>\n",
       "      <td>Thursday</td>\n",
       "      <td>0</td>\n",
       "      <td>4</td>\n",
       "      <td>2</td>\n",
       "    </tr>\n",
       "    <tr>\n",
       "      <th>714</th>\n",
       "      <td>2019-08-07</td>\n",
       "      <td>4659</td>\n",
       "      <td>1</td>\n",
       "      <td>1</td>\n",
       "      <td>Wednesday</td>\n",
       "      <td>0</td>\n",
       "      <td>3</td>\n",
       "      <td>2</td>\n",
       "    </tr>\n",
       "    <tr>\n",
       "      <th>629</th>\n",
       "      <td>2019-01-15</td>\n",
       "      <td>7138</td>\n",
       "      <td>28</td>\n",
       "      <td>1</td>\n",
       "      <td>Tuesday</td>\n",
       "      <td>0</td>\n",
       "      <td>1</td>\n",
       "      <td>1</td>\n",
       "    </tr>\n",
       "    <tr>\n",
       "      <th>360</th>\n",
       "      <td>2019-03-23</td>\n",
       "      <td>435</td>\n",
       "      <td>7</td>\n",
       "      <td>2</td>\n",
       "      <td>Saturday</td>\n",
       "      <td>1</td>\n",
       "      <td>1</td>\n",
       "      <td>1</td>\n",
       "    </tr>\n",
       "  </tbody>\n",
       "</table>\n",
       "</div>"
      ],
      "text/plain": [
       "          date  product_id  city_id  orders   day_name  is_weekend  quarter  \\\n",
       "181 2019-04-12        1744       13       2     Friday           0        2   \n",
       "289 2019-11-21         483       14       3   Thursday           0        4   \n",
       "714 2019-08-07        4659        1       1  Wednesday           0        3   \n",
       "629 2019-01-15        7138       28       1    Tuesday           0        1   \n",
       "360 2019-03-23         435        7       2   Saturday           1        1   \n",
       "\n",
       "     semester  \n",
       "181         1  \n",
       "289         2  \n",
       "714         2  \n",
       "629         1  \n",
       "360         1  "
      ]
     },
     "execution_count": 89,
     "metadata": {},
     "output_type": "execute_result"
    }
   ],
   "source": [
    "# find semester:\n",
    "\n",
    "df_order[\"semester\"] = np.where(df_order[\"quarter\"].isin([1,2]),1,2)\n",
    "\n",
    "df_order.sample(5)"
   ]
  },
  {
   "cell_type": "markdown",
   "metadata": {},
   "source": [
    "<br>\n",
    "<br>\n",
    "\n",
    "# Date time module: \n",
    "\n",
    "<br>\n",
    "<br>"
   ]
  },
  {
   "cell_type": "code",
   "execution_count": 90,
   "metadata": {},
   "outputs": [
    {
     "data": {
      "text/plain": [
       "datetime.datetime(2024, 7, 5, 10, 19, 57, 300016)"
      ]
     },
     "execution_count": 90,
     "metadata": {},
     "output_type": "execute_result"
    }
   ],
   "source": [
    "today = datetime.datetime.today() \n",
    "today"
   ]
  },
  {
   "cell_type": "code",
   "execution_count": 91,
   "metadata": {},
   "outputs": [
    {
     "data": {
      "text/plain": [
       "0     1669 days 10:19:57.300016\n",
       "1     2151 days 10:19:57.300016\n",
       "2     2082 days 10:19:57.300016\n",
       "3     1784 days 10:19:57.300016\n",
       "4     2007 days 10:19:57.300016\n",
       "                 ...           \n",
       "995   2097 days 10:19:57.300016\n",
       "996   2038 days 10:19:57.300016\n",
       "997   1886 days 10:19:57.300016\n",
       "998   1951 days 10:19:57.300016\n",
       "999   1725 days 10:19:57.300016\n",
       "Name: date, Length: 1000, dtype: timedelta64[ns]"
      ]
     },
     "execution_count": 91,
     "metadata": {},
     "output_type": "execute_result"
    }
   ],
   "source": [
    "\n",
    "\n",
    "# time and date difference \n",
    "\n",
    "today - df_order['date']\n"
   ]
  },
  {
   "cell_type": "code",
   "execution_count": 98,
   "metadata": {},
   "outputs": [
    {
     "data": {
      "text/plain": [
       "0      1669\n",
       "1      2151\n",
       "2      2082\n",
       "3      1784\n",
       "4      2007\n",
       "       ... \n",
       "995    2097\n",
       "996    2038\n",
       "997    1886\n",
       "998    1951\n",
       "999    1725\n",
       "Name: date, Length: 1000, dtype: int64"
      ]
     },
     "execution_count": 98,
     "metadata": {},
     "output_type": "execute_result"
    }
   ],
   "source": [
    "\n",
    "# date different\n",
    "\n",
    "(today - df_order['date']).dt.days\n"
   ]
  },
  {
   "cell_type": "markdown",
   "metadata": {},
   "source": [
    "<br>\n",
    "<br>\n",
    "<br>\n",
    "\n",
    "# Now, discuss about time: \n",
    "\n",
    "<br>\n",
    "<br>"
   ]
  },
  {
   "cell_type": "code",
   "execution_count": 99,
   "metadata": {},
   "outputs": [
    {
     "name": "stdout",
     "output_type": "stream",
     "text": [
      "<class 'pandas.core.frame.DataFrame'>\n",
      "RangeIndex: 1000 entries, 0 to 999\n",
      "Data columns (total 2 columns):\n",
      " #   Column  Non-Null Count  Dtype \n",
      "---  ------  --------------  ----- \n",
      " 0   date    1000 non-null   object\n",
      " 1   msg     1000 non-null   object\n",
      "dtypes: object(2)\n",
      "memory usage: 15.8+ KB\n"
     ]
    }
   ],
   "source": [
    "df_message.info()"
   ]
  },
  {
   "cell_type": "code",
   "execution_count": 107,
   "metadata": {},
   "outputs": [
    {
     "name": "stdout",
     "output_type": "stream",
     "text": [
      "<class 'pandas.core.frame.DataFrame'>\n",
      "RangeIndex: 1000 entries, 0 to 999\n",
      "Data columns (total 2 columns):\n",
      " #   Column  Non-Null Count  Dtype         \n",
      "---  ------  --------------  -----         \n",
      " 0   date    1000 non-null   datetime64[ns]\n",
      " 1   msg     1000 non-null   object        \n",
      "dtypes: datetime64[ns](1), object(1)\n",
      "memory usage: 15.8+ KB\n"
     ]
    }
   ],
   "source": [
    "df_message[\"date\"] = pd.to_datetime(df_message[\"date\"])\n",
    "\n",
    "df_message.info()"
   ]
  },
  {
   "cell_type": "code",
   "execution_count": 109,
   "metadata": {},
   "outputs": [
    {
     "data": {
      "text/html": [
       "<div>\n",
       "<style scoped>\n",
       "    .dataframe tbody tr th:only-of-type {\n",
       "        vertical-align: middle;\n",
       "    }\n",
       "\n",
       "    .dataframe tbody tr th {\n",
       "        vertical-align: top;\n",
       "    }\n",
       "\n",
       "    .dataframe thead th {\n",
       "        text-align: right;\n",
       "    }\n",
       "</style>\n",
       "<table border=\"1\" class=\"dataframe\">\n",
       "  <thead>\n",
       "    <tr style=\"text-align: right;\">\n",
       "      <th></th>\n",
       "      <th>date</th>\n",
       "      <th>msg</th>\n",
       "      <th>hour</th>\n",
       "      <th>minute</th>\n",
       "      <th>second</th>\n",
       "      <th>time</th>\n",
       "    </tr>\n",
       "  </thead>\n",
       "  <tbody>\n",
       "    <tr>\n",
       "      <th>388</th>\n",
       "      <td>2014-08-01 22:32:00</td>\n",
       "      <td>я все нормально мне дали 3 6 уже с ув. Ухо.</td>\n",
       "      <td>22</td>\n",
       "      <td>32</td>\n",
       "      <td>0</td>\n",
       "      <td>22:32:00</td>\n",
       "    </tr>\n",
       "    <tr>\n",
       "      <th>659</th>\n",
       "      <td>2012-02-14 00:30:00</td>\n",
       "      <td>Девушка 20 полная но симпатичная познакомится ...</td>\n",
       "      <td>0</td>\n",
       "      <td>30</td>\n",
       "      <td>0</td>\n",
       "      <td>00:30:00</td>\n",
       "    </tr>\n",
       "    <tr>\n",
       "      <th>722</th>\n",
       "      <td>2014-07-04 00:34:00</td>\n",
       "      <td>Позн с Дев для общения жел без тараканов мне 2...</td>\n",
       "      <td>0</td>\n",
       "      <td>34</td>\n",
       "      <td>0</td>\n",
       "      <td>00:34:00</td>\n",
       "    </tr>\n",
       "    <tr>\n",
       "      <th>998</th>\n",
       "      <td>2012-06-21 23:34:00</td>\n",
       "      <td>7 ДНЕПР М.34 ПОЗ.С Д/Ж ДЛЯ ВСТРЕЧ.Т.098 809 15 14</td>\n",
       "      <td>23</td>\n",
       "      <td>34</td>\n",
       "      <td>0</td>\n",
       "      <td>23:34:00</td>\n",
       "    </tr>\n",
       "    <tr>\n",
       "      <th>368</th>\n",
       "      <td>2012-08-28 23:25:00</td>\n",
       "      <td>ОЧ ОДИНОКИЙ П24г ИЩУ ДЕВ 28-36Л ДЛЯ ОБЩЕНИЯ И ...</td>\n",
       "      <td>23</td>\n",
       "      <td>25</td>\n",
       "      <td>0</td>\n",
       "      <td>23:25:00</td>\n",
       "    </tr>\n",
       "  </tbody>\n",
       "</table>\n",
       "</div>"
      ],
      "text/plain": [
       "                   date                                                msg  \\\n",
       "388 2014-08-01 22:32:00        я все нормально мне дали 3 6 уже с ув. Ухо.   \n",
       "659 2012-02-14 00:30:00  Девушка 20 полная но симпатичная познакомится ...   \n",
       "722 2014-07-04 00:34:00  Позн с Дев для общения жел без тараканов мне 2...   \n",
       "998 2012-06-21 23:34:00  7 ДНЕПР М.34 ПОЗ.С Д/Ж ДЛЯ ВСТРЕЧ.Т.098 809 15 14   \n",
       "368 2012-08-28 23:25:00  ОЧ ОДИНОКИЙ П24г ИЩУ ДЕВ 28-36Л ДЛЯ ОБЩЕНИЯ И ...   \n",
       "\n",
       "     hour  minute  second      time  \n",
       "388    22      32       0  22:32:00  \n",
       "659     0      30       0  00:30:00  \n",
       "722     0      34       0  00:34:00  \n",
       "998    23      34       0  23:34:00  \n",
       "368    23      25       0  23:25:00  "
      ]
     },
     "execution_count": 109,
     "metadata": {},
     "output_type": "execute_result"
    }
   ],
   "source": [
    "df_message[\"hour\"] = df_message[\"date\"].dt.hour\n",
    "df_message[\"minute\"] = df_message[\"date\"].dt.minute\n",
    "df_message[\"second\"] = df_message[\"date\"].dt.second\n",
    "\n",
    "df_message[\"time\"] = df_message[\"date\"].dt.time\n",
    "\n",
    "df_message.sample(5)"
   ]
  },
  {
   "cell_type": "code",
   "execution_count": 110,
   "metadata": {},
   "outputs": [
    {
     "data": {
      "text/plain": [
       "0     3855 days 09:29:57.300016\n",
       "1     3719 days 10:39:57.300016\n",
       "2     4205 days 09:58:57.300016\n",
       "3     3507 days 09:48:57.300016\n",
       "4     3904 days 11:08:57.300016\n",
       "                 ...           \n",
       "995   4494 days 09:29:57.300016\n",
       "996   3815 days 11:05:57.300016\n",
       "997   4280 days 10:42:57.300016\n",
       "998   4396 days 10:45:57.300016\n",
       "999   3668 days 10:54:57.300016\n",
       "Name: date, Length: 1000, dtype: timedelta64[ns]"
      ]
     },
     "execution_count": 110,
     "metadata": {},
     "output_type": "execute_result"
    }
   ],
   "source": [
    "today - df_message[\"date\"] # time difference "
   ]
  },
  {
   "cell_type": "code",
   "execution_count": 113,
   "metadata": {},
   "outputs": [
    {
     "data": {
      "text/plain": [
       "0      3.331062e+08\n",
       "1      3.213600e+08\n",
       "2      3.633479e+08\n",
       "3      3.030401e+08\n",
       "4      3.373457e+08\n",
       "           ...     \n",
       "995    3.883158e+08\n",
       "996    3.296560e+08\n",
       "997    3.698306e+08\n",
       "998    3.798532e+08\n",
       "999    3.169545e+08\n",
       "Name: date, Length: 1000, dtype: float64"
      ]
     },
     "execution_count": 113,
     "metadata": {},
     "output_type": "execute_result"
    }
   ],
   "source": [
    "# in seconds:\n",
    "\n",
    "(today-df_message[\"date\"])/np.timedelta64(1,'s')"
   ]
  },
  {
   "cell_type": "code",
   "execution_count": 114,
   "metadata": {},
   "outputs": [
    {
     "data": {
      "text/plain": [
       "0      5551769.955\n",
       "1      5355999.955\n",
       "2      6055798.955\n",
       "3      5050668.955\n",
       "4      5622428.955\n",
       "          ...     \n",
       "995    6471929.955\n",
       "996    5494265.955\n",
       "997    6163842.955\n",
       "998    6330885.955\n",
       "999    5282574.955\n",
       "Name: date, Length: 1000, dtype: float64"
      ]
     },
     "execution_count": 114,
     "metadata": {},
     "output_type": "execute_result"
    }
   ],
   "source": [
    "# in minutes:\n",
    "\n",
    "(today-df_message[\"date\"])/np.timedelta64(1,'m')"
   ]
  },
  {
   "cell_type": "code",
   "execution_count": 115,
   "metadata": {},
   "outputs": [
    {
     "data": {
      "text/plain": [
       "0       92529.499250\n",
       "1       89266.665917\n",
       "2      100929.982583\n",
       "3       84177.815917\n",
       "4       93707.149250\n",
       "           ...      \n",
       "995    107865.499250\n",
       "996     91571.099250\n",
       "997    102730.715917\n",
       "998    105514.765917\n",
       "999     88042.915917\n",
       "Name: date, Length: 1000, dtype: float64"
      ]
     },
     "execution_count": 115,
     "metadata": {},
     "output_type": "execute_result"
    }
   ],
   "source": [
    "\n",
    "# in hour: \n",
    "\n",
    "(today-df_message[\"date\"])/np.timedelta64(1,'h')"
   ]
  }
 ],
 "metadata": {
  "kernelspec": {
   "display_name": "mlEnv",
   "language": "python",
   "name": "python3"
  },
  "language_info": {
   "codemirror_mode": {
    "name": "ipython",
    "version": 3
   },
   "file_extension": ".py",
   "mimetype": "text/x-python",
   "name": "python",
   "nbconvert_exporter": "python",
   "pygments_lexer": "ipython3",
   "version": "3.12.3"
  }
 },
 "nbformat": 4,
 "nbformat_minor": 2
}
