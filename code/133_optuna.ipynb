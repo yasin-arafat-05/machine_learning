{
  "cells": [
    {
      "cell_type": "code",
      "execution_count": 1,
      "metadata": {
        "id": "wMnopO-dFIHJ"
      },
      "outputs": [
        {
          "data": {
            "text/plain": [
              "' \\n%pip install optuna\\n%pip install opendatasets\\nimport opendatasets as od\\ndownload_link = \"https://www.kaggle.com/datasets/uciml/pima-indians-diabetes-database\"\\nod.download(download_link)\\n\\n'"
            ]
          },
          "execution_count": 1,
          "metadata": {},
          "output_type": "execute_result"
        }
      ],
      "source": [
        "\n",
        "\"\"\" \n",
        "%pip install optuna\n",
        "%pip install opendatasets\n",
        "import opendatasets as od\n",
        "download_link = \"https://www.kaggle.com/datasets/uciml/pima-indians-diabetes-database\"\n",
        "od.download(download_link)\n",
        "\n",
        "\"\"\"\n",
        "\n"
      ]
    },
    {
      "cell_type": "code",
      "execution_count": 2,
      "metadata": {
        "colab": {
          "base_uri": "https://localhost:8080/",
          "height": 206
        },
        "id": "D3GdYC7oH0cI",
        "outputId": "0837147f-2973-4c6a-aaa6-210205ef5da6"
      },
      "outputs": [
        {
          "data": {
            "text/html": [
              "<div>\n",
              "<style scoped>\n",
              "    .dataframe tbody tr th:only-of-type {\n",
              "        vertical-align: middle;\n",
              "    }\n",
              "\n",
              "    .dataframe tbody tr th {\n",
              "        vertical-align: top;\n",
              "    }\n",
              "\n",
              "    .dataframe thead th {\n",
              "        text-align: right;\n",
              "    }\n",
              "</style>\n",
              "<table border=\"1\" class=\"dataframe\">\n",
              "  <thead>\n",
              "    <tr style=\"text-align: right;\">\n",
              "      <th></th>\n",
              "      <th>Pregnancies</th>\n",
              "      <th>Glucose</th>\n",
              "      <th>BloodPressure</th>\n",
              "      <th>SkinThickness</th>\n",
              "      <th>Insulin</th>\n",
              "      <th>BMI</th>\n",
              "      <th>DiabetesPedigreeFunction</th>\n",
              "      <th>Age</th>\n",
              "      <th>Outcome</th>\n",
              "    </tr>\n",
              "  </thead>\n",
              "  <tbody>\n",
              "    <tr>\n",
              "      <th>0</th>\n",
              "      <td>6</td>\n",
              "      <td>148</td>\n",
              "      <td>72</td>\n",
              "      <td>35</td>\n",
              "      <td>0</td>\n",
              "      <td>33.6</td>\n",
              "      <td>0.627</td>\n",
              "      <td>50</td>\n",
              "      <td>1</td>\n",
              "    </tr>\n",
              "    <tr>\n",
              "      <th>1</th>\n",
              "      <td>1</td>\n",
              "      <td>85</td>\n",
              "      <td>66</td>\n",
              "      <td>29</td>\n",
              "      <td>0</td>\n",
              "      <td>26.6</td>\n",
              "      <td>0.351</td>\n",
              "      <td>31</td>\n",
              "      <td>0</td>\n",
              "    </tr>\n",
              "    <tr>\n",
              "      <th>2</th>\n",
              "      <td>8</td>\n",
              "      <td>183</td>\n",
              "      <td>64</td>\n",
              "      <td>0</td>\n",
              "      <td>0</td>\n",
              "      <td>23.3</td>\n",
              "      <td>0.672</td>\n",
              "      <td>32</td>\n",
              "      <td>1</td>\n",
              "    </tr>\n",
              "    <tr>\n",
              "      <th>3</th>\n",
              "      <td>1</td>\n",
              "      <td>89</td>\n",
              "      <td>66</td>\n",
              "      <td>23</td>\n",
              "      <td>94</td>\n",
              "      <td>28.1</td>\n",
              "      <td>0.167</td>\n",
              "      <td>21</td>\n",
              "      <td>0</td>\n",
              "    </tr>\n",
              "    <tr>\n",
              "      <th>4</th>\n",
              "      <td>0</td>\n",
              "      <td>137</td>\n",
              "      <td>40</td>\n",
              "      <td>35</td>\n",
              "      <td>168</td>\n",
              "      <td>43.1</td>\n",
              "      <td>2.288</td>\n",
              "      <td>33</td>\n",
              "      <td>1</td>\n",
              "    </tr>\n",
              "  </tbody>\n",
              "</table>\n",
              "</div>"
            ],
            "text/plain": [
              "   Pregnancies  Glucose  BloodPressure  SkinThickness  Insulin   BMI  \\\n",
              "0            6      148             72             35        0  33.6   \n",
              "1            1       85             66             29        0  26.6   \n",
              "2            8      183             64              0        0  23.3   \n",
              "3            1       89             66             23       94  28.1   \n",
              "4            0      137             40             35      168  43.1   \n",
              "\n",
              "   DiabetesPedigreeFunction  Age  Outcome  \n",
              "0                     0.627   50        1  \n",
              "1                     0.351   31        0  \n",
              "2                     0.672   32        1  \n",
              "3                     0.167   21        0  \n",
              "4                     2.288   33        1  "
            ]
          },
          "execution_count": 2,
          "metadata": {},
          "output_type": "execute_result"
        }
      ],
      "source": [
        "\n",
        "dataset_link = \"dataset/diabetes.csv\"\n",
        "\n",
        "import pandas as pd\n",
        "import numpy as np\n",
        "import matplotlib.pyplot as plt\n",
        "\n",
        "\n",
        "df = pd.read_csv(dataset_link)\n",
        "df.head()\n"
      ]
    },
    {
      "cell_type": "code",
      "execution_count": 3,
      "metadata": {
        "colab": {
          "base_uri": "https://localhost:8080/",
          "height": 366
        },
        "id": "3391qbdMH2cc",
        "outputId": "a44111ed-a177-4579-9dd7-d391494ebceb"
      },
      "outputs": [
        {
          "data": {
            "text/plain": [
              "Pregnancies                 0\n",
              "Glucose                     0\n",
              "BloodPressure               0\n",
              "SkinThickness               0\n",
              "Insulin                     0\n",
              "BMI                         0\n",
              "DiabetesPedigreeFunction    0\n",
              "Age                         0\n",
              "Outcome                     0\n",
              "dtype: int64"
            ]
          },
          "execution_count": 3,
          "metadata": {},
          "output_type": "execute_result"
        }
      ],
      "source": [
        "\n",
        "df.isnull().sum()\n"
      ]
    },
    {
      "cell_type": "code",
      "execution_count": 4,
      "metadata": {
        "id": "nPnkrD-FItVM"
      },
      "outputs": [],
      "source": [
        "\n",
        "# But Here Null value represent by 0,\n",
        "missing_value_columns =  ['Glucose', 'BloodPressure', 'SkinThickness', 'Insulin', 'BMI']\n",
        "df[missing_value_columns] = df[missing_value_columns].replace(0,np.nan)\n",
        "\n"
      ]
    },
    {
      "cell_type": "code",
      "execution_count": 5,
      "metadata": {
        "colab": {
          "base_uri": "https://localhost:8080/",
          "height": 363
        },
        "id": "guPMSDg4KKdo",
        "outputId": "7f07805d-3c88-4dfa-b696-7eed0133742b"
      },
      "outputs": [
        {
          "data": {
            "text/html": [
              "<div>\n",
              "<style scoped>\n",
              "    .dataframe tbody tr th:only-of-type {\n",
              "        vertical-align: middle;\n",
              "    }\n",
              "\n",
              "    .dataframe tbody tr th {\n",
              "        vertical-align: top;\n",
              "    }\n",
              "\n",
              "    .dataframe thead th {\n",
              "        text-align: right;\n",
              "    }\n",
              "</style>\n",
              "<table border=\"1\" class=\"dataframe\">\n",
              "  <thead>\n",
              "    <tr style=\"text-align: right;\">\n",
              "      <th></th>\n",
              "      <th>Pregnancies</th>\n",
              "      <th>Glucose</th>\n",
              "      <th>BloodPressure</th>\n",
              "      <th>SkinThickness</th>\n",
              "      <th>Insulin</th>\n",
              "      <th>BMI</th>\n",
              "      <th>DiabetesPedigreeFunction</th>\n",
              "      <th>Age</th>\n",
              "      <th>Outcome</th>\n",
              "    </tr>\n",
              "  </thead>\n",
              "  <tbody>\n",
              "    <tr>\n",
              "      <th>631</th>\n",
              "      <td>0</td>\n",
              "      <td>102.0</td>\n",
              "      <td>78.0</td>\n",
              "      <td>40.00000</td>\n",
              "      <td>90.000000</td>\n",
              "      <td>34.5</td>\n",
              "      <td>0.238</td>\n",
              "      <td>24</td>\n",
              "      <td>0</td>\n",
              "    </tr>\n",
              "    <tr>\n",
              "      <th>331</th>\n",
              "      <td>2</td>\n",
              "      <td>87.0</td>\n",
              "      <td>58.0</td>\n",
              "      <td>16.00000</td>\n",
              "      <td>52.000000</td>\n",
              "      <td>32.7</td>\n",
              "      <td>0.166</td>\n",
              "      <td>25</td>\n",
              "      <td>0</td>\n",
              "    </tr>\n",
              "    <tr>\n",
              "      <th>358</th>\n",
              "      <td>12</td>\n",
              "      <td>88.0</td>\n",
              "      <td>74.0</td>\n",
              "      <td>40.00000</td>\n",
              "      <td>54.000000</td>\n",
              "      <td>35.3</td>\n",
              "      <td>0.378</td>\n",
              "      <td>48</td>\n",
              "      <td>0</td>\n",
              "    </tr>\n",
              "    <tr>\n",
              "      <th>348</th>\n",
              "      <td>3</td>\n",
              "      <td>99.0</td>\n",
              "      <td>62.0</td>\n",
              "      <td>19.00000</td>\n",
              "      <td>74.000000</td>\n",
              "      <td>21.8</td>\n",
              "      <td>0.279</td>\n",
              "      <td>26</td>\n",
              "      <td>0</td>\n",
              "    </tr>\n",
              "    <tr>\n",
              "      <th>679</th>\n",
              "      <td>2</td>\n",
              "      <td>101.0</td>\n",
              "      <td>58.0</td>\n",
              "      <td>17.00000</td>\n",
              "      <td>265.000000</td>\n",
              "      <td>24.2</td>\n",
              "      <td>0.614</td>\n",
              "      <td>23</td>\n",
              "      <td>0</td>\n",
              "    </tr>\n",
              "    <tr>\n",
              "      <th>253</th>\n",
              "      <td>0</td>\n",
              "      <td>86.0</td>\n",
              "      <td>68.0</td>\n",
              "      <td>32.00000</td>\n",
              "      <td>155.548223</td>\n",
              "      <td>35.8</td>\n",
              "      <td>0.238</td>\n",
              "      <td>25</td>\n",
              "      <td>0</td>\n",
              "    </tr>\n",
              "    <tr>\n",
              "      <th>691</th>\n",
              "      <td>13</td>\n",
              "      <td>158.0</td>\n",
              "      <td>114.0</td>\n",
              "      <td>29.15342</td>\n",
              "      <td>155.548223</td>\n",
              "      <td>42.3</td>\n",
              "      <td>0.257</td>\n",
              "      <td>44</td>\n",
              "      <td>1</td>\n",
              "    </tr>\n",
              "    <tr>\n",
              "      <th>134</th>\n",
              "      <td>2</td>\n",
              "      <td>96.0</td>\n",
              "      <td>68.0</td>\n",
              "      <td>13.00000</td>\n",
              "      <td>49.000000</td>\n",
              "      <td>21.1</td>\n",
              "      <td>0.647</td>\n",
              "      <td>26</td>\n",
              "      <td>0</td>\n",
              "    </tr>\n",
              "    <tr>\n",
              "      <th>57</th>\n",
              "      <td>0</td>\n",
              "      <td>100.0</td>\n",
              "      <td>88.0</td>\n",
              "      <td>60.00000</td>\n",
              "      <td>110.000000</td>\n",
              "      <td>46.8</td>\n",
              "      <td>0.962</td>\n",
              "      <td>31</td>\n",
              "      <td>0</td>\n",
              "    </tr>\n",
              "    <tr>\n",
              "      <th>154</th>\n",
              "      <td>8</td>\n",
              "      <td>188.0</td>\n",
              "      <td>78.0</td>\n",
              "      <td>29.15342</td>\n",
              "      <td>155.548223</td>\n",
              "      <td>47.9</td>\n",
              "      <td>0.137</td>\n",
              "      <td>43</td>\n",
              "      <td>1</td>\n",
              "    </tr>\n",
              "  </tbody>\n",
              "</table>\n",
              "</div>"
            ],
            "text/plain": [
              "     Pregnancies  Glucose  BloodPressure  SkinThickness     Insulin   BMI  \\\n",
              "631            0    102.0           78.0       40.00000   90.000000  34.5   \n",
              "331            2     87.0           58.0       16.00000   52.000000  32.7   \n",
              "358           12     88.0           74.0       40.00000   54.000000  35.3   \n",
              "348            3     99.0           62.0       19.00000   74.000000  21.8   \n",
              "679            2    101.0           58.0       17.00000  265.000000  24.2   \n",
              "253            0     86.0           68.0       32.00000  155.548223  35.8   \n",
              "691           13    158.0          114.0       29.15342  155.548223  42.3   \n",
              "134            2     96.0           68.0       13.00000   49.000000  21.1   \n",
              "57             0    100.0           88.0       60.00000  110.000000  46.8   \n",
              "154            8    188.0           78.0       29.15342  155.548223  47.9   \n",
              "\n",
              "     DiabetesPedigreeFunction  Age  Outcome  \n",
              "631                     0.238   24        0  \n",
              "331                     0.166   25        0  \n",
              "358                     0.378   48        0  \n",
              "348                     0.279   26        0  \n",
              "679                     0.614   23        0  \n",
              "253                     0.238   25        0  \n",
              "691                     0.257   44        1  \n",
              "134                     0.647   26        0  \n",
              "57                      0.962   31        0  \n",
              "154                     0.137   43        1  "
            ]
          },
          "execution_count": 5,
          "metadata": {},
          "output_type": "execute_result"
        }
      ],
      "source": [
        "\n",
        "# simply fill the nan value with mean:\n",
        "df.fillna(df.mean(),inplace=True)\n",
        "df.sample(10)\n"
      ]
    },
    {
      "cell_type": "code",
      "execution_count": 6,
      "metadata": {
        "id": "OdUpvkyfKXSD"
      },
      "outputs": [],
      "source": [
        "from sklearn.model_selection import train_test_split\n",
        "\n",
        "X = df.iloc[:,:-1]\n",
        "y = df[\"Outcome\"]\n",
        "\n",
        "X_train,X_test,y_train,y_test = train_test_split(X,y,test_size=0.3,random_state=42)\n",
        "\n"
      ]
    },
    {
      "cell_type": "code",
      "execution_count": 7,
      "metadata": {
        "id": "e62oibUdWq0u"
      },
      "outputs": [],
      "source": [
        "\n",
        "# scale the data for better accuracy:\n",
        "from sklearn.preprocessing import StandardScaler\n",
        "scaler = StandardScaler()\n",
        "X_train = scaler.fit_transform(X_train)\n",
        "X_test = scaler.transform(X_test)\n",
        "\n"
      ]
    },
    {
      "cell_type": "markdown",
      "metadata": {
        "id": "YTE97rg_MyaF"
      },
      "source": [
        "<br>\n",
        "<br>\n",
        "\n",
        "# #01: Optuna Implementation:\n",
        "\n",
        "<br>\n",
        "<br>"
      ]
    },
    {
      "cell_type": "code",
      "execution_count": 8,
      "metadata": {
        "id": "SiY8vwFtXWEP"
      },
      "outputs": [],
      "source": [
        "\n",
        "\"\"\"\n",
        "Here, we will implement the optuan with a **Objective Function:**\n",
        "\"\"\"\n",
        "import optuna\n",
        "from sklearn.ensemble import RandomForestClassifier\n",
        "from sklearn.model_selection import cross_val_score\n",
        "\n",
        "def Objective(trial):\n",
        "  # suggest which hyperparameter value to choose\n",
        "  n_estimators = trial.suggest_int(\"n_estimators\",50,200)\n",
        "  max_depth = trial.suggest_int(\"max_depth\",3,20)\n",
        "  model = RandomForestClassifier(\n",
        "      n_estimators=n_estimators,\n",
        "      max_depth=max_depth,\n",
        "      random_state=42)\n",
        "  score = cross_val_score(model,X_train,y_train,cv=3,scoring=\"accuracy\").mean()\n",
        "  return score\n",
        "\n"
      ]
    },
    {
      "cell_type": "code",
      "execution_count": 9,
      "metadata": {
        "colab": {
          "base_uri": "https://localhost:8080/"
        },
        "id": "JXF8B949Z8UP",
        "outputId": "415f961c-9214-4d95-bbf1-3ceda930be0e"
      },
      "outputs": [
        {
          "name": "stderr",
          "output_type": "stream",
          "text": [
            "[I 2025-06-02 22:35:55,449] A new study created in memory with name: no-name-8edaa569-8eb3-491b-87fc-e7a605c2ae7f\n",
            "[I 2025-06-02 22:35:56,594] Trial 0 finished with value: 0.7709497206703911 and parameters: {'n_estimators': 164, 'max_depth': 12}. Best is trial 0 with value: 0.7709497206703911.\n",
            "[I 2025-06-02 22:35:57,247] Trial 1 finished with value: 0.7709497206703911 and parameters: {'n_estimators': 69, 'max_depth': 8}. Best is trial 0 with value: 0.7709497206703911.\n",
            "[I 2025-06-02 22:35:59,125] Trial 2 finished with value: 0.7616387337057727 and parameters: {'n_estimators': 184, 'max_depth': 8}. Best is trial 0 with value: 0.7709497206703911.\n",
            "[I 2025-06-02 22:36:00,275] Trial 3 finished with value: 0.7635009310986964 and parameters: {'n_estimators': 146, 'max_depth': 10}. Best is trial 0 with value: 0.7709497206703911.\n",
            "[I 2025-06-02 22:36:00,733] Trial 4 finished with value: 0.7523277467411545 and parameters: {'n_estimators': 53, 'max_depth': 10}. Best is trial 0 with value: 0.7709497206703911.\n",
            "[I 2025-06-02 22:36:01,411] Trial 5 finished with value: 0.7709497206703911 and parameters: {'n_estimators': 73, 'max_depth': 12}. Best is trial 0 with value: 0.7709497206703911.\n",
            "[I 2025-06-02 22:36:01,821] Trial 6 finished with value: 0.7597765363128491 and parameters: {'n_estimators': 68, 'max_depth': 3}. Best is trial 0 with value: 0.7709497206703911.\n",
            "[I 2025-06-02 22:36:03,251] Trial 7 finished with value: 0.7765363128491621 and parameters: {'n_estimators': 169, 'max_depth': 12}. Best is trial 7 with value: 0.7765363128491621.\n",
            "[I 2025-06-02 22:36:04,130] Trial 8 finished with value: 0.7653631284916201 and parameters: {'n_estimators': 146, 'max_depth': 6}. Best is trial 7 with value: 0.7765363128491621.\n",
            "[I 2025-06-02 22:36:04,935] Trial 9 finished with value: 0.7690875232774674 and parameters: {'n_estimators': 142, 'max_depth': 5}. Best is trial 7 with value: 0.7765363128491621.\n",
            "[I 2025-06-02 22:36:06,201] Trial 10 finished with value: 0.7765363128491619 and parameters: {'n_estimators': 198, 'max_depth': 18}. Best is trial 7 with value: 0.7765363128491621.\n",
            "[I 2025-06-02 22:36:07,385] Trial 11 finished with value: 0.7746741154562384 and parameters: {'n_estimators': 196, 'max_depth': 18}. Best is trial 7 with value: 0.7765363128491621.\n",
            "[I 2025-06-02 22:36:08,165] Trial 12 finished with value: 0.7765363128491621 and parameters: {'n_estimators': 111, 'max_depth': 20}. Best is trial 7 with value: 0.7765363128491621.\n",
            "[I 2025-06-02 22:36:08,957] Trial 13 finished with value: 0.7783985102420857 and parameters: {'n_estimators': 106, 'max_depth': 15}. Best is trial 13 with value: 0.7783985102420857.\n",
            "[I 2025-06-02 22:36:09,636] Trial 14 finished with value: 0.7783985102420856 and parameters: {'n_estimators': 109, 'max_depth': 15}. Best is trial 13 with value: 0.7783985102420857.\n",
            "[I 2025-06-02 22:36:10,305] Trial 15 finished with value: 0.7783985102420857 and parameters: {'n_estimators': 106, 'max_depth': 15}. Best is trial 13 with value: 0.7783985102420857.\n",
            "[I 2025-06-02 22:36:10,942] Trial 16 finished with value: 0.7672253258845437 and parameters: {'n_estimators': 92, 'max_depth': 16}. Best is trial 13 with value: 0.7783985102420857.\n",
            "[I 2025-06-02 22:36:11,871] Trial 17 finished with value: 0.7783985102420857 and parameters: {'n_estimators': 122, 'max_depth': 15}. Best is trial 13 with value: 0.7783985102420857.\n",
            "[I 2025-06-02 22:36:12,482] Trial 18 finished with value: 0.7672253258845437 and parameters: {'n_estimators': 97, 'max_depth': 14}. Best is trial 13 with value: 0.7783985102420857.\n",
            "[I 2025-06-02 22:36:13,046] Trial 19 finished with value: 0.7635009310986964 and parameters: {'n_estimators': 88, 'max_depth': 17}. Best is trial 13 with value: 0.7783985102420857.\n",
            "[I 2025-06-02 22:36:13,845] Trial 20 finished with value: 0.7783985102420856 and parameters: {'n_estimators': 129, 'max_depth': 20}. Best is trial 13 with value: 0.7783985102420857.\n",
            "[I 2025-06-02 22:36:14,577] Trial 21 finished with value: 0.7690875232774674 and parameters: {'n_estimators': 121, 'max_depth': 14}. Best is trial 13 with value: 0.7783985102420857.\n",
            "[I 2025-06-02 22:36:15,381] Trial 22 finished with value: 0.7728119180633147 and parameters: {'n_estimators': 124, 'max_depth': 14}. Best is trial 13 with value: 0.7783985102420857.\n",
            "[I 2025-06-02 22:36:16,140] Trial 23 finished with value: 0.7765363128491621 and parameters: {'n_estimators': 113, 'max_depth': 16}. Best is trial 13 with value: 0.7783985102420857.\n",
            "[I 2025-06-02 22:36:16,969] Trial 24 finished with value: 0.7709497206703911 and parameters: {'n_estimators': 102, 'max_depth': 18}. Best is trial 13 with value: 0.7783985102420857.\n",
            "[I 2025-06-02 22:36:17,778] Trial 25 finished with value: 0.7783985102420856 and parameters: {'n_estimators': 132, 'max_depth': 13}. Best is trial 13 with value: 0.7783985102420857.\n",
            "[I 2025-06-02 22:36:18,736] Trial 26 finished with value: 0.7653631284916201 and parameters: {'n_estimators': 159, 'max_depth': 15}. Best is trial 13 with value: 0.7783985102420857.\n",
            "[I 2025-06-02 22:36:19,301] Trial 27 finished with value: 0.7653631284916201 and parameters: {'n_estimators': 90, 'max_depth': 16}. Best is trial 13 with value: 0.7783985102420857.\n",
            "[I 2025-06-02 22:36:19,793] Trial 28 finished with value: 0.7597765363128492 and parameters: {'n_estimators': 79, 'max_depth': 10}. Best is trial 13 with value: 0.7783985102420857.\n",
            "[I 2025-06-02 22:36:20,429] Trial 29 finished with value: 0.7765363128491621 and parameters: {'n_estimators': 104, 'max_depth': 13}. Best is trial 13 with value: 0.7783985102420857.\n",
            "[I 2025-06-02 22:36:21,568] Trial 30 finished with value: 0.7672253258845437 and parameters: {'n_estimators': 136, 'max_depth': 11}. Best is trial 13 with value: 0.7783985102420857.\n",
            "[I 2025-06-02 22:36:22,336] Trial 31 finished with value: 0.7765363128491619 and parameters: {'n_estimators': 114, 'max_depth': 15}. Best is trial 13 with value: 0.7783985102420857.\n",
            "[I 2025-06-02 22:36:23,024] Trial 32 finished with value: 0.7728119180633147 and parameters: {'n_estimators': 108, 'max_depth': 17}. Best is trial 13 with value: 0.7783985102420857.\n",
            "[I 2025-06-02 22:36:23,783] Trial 33 finished with value: 0.7839851024208566 and parameters: {'n_estimators': 119, 'max_depth': 15}. Best is trial 33 with value: 0.7839851024208566.\n",
            "[I 2025-06-02 22:36:24,518] Trial 34 finished with value: 0.7709497206703911 and parameters: {'n_estimators': 118, 'max_depth': 13}. Best is trial 33 with value: 0.7839851024208566.\n",
            "[I 2025-06-02 22:36:25,067] Trial 35 finished with value: 0.7597765363128491 and parameters: {'n_estimators': 84, 'max_depth': 19}. Best is trial 33 with value: 0.7839851024208566.\n",
            "[I 2025-06-02 22:36:26,020] Trial 36 finished with value: 0.7653631284916201 and parameters: {'n_estimators': 154, 'max_depth': 11}. Best is trial 33 with value: 0.7839851024208566.\n",
            "[I 2025-06-02 22:36:26,647] Trial 37 finished with value: 0.7709497206703911 and parameters: {'n_estimators': 99, 'max_depth': 17}. Best is trial 33 with value: 0.7839851024208566.\n",
            "[I 2025-06-02 22:36:27,057] Trial 38 finished with value: 0.7672253258845437 and parameters: {'n_estimators': 57, 'max_depth': 9}. Best is trial 33 with value: 0.7839851024208566.\n",
            "[I 2025-06-02 22:36:27,929] Trial 39 finished with value: 0.7746741154562384 and parameters: {'n_estimators': 139, 'max_depth': 15}. Best is trial 33 with value: 0.7839851024208566.\n",
            "[I 2025-06-02 22:36:28,696] Trial 40 finished with value: 0.7616387337057727 and parameters: {'n_estimators': 122, 'max_depth': 13}. Best is trial 33 with value: 0.7839851024208566.\n",
            "[I 2025-06-02 22:36:29,398] Trial 41 finished with value: 0.7728119180633147 and parameters: {'n_estimators': 108, 'max_depth': 15}. Best is trial 33 with value: 0.7839851024208566.\n",
            "[I 2025-06-02 22:36:30,220] Trial 42 finished with value: 0.7765363128491619 and parameters: {'n_estimators': 130, 'max_depth': 16}. Best is trial 33 with value: 0.7839851024208566.\n",
            "[I 2025-06-02 22:36:31,390] Trial 43 finished with value: 0.7765363128491621 and parameters: {'n_estimators': 116, 'max_depth': 12}. Best is trial 33 with value: 0.7839851024208566.\n",
            "[I 2025-06-02 22:36:32,027] Trial 44 finished with value: 0.7690875232774674 and parameters: {'n_estimators': 95, 'max_depth': 14}. Best is trial 33 with value: 0.7839851024208566.\n",
            "[I 2025-06-02 22:36:33,127] Trial 45 finished with value: 0.7746741154562384 and parameters: {'n_estimators': 175, 'max_depth': 17}. Best is trial 33 with value: 0.7839851024208566.\n",
            "[I 2025-06-02 22:36:33,869] Trial 46 finished with value: 0.7653631284916201 and parameters: {'n_estimators': 72, 'max_depth': 15}. Best is trial 33 with value: 0.7839851024208566.\n",
            "[I 2025-06-02 22:36:34,501] Trial 47 finished with value: 0.7690875232774674 and parameters: {'n_estimators': 104, 'max_depth': 19}. Best is trial 33 with value: 0.7839851024208566.\n",
            "[I 2025-06-02 22:36:35,472] Trial 48 finished with value: 0.7653631284916201 and parameters: {'n_estimators': 150, 'max_depth': 14}. Best is trial 33 with value: 0.7839851024208566.\n",
            "[I 2025-06-02 22:36:35,988] Trial 49 finished with value: 0.7672253258845437 and parameters: {'n_estimators': 82, 'max_depth': 7}. Best is trial 33 with value: 0.7839851024208566.\n"
          ]
        }
      ],
      "source": [
        "\n",
        "# Create a study with a sampler (Sampler is somthing like an algorithrm which tell base on current all\n",
        "# situation or previous all the accuracy along with hyperparameter)\n",
        "study = optuna.create_study(direction=\"maximize\",sampler=optuna.samplers.TPESampler())\n",
        "study.optimize(Objective,n_trials=50)\n",
        "\n"
      ]
    },
    {
      "cell_type": "code",
      "execution_count": 10,
      "metadata": {
        "colab": {
          "base_uri": "https://localhost:8080/"
        },
        "id": "E2vV9OdX_Rtg",
        "outputId": "90d4d043-88d9-4a67-9ccf-3841ba64cc5b"
      },
      "outputs": [
        {
          "name": "stdout",
          "output_type": "stream",
          "text": [
            "0.7839851024208566\n",
            "{'n_estimators': 119, 'max_depth': 15}\n"
          ]
        }
      ],
      "source": [
        "\n",
        "# Best trail and parameter:\n",
        "print(study.best_trial.value)\n",
        "print(study.best_trial.params)\n",
        "\n"
      ]
    },
    {
      "cell_type": "code",
      "execution_count": 11,
      "metadata": {
        "colab": {
          "base_uri": "https://localhost:8080/"
        },
        "id": "QAqESUB7ABPf",
        "outputId": "26d0c710-ecbc-480c-ba92-270696fda38a"
      },
      "outputs": [
        {
          "data": {
            "text/plain": [
              "74.89177489177489"
            ]
          },
          "execution_count": 11,
          "metadata": {},
          "output_type": "execute_result"
        }
      ],
      "source": [
        "\n",
        "# test the value:\n",
        "from sklearn.metrics import  accuracy_score\n",
        "classifier = RandomForestClassifier(**study.best_trial.params,random_state=42)\n",
        "classifier.fit(X_train,y_train)\n",
        "y_pred = classifier.predict(X_test)\n",
        "\n",
        "accuracy_score(y_test,y_pred)*100\n",
        "\n"
      ]
    },
    {
      "cell_type": "markdown",
      "metadata": {
        "id": "poW9YCCnBf4j"
      },
      "source": [
        "<br>\n",
        "\n",
        "\n",
        "# #02 RandomSearchCV with Optuna:\n",
        "\n",
        "<br>\n",
        "\n",
        "- Previously, we use TPESampler(), change the sampler we can perfrom RandomSearchCV.\n",
        "\n",
        "<br>\n",
        "<br>\n"
      ]
    },
    {
      "cell_type": "code",
      "execution_count": 12,
      "metadata": {
        "colab": {
          "base_uri": "https://localhost:8080/"
        },
        "id": "MkVRPWJuBoGD",
        "outputId": "133b19a7-da7a-40f3-817b-28bbaf7e0373"
      },
      "outputs": [
        {
          "name": "stderr",
          "output_type": "stream",
          "text": [
            "[I 2025-06-02 22:36:36,524] A new study created in memory with name: no-name-2a37934c-43c1-48a9-8c68-98c39dbd8c87\n",
            "[I 2025-06-02 22:36:37,145] Trial 0 finished with value: 0.7765363128491621 and parameters: {'n_estimators': 90, 'max_depth': 19}. Best is trial 0 with value: 0.7765363128491621.\n",
            "[I 2025-06-02 22:36:37,978] Trial 1 finished with value: 0.7690875232774674 and parameters: {'n_estimators': 144, 'max_depth': 20}. Best is trial 0 with value: 0.7765363128491621.\n",
            "[I 2025-06-02 22:36:38,434] Trial 2 finished with value: 0.7541899441340782 and parameters: {'n_estimators': 81, 'max_depth': 6}. Best is trial 0 with value: 0.7765363128491621.\n",
            "[I 2025-06-02 22:36:39,008] Trial 3 finished with value: 0.7690875232774674 and parameters: {'n_estimators': 98, 'max_depth': 19}. Best is trial 0 with value: 0.7765363128491621.\n",
            "[I 2025-06-02 22:36:40,000] Trial 4 finished with value: 0.7709497206703911 and parameters: {'n_estimators': 168, 'max_depth': 20}. Best is trial 0 with value: 0.7765363128491621.\n",
            "[I 2025-06-02 22:36:40,831] Trial 5 finished with value: 0.7653631284916201 and parameters: {'n_estimators': 152, 'max_depth': 5}. Best is trial 0 with value: 0.7765363128491621.\n",
            "[I 2025-06-02 22:36:41,627] Trial 6 finished with value: 0.7672253258845437 and parameters: {'n_estimators': 133, 'max_depth': 14}. Best is trial 0 with value: 0.7765363128491621.\n",
            "[I 2025-06-02 22:36:42,712] Trial 7 finished with value: 0.7616387337057727 and parameters: {'n_estimators': 184, 'max_depth': 8}. Best is trial 0 with value: 0.7765363128491621.\n",
            "[I 2025-06-02 22:36:43,814] Trial 8 finished with value: 0.7765363128491621 and parameters: {'n_estimators': 183, 'max_depth': 16}. Best is trial 0 with value: 0.7765363128491621.\n",
            "[I 2025-06-02 22:36:44,525] Trial 9 finished with value: 0.7728119180633147 and parameters: {'n_estimators': 110, 'max_depth': 12}. Best is trial 0 with value: 0.7765363128491621.\n",
            "[I 2025-06-02 22:36:45,147] Trial 10 finished with value: 0.7690875232774674 and parameters: {'n_estimators': 99, 'max_depth': 19}. Best is trial 0 with value: 0.7765363128491621.\n",
            "[I 2025-06-02 22:36:46,175] Trial 11 finished with value: 0.7728119180633147 and parameters: {'n_estimators': 163, 'max_depth': 19}. Best is trial 0 with value: 0.7765363128491621.\n",
            "[I 2025-06-02 22:36:46,951] Trial 12 finished with value: 0.7672253258845437 and parameters: {'n_estimators': 133, 'max_depth': 6}. Best is trial 0 with value: 0.7765363128491621.\n",
            "[I 2025-06-02 22:36:47,384] Trial 13 finished with value: 0.7672253258845437 and parameters: {'n_estimators': 62, 'max_depth': 14}. Best is trial 0 with value: 0.7765363128491621.\n",
            "[I 2025-06-02 22:36:48,511] Trial 14 finished with value: 0.7616387337057727 and parameters: {'n_estimators': 183, 'max_depth': 8}. Best is trial 0 with value: 0.7765363128491621.\n",
            "[I 2025-06-02 22:36:48,941] Trial 15 finished with value: 0.7765363128491621 and parameters: {'n_estimators': 61, 'max_depth': 5}. Best is trial 0 with value: 0.7765363128491621.\n",
            "[I 2025-06-02 22:36:49,883] Trial 16 finished with value: 0.7635009310986964 and parameters: {'n_estimators': 152, 'max_depth': 11}. Best is trial 0 with value: 0.7765363128491621.\n",
            "[I 2025-06-02 22:36:50,834] Trial 17 finished with value: 0.7709497206703911 and parameters: {'n_estimators': 173, 'max_depth': 7}. Best is trial 0 with value: 0.7765363128491621.\n",
            "[I 2025-06-02 22:36:51,823] Trial 18 finished with value: 0.7709497206703911 and parameters: {'n_estimators': 164, 'max_depth': 12}. Best is trial 0 with value: 0.7765363128491621.\n",
            "[I 2025-06-02 22:36:52,869] Trial 19 finished with value: 0.7653631284916201 and parameters: {'n_estimators': 184, 'max_depth': 5}. Best is trial 0 with value: 0.7765363128491621.\n",
            "[I 2025-06-02 22:36:53,571] Trial 20 finished with value: 0.7709497206703911 and parameters: {'n_estimators': 107, 'max_depth': 14}. Best is trial 0 with value: 0.7765363128491621.\n",
            "[I 2025-06-02 22:36:54,165] Trial 21 finished with value: 0.7709497206703911 and parameters: {'n_estimators': 99, 'max_depth': 13}. Best is trial 0 with value: 0.7765363128491621.\n",
            "[I 2025-06-02 22:36:55,326] Trial 22 finished with value: 0.7746741154562384 and parameters: {'n_estimators': 191, 'max_depth': 12}. Best is trial 0 with value: 0.7765363128491621.\n",
            "[I 2025-06-02 22:36:56,205] Trial 23 finished with value: 0.7635009310986964 and parameters: {'n_estimators': 148, 'max_depth': 8}. Best is trial 0 with value: 0.7765363128491621.\n",
            "[I 2025-06-02 22:36:56,736] Trial 24 finished with value: 0.7709497206703911 and parameters: {'n_estimators': 93, 'max_depth': 5}. Best is trial 0 with value: 0.7765363128491621.\n",
            "[I 2025-06-02 22:36:57,350] Trial 25 finished with value: 0.7672253258845437 and parameters: {'n_estimators': 97, 'max_depth': 14}. Best is trial 0 with value: 0.7765363128491621.\n",
            "[I 2025-06-02 22:36:58,400] Trial 26 finished with value: 0.7616387337057727 and parameters: {'n_estimators': 188, 'max_depth': 4}. Best is trial 0 with value: 0.7765363128491621.\n",
            "[I 2025-06-02 22:36:59,200] Trial 27 finished with value: 0.7802607076350093 and parameters: {'n_estimators': 131, 'max_depth': 17}. Best is trial 27 with value: 0.7802607076350093.\n",
            "[I 2025-06-02 22:36:59,534] Trial 28 finished with value: 0.7579143389199254 and parameters: {'n_estimators': 52, 'max_depth': 3}. Best is trial 27 with value: 0.7802607076350093.\n",
            "[I 2025-06-02 22:37:05,868] Trial 29 finished with value: 0.7653631284916201 and parameters: {'n_estimators': 170, 'max_depth': 11}. Best is trial 27 with value: 0.7802607076350093.\n"
          ]
        }
      ],
      "source": [
        "\n",
        "study = optuna.create_study(direction=\"maximize\",sampler=optuna.samplers.RandomSampler())\n",
        "study.optimize(Objective,n_trials=30)\n"
      ]
    },
    {
      "cell_type": "code",
      "execution_count": 13,
      "metadata": {
        "colab": {
          "base_uri": "https://localhost:8080/"
        },
        "id": "jI8Vz3mDMSO1",
        "outputId": "43be83f2-3982-4394-99f3-a0629a89af78"
      },
      "outputs": [
        {
          "name": "stdout",
          "output_type": "stream",
          "text": [
            "0.7802607076350093\n",
            "{'n_estimators': 131, 'max_depth': 17}\n"
          ]
        }
      ],
      "source": [
        "\n",
        "print(study.best_trial.value)\n",
        "print(study.best_trial.params)\n"
      ]
    },
    {
      "cell_type": "code",
      "execution_count": 14,
      "metadata": {
        "colab": {
          "base_uri": "https://localhost:8080/"
        },
        "id": "JEZNK16FMddJ",
        "outputId": "ae09c0ec-5e6d-4043-e9ef-09969f99bed1"
      },
      "outputs": [
        {
          "data": {
            "text/plain": [
              "74.45887445887446"
            ]
          },
          "execution_count": 14,
          "metadata": {},
          "output_type": "execute_result"
        }
      ],
      "source": [
        "\n",
        "from sklearn.metrics import  accuracy_score\n",
        "classifier = RandomForestClassifier(**study.best_trial.params,random_state=42)\n",
        "classifier.fit(X_train,y_train)\n",
        "y_pred = classifier.predict(X_test)\n",
        "accuracy_score(y_test,y_pred)*100\n"
      ]
    },
    {
      "cell_type": "markdown",
      "metadata": {
        "id": "dr-Ss5rHNPiI"
      },
      "source": [
        "<br>\n",
        "\n",
        "\n",
        "# #03 GridSearchCV with Optuna:\n",
        "\n",
        "<br>\n",
        "\n",
        "\n"
      ]
    },
    {
      "cell_type": "code",
      "execution_count": 15,
      "metadata": {
        "id": "AlFtivUONcX_"
      },
      "outputs": [],
      "source": [
        "\n",
        "search_space = {\n",
        "    'n_estimators': [50,100,150,200],\n",
        "    'max_depth': [5,10,15,20]\n",
        "}\n"
      ]
    },
    {
      "cell_type": "code",
      "execution_count": 16,
      "metadata": {
        "colab": {
          "base_uri": "https://localhost:8080/"
        },
        "id": "42vg6akfNzU_",
        "outputId": "982748a7-2a32-4325-d814-245bef9cc4c1"
      },
      "outputs": [
        {
          "name": "stderr",
          "output_type": "stream",
          "text": [
            "[I 2025-06-02 22:37:08,295] A new study created in memory with name: no-name-d9c28926-ddbd-4aa2-8764-8b3fed7a8ec9\n",
            "[I 2025-06-02 22:37:08,913] Trial 0 finished with value: 0.7690875232774674 and parameters: {'n_estimators': 100, 'max_depth': 5}. Best is trial 0 with value: 0.7690875232774674.\n",
            "[I 2025-06-02 22:37:09,828] Trial 1 finished with value: 0.7672253258845437 and parameters: {'n_estimators': 150, 'max_depth': 10}. Best is trial 0 with value: 0.7690875232774674.\n",
            "[I 2025-06-02 22:37:10,149] Trial 2 finished with value: 0.7728119180633147 and parameters: {'n_estimators': 50, 'max_depth': 15}. Best is trial 2 with value: 0.7728119180633147.\n",
            "[I 2025-06-02 22:37:10,794] Trial 3 finished with value: 0.7653631284916201 and parameters: {'n_estimators': 100, 'max_depth': 15}. Best is trial 2 with value: 0.7728119180633147.\n",
            "[I 2025-06-02 22:37:11,421] Trial 4 finished with value: 0.7690875232774674 and parameters: {'n_estimators': 100, 'max_depth': 20}. Best is trial 2 with value: 0.7728119180633147.\n",
            "[I 2025-06-02 22:37:11,748] Trial 5 finished with value: 0.7579143389199254 and parameters: {'n_estimators': 50, 'max_depth': 10}. Best is trial 2 with value: 0.7728119180633147.\n",
            "[I 2025-06-02 22:37:12,917] Trial 6 finished with value: 0.7653631284916201 and parameters: {'n_estimators': 150, 'max_depth': 5}. Best is trial 2 with value: 0.7728119180633147.\n",
            "[I 2025-06-02 22:37:14,037] Trial 7 finished with value: 0.7728119180633147 and parameters: {'n_estimators': 150, 'max_depth': 20}. Best is trial 2 with value: 0.7728119180633147.\n",
            "[I 2025-06-02 22:37:15,502] Trial 8 finished with value: 0.7728119180633147 and parameters: {'n_estimators': 150, 'max_depth': 15}. Best is trial 2 with value: 0.7728119180633147.\n",
            "[I 2025-06-02 22:37:16,917] Trial 9 finished with value: 0.7709497206703911 and parameters: {'n_estimators': 200, 'max_depth': 10}. Best is trial 2 with value: 0.7728119180633147.\n",
            "[I 2025-06-02 22:37:18,353] Trial 10 finished with value: 0.7728119180633147 and parameters: {'n_estimators': 200, 'max_depth': 20}. Best is trial 2 with value: 0.7728119180633147.\n",
            "[I 2025-06-02 22:37:19,602] Trial 11 finished with value: 0.7728119180633147 and parameters: {'n_estimators': 200, 'max_depth': 15}. Best is trial 2 with value: 0.7728119180633147.\n",
            "[I 2025-06-02 22:37:21,020] Trial 12 finished with value: 0.7690875232774674 and parameters: {'n_estimators': 200, 'max_depth': 5}. Best is trial 2 with value: 0.7728119180633147.\n",
            "[I 2025-06-02 22:37:21,379] Trial 13 finished with value: 0.7746741154562384 and parameters: {'n_estimators': 50, 'max_depth': 5}. Best is trial 13 with value: 0.7746741154562384.\n",
            "[I 2025-06-02 22:37:22,092] Trial 14 finished with value: 0.7616387337057727 and parameters: {'n_estimators': 100, 'max_depth': 10}. Best is trial 13 with value: 0.7746741154562384.\n",
            "[I 2025-06-02 22:37:22,468] Trial 15 finished with value: 0.7709497206703911 and parameters: {'n_estimators': 50, 'max_depth': 20}. Best is trial 13 with value: 0.7746741154562384.\n"
          ]
        }
      ],
      "source": [
        "\n",
        "study = optuna.create_study(direction=\"maximize\",sampler=optuna.samplers.GridSampler(search_space))\n",
        "study.optimize(Objective)\n"
      ]
    },
    {
      "cell_type": "code",
      "execution_count": 17,
      "metadata": {
        "colab": {
          "base_uri": "https://localhost:8080/"
        },
        "id": "II6j1tp7OS7X",
        "outputId": "59531d5b-5a23-4b91-eafc-e0fd6f1aa426"
      },
      "outputs": [
        {
          "data": {
            "text/plain": [
              "73.59307359307358"
            ]
          },
          "execution_count": 17,
          "metadata": {},
          "output_type": "execute_result"
        }
      ],
      "source": [
        "\n",
        "\n",
        "from sklearn.metrics import  accuracy_score\n",
        "classifier = RandomForestClassifier(**study.best_trial.params,random_state=42)\n",
        "classifier.fit(X_train,y_train)\n",
        "y_pred = classifier.predict(X_test)\n",
        "accuracy_score(y_test,y_pred)*100\n"
      ]
    },
    {
      "cell_type": "markdown",
      "metadata": {
        "id": "iFf0ALB1OuLH"
      },
      "source": [
        "<br>\n",
        "\n",
        "# #04 Optuna Graph: Visulization\n",
        "\n",
        "<br>"
      ]
    },
    {
      "cell_type": "code",
      "execution_count": 18,
      "metadata": {
        "colab": {
          "base_uri": "https://localhost:8080/",
          "height": 542
        },
        "id": "557v-Xu4O2yf",
        "outputId": "f0df9ab6-2b6b-42d7-c447-d6b46a7ed8bb"
      },
      "outputs": [
        {
          "data": {
            "application/vnd.plotly.v1+json": {
              "config": {
                "plotlyServerURL": "https://plot.ly"
              },
              "data": [
                {
                  "mode": "markers",
                  "name": "Objective Value",
                  "type": "scatter",
                  "x": [
                    0,
                    1,
                    2,
                    3,
                    4,
                    5,
                    6,
                    7,
                    8,
                    9,
                    10,
                    11,
                    12,
                    13,
                    14,
                    15
                  ],
                  "y": [
                    0.7690875232774674,
                    0.7672253258845437,
                    0.7728119180633147,
                    0.7653631284916201,
                    0.7690875232774674,
                    0.7579143389199254,
                    0.7653631284916201,
                    0.7728119180633147,
                    0.7728119180633147,
                    0.7709497206703911,
                    0.7728119180633147,
                    0.7728119180633147,
                    0.7690875232774674,
                    0.7746741154562384,
                    0.7616387337057727,
                    0.7709497206703911
                  ]
                },
                {
                  "mode": "lines",
                  "name": "Best Value",
                  "type": "scatter",
                  "x": [
                    0,
                    1,
                    2,
                    3,
                    4,
                    5,
                    6,
                    7,
                    8,
                    9,
                    10,
                    11,
                    12,
                    13,
                    14,
                    15
                  ],
                  "y": [
                    0.7690875232774674,
                    0.7690875232774674,
                    0.7728119180633147,
                    0.7728119180633147,
                    0.7728119180633147,
                    0.7728119180633147,
                    0.7728119180633147,
                    0.7728119180633147,
                    0.7728119180633147,
                    0.7728119180633147,
                    0.7728119180633147,
                    0.7728119180633147,
                    0.7728119180633147,
                    0.7746741154562384,
                    0.7746741154562384,
                    0.7746741154562384
                  ]
                },
                {
                  "marker": {
                    "color": "#cccccc"
                  },
                  "mode": "markers",
                  "name": "Infeasible Trial",
                  "showlegend": false,
                  "type": "scatter",
                  "x": [],
                  "y": []
                }
              ],
              "layout": {
                "template": {
                  "data": {
                    "bar": [
                      {
                        "error_x": {
                          "color": "#2a3f5f"
                        },
                        "error_y": {
                          "color": "#2a3f5f"
                        },
                        "marker": {
                          "line": {
                            "color": "#E5ECF6",
                            "width": 0.5
                          },
                          "pattern": {
                            "fillmode": "overlay",
                            "size": 10,
                            "solidity": 0.2
                          }
                        },
                        "type": "bar"
                      }
                    ],
                    "barpolar": [
                      {
                        "marker": {
                          "line": {
                            "color": "#E5ECF6",
                            "width": 0.5
                          },
                          "pattern": {
                            "fillmode": "overlay",
                            "size": 10,
                            "solidity": 0.2
                          }
                        },
                        "type": "barpolar"
                      }
                    ],
                    "carpet": [
                      {
                        "aaxis": {
                          "endlinecolor": "#2a3f5f",
                          "gridcolor": "white",
                          "linecolor": "white",
                          "minorgridcolor": "white",
                          "startlinecolor": "#2a3f5f"
                        },
                        "baxis": {
                          "endlinecolor": "#2a3f5f",
                          "gridcolor": "white",
                          "linecolor": "white",
                          "minorgridcolor": "white",
                          "startlinecolor": "#2a3f5f"
                        },
                        "type": "carpet"
                      }
                    ],
                    "choropleth": [
                      {
                        "colorbar": {
                          "outlinewidth": 0,
                          "ticks": ""
                        },
                        "type": "choropleth"
                      }
                    ],
                    "contour": [
                      {
                        "colorbar": {
                          "outlinewidth": 0,
                          "ticks": ""
                        },
                        "colorscale": [
                          [
                            0,
                            "#0d0887"
                          ],
                          [
                            0.1111111111111111,
                            "#46039f"
                          ],
                          [
                            0.2222222222222222,
                            "#7201a8"
                          ],
                          [
                            0.3333333333333333,
                            "#9c179e"
                          ],
                          [
                            0.4444444444444444,
                            "#bd3786"
                          ],
                          [
                            0.5555555555555556,
                            "#d8576b"
                          ],
                          [
                            0.6666666666666666,
                            "#ed7953"
                          ],
                          [
                            0.7777777777777778,
                            "#fb9f3a"
                          ],
                          [
                            0.8888888888888888,
                            "#fdca26"
                          ],
                          [
                            1,
                            "#f0f921"
                          ]
                        ],
                        "type": "contour"
                      }
                    ],
                    "contourcarpet": [
                      {
                        "colorbar": {
                          "outlinewidth": 0,
                          "ticks": ""
                        },
                        "type": "contourcarpet"
                      }
                    ],
                    "heatmap": [
                      {
                        "colorbar": {
                          "outlinewidth": 0,
                          "ticks": ""
                        },
                        "colorscale": [
                          [
                            0,
                            "#0d0887"
                          ],
                          [
                            0.1111111111111111,
                            "#46039f"
                          ],
                          [
                            0.2222222222222222,
                            "#7201a8"
                          ],
                          [
                            0.3333333333333333,
                            "#9c179e"
                          ],
                          [
                            0.4444444444444444,
                            "#bd3786"
                          ],
                          [
                            0.5555555555555556,
                            "#d8576b"
                          ],
                          [
                            0.6666666666666666,
                            "#ed7953"
                          ],
                          [
                            0.7777777777777778,
                            "#fb9f3a"
                          ],
                          [
                            0.8888888888888888,
                            "#fdca26"
                          ],
                          [
                            1,
                            "#f0f921"
                          ]
                        ],
                        "type": "heatmap"
                      }
                    ],
                    "histogram": [
                      {
                        "marker": {
                          "pattern": {
                            "fillmode": "overlay",
                            "size": 10,
                            "solidity": 0.2
                          }
                        },
                        "type": "histogram"
                      }
                    ],
                    "histogram2d": [
                      {
                        "colorbar": {
                          "outlinewidth": 0,
                          "ticks": ""
                        },
                        "colorscale": [
                          [
                            0,
                            "#0d0887"
                          ],
                          [
                            0.1111111111111111,
                            "#46039f"
                          ],
                          [
                            0.2222222222222222,
                            "#7201a8"
                          ],
                          [
                            0.3333333333333333,
                            "#9c179e"
                          ],
                          [
                            0.4444444444444444,
                            "#bd3786"
                          ],
                          [
                            0.5555555555555556,
                            "#d8576b"
                          ],
                          [
                            0.6666666666666666,
                            "#ed7953"
                          ],
                          [
                            0.7777777777777778,
                            "#fb9f3a"
                          ],
                          [
                            0.8888888888888888,
                            "#fdca26"
                          ],
                          [
                            1,
                            "#f0f921"
                          ]
                        ],
                        "type": "histogram2d"
                      }
                    ],
                    "histogram2dcontour": [
                      {
                        "colorbar": {
                          "outlinewidth": 0,
                          "ticks": ""
                        },
                        "colorscale": [
                          [
                            0,
                            "#0d0887"
                          ],
                          [
                            0.1111111111111111,
                            "#46039f"
                          ],
                          [
                            0.2222222222222222,
                            "#7201a8"
                          ],
                          [
                            0.3333333333333333,
                            "#9c179e"
                          ],
                          [
                            0.4444444444444444,
                            "#bd3786"
                          ],
                          [
                            0.5555555555555556,
                            "#d8576b"
                          ],
                          [
                            0.6666666666666666,
                            "#ed7953"
                          ],
                          [
                            0.7777777777777778,
                            "#fb9f3a"
                          ],
                          [
                            0.8888888888888888,
                            "#fdca26"
                          ],
                          [
                            1,
                            "#f0f921"
                          ]
                        ],
                        "type": "histogram2dcontour"
                      }
                    ],
                    "mesh3d": [
                      {
                        "colorbar": {
                          "outlinewidth": 0,
                          "ticks": ""
                        },
                        "type": "mesh3d"
                      }
                    ],
                    "parcoords": [
                      {
                        "line": {
                          "colorbar": {
                            "outlinewidth": 0,
                            "ticks": ""
                          }
                        },
                        "type": "parcoords"
                      }
                    ],
                    "pie": [
                      {
                        "automargin": true,
                        "type": "pie"
                      }
                    ],
                    "scatter": [
                      {
                        "fillpattern": {
                          "fillmode": "overlay",
                          "size": 10,
                          "solidity": 0.2
                        },
                        "type": "scatter"
                      }
                    ],
                    "scatter3d": [
                      {
                        "line": {
                          "colorbar": {
                            "outlinewidth": 0,
                            "ticks": ""
                          }
                        },
                        "marker": {
                          "colorbar": {
                            "outlinewidth": 0,
                            "ticks": ""
                          }
                        },
                        "type": "scatter3d"
                      }
                    ],
                    "scattercarpet": [
                      {
                        "marker": {
                          "colorbar": {
                            "outlinewidth": 0,
                            "ticks": ""
                          }
                        },
                        "type": "scattercarpet"
                      }
                    ],
                    "scattergeo": [
                      {
                        "marker": {
                          "colorbar": {
                            "outlinewidth": 0,
                            "ticks": ""
                          }
                        },
                        "type": "scattergeo"
                      }
                    ],
                    "scattergl": [
                      {
                        "marker": {
                          "colorbar": {
                            "outlinewidth": 0,
                            "ticks": ""
                          }
                        },
                        "type": "scattergl"
                      }
                    ],
                    "scattermap": [
                      {
                        "marker": {
                          "colorbar": {
                            "outlinewidth": 0,
                            "ticks": ""
                          }
                        },
                        "type": "scattermap"
                      }
                    ],
                    "scattermapbox": [
                      {
                        "marker": {
                          "colorbar": {
                            "outlinewidth": 0,
                            "ticks": ""
                          }
                        },
                        "type": "scattermapbox"
                      }
                    ],
                    "scatterpolar": [
                      {
                        "marker": {
                          "colorbar": {
                            "outlinewidth": 0,
                            "ticks": ""
                          }
                        },
                        "type": "scatterpolar"
                      }
                    ],
                    "scatterpolargl": [
                      {
                        "marker": {
                          "colorbar": {
                            "outlinewidth": 0,
                            "ticks": ""
                          }
                        },
                        "type": "scatterpolargl"
                      }
                    ],
                    "scatterternary": [
                      {
                        "marker": {
                          "colorbar": {
                            "outlinewidth": 0,
                            "ticks": ""
                          }
                        },
                        "type": "scatterternary"
                      }
                    ],
                    "surface": [
                      {
                        "colorbar": {
                          "outlinewidth": 0,
                          "ticks": ""
                        },
                        "colorscale": [
                          [
                            0,
                            "#0d0887"
                          ],
                          [
                            0.1111111111111111,
                            "#46039f"
                          ],
                          [
                            0.2222222222222222,
                            "#7201a8"
                          ],
                          [
                            0.3333333333333333,
                            "#9c179e"
                          ],
                          [
                            0.4444444444444444,
                            "#bd3786"
                          ],
                          [
                            0.5555555555555556,
                            "#d8576b"
                          ],
                          [
                            0.6666666666666666,
                            "#ed7953"
                          ],
                          [
                            0.7777777777777778,
                            "#fb9f3a"
                          ],
                          [
                            0.8888888888888888,
                            "#fdca26"
                          ],
                          [
                            1,
                            "#f0f921"
                          ]
                        ],
                        "type": "surface"
                      }
                    ],
                    "table": [
                      {
                        "cells": {
                          "fill": {
                            "color": "#EBF0F8"
                          },
                          "line": {
                            "color": "white"
                          }
                        },
                        "header": {
                          "fill": {
                            "color": "#C8D4E3"
                          },
                          "line": {
                            "color": "white"
                          }
                        },
                        "type": "table"
                      }
                    ]
                  },
                  "layout": {
                    "annotationdefaults": {
                      "arrowcolor": "#2a3f5f",
                      "arrowhead": 0,
                      "arrowwidth": 1
                    },
                    "autotypenumbers": "strict",
                    "coloraxis": {
                      "colorbar": {
                        "outlinewidth": 0,
                        "ticks": ""
                      }
                    },
                    "colorscale": {
                      "diverging": [
                        [
                          0,
                          "#8e0152"
                        ],
                        [
                          0.1,
                          "#c51b7d"
                        ],
                        [
                          0.2,
                          "#de77ae"
                        ],
                        [
                          0.3,
                          "#f1b6da"
                        ],
                        [
                          0.4,
                          "#fde0ef"
                        ],
                        [
                          0.5,
                          "#f7f7f7"
                        ],
                        [
                          0.6,
                          "#e6f5d0"
                        ],
                        [
                          0.7,
                          "#b8e186"
                        ],
                        [
                          0.8,
                          "#7fbc41"
                        ],
                        [
                          0.9,
                          "#4d9221"
                        ],
                        [
                          1,
                          "#276419"
                        ]
                      ],
                      "sequential": [
                        [
                          0,
                          "#0d0887"
                        ],
                        [
                          0.1111111111111111,
                          "#46039f"
                        ],
                        [
                          0.2222222222222222,
                          "#7201a8"
                        ],
                        [
                          0.3333333333333333,
                          "#9c179e"
                        ],
                        [
                          0.4444444444444444,
                          "#bd3786"
                        ],
                        [
                          0.5555555555555556,
                          "#d8576b"
                        ],
                        [
                          0.6666666666666666,
                          "#ed7953"
                        ],
                        [
                          0.7777777777777778,
                          "#fb9f3a"
                        ],
                        [
                          0.8888888888888888,
                          "#fdca26"
                        ],
                        [
                          1,
                          "#f0f921"
                        ]
                      ],
                      "sequentialminus": [
                        [
                          0,
                          "#0d0887"
                        ],
                        [
                          0.1111111111111111,
                          "#46039f"
                        ],
                        [
                          0.2222222222222222,
                          "#7201a8"
                        ],
                        [
                          0.3333333333333333,
                          "#9c179e"
                        ],
                        [
                          0.4444444444444444,
                          "#bd3786"
                        ],
                        [
                          0.5555555555555556,
                          "#d8576b"
                        ],
                        [
                          0.6666666666666666,
                          "#ed7953"
                        ],
                        [
                          0.7777777777777778,
                          "#fb9f3a"
                        ],
                        [
                          0.8888888888888888,
                          "#fdca26"
                        ],
                        [
                          1,
                          "#f0f921"
                        ]
                      ]
                    },
                    "colorway": [
                      "#636efa",
                      "#EF553B",
                      "#00cc96",
                      "#ab63fa",
                      "#FFA15A",
                      "#19d3f3",
                      "#FF6692",
                      "#B6E880",
                      "#FF97FF",
                      "#FECB52"
                    ],
                    "font": {
                      "color": "#2a3f5f"
                    },
                    "geo": {
                      "bgcolor": "white",
                      "lakecolor": "white",
                      "landcolor": "#E5ECF6",
                      "showlakes": true,
                      "showland": true,
                      "subunitcolor": "white"
                    },
                    "hoverlabel": {
                      "align": "left"
                    },
                    "hovermode": "closest",
                    "mapbox": {
                      "style": "light"
                    },
                    "paper_bgcolor": "white",
                    "plot_bgcolor": "#E5ECF6",
                    "polar": {
                      "angularaxis": {
                        "gridcolor": "white",
                        "linecolor": "white",
                        "ticks": ""
                      },
                      "bgcolor": "#E5ECF6",
                      "radialaxis": {
                        "gridcolor": "white",
                        "linecolor": "white",
                        "ticks": ""
                      }
                    },
                    "scene": {
                      "xaxis": {
                        "backgroundcolor": "#E5ECF6",
                        "gridcolor": "white",
                        "gridwidth": 2,
                        "linecolor": "white",
                        "showbackground": true,
                        "ticks": "",
                        "zerolinecolor": "white"
                      },
                      "yaxis": {
                        "backgroundcolor": "#E5ECF6",
                        "gridcolor": "white",
                        "gridwidth": 2,
                        "linecolor": "white",
                        "showbackground": true,
                        "ticks": "",
                        "zerolinecolor": "white"
                      },
                      "zaxis": {
                        "backgroundcolor": "#E5ECF6",
                        "gridcolor": "white",
                        "gridwidth": 2,
                        "linecolor": "white",
                        "showbackground": true,
                        "ticks": "",
                        "zerolinecolor": "white"
                      }
                    },
                    "shapedefaults": {
                      "line": {
                        "color": "#2a3f5f"
                      }
                    },
                    "ternary": {
                      "aaxis": {
                        "gridcolor": "white",
                        "linecolor": "white",
                        "ticks": ""
                      },
                      "baxis": {
                        "gridcolor": "white",
                        "linecolor": "white",
                        "ticks": ""
                      },
                      "bgcolor": "#E5ECF6",
                      "caxis": {
                        "gridcolor": "white",
                        "linecolor": "white",
                        "ticks": ""
                      }
                    },
                    "title": {
                      "x": 0.05
                    },
                    "xaxis": {
                      "automargin": true,
                      "gridcolor": "white",
                      "linecolor": "white",
                      "ticks": "",
                      "title": {
                        "standoff": 15
                      },
                      "zerolinecolor": "white",
                      "zerolinewidth": 2
                    },
                    "yaxis": {
                      "automargin": true,
                      "gridcolor": "white",
                      "linecolor": "white",
                      "ticks": "",
                      "title": {
                        "standoff": 15
                      },
                      "zerolinecolor": "white",
                      "zerolinewidth": 2
                    }
                  }
                },
                "title": {
                  "text": "Optimization History Plot"
                },
                "xaxis": {
                  "title": {
                    "text": "Trial"
                  }
                },
                "yaxis": {
                  "title": {
                    "text": "Objective Value"
                  }
                }
              }
            }
          },
          "metadata": {},
          "output_type": "display_data"
        }
      ],
      "source": [
        "\n",
        "from optuna.visualization import plot_optimization_history,plot_parallel_coordinate,plot_slice,plot_contour,plot_param_importances\n",
        "\n",
        "plot_optimization_history(study).show()\n"
      ]
    },
    {
      "cell_type": "code",
      "execution_count": 19,
      "metadata": {
        "colab": {
          "base_uri": "https://localhost:8080/",
          "height": 542
        },
        "id": "Vej5uO-OQS4A",
        "outputId": "ef49d2ac-c628-469d-e8a5-5475589f209e"
      },
      "outputs": [
        {
          "data": {
            "application/vnd.plotly.v1+json": {
              "config": {
                "plotlyServerURL": "https://plot.ly"
              },
              "data": [
                {
                  "dimensions": [
                    {
                      "label": "Objective Value",
                      "range": [
                        0.7579143389199254,
                        0.7746741154562384
                      ],
                      "values": [
                        0.7690875232774674,
                        0.7672253258845437,
                        0.7728119180633147,
                        0.7653631284916201,
                        0.7690875232774674,
                        0.7579143389199254,
                        0.7653631284916201,
                        0.7728119180633147,
                        0.7728119180633147,
                        0.7709497206703911,
                        0.7728119180633147,
                        0.7728119180633147,
                        0.7690875232774674,
                        0.7746741154562384,
                        0.7616387337057727,
                        0.7709497206703911
                      ]
                    },
                    {
                      "label": "max_depth",
                      "range": [
                        5,
                        20
                      ],
                      "values": [
                        5,
                        10,
                        15,
                        15,
                        20,
                        10,
                        5,
                        20,
                        15,
                        10,
                        20,
                        15,
                        5,
                        5,
                        10,
                        20
                      ]
                    },
                    {
                      "label": "n_estimators",
                      "range": [
                        50,
                        200
                      ],
                      "values": [
                        100,
                        150,
                        50,
                        100,
                        100,
                        50,
                        150,
                        150,
                        150,
                        200,
                        200,
                        200,
                        200,
                        50,
                        100,
                        50
                      ]
                    }
                  ],
                  "labelangle": 30,
                  "labelside": "bottom",
                  "line": {
                    "color": [
                      0.7690875232774674,
                      0.7672253258845437,
                      0.7728119180633147,
                      0.7653631284916201,
                      0.7690875232774674,
                      0.7579143389199254,
                      0.7653631284916201,
                      0.7728119180633147,
                      0.7728119180633147,
                      0.7709497206703911,
                      0.7728119180633147,
                      0.7728119180633147,
                      0.7690875232774674,
                      0.7746741154562384,
                      0.7616387337057727,
                      0.7709497206703911
                    ],
                    "colorbar": {
                      "title": {
                        "text": "Objective Value"
                      }
                    },
                    "colorscale": [
                      [
                        0,
                        "rgb(247,251,255)"
                      ],
                      [
                        0.125,
                        "rgb(222,235,247)"
                      ],
                      [
                        0.25,
                        "rgb(198,219,239)"
                      ],
                      [
                        0.375,
                        "rgb(158,202,225)"
                      ],
                      [
                        0.5,
                        "rgb(107,174,214)"
                      ],
                      [
                        0.625,
                        "rgb(66,146,198)"
                      ],
                      [
                        0.75,
                        "rgb(33,113,181)"
                      ],
                      [
                        0.875,
                        "rgb(8,81,156)"
                      ],
                      [
                        1,
                        "rgb(8,48,107)"
                      ]
                    ],
                    "reversescale": false,
                    "showscale": true
                  },
                  "type": "parcoords"
                }
              ],
              "layout": {
                "template": {
                  "data": {
                    "bar": [
                      {
                        "error_x": {
                          "color": "#2a3f5f"
                        },
                        "error_y": {
                          "color": "#2a3f5f"
                        },
                        "marker": {
                          "line": {
                            "color": "#E5ECF6",
                            "width": 0.5
                          },
                          "pattern": {
                            "fillmode": "overlay",
                            "size": 10,
                            "solidity": 0.2
                          }
                        },
                        "type": "bar"
                      }
                    ],
                    "barpolar": [
                      {
                        "marker": {
                          "line": {
                            "color": "#E5ECF6",
                            "width": 0.5
                          },
                          "pattern": {
                            "fillmode": "overlay",
                            "size": 10,
                            "solidity": 0.2
                          }
                        },
                        "type": "barpolar"
                      }
                    ],
                    "carpet": [
                      {
                        "aaxis": {
                          "endlinecolor": "#2a3f5f",
                          "gridcolor": "white",
                          "linecolor": "white",
                          "minorgridcolor": "white",
                          "startlinecolor": "#2a3f5f"
                        },
                        "baxis": {
                          "endlinecolor": "#2a3f5f",
                          "gridcolor": "white",
                          "linecolor": "white",
                          "minorgridcolor": "white",
                          "startlinecolor": "#2a3f5f"
                        },
                        "type": "carpet"
                      }
                    ],
                    "choropleth": [
                      {
                        "colorbar": {
                          "outlinewidth": 0,
                          "ticks": ""
                        },
                        "type": "choropleth"
                      }
                    ],
                    "contour": [
                      {
                        "colorbar": {
                          "outlinewidth": 0,
                          "ticks": ""
                        },
                        "colorscale": [
                          [
                            0,
                            "#0d0887"
                          ],
                          [
                            0.1111111111111111,
                            "#46039f"
                          ],
                          [
                            0.2222222222222222,
                            "#7201a8"
                          ],
                          [
                            0.3333333333333333,
                            "#9c179e"
                          ],
                          [
                            0.4444444444444444,
                            "#bd3786"
                          ],
                          [
                            0.5555555555555556,
                            "#d8576b"
                          ],
                          [
                            0.6666666666666666,
                            "#ed7953"
                          ],
                          [
                            0.7777777777777778,
                            "#fb9f3a"
                          ],
                          [
                            0.8888888888888888,
                            "#fdca26"
                          ],
                          [
                            1,
                            "#f0f921"
                          ]
                        ],
                        "type": "contour"
                      }
                    ],
                    "contourcarpet": [
                      {
                        "colorbar": {
                          "outlinewidth": 0,
                          "ticks": ""
                        },
                        "type": "contourcarpet"
                      }
                    ],
                    "heatmap": [
                      {
                        "colorbar": {
                          "outlinewidth": 0,
                          "ticks": ""
                        },
                        "colorscale": [
                          [
                            0,
                            "#0d0887"
                          ],
                          [
                            0.1111111111111111,
                            "#46039f"
                          ],
                          [
                            0.2222222222222222,
                            "#7201a8"
                          ],
                          [
                            0.3333333333333333,
                            "#9c179e"
                          ],
                          [
                            0.4444444444444444,
                            "#bd3786"
                          ],
                          [
                            0.5555555555555556,
                            "#d8576b"
                          ],
                          [
                            0.6666666666666666,
                            "#ed7953"
                          ],
                          [
                            0.7777777777777778,
                            "#fb9f3a"
                          ],
                          [
                            0.8888888888888888,
                            "#fdca26"
                          ],
                          [
                            1,
                            "#f0f921"
                          ]
                        ],
                        "type": "heatmap"
                      }
                    ],
                    "histogram": [
                      {
                        "marker": {
                          "pattern": {
                            "fillmode": "overlay",
                            "size": 10,
                            "solidity": 0.2
                          }
                        },
                        "type": "histogram"
                      }
                    ],
                    "histogram2d": [
                      {
                        "colorbar": {
                          "outlinewidth": 0,
                          "ticks": ""
                        },
                        "colorscale": [
                          [
                            0,
                            "#0d0887"
                          ],
                          [
                            0.1111111111111111,
                            "#46039f"
                          ],
                          [
                            0.2222222222222222,
                            "#7201a8"
                          ],
                          [
                            0.3333333333333333,
                            "#9c179e"
                          ],
                          [
                            0.4444444444444444,
                            "#bd3786"
                          ],
                          [
                            0.5555555555555556,
                            "#d8576b"
                          ],
                          [
                            0.6666666666666666,
                            "#ed7953"
                          ],
                          [
                            0.7777777777777778,
                            "#fb9f3a"
                          ],
                          [
                            0.8888888888888888,
                            "#fdca26"
                          ],
                          [
                            1,
                            "#f0f921"
                          ]
                        ],
                        "type": "histogram2d"
                      }
                    ],
                    "histogram2dcontour": [
                      {
                        "colorbar": {
                          "outlinewidth": 0,
                          "ticks": ""
                        },
                        "colorscale": [
                          [
                            0,
                            "#0d0887"
                          ],
                          [
                            0.1111111111111111,
                            "#46039f"
                          ],
                          [
                            0.2222222222222222,
                            "#7201a8"
                          ],
                          [
                            0.3333333333333333,
                            "#9c179e"
                          ],
                          [
                            0.4444444444444444,
                            "#bd3786"
                          ],
                          [
                            0.5555555555555556,
                            "#d8576b"
                          ],
                          [
                            0.6666666666666666,
                            "#ed7953"
                          ],
                          [
                            0.7777777777777778,
                            "#fb9f3a"
                          ],
                          [
                            0.8888888888888888,
                            "#fdca26"
                          ],
                          [
                            1,
                            "#f0f921"
                          ]
                        ],
                        "type": "histogram2dcontour"
                      }
                    ],
                    "mesh3d": [
                      {
                        "colorbar": {
                          "outlinewidth": 0,
                          "ticks": ""
                        },
                        "type": "mesh3d"
                      }
                    ],
                    "parcoords": [
                      {
                        "line": {
                          "colorbar": {
                            "outlinewidth": 0,
                            "ticks": ""
                          }
                        },
                        "type": "parcoords"
                      }
                    ],
                    "pie": [
                      {
                        "automargin": true,
                        "type": "pie"
                      }
                    ],
                    "scatter": [
                      {
                        "fillpattern": {
                          "fillmode": "overlay",
                          "size": 10,
                          "solidity": 0.2
                        },
                        "type": "scatter"
                      }
                    ],
                    "scatter3d": [
                      {
                        "line": {
                          "colorbar": {
                            "outlinewidth": 0,
                            "ticks": ""
                          }
                        },
                        "marker": {
                          "colorbar": {
                            "outlinewidth": 0,
                            "ticks": ""
                          }
                        },
                        "type": "scatter3d"
                      }
                    ],
                    "scattercarpet": [
                      {
                        "marker": {
                          "colorbar": {
                            "outlinewidth": 0,
                            "ticks": ""
                          }
                        },
                        "type": "scattercarpet"
                      }
                    ],
                    "scattergeo": [
                      {
                        "marker": {
                          "colorbar": {
                            "outlinewidth": 0,
                            "ticks": ""
                          }
                        },
                        "type": "scattergeo"
                      }
                    ],
                    "scattergl": [
                      {
                        "marker": {
                          "colorbar": {
                            "outlinewidth": 0,
                            "ticks": ""
                          }
                        },
                        "type": "scattergl"
                      }
                    ],
                    "scattermap": [
                      {
                        "marker": {
                          "colorbar": {
                            "outlinewidth": 0,
                            "ticks": ""
                          }
                        },
                        "type": "scattermap"
                      }
                    ],
                    "scattermapbox": [
                      {
                        "marker": {
                          "colorbar": {
                            "outlinewidth": 0,
                            "ticks": ""
                          }
                        },
                        "type": "scattermapbox"
                      }
                    ],
                    "scatterpolar": [
                      {
                        "marker": {
                          "colorbar": {
                            "outlinewidth": 0,
                            "ticks": ""
                          }
                        },
                        "type": "scatterpolar"
                      }
                    ],
                    "scatterpolargl": [
                      {
                        "marker": {
                          "colorbar": {
                            "outlinewidth": 0,
                            "ticks": ""
                          }
                        },
                        "type": "scatterpolargl"
                      }
                    ],
                    "scatterternary": [
                      {
                        "marker": {
                          "colorbar": {
                            "outlinewidth": 0,
                            "ticks": ""
                          }
                        },
                        "type": "scatterternary"
                      }
                    ],
                    "surface": [
                      {
                        "colorbar": {
                          "outlinewidth": 0,
                          "ticks": ""
                        },
                        "colorscale": [
                          [
                            0,
                            "#0d0887"
                          ],
                          [
                            0.1111111111111111,
                            "#46039f"
                          ],
                          [
                            0.2222222222222222,
                            "#7201a8"
                          ],
                          [
                            0.3333333333333333,
                            "#9c179e"
                          ],
                          [
                            0.4444444444444444,
                            "#bd3786"
                          ],
                          [
                            0.5555555555555556,
                            "#d8576b"
                          ],
                          [
                            0.6666666666666666,
                            "#ed7953"
                          ],
                          [
                            0.7777777777777778,
                            "#fb9f3a"
                          ],
                          [
                            0.8888888888888888,
                            "#fdca26"
                          ],
                          [
                            1,
                            "#f0f921"
                          ]
                        ],
                        "type": "surface"
                      }
                    ],
                    "table": [
                      {
                        "cells": {
                          "fill": {
                            "color": "#EBF0F8"
                          },
                          "line": {
                            "color": "white"
                          }
                        },
                        "header": {
                          "fill": {
                            "color": "#C8D4E3"
                          },
                          "line": {
                            "color": "white"
                          }
                        },
                        "type": "table"
                      }
                    ]
                  },
                  "layout": {
                    "annotationdefaults": {
                      "arrowcolor": "#2a3f5f",
                      "arrowhead": 0,
                      "arrowwidth": 1
                    },
                    "autotypenumbers": "strict",
                    "coloraxis": {
                      "colorbar": {
                        "outlinewidth": 0,
                        "ticks": ""
                      }
                    },
                    "colorscale": {
                      "diverging": [
                        [
                          0,
                          "#8e0152"
                        ],
                        [
                          0.1,
                          "#c51b7d"
                        ],
                        [
                          0.2,
                          "#de77ae"
                        ],
                        [
                          0.3,
                          "#f1b6da"
                        ],
                        [
                          0.4,
                          "#fde0ef"
                        ],
                        [
                          0.5,
                          "#f7f7f7"
                        ],
                        [
                          0.6,
                          "#e6f5d0"
                        ],
                        [
                          0.7,
                          "#b8e186"
                        ],
                        [
                          0.8,
                          "#7fbc41"
                        ],
                        [
                          0.9,
                          "#4d9221"
                        ],
                        [
                          1,
                          "#276419"
                        ]
                      ],
                      "sequential": [
                        [
                          0,
                          "#0d0887"
                        ],
                        [
                          0.1111111111111111,
                          "#46039f"
                        ],
                        [
                          0.2222222222222222,
                          "#7201a8"
                        ],
                        [
                          0.3333333333333333,
                          "#9c179e"
                        ],
                        [
                          0.4444444444444444,
                          "#bd3786"
                        ],
                        [
                          0.5555555555555556,
                          "#d8576b"
                        ],
                        [
                          0.6666666666666666,
                          "#ed7953"
                        ],
                        [
                          0.7777777777777778,
                          "#fb9f3a"
                        ],
                        [
                          0.8888888888888888,
                          "#fdca26"
                        ],
                        [
                          1,
                          "#f0f921"
                        ]
                      ],
                      "sequentialminus": [
                        [
                          0,
                          "#0d0887"
                        ],
                        [
                          0.1111111111111111,
                          "#46039f"
                        ],
                        [
                          0.2222222222222222,
                          "#7201a8"
                        ],
                        [
                          0.3333333333333333,
                          "#9c179e"
                        ],
                        [
                          0.4444444444444444,
                          "#bd3786"
                        ],
                        [
                          0.5555555555555556,
                          "#d8576b"
                        ],
                        [
                          0.6666666666666666,
                          "#ed7953"
                        ],
                        [
                          0.7777777777777778,
                          "#fb9f3a"
                        ],
                        [
                          0.8888888888888888,
                          "#fdca26"
                        ],
                        [
                          1,
                          "#f0f921"
                        ]
                      ]
                    },
                    "colorway": [
                      "#636efa",
                      "#EF553B",
                      "#00cc96",
                      "#ab63fa",
                      "#FFA15A",
                      "#19d3f3",
                      "#FF6692",
                      "#B6E880",
                      "#FF97FF",
                      "#FECB52"
                    ],
                    "font": {
                      "color": "#2a3f5f"
                    },
                    "geo": {
                      "bgcolor": "white",
                      "lakecolor": "white",
                      "landcolor": "#E5ECF6",
                      "showlakes": true,
                      "showland": true,
                      "subunitcolor": "white"
                    },
                    "hoverlabel": {
                      "align": "left"
                    },
                    "hovermode": "closest",
                    "mapbox": {
                      "style": "light"
                    },
                    "paper_bgcolor": "white",
                    "plot_bgcolor": "#E5ECF6",
                    "polar": {
                      "angularaxis": {
                        "gridcolor": "white",
                        "linecolor": "white",
                        "ticks": ""
                      },
                      "bgcolor": "#E5ECF6",
                      "radialaxis": {
                        "gridcolor": "white",
                        "linecolor": "white",
                        "ticks": ""
                      }
                    },
                    "scene": {
                      "xaxis": {
                        "backgroundcolor": "#E5ECF6",
                        "gridcolor": "white",
                        "gridwidth": 2,
                        "linecolor": "white",
                        "showbackground": true,
                        "ticks": "",
                        "zerolinecolor": "white"
                      },
                      "yaxis": {
                        "backgroundcolor": "#E5ECF6",
                        "gridcolor": "white",
                        "gridwidth": 2,
                        "linecolor": "white",
                        "showbackground": true,
                        "ticks": "",
                        "zerolinecolor": "white"
                      },
                      "zaxis": {
                        "backgroundcolor": "#E5ECF6",
                        "gridcolor": "white",
                        "gridwidth": 2,
                        "linecolor": "white",
                        "showbackground": true,
                        "ticks": "",
                        "zerolinecolor": "white"
                      }
                    },
                    "shapedefaults": {
                      "line": {
                        "color": "#2a3f5f"
                      }
                    },
                    "ternary": {
                      "aaxis": {
                        "gridcolor": "white",
                        "linecolor": "white",
                        "ticks": ""
                      },
                      "baxis": {
                        "gridcolor": "white",
                        "linecolor": "white",
                        "ticks": ""
                      },
                      "bgcolor": "#E5ECF6",
                      "caxis": {
                        "gridcolor": "white",
                        "linecolor": "white",
                        "ticks": ""
                      }
                    },
                    "title": {
                      "x": 0.05
                    },
                    "xaxis": {
                      "automargin": true,
                      "gridcolor": "white",
                      "linecolor": "white",
                      "ticks": "",
                      "title": {
                        "standoff": 15
                      },
                      "zerolinecolor": "white",
                      "zerolinewidth": 2
                    },
                    "yaxis": {
                      "automargin": true,
                      "gridcolor": "white",
                      "linecolor": "white",
                      "ticks": "",
                      "title": {
                        "standoff": 15
                      },
                      "zerolinecolor": "white",
                      "zerolinewidth": 2
                    }
                  }
                },
                "title": {
                  "text": "Parallel Coordinate Plot"
                }
              }
            }
          },
          "metadata": {},
          "output_type": "display_data"
        }
      ],
      "source": [
        "\n",
        "# it's show that, the region we select\n",
        "# maybe the best value or not, density is almost same in everywhere.\n",
        "# if any region density is high, then, we should do more study\n",
        "# in that range\n",
        "\n",
        "plot_parallel_coordinate(study).show()\n",
        "\n"
      ]
    },
    {
      "cell_type": "code",
      "execution_count": 20,
      "metadata": {
        "colab": {
          "base_uri": "https://localhost:8080/",
          "height": 542
        },
        "id": "7pKO_WnsRXwb",
        "outputId": "535d1dc5-db95-42a3-972d-12086582cfee"
      },
      "outputs": [
        {
          "data": {
            "application/vnd.plotly.v1+json": {
              "config": {
                "plotlyServerURL": "https://plot.ly"
              },
              "data": [
                {
                  "marker": {
                    "color": [
                      0,
                      1,
                      2,
                      3,
                      4,
                      5,
                      6,
                      7,
                      8,
                      9,
                      10,
                      11,
                      12,
                      13,
                      14,
                      15
                    ],
                    "colorbar": {
                      "title": {
                        "text": "Trial"
                      },
                      "x": 1,
                      "xpad": 40
                    },
                    "colorscale": [
                      [
                        0,
                        "rgb(247,251,255)"
                      ],
                      [
                        0.125,
                        "rgb(222,235,247)"
                      ],
                      [
                        0.25,
                        "rgb(198,219,239)"
                      ],
                      [
                        0.375,
                        "rgb(158,202,225)"
                      ],
                      [
                        0.5,
                        "rgb(107,174,214)"
                      ],
                      [
                        0.625,
                        "rgb(66,146,198)"
                      ],
                      [
                        0.75,
                        "rgb(33,113,181)"
                      ],
                      [
                        0.875,
                        "rgb(8,81,156)"
                      ],
                      [
                        1,
                        "rgb(8,48,107)"
                      ]
                    ],
                    "line": {
                      "color": "Grey",
                      "width": 0.5
                    },
                    "showscale": true
                  },
                  "mode": "markers",
                  "name": "Feasible Trial",
                  "showlegend": false,
                  "type": "scatter",
                  "x": [
                    5,
                    10,
                    15,
                    15,
                    20,
                    10,
                    5,
                    20,
                    15,
                    10,
                    20,
                    15,
                    5,
                    5,
                    10,
                    20
                  ],
                  "xaxis": "x",
                  "y": [
                    0.7690875232774674,
                    0.7672253258845437,
                    0.7728119180633147,
                    0.7653631284916201,
                    0.7690875232774674,
                    0.7579143389199254,
                    0.7653631284916201,
                    0.7728119180633147,
                    0.7728119180633147,
                    0.7709497206703911,
                    0.7728119180633147,
                    0.7728119180633147,
                    0.7690875232774674,
                    0.7746741154562384,
                    0.7616387337057727,
                    0.7709497206703911
                  ],
                  "yaxis": "y"
                },
                {
                  "marker": {
                    "color": [
                      0,
                      1,
                      2,
                      3,
                      4,
                      5,
                      6,
                      7,
                      8,
                      9,
                      10,
                      11,
                      12,
                      13,
                      14,
                      15
                    ],
                    "colorbar": {
                      "title": {
                        "text": "Trial"
                      },
                      "x": 1,
                      "xpad": 40
                    },
                    "colorscale": [
                      [
                        0,
                        "rgb(247,251,255)"
                      ],
                      [
                        0.125,
                        "rgb(222,235,247)"
                      ],
                      [
                        0.25,
                        "rgb(198,219,239)"
                      ],
                      [
                        0.375,
                        "rgb(158,202,225)"
                      ],
                      [
                        0.5,
                        "rgb(107,174,214)"
                      ],
                      [
                        0.625,
                        "rgb(66,146,198)"
                      ],
                      [
                        0.75,
                        "rgb(33,113,181)"
                      ],
                      [
                        0.875,
                        "rgb(8,81,156)"
                      ],
                      [
                        1,
                        "rgb(8,48,107)"
                      ]
                    ],
                    "line": {
                      "color": "Grey",
                      "width": 0.5
                    },
                    "showscale": false
                  },
                  "mode": "markers",
                  "name": "Feasible Trial",
                  "showlegend": false,
                  "type": "scatter",
                  "x": [
                    100,
                    150,
                    50,
                    100,
                    100,
                    50,
                    150,
                    150,
                    150,
                    200,
                    200,
                    200,
                    200,
                    50,
                    100,
                    50
                  ],
                  "xaxis": "x2",
                  "y": [
                    0.7690875232774674,
                    0.7672253258845437,
                    0.7728119180633147,
                    0.7653631284916201,
                    0.7690875232774674,
                    0.7579143389199254,
                    0.7653631284916201,
                    0.7728119180633147,
                    0.7728119180633147,
                    0.7709497206703911,
                    0.7728119180633147,
                    0.7728119180633147,
                    0.7690875232774674,
                    0.7746741154562384,
                    0.7616387337057727,
                    0.7709497206703911
                  ],
                  "yaxis": "y2"
                }
              ],
              "layout": {
                "template": {
                  "data": {
                    "bar": [
                      {
                        "error_x": {
                          "color": "#2a3f5f"
                        },
                        "error_y": {
                          "color": "#2a3f5f"
                        },
                        "marker": {
                          "line": {
                            "color": "#E5ECF6",
                            "width": 0.5
                          },
                          "pattern": {
                            "fillmode": "overlay",
                            "size": 10,
                            "solidity": 0.2
                          }
                        },
                        "type": "bar"
                      }
                    ],
                    "barpolar": [
                      {
                        "marker": {
                          "line": {
                            "color": "#E5ECF6",
                            "width": 0.5
                          },
                          "pattern": {
                            "fillmode": "overlay",
                            "size": 10,
                            "solidity": 0.2
                          }
                        },
                        "type": "barpolar"
                      }
                    ],
                    "carpet": [
                      {
                        "aaxis": {
                          "endlinecolor": "#2a3f5f",
                          "gridcolor": "white",
                          "linecolor": "white",
                          "minorgridcolor": "white",
                          "startlinecolor": "#2a3f5f"
                        },
                        "baxis": {
                          "endlinecolor": "#2a3f5f",
                          "gridcolor": "white",
                          "linecolor": "white",
                          "minorgridcolor": "white",
                          "startlinecolor": "#2a3f5f"
                        },
                        "type": "carpet"
                      }
                    ],
                    "choropleth": [
                      {
                        "colorbar": {
                          "outlinewidth": 0,
                          "ticks": ""
                        },
                        "type": "choropleth"
                      }
                    ],
                    "contour": [
                      {
                        "colorbar": {
                          "outlinewidth": 0,
                          "ticks": ""
                        },
                        "colorscale": [
                          [
                            0,
                            "#0d0887"
                          ],
                          [
                            0.1111111111111111,
                            "#46039f"
                          ],
                          [
                            0.2222222222222222,
                            "#7201a8"
                          ],
                          [
                            0.3333333333333333,
                            "#9c179e"
                          ],
                          [
                            0.4444444444444444,
                            "#bd3786"
                          ],
                          [
                            0.5555555555555556,
                            "#d8576b"
                          ],
                          [
                            0.6666666666666666,
                            "#ed7953"
                          ],
                          [
                            0.7777777777777778,
                            "#fb9f3a"
                          ],
                          [
                            0.8888888888888888,
                            "#fdca26"
                          ],
                          [
                            1,
                            "#f0f921"
                          ]
                        ],
                        "type": "contour"
                      }
                    ],
                    "contourcarpet": [
                      {
                        "colorbar": {
                          "outlinewidth": 0,
                          "ticks": ""
                        },
                        "type": "contourcarpet"
                      }
                    ],
                    "heatmap": [
                      {
                        "colorbar": {
                          "outlinewidth": 0,
                          "ticks": ""
                        },
                        "colorscale": [
                          [
                            0,
                            "#0d0887"
                          ],
                          [
                            0.1111111111111111,
                            "#46039f"
                          ],
                          [
                            0.2222222222222222,
                            "#7201a8"
                          ],
                          [
                            0.3333333333333333,
                            "#9c179e"
                          ],
                          [
                            0.4444444444444444,
                            "#bd3786"
                          ],
                          [
                            0.5555555555555556,
                            "#d8576b"
                          ],
                          [
                            0.6666666666666666,
                            "#ed7953"
                          ],
                          [
                            0.7777777777777778,
                            "#fb9f3a"
                          ],
                          [
                            0.8888888888888888,
                            "#fdca26"
                          ],
                          [
                            1,
                            "#f0f921"
                          ]
                        ],
                        "type": "heatmap"
                      }
                    ],
                    "histogram": [
                      {
                        "marker": {
                          "pattern": {
                            "fillmode": "overlay",
                            "size": 10,
                            "solidity": 0.2
                          }
                        },
                        "type": "histogram"
                      }
                    ],
                    "histogram2d": [
                      {
                        "colorbar": {
                          "outlinewidth": 0,
                          "ticks": ""
                        },
                        "colorscale": [
                          [
                            0,
                            "#0d0887"
                          ],
                          [
                            0.1111111111111111,
                            "#46039f"
                          ],
                          [
                            0.2222222222222222,
                            "#7201a8"
                          ],
                          [
                            0.3333333333333333,
                            "#9c179e"
                          ],
                          [
                            0.4444444444444444,
                            "#bd3786"
                          ],
                          [
                            0.5555555555555556,
                            "#d8576b"
                          ],
                          [
                            0.6666666666666666,
                            "#ed7953"
                          ],
                          [
                            0.7777777777777778,
                            "#fb9f3a"
                          ],
                          [
                            0.8888888888888888,
                            "#fdca26"
                          ],
                          [
                            1,
                            "#f0f921"
                          ]
                        ],
                        "type": "histogram2d"
                      }
                    ],
                    "histogram2dcontour": [
                      {
                        "colorbar": {
                          "outlinewidth": 0,
                          "ticks": ""
                        },
                        "colorscale": [
                          [
                            0,
                            "#0d0887"
                          ],
                          [
                            0.1111111111111111,
                            "#46039f"
                          ],
                          [
                            0.2222222222222222,
                            "#7201a8"
                          ],
                          [
                            0.3333333333333333,
                            "#9c179e"
                          ],
                          [
                            0.4444444444444444,
                            "#bd3786"
                          ],
                          [
                            0.5555555555555556,
                            "#d8576b"
                          ],
                          [
                            0.6666666666666666,
                            "#ed7953"
                          ],
                          [
                            0.7777777777777778,
                            "#fb9f3a"
                          ],
                          [
                            0.8888888888888888,
                            "#fdca26"
                          ],
                          [
                            1,
                            "#f0f921"
                          ]
                        ],
                        "type": "histogram2dcontour"
                      }
                    ],
                    "mesh3d": [
                      {
                        "colorbar": {
                          "outlinewidth": 0,
                          "ticks": ""
                        },
                        "type": "mesh3d"
                      }
                    ],
                    "parcoords": [
                      {
                        "line": {
                          "colorbar": {
                            "outlinewidth": 0,
                            "ticks": ""
                          }
                        },
                        "type": "parcoords"
                      }
                    ],
                    "pie": [
                      {
                        "automargin": true,
                        "type": "pie"
                      }
                    ],
                    "scatter": [
                      {
                        "fillpattern": {
                          "fillmode": "overlay",
                          "size": 10,
                          "solidity": 0.2
                        },
                        "type": "scatter"
                      }
                    ],
                    "scatter3d": [
                      {
                        "line": {
                          "colorbar": {
                            "outlinewidth": 0,
                            "ticks": ""
                          }
                        },
                        "marker": {
                          "colorbar": {
                            "outlinewidth": 0,
                            "ticks": ""
                          }
                        },
                        "type": "scatter3d"
                      }
                    ],
                    "scattercarpet": [
                      {
                        "marker": {
                          "colorbar": {
                            "outlinewidth": 0,
                            "ticks": ""
                          }
                        },
                        "type": "scattercarpet"
                      }
                    ],
                    "scattergeo": [
                      {
                        "marker": {
                          "colorbar": {
                            "outlinewidth": 0,
                            "ticks": ""
                          }
                        },
                        "type": "scattergeo"
                      }
                    ],
                    "scattergl": [
                      {
                        "marker": {
                          "colorbar": {
                            "outlinewidth": 0,
                            "ticks": ""
                          }
                        },
                        "type": "scattergl"
                      }
                    ],
                    "scattermap": [
                      {
                        "marker": {
                          "colorbar": {
                            "outlinewidth": 0,
                            "ticks": ""
                          }
                        },
                        "type": "scattermap"
                      }
                    ],
                    "scattermapbox": [
                      {
                        "marker": {
                          "colorbar": {
                            "outlinewidth": 0,
                            "ticks": ""
                          }
                        },
                        "type": "scattermapbox"
                      }
                    ],
                    "scatterpolar": [
                      {
                        "marker": {
                          "colorbar": {
                            "outlinewidth": 0,
                            "ticks": ""
                          }
                        },
                        "type": "scatterpolar"
                      }
                    ],
                    "scatterpolargl": [
                      {
                        "marker": {
                          "colorbar": {
                            "outlinewidth": 0,
                            "ticks": ""
                          }
                        },
                        "type": "scatterpolargl"
                      }
                    ],
                    "scatterternary": [
                      {
                        "marker": {
                          "colorbar": {
                            "outlinewidth": 0,
                            "ticks": ""
                          }
                        },
                        "type": "scatterternary"
                      }
                    ],
                    "surface": [
                      {
                        "colorbar": {
                          "outlinewidth": 0,
                          "ticks": ""
                        },
                        "colorscale": [
                          [
                            0,
                            "#0d0887"
                          ],
                          [
                            0.1111111111111111,
                            "#46039f"
                          ],
                          [
                            0.2222222222222222,
                            "#7201a8"
                          ],
                          [
                            0.3333333333333333,
                            "#9c179e"
                          ],
                          [
                            0.4444444444444444,
                            "#bd3786"
                          ],
                          [
                            0.5555555555555556,
                            "#d8576b"
                          ],
                          [
                            0.6666666666666666,
                            "#ed7953"
                          ],
                          [
                            0.7777777777777778,
                            "#fb9f3a"
                          ],
                          [
                            0.8888888888888888,
                            "#fdca26"
                          ],
                          [
                            1,
                            "#f0f921"
                          ]
                        ],
                        "type": "surface"
                      }
                    ],
                    "table": [
                      {
                        "cells": {
                          "fill": {
                            "color": "#EBF0F8"
                          },
                          "line": {
                            "color": "white"
                          }
                        },
                        "header": {
                          "fill": {
                            "color": "#C8D4E3"
                          },
                          "line": {
                            "color": "white"
                          }
                        },
                        "type": "table"
                      }
                    ]
                  },
                  "layout": {
                    "annotationdefaults": {
                      "arrowcolor": "#2a3f5f",
                      "arrowhead": 0,
                      "arrowwidth": 1
                    },
                    "autotypenumbers": "strict",
                    "coloraxis": {
                      "colorbar": {
                        "outlinewidth": 0,
                        "ticks": ""
                      }
                    },
                    "colorscale": {
                      "diverging": [
                        [
                          0,
                          "#8e0152"
                        ],
                        [
                          0.1,
                          "#c51b7d"
                        ],
                        [
                          0.2,
                          "#de77ae"
                        ],
                        [
                          0.3,
                          "#f1b6da"
                        ],
                        [
                          0.4,
                          "#fde0ef"
                        ],
                        [
                          0.5,
                          "#f7f7f7"
                        ],
                        [
                          0.6,
                          "#e6f5d0"
                        ],
                        [
                          0.7,
                          "#b8e186"
                        ],
                        [
                          0.8,
                          "#7fbc41"
                        ],
                        [
                          0.9,
                          "#4d9221"
                        ],
                        [
                          1,
                          "#276419"
                        ]
                      ],
                      "sequential": [
                        [
                          0,
                          "#0d0887"
                        ],
                        [
                          0.1111111111111111,
                          "#46039f"
                        ],
                        [
                          0.2222222222222222,
                          "#7201a8"
                        ],
                        [
                          0.3333333333333333,
                          "#9c179e"
                        ],
                        [
                          0.4444444444444444,
                          "#bd3786"
                        ],
                        [
                          0.5555555555555556,
                          "#d8576b"
                        ],
                        [
                          0.6666666666666666,
                          "#ed7953"
                        ],
                        [
                          0.7777777777777778,
                          "#fb9f3a"
                        ],
                        [
                          0.8888888888888888,
                          "#fdca26"
                        ],
                        [
                          1,
                          "#f0f921"
                        ]
                      ],
                      "sequentialminus": [
                        [
                          0,
                          "#0d0887"
                        ],
                        [
                          0.1111111111111111,
                          "#46039f"
                        ],
                        [
                          0.2222222222222222,
                          "#7201a8"
                        ],
                        [
                          0.3333333333333333,
                          "#9c179e"
                        ],
                        [
                          0.4444444444444444,
                          "#bd3786"
                        ],
                        [
                          0.5555555555555556,
                          "#d8576b"
                        ],
                        [
                          0.6666666666666666,
                          "#ed7953"
                        ],
                        [
                          0.7777777777777778,
                          "#fb9f3a"
                        ],
                        [
                          0.8888888888888888,
                          "#fdca26"
                        ],
                        [
                          1,
                          "#f0f921"
                        ]
                      ]
                    },
                    "colorway": [
                      "#636efa",
                      "#EF553B",
                      "#00cc96",
                      "#ab63fa",
                      "#FFA15A",
                      "#19d3f3",
                      "#FF6692",
                      "#B6E880",
                      "#FF97FF",
                      "#FECB52"
                    ],
                    "font": {
                      "color": "#2a3f5f"
                    },
                    "geo": {
                      "bgcolor": "white",
                      "lakecolor": "white",
                      "landcolor": "#E5ECF6",
                      "showlakes": true,
                      "showland": true,
                      "subunitcolor": "white"
                    },
                    "hoverlabel": {
                      "align": "left"
                    },
                    "hovermode": "closest",
                    "mapbox": {
                      "style": "light"
                    },
                    "paper_bgcolor": "white",
                    "plot_bgcolor": "#E5ECF6",
                    "polar": {
                      "angularaxis": {
                        "gridcolor": "white",
                        "linecolor": "white",
                        "ticks": ""
                      },
                      "bgcolor": "#E5ECF6",
                      "radialaxis": {
                        "gridcolor": "white",
                        "linecolor": "white",
                        "ticks": ""
                      }
                    },
                    "scene": {
                      "xaxis": {
                        "backgroundcolor": "#E5ECF6",
                        "gridcolor": "white",
                        "gridwidth": 2,
                        "linecolor": "white",
                        "showbackground": true,
                        "ticks": "",
                        "zerolinecolor": "white"
                      },
                      "yaxis": {
                        "backgroundcolor": "#E5ECF6",
                        "gridcolor": "white",
                        "gridwidth": 2,
                        "linecolor": "white",
                        "showbackground": true,
                        "ticks": "",
                        "zerolinecolor": "white"
                      },
                      "zaxis": {
                        "backgroundcolor": "#E5ECF6",
                        "gridcolor": "white",
                        "gridwidth": 2,
                        "linecolor": "white",
                        "showbackground": true,
                        "ticks": "",
                        "zerolinecolor": "white"
                      }
                    },
                    "shapedefaults": {
                      "line": {
                        "color": "#2a3f5f"
                      }
                    },
                    "ternary": {
                      "aaxis": {
                        "gridcolor": "white",
                        "linecolor": "white",
                        "ticks": ""
                      },
                      "baxis": {
                        "gridcolor": "white",
                        "linecolor": "white",
                        "ticks": ""
                      },
                      "bgcolor": "#E5ECF6",
                      "caxis": {
                        "gridcolor": "white",
                        "linecolor": "white",
                        "ticks": ""
                      }
                    },
                    "title": {
                      "x": 0.05
                    },
                    "xaxis": {
                      "automargin": true,
                      "gridcolor": "white",
                      "linecolor": "white",
                      "ticks": "",
                      "title": {
                        "standoff": 15
                      },
                      "zerolinecolor": "white",
                      "zerolinewidth": 2
                    },
                    "yaxis": {
                      "automargin": true,
                      "gridcolor": "white",
                      "linecolor": "white",
                      "ticks": "",
                      "title": {
                        "standoff": 15
                      },
                      "zerolinecolor": "white",
                      "zerolinewidth": 2
                    }
                  }
                },
                "title": {
                  "text": "Slice Plot"
                },
                "xaxis": {
                  "anchor": "y",
                  "domain": [
                    0,
                    0.45
                  ],
                  "title": {
                    "text": "max_depth"
                  }
                },
                "xaxis2": {
                  "anchor": "y2",
                  "domain": [
                    0.55,
                    1
                  ],
                  "title": {
                    "text": "n_estimators"
                  }
                },
                "yaxis": {
                  "anchor": "x",
                  "domain": [
                    0,
                    1
                  ],
                  "title": {
                    "text": "Objective Value"
                  }
                },
                "yaxis2": {
                  "anchor": "x2",
                  "domain": [
                    0,
                    1
                  ],
                  "matches": "y",
                  "showticklabels": false
                }
              }
            }
          },
          "metadata": {},
          "output_type": "display_data"
        }
      ],
      "source": [
        "\n",
        "\n",
        "plot_slice(study).show()\n"
      ]
    },
    {
      "cell_type": "code",
      "execution_count": 21,
      "metadata": {
        "colab": {
          "base_uri": "https://localhost:8080/",
          "height": 542
        },
        "id": "gKRvE658Rk4g",
        "outputId": "1a5bbf93-d939-4001-960f-ff3fa1134163"
      },
      "outputs": [
        {
          "data": {
            "application/vnd.plotly.v1+json": {
              "config": {
                "plotlyServerURL": "https://plot.ly"
              },
              "data": [
                {
                  "colorbar": {
                    "title": {
                      "text": "Objective Value"
                    }
                  },
                  "colorscale": [
                    [
                      0,
                      "rgb(247,251,255)"
                    ],
                    [
                      0.125,
                      "rgb(222,235,247)"
                    ],
                    [
                      0.25,
                      "rgb(198,219,239)"
                    ],
                    [
                      0.375,
                      "rgb(158,202,225)"
                    ],
                    [
                      0.5,
                      "rgb(107,174,214)"
                    ],
                    [
                      0.625,
                      "rgb(66,146,198)"
                    ],
                    [
                      0.75,
                      "rgb(33,113,181)"
                    ],
                    [
                      0.875,
                      "rgb(8,81,156)"
                    ],
                    [
                      1,
                      "rgb(8,48,107)"
                    ]
                  ],
                  "connectgaps": true,
                  "contours": {
                    "coloring": "heatmap"
                  },
                  "hoverinfo": "none",
                  "line": {
                    "smoothing": 1.3
                  },
                  "reversescale": false,
                  "type": "contour",
                  "x": [
                    4.25,
                    5,
                    10,
                    15,
                    20,
                    20.75
                  ],
                  "y": [
                    42.5,
                    50,
                    100,
                    150,
                    200,
                    207.5
                  ],
                  "z": {
                    "bdata": "AAAAAAAA+H8AAAAAAAD4fwAAAAAAAPh/AAAAAAAA+H8AAAAAAAD4fwAAAAAAAPh/AAAAAAAA+H8YJ95eIcroP8iTWpLVQOg/nU9BD+C66D8jeKS/nqvoPwAAAAAAAPh/AAAAAAAA+H+ooAdwXZzoP71ClDFYX+g/s/HN0Np96D+ooAdwXZzoPwAAAAAAAPh/AAAAAAAA+H+z8c3Q2n3oPy3JaiAcjeg/nU9BD+C66D+dT0EP4LroPwAAAAAAAPh/AAAAAAAA+H+ooAdwXZzoPyN4pL+eq+g/nU9BD+C66D+dT0EP4LroPwAAAAAAAPh/AAAAAAAA+H8AAAAAAAD4fwAAAAAAAPh/AAAAAAAA+H8AAAAAAAD4fwAAAAAAAPh/",
                    "dtype": "f8",
                    "shape": "6, 6"
                  }
                },
                {
                  "marker": {
                    "color": "black",
                    "line": {
                      "color": "Gray",
                      "width": 2
                    }
                  },
                  "mode": "markers",
                  "name": "Feasible Trial",
                  "showlegend": false,
                  "type": "scatter",
                  "x": [
                    5,
                    10,
                    15,
                    15,
                    20,
                    10,
                    5,
                    20,
                    15,
                    10,
                    20,
                    15,
                    5,
                    5,
                    10,
                    20
                  ],
                  "y": [
                    100,
                    150,
                    50,
                    100,
                    100,
                    50,
                    150,
                    150,
                    150,
                    200,
                    200,
                    200,
                    200,
                    50,
                    100,
                    50
                  ]
                },
                {
                  "marker": {
                    "color": "#cccccc",
                    "line": {
                      "color": "Gray",
                      "width": 2
                    }
                  },
                  "mode": "markers",
                  "name": "Infeasible Trial",
                  "showlegend": false,
                  "type": "scatter",
                  "x": [],
                  "y": []
                }
              ],
              "layout": {
                "template": {
                  "data": {
                    "bar": [
                      {
                        "error_x": {
                          "color": "#2a3f5f"
                        },
                        "error_y": {
                          "color": "#2a3f5f"
                        },
                        "marker": {
                          "line": {
                            "color": "#E5ECF6",
                            "width": 0.5
                          },
                          "pattern": {
                            "fillmode": "overlay",
                            "size": 10,
                            "solidity": 0.2
                          }
                        },
                        "type": "bar"
                      }
                    ],
                    "barpolar": [
                      {
                        "marker": {
                          "line": {
                            "color": "#E5ECF6",
                            "width": 0.5
                          },
                          "pattern": {
                            "fillmode": "overlay",
                            "size": 10,
                            "solidity": 0.2
                          }
                        },
                        "type": "barpolar"
                      }
                    ],
                    "carpet": [
                      {
                        "aaxis": {
                          "endlinecolor": "#2a3f5f",
                          "gridcolor": "white",
                          "linecolor": "white",
                          "minorgridcolor": "white",
                          "startlinecolor": "#2a3f5f"
                        },
                        "baxis": {
                          "endlinecolor": "#2a3f5f",
                          "gridcolor": "white",
                          "linecolor": "white",
                          "minorgridcolor": "white",
                          "startlinecolor": "#2a3f5f"
                        },
                        "type": "carpet"
                      }
                    ],
                    "choropleth": [
                      {
                        "colorbar": {
                          "outlinewidth": 0,
                          "ticks": ""
                        },
                        "type": "choropleth"
                      }
                    ],
                    "contour": [
                      {
                        "colorbar": {
                          "outlinewidth": 0,
                          "ticks": ""
                        },
                        "colorscale": [
                          [
                            0,
                            "#0d0887"
                          ],
                          [
                            0.1111111111111111,
                            "#46039f"
                          ],
                          [
                            0.2222222222222222,
                            "#7201a8"
                          ],
                          [
                            0.3333333333333333,
                            "#9c179e"
                          ],
                          [
                            0.4444444444444444,
                            "#bd3786"
                          ],
                          [
                            0.5555555555555556,
                            "#d8576b"
                          ],
                          [
                            0.6666666666666666,
                            "#ed7953"
                          ],
                          [
                            0.7777777777777778,
                            "#fb9f3a"
                          ],
                          [
                            0.8888888888888888,
                            "#fdca26"
                          ],
                          [
                            1,
                            "#f0f921"
                          ]
                        ],
                        "type": "contour"
                      }
                    ],
                    "contourcarpet": [
                      {
                        "colorbar": {
                          "outlinewidth": 0,
                          "ticks": ""
                        },
                        "type": "contourcarpet"
                      }
                    ],
                    "heatmap": [
                      {
                        "colorbar": {
                          "outlinewidth": 0,
                          "ticks": ""
                        },
                        "colorscale": [
                          [
                            0,
                            "#0d0887"
                          ],
                          [
                            0.1111111111111111,
                            "#46039f"
                          ],
                          [
                            0.2222222222222222,
                            "#7201a8"
                          ],
                          [
                            0.3333333333333333,
                            "#9c179e"
                          ],
                          [
                            0.4444444444444444,
                            "#bd3786"
                          ],
                          [
                            0.5555555555555556,
                            "#d8576b"
                          ],
                          [
                            0.6666666666666666,
                            "#ed7953"
                          ],
                          [
                            0.7777777777777778,
                            "#fb9f3a"
                          ],
                          [
                            0.8888888888888888,
                            "#fdca26"
                          ],
                          [
                            1,
                            "#f0f921"
                          ]
                        ],
                        "type": "heatmap"
                      }
                    ],
                    "histogram": [
                      {
                        "marker": {
                          "pattern": {
                            "fillmode": "overlay",
                            "size": 10,
                            "solidity": 0.2
                          }
                        },
                        "type": "histogram"
                      }
                    ],
                    "histogram2d": [
                      {
                        "colorbar": {
                          "outlinewidth": 0,
                          "ticks": ""
                        },
                        "colorscale": [
                          [
                            0,
                            "#0d0887"
                          ],
                          [
                            0.1111111111111111,
                            "#46039f"
                          ],
                          [
                            0.2222222222222222,
                            "#7201a8"
                          ],
                          [
                            0.3333333333333333,
                            "#9c179e"
                          ],
                          [
                            0.4444444444444444,
                            "#bd3786"
                          ],
                          [
                            0.5555555555555556,
                            "#d8576b"
                          ],
                          [
                            0.6666666666666666,
                            "#ed7953"
                          ],
                          [
                            0.7777777777777778,
                            "#fb9f3a"
                          ],
                          [
                            0.8888888888888888,
                            "#fdca26"
                          ],
                          [
                            1,
                            "#f0f921"
                          ]
                        ],
                        "type": "histogram2d"
                      }
                    ],
                    "histogram2dcontour": [
                      {
                        "colorbar": {
                          "outlinewidth": 0,
                          "ticks": ""
                        },
                        "colorscale": [
                          [
                            0,
                            "#0d0887"
                          ],
                          [
                            0.1111111111111111,
                            "#46039f"
                          ],
                          [
                            0.2222222222222222,
                            "#7201a8"
                          ],
                          [
                            0.3333333333333333,
                            "#9c179e"
                          ],
                          [
                            0.4444444444444444,
                            "#bd3786"
                          ],
                          [
                            0.5555555555555556,
                            "#d8576b"
                          ],
                          [
                            0.6666666666666666,
                            "#ed7953"
                          ],
                          [
                            0.7777777777777778,
                            "#fb9f3a"
                          ],
                          [
                            0.8888888888888888,
                            "#fdca26"
                          ],
                          [
                            1,
                            "#f0f921"
                          ]
                        ],
                        "type": "histogram2dcontour"
                      }
                    ],
                    "mesh3d": [
                      {
                        "colorbar": {
                          "outlinewidth": 0,
                          "ticks": ""
                        },
                        "type": "mesh3d"
                      }
                    ],
                    "parcoords": [
                      {
                        "line": {
                          "colorbar": {
                            "outlinewidth": 0,
                            "ticks": ""
                          }
                        },
                        "type": "parcoords"
                      }
                    ],
                    "pie": [
                      {
                        "automargin": true,
                        "type": "pie"
                      }
                    ],
                    "scatter": [
                      {
                        "fillpattern": {
                          "fillmode": "overlay",
                          "size": 10,
                          "solidity": 0.2
                        },
                        "type": "scatter"
                      }
                    ],
                    "scatter3d": [
                      {
                        "line": {
                          "colorbar": {
                            "outlinewidth": 0,
                            "ticks": ""
                          }
                        },
                        "marker": {
                          "colorbar": {
                            "outlinewidth": 0,
                            "ticks": ""
                          }
                        },
                        "type": "scatter3d"
                      }
                    ],
                    "scattercarpet": [
                      {
                        "marker": {
                          "colorbar": {
                            "outlinewidth": 0,
                            "ticks": ""
                          }
                        },
                        "type": "scattercarpet"
                      }
                    ],
                    "scattergeo": [
                      {
                        "marker": {
                          "colorbar": {
                            "outlinewidth": 0,
                            "ticks": ""
                          }
                        },
                        "type": "scattergeo"
                      }
                    ],
                    "scattergl": [
                      {
                        "marker": {
                          "colorbar": {
                            "outlinewidth": 0,
                            "ticks": ""
                          }
                        },
                        "type": "scattergl"
                      }
                    ],
                    "scattermap": [
                      {
                        "marker": {
                          "colorbar": {
                            "outlinewidth": 0,
                            "ticks": ""
                          }
                        },
                        "type": "scattermap"
                      }
                    ],
                    "scattermapbox": [
                      {
                        "marker": {
                          "colorbar": {
                            "outlinewidth": 0,
                            "ticks": ""
                          }
                        },
                        "type": "scattermapbox"
                      }
                    ],
                    "scatterpolar": [
                      {
                        "marker": {
                          "colorbar": {
                            "outlinewidth": 0,
                            "ticks": ""
                          }
                        },
                        "type": "scatterpolar"
                      }
                    ],
                    "scatterpolargl": [
                      {
                        "marker": {
                          "colorbar": {
                            "outlinewidth": 0,
                            "ticks": ""
                          }
                        },
                        "type": "scatterpolargl"
                      }
                    ],
                    "scatterternary": [
                      {
                        "marker": {
                          "colorbar": {
                            "outlinewidth": 0,
                            "ticks": ""
                          }
                        },
                        "type": "scatterternary"
                      }
                    ],
                    "surface": [
                      {
                        "colorbar": {
                          "outlinewidth": 0,
                          "ticks": ""
                        },
                        "colorscale": [
                          [
                            0,
                            "#0d0887"
                          ],
                          [
                            0.1111111111111111,
                            "#46039f"
                          ],
                          [
                            0.2222222222222222,
                            "#7201a8"
                          ],
                          [
                            0.3333333333333333,
                            "#9c179e"
                          ],
                          [
                            0.4444444444444444,
                            "#bd3786"
                          ],
                          [
                            0.5555555555555556,
                            "#d8576b"
                          ],
                          [
                            0.6666666666666666,
                            "#ed7953"
                          ],
                          [
                            0.7777777777777778,
                            "#fb9f3a"
                          ],
                          [
                            0.8888888888888888,
                            "#fdca26"
                          ],
                          [
                            1,
                            "#f0f921"
                          ]
                        ],
                        "type": "surface"
                      }
                    ],
                    "table": [
                      {
                        "cells": {
                          "fill": {
                            "color": "#EBF0F8"
                          },
                          "line": {
                            "color": "white"
                          }
                        },
                        "header": {
                          "fill": {
                            "color": "#C8D4E3"
                          },
                          "line": {
                            "color": "white"
                          }
                        },
                        "type": "table"
                      }
                    ]
                  },
                  "layout": {
                    "annotationdefaults": {
                      "arrowcolor": "#2a3f5f",
                      "arrowhead": 0,
                      "arrowwidth": 1
                    },
                    "autotypenumbers": "strict",
                    "coloraxis": {
                      "colorbar": {
                        "outlinewidth": 0,
                        "ticks": ""
                      }
                    },
                    "colorscale": {
                      "diverging": [
                        [
                          0,
                          "#8e0152"
                        ],
                        [
                          0.1,
                          "#c51b7d"
                        ],
                        [
                          0.2,
                          "#de77ae"
                        ],
                        [
                          0.3,
                          "#f1b6da"
                        ],
                        [
                          0.4,
                          "#fde0ef"
                        ],
                        [
                          0.5,
                          "#f7f7f7"
                        ],
                        [
                          0.6,
                          "#e6f5d0"
                        ],
                        [
                          0.7,
                          "#b8e186"
                        ],
                        [
                          0.8,
                          "#7fbc41"
                        ],
                        [
                          0.9,
                          "#4d9221"
                        ],
                        [
                          1,
                          "#276419"
                        ]
                      ],
                      "sequential": [
                        [
                          0,
                          "#0d0887"
                        ],
                        [
                          0.1111111111111111,
                          "#46039f"
                        ],
                        [
                          0.2222222222222222,
                          "#7201a8"
                        ],
                        [
                          0.3333333333333333,
                          "#9c179e"
                        ],
                        [
                          0.4444444444444444,
                          "#bd3786"
                        ],
                        [
                          0.5555555555555556,
                          "#d8576b"
                        ],
                        [
                          0.6666666666666666,
                          "#ed7953"
                        ],
                        [
                          0.7777777777777778,
                          "#fb9f3a"
                        ],
                        [
                          0.8888888888888888,
                          "#fdca26"
                        ],
                        [
                          1,
                          "#f0f921"
                        ]
                      ],
                      "sequentialminus": [
                        [
                          0,
                          "#0d0887"
                        ],
                        [
                          0.1111111111111111,
                          "#46039f"
                        ],
                        [
                          0.2222222222222222,
                          "#7201a8"
                        ],
                        [
                          0.3333333333333333,
                          "#9c179e"
                        ],
                        [
                          0.4444444444444444,
                          "#bd3786"
                        ],
                        [
                          0.5555555555555556,
                          "#d8576b"
                        ],
                        [
                          0.6666666666666666,
                          "#ed7953"
                        ],
                        [
                          0.7777777777777778,
                          "#fb9f3a"
                        ],
                        [
                          0.8888888888888888,
                          "#fdca26"
                        ],
                        [
                          1,
                          "#f0f921"
                        ]
                      ]
                    },
                    "colorway": [
                      "#636efa",
                      "#EF553B",
                      "#00cc96",
                      "#ab63fa",
                      "#FFA15A",
                      "#19d3f3",
                      "#FF6692",
                      "#B6E880",
                      "#FF97FF",
                      "#FECB52"
                    ],
                    "font": {
                      "color": "#2a3f5f"
                    },
                    "geo": {
                      "bgcolor": "white",
                      "lakecolor": "white",
                      "landcolor": "#E5ECF6",
                      "showlakes": true,
                      "showland": true,
                      "subunitcolor": "white"
                    },
                    "hoverlabel": {
                      "align": "left"
                    },
                    "hovermode": "closest",
                    "mapbox": {
                      "style": "light"
                    },
                    "paper_bgcolor": "white",
                    "plot_bgcolor": "#E5ECF6",
                    "polar": {
                      "angularaxis": {
                        "gridcolor": "white",
                        "linecolor": "white",
                        "ticks": ""
                      },
                      "bgcolor": "#E5ECF6",
                      "radialaxis": {
                        "gridcolor": "white",
                        "linecolor": "white",
                        "ticks": ""
                      }
                    },
                    "scene": {
                      "xaxis": {
                        "backgroundcolor": "#E5ECF6",
                        "gridcolor": "white",
                        "gridwidth": 2,
                        "linecolor": "white",
                        "showbackground": true,
                        "ticks": "",
                        "zerolinecolor": "white"
                      },
                      "yaxis": {
                        "backgroundcolor": "#E5ECF6",
                        "gridcolor": "white",
                        "gridwidth": 2,
                        "linecolor": "white",
                        "showbackground": true,
                        "ticks": "",
                        "zerolinecolor": "white"
                      },
                      "zaxis": {
                        "backgroundcolor": "#E5ECF6",
                        "gridcolor": "white",
                        "gridwidth": 2,
                        "linecolor": "white",
                        "showbackground": true,
                        "ticks": "",
                        "zerolinecolor": "white"
                      }
                    },
                    "shapedefaults": {
                      "line": {
                        "color": "#2a3f5f"
                      }
                    },
                    "ternary": {
                      "aaxis": {
                        "gridcolor": "white",
                        "linecolor": "white",
                        "ticks": ""
                      },
                      "baxis": {
                        "gridcolor": "white",
                        "linecolor": "white",
                        "ticks": ""
                      },
                      "bgcolor": "#E5ECF6",
                      "caxis": {
                        "gridcolor": "white",
                        "linecolor": "white",
                        "ticks": ""
                      }
                    },
                    "title": {
                      "x": 0.05
                    },
                    "xaxis": {
                      "automargin": true,
                      "gridcolor": "white",
                      "linecolor": "white",
                      "ticks": "",
                      "title": {
                        "standoff": 15
                      },
                      "zerolinecolor": "white",
                      "zerolinewidth": 2
                    },
                    "yaxis": {
                      "automargin": true,
                      "gridcolor": "white",
                      "linecolor": "white",
                      "ticks": "",
                      "title": {
                        "standoff": 15
                      },
                      "zerolinecolor": "white",
                      "zerolinewidth": 2
                    }
                  }
                },
                "title": {
                  "text": "Contour Plot"
                },
                "xaxis": {
                  "range": [
                    4.25,
                    20.75
                  ],
                  "title": {
                    "text": "max_depth"
                  }
                },
                "yaxis": {
                  "range": [
                    42.5,
                    207.5
                  ],
                  "title": {
                    "text": "n_estimators"
                  }
                }
              }
            }
          },
          "metadata": {},
          "output_type": "display_data"
        }
      ],
      "source": [
        "\n",
        "# where color density is high\n",
        "# there we will the right value\n",
        "plot_contour(study).show()\n",
        "\n"
      ]
    },
    {
      "cell_type": "code",
      "execution_count": 22,
      "metadata": {
        "colab": {
          "base_uri": "https://localhost:8080/",
          "height": 542
        },
        "id": "_RHbkaDZR4xO",
        "outputId": "1da2ff62-eb63-4050-8368-a9f1b254ae47"
      },
      "outputs": [
        {
          "data": {
            "application/vnd.plotly.v1+json": {
              "config": {
                "plotlyServerURL": "https://plot.ly"
              },
              "data": [
                {
                  "cliponaxis": false,
                  "hovertemplate": [
                    "n_estimators (IntDistribution): 0.4465943881949414<extra></extra>",
                    "max_depth (IntDistribution): 0.5534056118050587<extra></extra>"
                  ],
                  "name": "Objective Value",
                  "orientation": "h",
                  "text": [
                    "0.45",
                    "0.55"
                  ],
                  "textposition": "outside",
                  "type": "bar",
                  "x": [
                    0.4465943881949414,
                    0.5534056118050587
                  ],
                  "y": [
                    "n_estimators",
                    "max_depth"
                  ]
                }
              ],
              "layout": {
                "template": {
                  "data": {
                    "bar": [
                      {
                        "error_x": {
                          "color": "#2a3f5f"
                        },
                        "error_y": {
                          "color": "#2a3f5f"
                        },
                        "marker": {
                          "line": {
                            "color": "#E5ECF6",
                            "width": 0.5
                          },
                          "pattern": {
                            "fillmode": "overlay",
                            "size": 10,
                            "solidity": 0.2
                          }
                        },
                        "type": "bar"
                      }
                    ],
                    "barpolar": [
                      {
                        "marker": {
                          "line": {
                            "color": "#E5ECF6",
                            "width": 0.5
                          },
                          "pattern": {
                            "fillmode": "overlay",
                            "size": 10,
                            "solidity": 0.2
                          }
                        },
                        "type": "barpolar"
                      }
                    ],
                    "carpet": [
                      {
                        "aaxis": {
                          "endlinecolor": "#2a3f5f",
                          "gridcolor": "white",
                          "linecolor": "white",
                          "minorgridcolor": "white",
                          "startlinecolor": "#2a3f5f"
                        },
                        "baxis": {
                          "endlinecolor": "#2a3f5f",
                          "gridcolor": "white",
                          "linecolor": "white",
                          "minorgridcolor": "white",
                          "startlinecolor": "#2a3f5f"
                        },
                        "type": "carpet"
                      }
                    ],
                    "choropleth": [
                      {
                        "colorbar": {
                          "outlinewidth": 0,
                          "ticks": ""
                        },
                        "type": "choropleth"
                      }
                    ],
                    "contour": [
                      {
                        "colorbar": {
                          "outlinewidth": 0,
                          "ticks": ""
                        },
                        "colorscale": [
                          [
                            0,
                            "#0d0887"
                          ],
                          [
                            0.1111111111111111,
                            "#46039f"
                          ],
                          [
                            0.2222222222222222,
                            "#7201a8"
                          ],
                          [
                            0.3333333333333333,
                            "#9c179e"
                          ],
                          [
                            0.4444444444444444,
                            "#bd3786"
                          ],
                          [
                            0.5555555555555556,
                            "#d8576b"
                          ],
                          [
                            0.6666666666666666,
                            "#ed7953"
                          ],
                          [
                            0.7777777777777778,
                            "#fb9f3a"
                          ],
                          [
                            0.8888888888888888,
                            "#fdca26"
                          ],
                          [
                            1,
                            "#f0f921"
                          ]
                        ],
                        "type": "contour"
                      }
                    ],
                    "contourcarpet": [
                      {
                        "colorbar": {
                          "outlinewidth": 0,
                          "ticks": ""
                        },
                        "type": "contourcarpet"
                      }
                    ],
                    "heatmap": [
                      {
                        "colorbar": {
                          "outlinewidth": 0,
                          "ticks": ""
                        },
                        "colorscale": [
                          [
                            0,
                            "#0d0887"
                          ],
                          [
                            0.1111111111111111,
                            "#46039f"
                          ],
                          [
                            0.2222222222222222,
                            "#7201a8"
                          ],
                          [
                            0.3333333333333333,
                            "#9c179e"
                          ],
                          [
                            0.4444444444444444,
                            "#bd3786"
                          ],
                          [
                            0.5555555555555556,
                            "#d8576b"
                          ],
                          [
                            0.6666666666666666,
                            "#ed7953"
                          ],
                          [
                            0.7777777777777778,
                            "#fb9f3a"
                          ],
                          [
                            0.8888888888888888,
                            "#fdca26"
                          ],
                          [
                            1,
                            "#f0f921"
                          ]
                        ],
                        "type": "heatmap"
                      }
                    ],
                    "histogram": [
                      {
                        "marker": {
                          "pattern": {
                            "fillmode": "overlay",
                            "size": 10,
                            "solidity": 0.2
                          }
                        },
                        "type": "histogram"
                      }
                    ],
                    "histogram2d": [
                      {
                        "colorbar": {
                          "outlinewidth": 0,
                          "ticks": ""
                        },
                        "colorscale": [
                          [
                            0,
                            "#0d0887"
                          ],
                          [
                            0.1111111111111111,
                            "#46039f"
                          ],
                          [
                            0.2222222222222222,
                            "#7201a8"
                          ],
                          [
                            0.3333333333333333,
                            "#9c179e"
                          ],
                          [
                            0.4444444444444444,
                            "#bd3786"
                          ],
                          [
                            0.5555555555555556,
                            "#d8576b"
                          ],
                          [
                            0.6666666666666666,
                            "#ed7953"
                          ],
                          [
                            0.7777777777777778,
                            "#fb9f3a"
                          ],
                          [
                            0.8888888888888888,
                            "#fdca26"
                          ],
                          [
                            1,
                            "#f0f921"
                          ]
                        ],
                        "type": "histogram2d"
                      }
                    ],
                    "histogram2dcontour": [
                      {
                        "colorbar": {
                          "outlinewidth": 0,
                          "ticks": ""
                        },
                        "colorscale": [
                          [
                            0,
                            "#0d0887"
                          ],
                          [
                            0.1111111111111111,
                            "#46039f"
                          ],
                          [
                            0.2222222222222222,
                            "#7201a8"
                          ],
                          [
                            0.3333333333333333,
                            "#9c179e"
                          ],
                          [
                            0.4444444444444444,
                            "#bd3786"
                          ],
                          [
                            0.5555555555555556,
                            "#d8576b"
                          ],
                          [
                            0.6666666666666666,
                            "#ed7953"
                          ],
                          [
                            0.7777777777777778,
                            "#fb9f3a"
                          ],
                          [
                            0.8888888888888888,
                            "#fdca26"
                          ],
                          [
                            1,
                            "#f0f921"
                          ]
                        ],
                        "type": "histogram2dcontour"
                      }
                    ],
                    "mesh3d": [
                      {
                        "colorbar": {
                          "outlinewidth": 0,
                          "ticks": ""
                        },
                        "type": "mesh3d"
                      }
                    ],
                    "parcoords": [
                      {
                        "line": {
                          "colorbar": {
                            "outlinewidth": 0,
                            "ticks": ""
                          }
                        },
                        "type": "parcoords"
                      }
                    ],
                    "pie": [
                      {
                        "automargin": true,
                        "type": "pie"
                      }
                    ],
                    "scatter": [
                      {
                        "fillpattern": {
                          "fillmode": "overlay",
                          "size": 10,
                          "solidity": 0.2
                        },
                        "type": "scatter"
                      }
                    ],
                    "scatter3d": [
                      {
                        "line": {
                          "colorbar": {
                            "outlinewidth": 0,
                            "ticks": ""
                          }
                        },
                        "marker": {
                          "colorbar": {
                            "outlinewidth": 0,
                            "ticks": ""
                          }
                        },
                        "type": "scatter3d"
                      }
                    ],
                    "scattercarpet": [
                      {
                        "marker": {
                          "colorbar": {
                            "outlinewidth": 0,
                            "ticks": ""
                          }
                        },
                        "type": "scattercarpet"
                      }
                    ],
                    "scattergeo": [
                      {
                        "marker": {
                          "colorbar": {
                            "outlinewidth": 0,
                            "ticks": ""
                          }
                        },
                        "type": "scattergeo"
                      }
                    ],
                    "scattergl": [
                      {
                        "marker": {
                          "colorbar": {
                            "outlinewidth": 0,
                            "ticks": ""
                          }
                        },
                        "type": "scattergl"
                      }
                    ],
                    "scattermap": [
                      {
                        "marker": {
                          "colorbar": {
                            "outlinewidth": 0,
                            "ticks": ""
                          }
                        },
                        "type": "scattermap"
                      }
                    ],
                    "scattermapbox": [
                      {
                        "marker": {
                          "colorbar": {
                            "outlinewidth": 0,
                            "ticks": ""
                          }
                        },
                        "type": "scattermapbox"
                      }
                    ],
                    "scatterpolar": [
                      {
                        "marker": {
                          "colorbar": {
                            "outlinewidth": 0,
                            "ticks": ""
                          }
                        },
                        "type": "scatterpolar"
                      }
                    ],
                    "scatterpolargl": [
                      {
                        "marker": {
                          "colorbar": {
                            "outlinewidth": 0,
                            "ticks": ""
                          }
                        },
                        "type": "scatterpolargl"
                      }
                    ],
                    "scatterternary": [
                      {
                        "marker": {
                          "colorbar": {
                            "outlinewidth": 0,
                            "ticks": ""
                          }
                        },
                        "type": "scatterternary"
                      }
                    ],
                    "surface": [
                      {
                        "colorbar": {
                          "outlinewidth": 0,
                          "ticks": ""
                        },
                        "colorscale": [
                          [
                            0,
                            "#0d0887"
                          ],
                          [
                            0.1111111111111111,
                            "#46039f"
                          ],
                          [
                            0.2222222222222222,
                            "#7201a8"
                          ],
                          [
                            0.3333333333333333,
                            "#9c179e"
                          ],
                          [
                            0.4444444444444444,
                            "#bd3786"
                          ],
                          [
                            0.5555555555555556,
                            "#d8576b"
                          ],
                          [
                            0.6666666666666666,
                            "#ed7953"
                          ],
                          [
                            0.7777777777777778,
                            "#fb9f3a"
                          ],
                          [
                            0.8888888888888888,
                            "#fdca26"
                          ],
                          [
                            1,
                            "#f0f921"
                          ]
                        ],
                        "type": "surface"
                      }
                    ],
                    "table": [
                      {
                        "cells": {
                          "fill": {
                            "color": "#EBF0F8"
                          },
                          "line": {
                            "color": "white"
                          }
                        },
                        "header": {
                          "fill": {
                            "color": "#C8D4E3"
                          },
                          "line": {
                            "color": "white"
                          }
                        },
                        "type": "table"
                      }
                    ]
                  },
                  "layout": {
                    "annotationdefaults": {
                      "arrowcolor": "#2a3f5f",
                      "arrowhead": 0,
                      "arrowwidth": 1
                    },
                    "autotypenumbers": "strict",
                    "coloraxis": {
                      "colorbar": {
                        "outlinewidth": 0,
                        "ticks": ""
                      }
                    },
                    "colorscale": {
                      "diverging": [
                        [
                          0,
                          "#8e0152"
                        ],
                        [
                          0.1,
                          "#c51b7d"
                        ],
                        [
                          0.2,
                          "#de77ae"
                        ],
                        [
                          0.3,
                          "#f1b6da"
                        ],
                        [
                          0.4,
                          "#fde0ef"
                        ],
                        [
                          0.5,
                          "#f7f7f7"
                        ],
                        [
                          0.6,
                          "#e6f5d0"
                        ],
                        [
                          0.7,
                          "#b8e186"
                        ],
                        [
                          0.8,
                          "#7fbc41"
                        ],
                        [
                          0.9,
                          "#4d9221"
                        ],
                        [
                          1,
                          "#276419"
                        ]
                      ],
                      "sequential": [
                        [
                          0,
                          "#0d0887"
                        ],
                        [
                          0.1111111111111111,
                          "#46039f"
                        ],
                        [
                          0.2222222222222222,
                          "#7201a8"
                        ],
                        [
                          0.3333333333333333,
                          "#9c179e"
                        ],
                        [
                          0.4444444444444444,
                          "#bd3786"
                        ],
                        [
                          0.5555555555555556,
                          "#d8576b"
                        ],
                        [
                          0.6666666666666666,
                          "#ed7953"
                        ],
                        [
                          0.7777777777777778,
                          "#fb9f3a"
                        ],
                        [
                          0.8888888888888888,
                          "#fdca26"
                        ],
                        [
                          1,
                          "#f0f921"
                        ]
                      ],
                      "sequentialminus": [
                        [
                          0,
                          "#0d0887"
                        ],
                        [
                          0.1111111111111111,
                          "#46039f"
                        ],
                        [
                          0.2222222222222222,
                          "#7201a8"
                        ],
                        [
                          0.3333333333333333,
                          "#9c179e"
                        ],
                        [
                          0.4444444444444444,
                          "#bd3786"
                        ],
                        [
                          0.5555555555555556,
                          "#d8576b"
                        ],
                        [
                          0.6666666666666666,
                          "#ed7953"
                        ],
                        [
                          0.7777777777777778,
                          "#fb9f3a"
                        ],
                        [
                          0.8888888888888888,
                          "#fdca26"
                        ],
                        [
                          1,
                          "#f0f921"
                        ]
                      ]
                    },
                    "colorway": [
                      "#636efa",
                      "#EF553B",
                      "#00cc96",
                      "#ab63fa",
                      "#FFA15A",
                      "#19d3f3",
                      "#FF6692",
                      "#B6E880",
                      "#FF97FF",
                      "#FECB52"
                    ],
                    "font": {
                      "color": "#2a3f5f"
                    },
                    "geo": {
                      "bgcolor": "white",
                      "lakecolor": "white",
                      "landcolor": "#E5ECF6",
                      "showlakes": true,
                      "showland": true,
                      "subunitcolor": "white"
                    },
                    "hoverlabel": {
                      "align": "left"
                    },
                    "hovermode": "closest",
                    "mapbox": {
                      "style": "light"
                    },
                    "paper_bgcolor": "white",
                    "plot_bgcolor": "#E5ECF6",
                    "polar": {
                      "angularaxis": {
                        "gridcolor": "white",
                        "linecolor": "white",
                        "ticks": ""
                      },
                      "bgcolor": "#E5ECF6",
                      "radialaxis": {
                        "gridcolor": "white",
                        "linecolor": "white",
                        "ticks": ""
                      }
                    },
                    "scene": {
                      "xaxis": {
                        "backgroundcolor": "#E5ECF6",
                        "gridcolor": "white",
                        "gridwidth": 2,
                        "linecolor": "white",
                        "showbackground": true,
                        "ticks": "",
                        "zerolinecolor": "white"
                      },
                      "yaxis": {
                        "backgroundcolor": "#E5ECF6",
                        "gridcolor": "white",
                        "gridwidth": 2,
                        "linecolor": "white",
                        "showbackground": true,
                        "ticks": "",
                        "zerolinecolor": "white"
                      },
                      "zaxis": {
                        "backgroundcolor": "#E5ECF6",
                        "gridcolor": "white",
                        "gridwidth": 2,
                        "linecolor": "white",
                        "showbackground": true,
                        "ticks": "",
                        "zerolinecolor": "white"
                      }
                    },
                    "shapedefaults": {
                      "line": {
                        "color": "#2a3f5f"
                      }
                    },
                    "ternary": {
                      "aaxis": {
                        "gridcolor": "white",
                        "linecolor": "white",
                        "ticks": ""
                      },
                      "baxis": {
                        "gridcolor": "white",
                        "linecolor": "white",
                        "ticks": ""
                      },
                      "bgcolor": "#E5ECF6",
                      "caxis": {
                        "gridcolor": "white",
                        "linecolor": "white",
                        "ticks": ""
                      }
                    },
                    "title": {
                      "x": 0.05
                    },
                    "xaxis": {
                      "automargin": true,
                      "gridcolor": "white",
                      "linecolor": "white",
                      "ticks": "",
                      "title": {
                        "standoff": 15
                      },
                      "zerolinecolor": "white",
                      "zerolinewidth": 2
                    },
                    "yaxis": {
                      "automargin": true,
                      "gridcolor": "white",
                      "linecolor": "white",
                      "ticks": "",
                      "title": {
                        "standoff": 15
                      },
                      "zerolinecolor": "white",
                      "zerolinewidth": 2
                    }
                  }
                },
                "title": {
                  "text": "Hyperparameter Importances"
                },
                "xaxis": {
                  "title": {
                    "text": "Hyperparameter Importance"
                  }
                },
                "yaxis": {
                  "title": {
                    "text": "Hyperparameter"
                  }
                }
              }
            }
          },
          "metadata": {},
          "output_type": "display_data"
        }
      ],
      "source": [
        "\n",
        "\n",
        "# That tell which hyperparameter is more important:\n",
        "plot_param_importances(study).show()\n",
        "\n"
      ]
    },
    {
      "cell_type": "markdown",
      "metadata": {
        "id": "g0lO7ff2SdQw"
      },
      "source": [
        "---\n",
        "\n",
        "<br>\n",
        "<br>\n",
        "<br>\n",
        "\n",
        "# #05 Dynamics Search Space:\n",
        "\n",
        "<br>\n",
        "<br>\n",
        "<br>\n",
        "\n",
        "---"
      ]
    },
    {
      "cell_type": "code",
      "execution_count": 23,
      "metadata": {
        "id": "WrrJi3ysSp3l"
      },
      "outputs": [],
      "source": [
        "\n",
        "from sklearn.ensemble import RandomForestClassifier,GradientBoostingClassifier\n",
        "from sklearn.svm import SVC\n",
        "\n",
        "def Objective(trial):\n",
        "\n",
        "  classifier_name = trial.suggest_categorical(\"classifier\", ['SVC','RandomForestClassifier','GradientBoostingClassifier'])\n",
        "\n",
        "  if classifier_name == 'SVC':\n",
        "    c = trial.suggest_float('C',0.1,100,log=True)\n",
        "    kernel = trial.suggest_categorical('kernal',['rbf','linear','poly','sigmoid'])\n",
        "    gamma = trial.suggest_categorical('gamma',['scale','auto'])\n",
        "    model = SVC(C=c,kernel=kernel,gamma=gamma,random_state=42)\n",
        "\n",
        "  elif classifier_name == 'RandomForestClassifier':\n",
        "    n_estimators = trial.suggest_int(\"n_estimators\",50,300)\n",
        "    max_depth = trial.suggest_int(\"max_depth\",3,20)\n",
        "    min_samples_split = trial.suggest_int(\"min_samples_split\",2,10)\n",
        "    min_sample_leaf = trial.suggest_int(\"min_sample_leaf\",1,10)\n",
        "    bootstrap = trial.suggest_categorical(\"bootstrap\",[True,False])\n",
        "    model = RandomForestClassifier(\n",
        "        n_estimators=n_estimators,\n",
        "        max_depth=max_depth,\n",
        "        min_samples_split=min_samples_split,\n",
        "        min_samples_leaf=min_sample_leaf,\n",
        "        bootstrap=bootstrap,\n",
        "        random_state=42)\n",
        "\n",
        "  elif classifier_name == 'GradientBoostingClassifier':\n",
        "    n_estimators = trial.suggest_int(\"n_estimators\",50,300)\n",
        "    learning_rate = trial.suggest_float(\"learning_rate\",0.01,0.3,log=True)\n",
        "    max_depth = trial.suggest_int(\"max_depth\",3,20)\n",
        "    min_samples_split = trial.suggest_int(\"min_samples_split\",2,10)\n",
        "    min_sample_leaf = trial.suggest_int(\"min_sample_leaf\",1,10)\n",
        "    model = GradientBoostingClassifier(\n",
        "        n_estimators=n_estimators,\n",
        "        learning_rate=learning_rate,\n",
        "        max_depth=max_depth,\n",
        "        min_samples_split=min_samples_split,\n",
        "        min_samples_leaf=min_sample_leaf,\n",
        "        random_state=42\n",
        "        )\n",
        "\n",
        "  score = cross_val_score(model,X_train,y_train,cv=3,scoring=\"accuracy\").mean()\n",
        "  return score\n",
        "\n",
        "\n"
      ]
    },
    {
      "cell_type": "code",
      "execution_count": 24,
      "metadata": {
        "colab": {
          "base_uri": "https://localhost:8080/"
        },
        "id": "3ChynW4GZFBY",
        "outputId": "d7a597f5-3aed-4052-afe2-2293e7895ce2"
      },
      "outputs": [
        {
          "name": "stderr",
          "output_type": "stream",
          "text": [
            "[I 2025-06-02 22:37:23,855] A new study created in memory with name: no-name-8d0c4c67-641c-4031-9a39-9545c2d1d434\n"
          ]
        },
        {
          "name": "stderr",
          "output_type": "stream",
          "text": [
            "[I 2025-06-02 22:37:26,259] Trial 0 finished with value: 0.7150837988826817 and parameters: {'classifier': 'GradientBoostingClassifier', 'n_estimators': 137, 'learning_rate': 0.11156472957531484, 'max_depth': 20, 'min_samples_split': 9, 'min_sample_leaf': 10}. Best is trial 0 with value: 0.7150837988826817.\n",
            "[I 2025-06-02 22:37:26,338] Trial 1 finished with value: 0.6927374301675977 and parameters: {'classifier': 'SVC', 'C': 13.913077431197095, 'kernal': 'sigmoid', 'gamma': 'scale'}. Best is trial 0 with value: 0.7150837988826817.\n",
            "[I 2025-06-02 22:37:26,420] Trial 2 finished with value: 0.7858472998137803 and parameters: {'classifier': 'SVC', 'C': 0.3149849846620663, 'kernal': 'linear', 'gamma': 'auto'}. Best is trial 2 with value: 0.7858472998137803.\n",
            "[I 2025-06-02 22:37:29,466] Trial 3 finished with value: 0.7281191806331471 and parameters: {'classifier': 'GradientBoostingClassifier', 'n_estimators': 96, 'learning_rate': 0.22312641054514146, 'max_depth': 16, 'min_samples_split': 7, 'min_sample_leaf': 5}. Best is trial 2 with value: 0.7858472998137803.\n",
            "[I 2025-06-02 22:37:29,560] Trial 4 finished with value: 0.7672253258845437 and parameters: {'classifier': 'SVC', 'C': 0.3368635429290294, 'kernal': 'rbf', 'gamma': 'scale'}. Best is trial 2 with value: 0.7858472998137803.\n",
            "[I 2025-06-02 22:37:30,185] Trial 5 finished with value: 0.7672253258845437 and parameters: {'classifier': 'RandomForestClassifier', 'n_estimators': 93, 'max_depth': 4, 'min_samples_split': 6, 'min_sample_leaf': 4, 'bootstrap': False}. Best is trial 2 with value: 0.7858472998137803.\n",
            "[I 2025-06-02 22:37:31,869] Trial 6 finished with value: 0.7616387337057727 and parameters: {'classifier': 'RandomForestClassifier', 'n_estimators': 198, 'max_depth': 5, 'min_samples_split': 9, 'min_sample_leaf': 4, 'bootstrap': True}. Best is trial 2 with value: 0.7858472998137803.\n",
            "[I 2025-06-02 22:37:31,909] Trial 7 finished with value: 0.7169459962756052 and parameters: {'classifier': 'SVC', 'C': 3.1539844450923975, 'kernal': 'sigmoid', 'gamma': 'scale'}. Best is trial 2 with value: 0.7858472998137803.\n",
            "[I 2025-06-02 22:37:36,305] Trial 8 finished with value: 0.7616387337057727 and parameters: {'classifier': 'RandomForestClassifier', 'n_estimators': 280, 'max_depth': 8, 'min_samples_split': 4, 'min_sample_leaf': 8, 'bootstrap': True}. Best is trial 2 with value: 0.7858472998137803.\n",
            "[I 2025-06-02 22:37:40,289] Trial 9 finished with value: 0.7541899441340782 and parameters: {'classifier': 'RandomForestClassifier', 'n_estimators': 142, 'max_depth': 4, 'min_samples_split': 6, 'min_sample_leaf': 8, 'bootstrap': True}. Best is trial 2 with value: 0.7858472998137803.\n",
            "[I 2025-06-02 22:37:40,327] Trial 10 finished with value: 0.7877094972067038 and parameters: {'classifier': 'SVC', 'C': 0.10308192451987823, 'kernal': 'linear', 'gamma': 'auto'}. Best is trial 10 with value: 0.7877094972067038.\n",
            "[I 2025-06-02 22:37:40,375] Trial 11 finished with value: 0.7895716945996275 and parameters: {'classifier': 'SVC', 'C': 0.13425137910046955, 'kernal': 'linear', 'gamma': 'auto'}. Best is trial 11 with value: 0.7895716945996275.\n",
            "[I 2025-06-02 22:37:40,419] Trial 12 finished with value: 0.7895716945996275 and parameters: {'classifier': 'SVC', 'C': 0.11304695973433003, 'kernal': 'linear', 'gamma': 'auto'}. Best is trial 11 with value: 0.7895716945996275.\n",
            "[I 2025-06-02 22:37:40,470] Trial 13 finished with value: 0.7877094972067038 and parameters: {'classifier': 'SVC', 'C': 0.10409374567582377, 'kernal': 'linear', 'gamma': 'auto'}. Best is trial 11 with value: 0.7895716945996275.\n",
            "[I 2025-06-02 22:37:40,529] Trial 14 finished with value: 0.7243947858472999 and parameters: {'classifier': 'SVC', 'C': 1.394182172015757, 'kernal': 'poly', 'gamma': 'auto'}. Best is trial 11 with value: 0.7895716945996275.\n",
            "[I 2025-06-02 22:37:40,908] Trial 15 finished with value: 0.7858472998137801 and parameters: {'classifier': 'SVC', 'C': 95.24344374276983, 'kernal': 'linear', 'gamma': 'auto'}. Best is trial 11 with value: 0.7895716945996275.\n",
            "[I 2025-06-02 22:37:48,731] Trial 16 finished with value: 0.7337057728119181 and parameters: {'classifier': 'GradientBoostingClassifier', 'n_estimators': 290, 'learning_rate': 0.010014044202641247, 'max_depth': 13, 'min_samples_split': 2, 'min_sample_leaf': 2}. Best is trial 11 with value: 0.7895716945996275.\n",
            "[I 2025-06-02 22:37:48,781] Trial 17 finished with value: 0.7839851024208566 and parameters: {'classifier': 'SVC', 'C': 0.5202346778097137, 'kernal': 'linear', 'gamma': 'auto'}. Best is trial 11 with value: 0.7895716945996275.\n",
            "[I 2025-06-02 22:37:48,838] Trial 18 finished with value: 0.7746741154562384 and parameters: {'classifier': 'SVC', 'C': 0.8872969686043283, 'kernal': 'rbf', 'gamma': 'auto'}. Best is trial 11 with value: 0.7895716945996275.\n",
            "[I 2025-06-02 22:37:49,843] Trial 19 finished with value: 0.7039106145251397 and parameters: {'classifier': 'GradientBoostingClassifier', 'n_estimators': 50, 'learning_rate': 0.026573184384960768, 'max_depth': 10, 'min_samples_split': 2, 'min_sample_leaf': 1}. Best is trial 11 with value: 0.7895716945996275.\n",
            "[I 2025-06-02 22:37:49,918] Trial 20 finished with value: 0.7113594040968342 and parameters: {'classifier': 'SVC', 'C': 15.00935758195136, 'kernal': 'poly', 'gamma': 'auto'}. Best is trial 11 with value: 0.7895716945996275.\n",
            "[I 2025-06-02 22:37:49,966] Trial 21 finished with value: 0.7877094972067038 and parameters: {'classifier': 'SVC', 'C': 0.10483650264359223, 'kernal': 'linear', 'gamma': 'auto'}. Best is trial 11 with value: 0.7895716945996275.\n",
            "[I 2025-06-02 22:37:50,009] Trial 22 finished with value: 0.7877094972067038 and parameters: {'classifier': 'SVC', 'C': 0.10457358088434926, 'kernal': 'linear', 'gamma': 'auto'}. Best is trial 11 with value: 0.7895716945996275.\n",
            "[I 2025-06-02 22:37:50,060] Trial 23 finished with value: 0.7858472998137803 and parameters: {'classifier': 'SVC', 'C': 0.30073877553165934, 'kernal': 'linear', 'gamma': 'auto'}. Best is trial 11 with value: 0.7895716945996275.\n",
            "[I 2025-06-02 22:37:50,101] Trial 24 finished with value: 0.7858472998137803 and parameters: {'classifier': 'SVC', 'C': 0.19742536815509312, 'kernal': 'linear', 'gamma': 'auto'}. Best is trial 11 with value: 0.7895716945996275.\n",
            "[I 2025-06-02 22:37:50,150] Trial 25 finished with value: 0.7858472998137803 and parameters: {'classifier': 'SVC', 'C': 0.19786644010962395, 'kernal': 'linear', 'gamma': 'auto'}. Best is trial 11 with value: 0.7895716945996275.\n",
            "[I 2025-06-02 22:37:50,232] Trial 26 finished with value: 0.7858472998137803 and parameters: {'classifier': 'SVC', 'C': 0.8579476759778423, 'kernal': 'linear', 'gamma': 'scale'}. Best is trial 11 with value: 0.7895716945996275.\n",
            "[I 2025-06-02 22:37:50,332] Trial 27 finished with value: 0.7709497206703911 and parameters: {'classifier': 'SVC', 'C': 0.21097589970492317, 'kernal': 'sigmoid', 'gamma': 'auto'}. Best is trial 11 with value: 0.7895716945996275.\n",
            "[I 2025-06-02 22:37:53,472] Trial 28 finished with value: 0.7318435754189944 and parameters: {'classifier': 'GradientBoostingClassifier', 'n_estimators': 220, 'learning_rate': 0.04421575283234797, 'max_depth': 19, 'min_samples_split': 10, 'min_sample_leaf': 7}. Best is trial 11 with value: 0.7895716945996275.\n",
            "[I 2025-06-02 22:37:54,659] Trial 29 finished with value: 0.7728119180633147 and parameters: {'classifier': 'RandomForestClassifier', 'n_estimators': 246, 'max_depth': 14, 'min_samples_split': 4, 'min_sample_leaf': 10, 'bootstrap': False}. Best is trial 11 with value: 0.7895716945996275.\n",
            "[I 2025-06-02 22:37:56,624] Trial 30 finished with value: 0.756052141527002 and parameters: {'classifier': 'GradientBoostingClassifier', 'n_estimators': 183, 'learning_rate': 0.28418343862027984, 'max_depth': 8, 'min_samples_split': 4, 'min_sample_leaf': 3}. Best is trial 11 with value: 0.7895716945996275.\n",
            "[I 2025-06-02 22:37:56,661] Trial 31 finished with value: 0.7877094972067038 and parameters: {'classifier': 'SVC', 'C': 0.10007272220904628, 'kernal': 'linear', 'gamma': 'auto'}. Best is trial 11 with value: 0.7895716945996275.\n",
            "[I 2025-06-02 22:37:56,745] Trial 32 finished with value: 0.7877094972067038 and parameters: {'classifier': 'SVC', 'C': 0.10205553665570154, 'kernal': 'linear', 'gamma': 'auto'}. Best is trial 11 with value: 0.7895716945996275.\n",
            "[I 2025-06-02 22:37:56,860] Trial 33 finished with value: 0.7877094972067038 and parameters: {'classifier': 'SVC', 'C': 0.1774194406636549, 'kernal': 'linear', 'gamma': 'auto'}. Best is trial 11 with value: 0.7895716945996275.\n",
            "[I 2025-06-02 22:37:57,212] Trial 34 finished with value: 0.7839851024208566 and parameters: {'classifier': 'SVC', 'C': 0.5673937771597742, 'kernal': 'linear', 'gamma': 'auto'}. Best is trial 11 with value: 0.7895716945996275.\n",
            "[I 2025-06-02 22:37:57,757] Trial 35 finished with value: 0.7597765363128492 and parameters: {'classifier': 'SVC', 'C': 0.1697753834155394, 'kernal': 'rbf', 'gamma': 'auto'}. Best is trial 11 with value: 0.7895716945996275.\n",
            "[I 2025-06-02 22:37:58,206] Trial 36 finished with value: 0.7337057728119181 and parameters: {'classifier': 'SVC', 'C': 0.37577606951277126, 'kernal': 'poly', 'gamma': 'auto'}. Best is trial 11 with value: 0.7895716945996275.\n",
            "[I 2025-06-02 22:37:58,581] Trial 37 finished with value: 0.7877094972067038 and parameters: {'classifier': 'SVC', 'C': 0.16044624250588307, 'kernal': 'linear', 'gamma': 'auto'}. Best is trial 11 with value: 0.7895716945996275.\n",
            "[I 2025-06-02 22:37:59,093] Trial 38 finished with value: 0.7858472998137801 and parameters: {'classifier': 'SVC', 'C': 1.6035884544281889, 'kernal': 'linear', 'gamma': 'scale'}. Best is trial 11 with value: 0.7895716945996275.\n",
            "[I 2025-06-02 22:38:03,620] Trial 39 finished with value: 0.7616387337057727 and parameters: {'classifier': 'RandomForestClassifier', 'n_estimators': 250, 'max_depth': 16, 'min_samples_split': 8, 'min_sample_leaf': 6, 'bootstrap': False}. Best is trial 11 with value: 0.7895716945996275.\n",
            "[I 2025-06-02 22:38:06,533] Trial 40 finished with value: 0.702048417132216 and parameters: {'classifier': 'GradientBoostingClassifier', 'n_estimators': 148, 'learning_rate': 0.010310837415270203, 'max_depth': 10, 'min_samples_split': 3, 'min_sample_leaf': 1}. Best is trial 11 with value: 0.7895716945996275.\n",
            "[I 2025-06-02 22:38:06,575] Trial 41 finished with value: 0.7877094972067038 and parameters: {'classifier': 'SVC', 'C': 0.1081911571401759, 'kernal': 'linear', 'gamma': 'auto'}. Best is trial 11 with value: 0.7895716945996275.\n",
            "[I 2025-06-02 22:38:06,616] Trial 42 finished with value: 0.7877094972067038 and parameters: {'classifier': 'SVC', 'C': 0.10115633171825845, 'kernal': 'linear', 'gamma': 'auto'}. Best is trial 11 with value: 0.7895716945996275.\n",
            "[I 2025-06-02 22:38:06,656] Trial 43 finished with value: 0.7877094972067038 and parameters: {'classifier': 'SVC', 'C': 0.16836901695868275, 'kernal': 'linear', 'gamma': 'auto'}. Best is trial 11 with value: 0.7895716945996275.\n",
            "[I 2025-06-02 22:38:06,720] Trial 44 finished with value: 0.7132216014897579 and parameters: {'classifier': 'SVC', 'C': 6.079013149343286, 'kernal': 'sigmoid', 'gamma': 'auto'}. Best is trial 11 with value: 0.7895716945996275.\n",
            "[I 2025-06-02 22:38:06,768] Trial 45 finished with value: 0.7858472998137803 and parameters: {'classifier': 'SVC', 'C': 0.26023475235098703, 'kernal': 'linear', 'gamma': 'auto'}. Best is trial 11 with value: 0.7895716945996275.\n",
            "[I 2025-06-02 22:38:07,254] Trial 46 finished with value: 0.7765363128491619 and parameters: {'classifier': 'RandomForestClassifier', 'n_estimators': 79, 'max_depth': 17, 'min_samples_split': 5, 'min_sample_leaf': 9, 'bootstrap': False}. Best is trial 11 with value: 0.7895716945996275.\n",
            "[I 2025-06-02 22:38:07,292] Trial 47 finished with value: 0.7895716945996275 and parameters: {'classifier': 'SVC', 'C': 0.13720632295060417, 'kernal': 'linear', 'gamma': 'scale'}. Best is trial 11 with value: 0.7895716945996275.\n",
            "[I 2025-06-02 22:38:07,341] Trial 48 finished with value: 0.7635009310986964 and parameters: {'classifier': 'SVC', 'C': 0.42959014468756407, 'kernal': 'rbf', 'gamma': 'scale'}. Best is trial 11 with value: 0.7895716945996275.\n",
            "[I 2025-06-02 22:38:07,381] Trial 49 finished with value: 0.7858472998137803 and parameters: {'classifier': 'SVC', 'C': 0.2785638935162879, 'kernal': 'linear', 'gamma': 'scale'}. Best is trial 11 with value: 0.7895716945996275.\n",
            "[I 2025-06-02 22:38:08,683] Trial 50 finished with value: 0.7579143389199254 and parameters: {'classifier': 'RandomForestClassifier', 'n_estimators': 223, 'max_depth': 7, 'min_samples_split': 10, 'min_sample_leaf': 6, 'bootstrap': True}. Best is trial 11 with value: 0.7895716945996275.\n",
            "[I 2025-06-02 22:38:08,729] Trial 51 finished with value: 0.7895716945996275 and parameters: {'classifier': 'SVC', 'C': 0.14855371072309462, 'kernal': 'linear', 'gamma': 'scale'}. Best is trial 11 with value: 0.7895716945996275.\n",
            "[I 2025-06-02 22:38:08,781] Trial 52 finished with value: 0.7895716945996275 and parameters: {'classifier': 'SVC', 'C': 0.1435758034480684, 'kernal': 'linear', 'gamma': 'scale'}. Best is trial 11 with value: 0.7895716945996275.\n",
            "[I 2025-06-02 22:38:08,858] Trial 53 finished with value: 0.7895716945996275 and parameters: {'classifier': 'SVC', 'C': 0.1444360051218893, 'kernal': 'linear', 'gamma': 'scale'}. Best is trial 11 with value: 0.7895716945996275.\n",
            "[I 2025-06-02 22:38:08,962] Trial 54 finished with value: 0.7728119180633147 and parameters: {'classifier': 'SVC', 'C': 0.16432147502999142, 'kernal': 'sigmoid', 'gamma': 'scale'}. Best is trial 11 with value: 0.7895716945996275.\n",
            "[I 2025-06-02 22:38:09,044] Trial 55 finished with value: 0.7858472998137803 and parameters: {'classifier': 'SVC', 'C': 0.31677968275691126, 'kernal': 'linear', 'gamma': 'scale'}. Best is trial 11 with value: 0.7895716945996275.\n",
            "[I 2025-06-02 22:38:09,116] Trial 56 finished with value: 0.7895716945996275 and parameters: {'classifier': 'SVC', 'C': 0.1434854061845568, 'kernal': 'linear', 'gamma': 'scale'}. Best is trial 11 with value: 0.7895716945996275.\n",
            "[I 2025-06-02 22:38:09,194] Trial 57 finished with value: 0.7094972067039107 and parameters: {'classifier': 'SVC', 'C': 29.210834340438872, 'kernal': 'poly', 'gamma': 'scale'}. Best is trial 11 with value: 0.7895716945996275.\n",
            "[I 2025-06-02 22:38:11,457] Trial 58 finished with value: 0.7392923649906891 and parameters: {'classifier': 'GradientBoostingClassifier', 'n_estimators': 116, 'learning_rate': 0.0939146027493534, 'max_depth': 12, 'min_samples_split': 7, 'min_sample_leaf': 3}. Best is trial 11 with value: 0.7895716945996275.\n",
            "[I 2025-06-02 22:38:11,497] Trial 59 finished with value: 0.7858472998137803 and parameters: {'classifier': 'SVC', 'C': 0.23876170530451463, 'kernal': 'linear', 'gamma': 'scale'}. Best is trial 11 with value: 0.7895716945996275.\n",
            "[I 2025-06-02 22:38:11,536] Trial 60 finished with value: 0.7858472998137803 and parameters: {'classifier': 'SVC', 'C': 0.6637318927821514, 'kernal': 'linear', 'gamma': 'scale'}. Best is trial 11 with value: 0.7895716945996275.\n",
            "[I 2025-06-02 22:38:11,580] Trial 61 finished with value: 0.7895716945996275 and parameters: {'classifier': 'SVC', 'C': 0.14350477004843887, 'kernal': 'linear', 'gamma': 'scale'}. Best is trial 11 with value: 0.7895716945996275.\n",
            "[I 2025-06-02 22:38:11,619] Trial 62 finished with value: 0.7895716945996275 and parameters: {'classifier': 'SVC', 'C': 0.1492663466459686, 'kernal': 'linear', 'gamma': 'scale'}. Best is trial 11 with value: 0.7895716945996275.\n",
            "[I 2025-06-02 22:38:11,657] Trial 63 finished with value: 0.7895716945996275 and parameters: {'classifier': 'SVC', 'C': 0.1352086153340556, 'kernal': 'linear', 'gamma': 'scale'}. Best is trial 11 with value: 0.7895716945996275.\n",
            "[I 2025-06-02 22:38:11,702] Trial 64 finished with value: 0.7821229050279329 and parameters: {'classifier': 'SVC', 'C': 0.3777967879195586, 'kernal': 'linear', 'gamma': 'scale'}. Best is trial 11 with value: 0.7895716945996275.\n",
            "[I 2025-06-02 22:38:11,767] Trial 65 finished with value: 0.7597765363128492 and parameters: {'classifier': 'SVC', 'C': 0.2567342391350688, 'kernal': 'rbf', 'gamma': 'scale'}. Best is trial 11 with value: 0.7895716945996275.\n",
            "[I 2025-06-02 22:38:11,858] Trial 66 finished with value: 0.7895716945996275 and parameters: {'classifier': 'SVC', 'C': 0.14083621505731062, 'kernal': 'linear', 'gamma': 'scale'}. Best is trial 11 with value: 0.7895716945996275.\n",
            "[I 2025-06-02 22:38:11,899] Trial 67 finished with value: 0.7858472998137803 and parameters: {'classifier': 'SVC', 'C': 0.2386118943243957, 'kernal': 'linear', 'gamma': 'scale'}. Best is trial 11 with value: 0.7895716945996275.\n",
            "[I 2025-06-02 22:38:12,584] Trial 68 finished with value: 0.7635009310986964 and parameters: {'classifier': 'GradientBoostingClassifier', 'n_estimators': 53, 'learning_rate': 0.02467535008833722, 'max_depth': 18, 'min_samples_split': 8, 'min_sample_leaf': 7}. Best is trial 11 with value: 0.7895716945996275.\n",
            "[I 2025-06-02 22:38:12,669] Trial 69 finished with value: 0.739292364990689 and parameters: {'classifier': 'SVC', 'C': 4.314756580922081, 'kernal': 'poly', 'gamma': 'scale'}. Best is trial 11 with value: 0.7895716945996275.\n",
            "[I 2025-06-02 22:38:13,753] Trial 70 finished with value: 0.7746741154562384 and parameters: {'classifier': 'RandomForestClassifier', 'n_estimators': 177, 'max_depth': 14, 'min_samples_split': 5, 'min_sample_leaf': 5, 'bootstrap': True}. Best is trial 11 with value: 0.7895716945996275.\n",
            "[I 2025-06-02 22:38:13,885] Trial 71 finished with value: 0.7895716945996275 and parameters: {'classifier': 'SVC', 'C': 0.12764058635384354, 'kernal': 'linear', 'gamma': 'scale'}. Best is trial 11 with value: 0.7895716945996275.\n",
            "[I 2025-06-02 22:38:13,974] Trial 72 finished with value: 0.7858472998137803 and parameters: {'classifier': 'SVC', 'C': 0.20594418521771862, 'kernal': 'linear', 'gamma': 'scale'}. Best is trial 11 with value: 0.7895716945996275.\n",
            "[I 2025-06-02 22:38:14,068] Trial 73 finished with value: 0.7895716945996275 and parameters: {'classifier': 'SVC', 'C': 0.13706238896427445, 'kernal': 'linear', 'gamma': 'scale'}. Best is trial 11 with value: 0.7895716945996275.\n",
            "[I 2025-06-02 22:38:14,151] Trial 74 finished with value: 0.7895716945996275 and parameters: {'classifier': 'SVC', 'C': 0.13568526712078438, 'kernal': 'linear', 'gamma': 'scale'}. Best is trial 11 with value: 0.7895716945996275.\n",
            "[I 2025-06-02 22:38:14,235] Trial 75 finished with value: 0.7858472998137803 and parameters: {'classifier': 'SVC', 'C': 0.20372663971304494, 'kernal': 'linear', 'gamma': 'scale'}. Best is trial 11 with value: 0.7895716945996275.\n",
            "[I 2025-06-02 22:38:14,345] Trial 76 finished with value: 0.7746741154562384 and parameters: {'classifier': 'SVC', 'C': 0.12630599718925253, 'kernal': 'sigmoid', 'gamma': 'scale'}. Best is trial 11 with value: 0.7895716945996275.\n",
            "[I 2025-06-02 22:38:14,415] Trial 77 finished with value: 0.7858472998137803 and parameters: {'classifier': 'SVC', 'C': 0.20213001414491108, 'kernal': 'linear', 'gamma': 'scale'}. Best is trial 11 with value: 0.7895716945996275.\n",
            "[I 2025-06-02 22:38:14,454] Trial 78 finished with value: 0.7839851024208566 and parameters: {'classifier': 'SVC', 'C': 0.4662193720000368, 'kernal': 'linear', 'gamma': 'scale'}. Best is trial 11 with value: 0.7895716945996275.\n",
            "[I 2025-06-02 22:38:14,497] Trial 79 finished with value: 0.7858472998137803 and parameters: {'classifier': 'SVC', 'C': 0.2930764378604139, 'kernal': 'linear', 'gamma': 'scale'}. Best is trial 11 with value: 0.7895716945996275.\n",
            "[I 2025-06-02 22:38:14,866] Trial 80 finished with value: 0.7858472998137801 and parameters: {'classifier': 'SVC', 'C': 88.07413852323239, 'kernal': 'linear', 'gamma': 'scale'}. Best is trial 11 with value: 0.7895716945996275.\n",
            "[I 2025-06-02 22:38:14,903] Trial 81 finished with value: 0.7895716945996275 and parameters: {'classifier': 'SVC', 'C': 0.15401834490584257, 'kernal': 'linear', 'gamma': 'scale'}. Best is trial 11 with value: 0.7895716945996275.\n",
            "[I 2025-06-02 22:38:14,944] Trial 82 finished with value: 0.7895716945996275 and parameters: {'classifier': 'SVC', 'C': 0.1326946906743066, 'kernal': 'linear', 'gamma': 'scale'}. Best is trial 11 with value: 0.7895716945996275.\n",
            "[I 2025-06-02 22:38:14,986] Trial 83 finished with value: 0.7877094972067038 and parameters: {'classifier': 'SVC', 'C': 0.17870583733615583, 'kernal': 'linear', 'gamma': 'scale'}. Best is trial 11 with value: 0.7895716945996275.\n",
            "[I 2025-06-02 22:38:15,024] Trial 84 finished with value: 0.7895716945996275 and parameters: {'classifier': 'SVC', 'C': 0.11354816203530115, 'kernal': 'linear', 'gamma': 'scale'}. Best is trial 11 with value: 0.7895716945996275.\n",
            "[I 2025-06-02 22:38:15,068] Trial 85 finished with value: 0.7877094972067038 and parameters: {'classifier': 'SVC', 'C': 0.1587858308497272, 'kernal': 'linear', 'gamma': 'scale'}. Best is trial 11 with value: 0.7895716945996275.\n",
            "[I 2025-06-02 22:38:16,610] Trial 86 finished with value: 0.7355679702048418 and parameters: {'classifier': 'GradientBoostingClassifier', 'n_estimators': 260, 'learning_rate': 0.1265184615937343, 'max_depth': 3, 'min_samples_split': 3, 'min_sample_leaf': 2}. Best is trial 11 with value: 0.7895716945996275.\n",
            "[I 2025-06-02 22:38:16,659] Trial 87 finished with value: 0.7690875232774674 and parameters: {'classifier': 'SVC', 'C': 1.5998939555590013, 'kernal': 'rbf', 'gamma': 'scale'}. Best is trial 11 with value: 0.7895716945996275.\n",
            "[I 2025-06-02 22:38:17,718] Trial 88 finished with value: 0.7728119180633147 and parameters: {'classifier': 'RandomForestClassifier', 'n_estimators': 206, 'max_depth': 11, 'min_samples_split': 7, 'min_sample_leaf': 9, 'bootstrap': False}. Best is trial 11 with value: 0.7895716945996275.\n",
            "[I 2025-06-02 22:38:17,814] Trial 89 finished with value: 0.7839851024208566 and parameters: {'classifier': 'SVC', 'C': 0.33979043944081333, 'kernal': 'linear', 'gamma': 'scale'}. Best is trial 11 with value: 0.7895716945996275.\n",
            "[I 2025-06-02 22:38:17,906] Trial 90 finished with value: 0.7188081936685289 and parameters: {'classifier': 'SVC', 'C': 0.22881944454482925, 'kernal': 'poly', 'gamma': 'scale'}. Best is trial 11 with value: 0.7895716945996275.\n",
            "[I 2025-06-02 22:38:17,949] Trial 91 finished with value: 0.7895716945996275 and parameters: {'classifier': 'SVC', 'C': 0.12337798690937811, 'kernal': 'linear', 'gamma': 'scale'}. Best is trial 11 with value: 0.7895716945996275.\n",
            "[I 2025-06-02 22:38:18,006] Trial 92 finished with value: 0.7877094972067038 and parameters: {'classifier': 'SVC', 'C': 0.10153928400906005, 'kernal': 'linear', 'gamma': 'scale'}. Best is trial 11 with value: 0.7895716945996275.\n",
            "[I 2025-06-02 22:38:18,091] Trial 93 finished with value: 0.7877094972067038 and parameters: {'classifier': 'SVC', 'C': 0.15786978205638558, 'kernal': 'linear', 'gamma': 'scale'}. Best is trial 11 with value: 0.7895716945996275.\n",
            "[I 2025-06-02 22:38:18,179] Trial 94 finished with value: 0.7877094972067038 and parameters: {'classifier': 'SVC', 'C': 0.18228242870516598, 'kernal': 'linear', 'gamma': 'auto'}. Best is trial 11 with value: 0.7895716945996275.\n",
            "[I 2025-06-02 22:38:18,264] Trial 95 finished with value: 0.7895716945996275 and parameters: {'classifier': 'SVC', 'C': 0.11981265140213047, 'kernal': 'linear', 'gamma': 'scale'}. Best is trial 11 with value: 0.7895716945996275.\n",
            "[I 2025-06-02 22:38:18,349] Trial 96 finished with value: 0.7895716945996275 and parameters: {'classifier': 'SVC', 'C': 0.14231133062694334, 'kernal': 'linear', 'gamma': 'auto'}. Best is trial 11 with value: 0.7895716945996275.\n",
            "[I 2025-06-02 22:38:18,454] Trial 97 finished with value: 0.7746741154562384 and parameters: {'classifier': 'SVC', 'C': 0.18929615276475428, 'kernal': 'sigmoid', 'gamma': 'scale'}. Best is trial 11 with value: 0.7895716945996275.\n",
            "[I 2025-06-02 22:38:18,497] Trial 98 finished with value: 0.7877094972067038 and parameters: {'classifier': 'SVC', 'C': 0.10039056099633278, 'kernal': 'linear', 'gamma': 'scale'}. Best is trial 11 with value: 0.7895716945996275.\n",
            "[I 2025-06-02 22:38:18,582] Trial 99 finished with value: 0.7858472998137803 and parameters: {'classifier': 'SVC', 'C': 0.24431349558176377, 'kernal': 'linear', 'gamma': 'auto'}. Best is trial 11 with value: 0.7895716945996275.\n"
          ]
        }
      ],
      "source": [
        "\n",
        "study = optuna.create_study(direction=\"maximize\",sampler=optuna.samplers.TPESampler())\n",
        "study.optimize(Objective,n_trials=100)\n"
      ]
    },
    {
      "cell_type": "code",
      "execution_count": 25,
      "metadata": {
        "colab": {
          "base_uri": "https://localhost:8080/"
        },
        "id": "5WJnOVAlZpjR",
        "outputId": "f3d77705-004b-495a-d2e4-ac307c874f68"
      },
      "outputs": [
        {
          "name": "stdout",
          "output_type": "stream",
          "text": [
            "0.7895716945996275\n",
            "{'classifier': 'SVC', 'C': 0.13425137910046955, 'kernal': 'linear', 'gamma': 'auto'}\n"
          ]
        }
      ],
      "source": [
        "\n",
        "print(study.best_trial.value)\n",
        "print(study.best_trial.params)\n"
      ]
    },
    {
      "cell_type": "code",
      "execution_count": 26,
      "metadata": {
        "colab": {
          "base_uri": "https://localhost:8080/",
          "height": 557
        },
        "id": "B2IitACjad15",
        "outputId": "f5338f4d-8765-44bb-f970-89ebc06ed8f4"
      },
      "outputs": [
        {
          "data": {
            "text/html": [
              "<div>\n",
              "<style scoped>\n",
              "    .dataframe tbody tr th:only-of-type {\n",
              "        vertical-align: middle;\n",
              "    }\n",
              "\n",
              "    .dataframe tbody tr th {\n",
              "        vertical-align: top;\n",
              "    }\n",
              "\n",
              "    .dataframe thead th {\n",
              "        text-align: right;\n",
              "    }\n",
              "</style>\n",
              "<table border=\"1\" class=\"dataframe\">\n",
              "  <thead>\n",
              "    <tr style=\"text-align: right;\">\n",
              "      <th></th>\n",
              "      <th>number</th>\n",
              "      <th>value</th>\n",
              "      <th>datetime_start</th>\n",
              "      <th>datetime_complete</th>\n",
              "      <th>duration</th>\n",
              "      <th>params_C</th>\n",
              "      <th>params_bootstrap</th>\n",
              "      <th>params_classifier</th>\n",
              "      <th>params_gamma</th>\n",
              "      <th>params_kernal</th>\n",
              "      <th>params_learning_rate</th>\n",
              "      <th>params_max_depth</th>\n",
              "      <th>params_min_sample_leaf</th>\n",
              "      <th>params_min_samples_split</th>\n",
              "      <th>params_n_estimators</th>\n",
              "      <th>state</th>\n",
              "    </tr>\n",
              "  </thead>\n",
              "  <tbody>\n",
              "    <tr>\n",
              "      <th>0</th>\n",
              "      <td>0</td>\n",
              "      <td>0.715084</td>\n",
              "      <td>2025-06-02 22:37:23.858189</td>\n",
              "      <td>2025-06-02 22:37:26.258246</td>\n",
              "      <td>0 days 00:00:02.400057</td>\n",
              "      <td>NaN</td>\n",
              "      <td>NaN</td>\n",
              "      <td>GradientBoostingClassifier</td>\n",
              "      <td>NaN</td>\n",
              "      <td>NaN</td>\n",
              "      <td>0.111565</td>\n",
              "      <td>20.0</td>\n",
              "      <td>10.0</td>\n",
              "      <td>9.0</td>\n",
              "      <td>137.0</td>\n",
              "      <td>COMPLETE</td>\n",
              "    </tr>\n",
              "    <tr>\n",
              "      <th>1</th>\n",
              "      <td>1</td>\n",
              "      <td>0.692737</td>\n",
              "      <td>2025-06-02 22:37:26.259964</td>\n",
              "      <td>2025-06-02 22:37:26.337450</td>\n",
              "      <td>0 days 00:00:00.077486</td>\n",
              "      <td>13.913077</td>\n",
              "      <td>NaN</td>\n",
              "      <td>SVC</td>\n",
              "      <td>scale</td>\n",
              "      <td>sigmoid</td>\n",
              "      <td>NaN</td>\n",
              "      <td>NaN</td>\n",
              "      <td>NaN</td>\n",
              "      <td>NaN</td>\n",
              "      <td>NaN</td>\n",
              "      <td>COMPLETE</td>\n",
              "    </tr>\n",
              "    <tr>\n",
              "      <th>2</th>\n",
              "      <td>2</td>\n",
              "      <td>0.785847</td>\n",
              "      <td>2025-06-02 22:37:26.339531</td>\n",
              "      <td>2025-06-02 22:37:26.420142</td>\n",
              "      <td>0 days 00:00:00.080611</td>\n",
              "      <td>0.314985</td>\n",
              "      <td>NaN</td>\n",
              "      <td>SVC</td>\n",
              "      <td>auto</td>\n",
              "      <td>linear</td>\n",
              "      <td>NaN</td>\n",
              "      <td>NaN</td>\n",
              "      <td>NaN</td>\n",
              "      <td>NaN</td>\n",
              "      <td>NaN</td>\n",
              "      <td>COMPLETE</td>\n",
              "    </tr>\n",
              "    <tr>\n",
              "      <th>3</th>\n",
              "      <td>3</td>\n",
              "      <td>0.728119</td>\n",
              "      <td>2025-06-02 22:37:26.422320</td>\n",
              "      <td>2025-06-02 22:37:29.465596</td>\n",
              "      <td>0 days 00:00:03.043276</td>\n",
              "      <td>NaN</td>\n",
              "      <td>NaN</td>\n",
              "      <td>GradientBoostingClassifier</td>\n",
              "      <td>NaN</td>\n",
              "      <td>NaN</td>\n",
              "      <td>0.223126</td>\n",
              "      <td>16.0</td>\n",
              "      <td>5.0</td>\n",
              "      <td>7.0</td>\n",
              "      <td>96.0</td>\n",
              "      <td>COMPLETE</td>\n",
              "    </tr>\n",
              "    <tr>\n",
              "      <th>4</th>\n",
              "      <td>4</td>\n",
              "      <td>0.767225</td>\n",
              "      <td>2025-06-02 22:37:29.467243</td>\n",
              "      <td>2025-06-02 22:37:29.560656</td>\n",
              "      <td>0 days 00:00:00.093413</td>\n",
              "      <td>0.336864</td>\n",
              "      <td>NaN</td>\n",
              "      <td>SVC</td>\n",
              "      <td>scale</td>\n",
              "      <td>rbf</td>\n",
              "      <td>NaN</td>\n",
              "      <td>NaN</td>\n",
              "      <td>NaN</td>\n",
              "      <td>NaN</td>\n",
              "      <td>NaN</td>\n",
              "      <td>COMPLETE</td>\n",
              "    </tr>\n",
              "    <tr>\n",
              "      <th>5</th>\n",
              "      <td>5</td>\n",
              "      <td>0.767225</td>\n",
              "      <td>2025-06-02 22:37:29.561898</td>\n",
              "      <td>2025-06-02 22:37:30.185413</td>\n",
              "      <td>0 days 00:00:00.623515</td>\n",
              "      <td>NaN</td>\n",
              "      <td>False</td>\n",
              "      <td>RandomForestClassifier</td>\n",
              "      <td>NaN</td>\n",
              "      <td>NaN</td>\n",
              "      <td>NaN</td>\n",
              "      <td>4.0</td>\n",
              "      <td>4.0</td>\n",
              "      <td>6.0</td>\n",
              "      <td>93.0</td>\n",
              "      <td>COMPLETE</td>\n",
              "    </tr>\n",
              "    <tr>\n",
              "      <th>6</th>\n",
              "      <td>6</td>\n",
              "      <td>0.761639</td>\n",
              "      <td>2025-06-02 22:37:30.187607</td>\n",
              "      <td>2025-06-02 22:37:31.868895</td>\n",
              "      <td>0 days 00:00:01.681288</td>\n",
              "      <td>NaN</td>\n",
              "      <td>True</td>\n",
              "      <td>RandomForestClassifier</td>\n",
              "      <td>NaN</td>\n",
              "      <td>NaN</td>\n",
              "      <td>NaN</td>\n",
              "      <td>5.0</td>\n",
              "      <td>4.0</td>\n",
              "      <td>9.0</td>\n",
              "      <td>198.0</td>\n",
              "      <td>COMPLETE</td>\n",
              "    </tr>\n",
              "    <tr>\n",
              "      <th>7</th>\n",
              "      <td>7</td>\n",
              "      <td>0.716946</td>\n",
              "      <td>2025-06-02 22:37:31.870024</td>\n",
              "      <td>2025-06-02 22:37:31.908651</td>\n",
              "      <td>0 days 00:00:00.038627</td>\n",
              "      <td>3.153984</td>\n",
              "      <td>NaN</td>\n",
              "      <td>SVC</td>\n",
              "      <td>scale</td>\n",
              "      <td>sigmoid</td>\n",
              "      <td>NaN</td>\n",
              "      <td>NaN</td>\n",
              "      <td>NaN</td>\n",
              "      <td>NaN</td>\n",
              "      <td>NaN</td>\n",
              "      <td>COMPLETE</td>\n",
              "    </tr>\n",
              "    <tr>\n",
              "      <th>8</th>\n",
              "      <td>8</td>\n",
              "      <td>0.761639</td>\n",
              "      <td>2025-06-02 22:37:31.910278</td>\n",
              "      <td>2025-06-02 22:37:36.302636</td>\n",
              "      <td>0 days 00:00:04.392358</td>\n",
              "      <td>NaN</td>\n",
              "      <td>True</td>\n",
              "      <td>RandomForestClassifier</td>\n",
              "      <td>NaN</td>\n",
              "      <td>NaN</td>\n",
              "      <td>NaN</td>\n",
              "      <td>8.0</td>\n",
              "      <td>8.0</td>\n",
              "      <td>4.0</td>\n",
              "      <td>280.0</td>\n",
              "      <td>COMPLETE</td>\n",
              "    </tr>\n",
              "    <tr>\n",
              "      <th>9</th>\n",
              "      <td>9</td>\n",
              "      <td>0.754190</td>\n",
              "      <td>2025-06-02 22:37:36.312520</td>\n",
              "      <td>2025-06-02 22:37:40.289602</td>\n",
              "      <td>0 days 00:00:03.977082</td>\n",
              "      <td>NaN</td>\n",
              "      <td>True</td>\n",
              "      <td>RandomForestClassifier</td>\n",
              "      <td>NaN</td>\n",
              "      <td>NaN</td>\n",
              "      <td>NaN</td>\n",
              "      <td>4.0</td>\n",
              "      <td>8.0</td>\n",
              "      <td>6.0</td>\n",
              "      <td>142.0</td>\n",
              "      <td>COMPLETE</td>\n",
              "    </tr>\n",
              "  </tbody>\n",
              "</table>\n",
              "</div>"
            ],
            "text/plain": [
              "   number     value             datetime_start          datetime_complete  \\\n",
              "0       0  0.715084 2025-06-02 22:37:23.858189 2025-06-02 22:37:26.258246   \n",
              "1       1  0.692737 2025-06-02 22:37:26.259964 2025-06-02 22:37:26.337450   \n",
              "2       2  0.785847 2025-06-02 22:37:26.339531 2025-06-02 22:37:26.420142   \n",
              "3       3  0.728119 2025-06-02 22:37:26.422320 2025-06-02 22:37:29.465596   \n",
              "4       4  0.767225 2025-06-02 22:37:29.467243 2025-06-02 22:37:29.560656   \n",
              "5       5  0.767225 2025-06-02 22:37:29.561898 2025-06-02 22:37:30.185413   \n",
              "6       6  0.761639 2025-06-02 22:37:30.187607 2025-06-02 22:37:31.868895   \n",
              "7       7  0.716946 2025-06-02 22:37:31.870024 2025-06-02 22:37:31.908651   \n",
              "8       8  0.761639 2025-06-02 22:37:31.910278 2025-06-02 22:37:36.302636   \n",
              "9       9  0.754190 2025-06-02 22:37:36.312520 2025-06-02 22:37:40.289602   \n",
              "\n",
              "                duration   params_C params_bootstrap  \\\n",
              "0 0 days 00:00:02.400057        NaN              NaN   \n",
              "1 0 days 00:00:00.077486  13.913077              NaN   \n",
              "2 0 days 00:00:00.080611   0.314985              NaN   \n",
              "3 0 days 00:00:03.043276        NaN              NaN   \n",
              "4 0 days 00:00:00.093413   0.336864              NaN   \n",
              "5 0 days 00:00:00.623515        NaN            False   \n",
              "6 0 days 00:00:01.681288        NaN             True   \n",
              "7 0 days 00:00:00.038627   3.153984              NaN   \n",
              "8 0 days 00:00:04.392358        NaN             True   \n",
              "9 0 days 00:00:03.977082        NaN             True   \n",
              "\n",
              "            params_classifier params_gamma params_kernal  \\\n",
              "0  GradientBoostingClassifier          NaN           NaN   \n",
              "1                         SVC        scale       sigmoid   \n",
              "2                         SVC         auto        linear   \n",
              "3  GradientBoostingClassifier          NaN           NaN   \n",
              "4                         SVC        scale           rbf   \n",
              "5      RandomForestClassifier          NaN           NaN   \n",
              "6      RandomForestClassifier          NaN           NaN   \n",
              "7                         SVC        scale       sigmoid   \n",
              "8      RandomForestClassifier          NaN           NaN   \n",
              "9      RandomForestClassifier          NaN           NaN   \n",
              "\n",
              "   params_learning_rate  params_max_depth  params_min_sample_leaf  \\\n",
              "0              0.111565              20.0                    10.0   \n",
              "1                   NaN               NaN                     NaN   \n",
              "2                   NaN               NaN                     NaN   \n",
              "3              0.223126              16.0                     5.0   \n",
              "4                   NaN               NaN                     NaN   \n",
              "5                   NaN               4.0                     4.0   \n",
              "6                   NaN               5.0                     4.0   \n",
              "7                   NaN               NaN                     NaN   \n",
              "8                   NaN               8.0                     8.0   \n",
              "9                   NaN               4.0                     8.0   \n",
              "\n",
              "   params_min_samples_split  params_n_estimators     state  \n",
              "0                       9.0                137.0  COMPLETE  \n",
              "1                       NaN                  NaN  COMPLETE  \n",
              "2                       NaN                  NaN  COMPLETE  \n",
              "3                       7.0                 96.0  COMPLETE  \n",
              "4                       NaN                  NaN  COMPLETE  \n",
              "5                       6.0                 93.0  COMPLETE  \n",
              "6                       9.0                198.0  COMPLETE  \n",
              "7                       NaN                  NaN  COMPLETE  \n",
              "8                       4.0                280.0  COMPLETE  \n",
              "9                       6.0                142.0  COMPLETE  "
            ]
          },
          "execution_count": 26,
          "metadata": {},
          "output_type": "execute_result"
        }
      ],
      "source": [
        "\n",
        "study.trials_dataframe()[:10]\n"
      ]
    },
    {
      "cell_type": "code",
      "execution_count": 27,
      "metadata": {
        "colab": {
          "base_uri": "https://localhost:8080/",
          "height": 210
        },
        "id": "bWalRpG9aSDf",
        "outputId": "262de694-e13b-470b-b397-627c1f71b8bd"
      },
      "outputs": [
        {
          "data": {
            "text/plain": [
              "params_classifier\n",
              "SVC                           80\n",
              "GradientBoostingClassifier    10\n",
              "RandomForestClassifier        10\n",
              "Name: count, dtype: int64"
            ]
          },
          "execution_count": 27,
          "metadata": {},
          "output_type": "execute_result"
        }
      ],
      "source": [
        "\n",
        "# Base on the result baysian understand that,we will get best result from SVC\n",
        "study.trials_dataframe()['params_classifier'].value_counts()\n",
        "\n"
      ]
    },
    {
      "cell_type": "code",
      "execution_count": 28,
      "metadata": {
        "colab": {
          "base_uri": "https://localhost:8080/",
          "height": 210
        },
        "id": "kA8WCoZWayPr",
        "outputId": "4d8fef81-2e8f-4bb2-d9e7-a8b162dbf70f"
      },
      "outputs": [
        {
          "data": {
            "text/plain": [
              "params_classifier\n",
              "GradientBoostingClassifier    0.730912\n",
              "RandomForestClassifier        0.766108\n",
              "SVC                           0.777235\n",
              "Name: value, dtype: float64"
            ]
          },
          "execution_count": 28,
          "metadata": {},
          "output_type": "execute_result"
        }
      ],
      "source": [
        "\n",
        "# average accuracy:\n",
        "study.trials_dataframe().groupby('params_classifier')['value'].mean()\n",
        "\n"
      ]
    },
    {
      "cell_type": "code",
      "execution_count": 29,
      "metadata": {
        "colab": {
          "base_uri": "https://localhost:8080/",
          "height": 542
        },
        "id": "tDD9cWePbX9N",
        "outputId": "4b1ef909-64fe-4624-f702-01802dc35560"
      },
      "outputs": [
        {
          "name": "stderr",
          "output_type": "stream",
          "text": [
            "/home/yasin/all_program/machine_learning/venv/lib/python3.13/site-packages/optuna/visualization/_contour.py:193: UserWarning:\n",
            "\n",
            "Contour plot will not be displayed because `C` and `bootstrap` cannot co-exist in `trial.params`.\n",
            "\n",
            "/home/yasin/all_program/machine_learning/venv/lib/python3.13/site-packages/optuna/visualization/_contour.py:193: UserWarning:\n",
            "\n",
            "Contour plot will not be displayed because `C` and `learning_rate` cannot co-exist in `trial.params`.\n",
            "\n",
            "/home/yasin/all_program/machine_learning/venv/lib/python3.13/site-packages/optuna/visualization/_contour.py:193: UserWarning:\n",
            "\n",
            "Contour plot will not be displayed because `C` and `max_depth` cannot co-exist in `trial.params`.\n",
            "\n",
            "/home/yasin/all_program/machine_learning/venv/lib/python3.13/site-packages/optuna/visualization/_contour.py:193: UserWarning:\n",
            "\n",
            "Contour plot will not be displayed because `C` and `min_sample_leaf` cannot co-exist in `trial.params`.\n",
            "\n",
            "/home/yasin/all_program/machine_learning/venv/lib/python3.13/site-packages/optuna/visualization/_contour.py:193: UserWarning:\n",
            "\n",
            "Contour plot will not be displayed because `C` and `min_samples_split` cannot co-exist in `trial.params`.\n",
            "\n",
            "/home/yasin/all_program/machine_learning/venv/lib/python3.13/site-packages/optuna/visualization/_contour.py:193: UserWarning:\n",
            "\n",
            "Contour plot will not be displayed because `C` and `n_estimators` cannot co-exist in `trial.params`.\n",
            "\n",
            "/home/yasin/all_program/machine_learning/venv/lib/python3.13/site-packages/optuna/visualization/_contour.py:193: UserWarning:\n",
            "\n",
            "Contour plot will not be displayed because `bootstrap` and `C` cannot co-exist in `trial.params`.\n",
            "\n",
            "/home/yasin/all_program/machine_learning/venv/lib/python3.13/site-packages/optuna/visualization/_contour.py:193: UserWarning:\n",
            "\n",
            "Contour plot will not be displayed because `bootstrap` and `gamma` cannot co-exist in `trial.params`.\n",
            "\n",
            "/home/yasin/all_program/machine_learning/venv/lib/python3.13/site-packages/optuna/visualization/_contour.py:193: UserWarning:\n",
            "\n",
            "Contour plot will not be displayed because `bootstrap` and `kernal` cannot co-exist in `trial.params`.\n",
            "\n",
            "/home/yasin/all_program/machine_learning/venv/lib/python3.13/site-packages/optuna/visualization/_contour.py:193: UserWarning:\n",
            "\n",
            "Contour plot will not be displayed because `bootstrap` and `learning_rate` cannot co-exist in `trial.params`.\n",
            "\n",
            "/home/yasin/all_program/machine_learning/venv/lib/python3.13/site-packages/optuna/visualization/_contour.py:193: UserWarning:\n",
            "\n",
            "Contour plot will not be displayed because `gamma` and `bootstrap` cannot co-exist in `trial.params`.\n",
            "\n",
            "/home/yasin/all_program/machine_learning/venv/lib/python3.13/site-packages/optuna/visualization/_contour.py:193: UserWarning:\n",
            "\n",
            "Contour plot will not be displayed because `gamma` and `learning_rate` cannot co-exist in `trial.params`.\n",
            "\n",
            "/home/yasin/all_program/machine_learning/venv/lib/python3.13/site-packages/optuna/visualization/_contour.py:193: UserWarning:\n",
            "\n",
            "Contour plot will not be displayed because `gamma` and `max_depth` cannot co-exist in `trial.params`.\n",
            "\n",
            "/home/yasin/all_program/machine_learning/venv/lib/python3.13/site-packages/optuna/visualization/_contour.py:193: UserWarning:\n",
            "\n",
            "Contour plot will not be displayed because `gamma` and `min_sample_leaf` cannot co-exist in `trial.params`.\n",
            "\n",
            "/home/yasin/all_program/machine_learning/venv/lib/python3.13/site-packages/optuna/visualization/_contour.py:193: UserWarning:\n",
            "\n",
            "Contour plot will not be displayed because `gamma` and `min_samples_split` cannot co-exist in `trial.params`.\n",
            "\n",
            "/home/yasin/all_program/machine_learning/venv/lib/python3.13/site-packages/optuna/visualization/_contour.py:193: UserWarning:\n",
            "\n",
            "Contour plot will not be displayed because `gamma` and `n_estimators` cannot co-exist in `trial.params`.\n",
            "\n",
            "/home/yasin/all_program/machine_learning/venv/lib/python3.13/site-packages/optuna/visualization/_contour.py:193: UserWarning:\n",
            "\n",
            "Contour plot will not be displayed because `kernal` and `bootstrap` cannot co-exist in `trial.params`.\n",
            "\n",
            "/home/yasin/all_program/machine_learning/venv/lib/python3.13/site-packages/optuna/visualization/_contour.py:193: UserWarning:\n",
            "\n",
            "Contour plot will not be displayed because `kernal` and `learning_rate` cannot co-exist in `trial.params`.\n",
            "\n",
            "/home/yasin/all_program/machine_learning/venv/lib/python3.13/site-packages/optuna/visualization/_contour.py:193: UserWarning:\n",
            "\n",
            "Contour plot will not be displayed because `kernal` and `max_depth` cannot co-exist in `trial.params`.\n",
            "\n",
            "/home/yasin/all_program/machine_learning/venv/lib/python3.13/site-packages/optuna/visualization/_contour.py:193: UserWarning:\n",
            "\n",
            "Contour plot will not be displayed because `kernal` and `min_sample_leaf` cannot co-exist in `trial.params`.\n",
            "\n",
            "/home/yasin/all_program/machine_learning/venv/lib/python3.13/site-packages/optuna/visualization/_contour.py:193: UserWarning:\n",
            "\n",
            "Contour plot will not be displayed because `kernal` and `min_samples_split` cannot co-exist in `trial.params`.\n",
            "\n",
            "/home/yasin/all_program/machine_learning/venv/lib/python3.13/site-packages/optuna/visualization/_contour.py:193: UserWarning:\n",
            "\n",
            "Contour plot will not be displayed because `kernal` and `n_estimators` cannot co-exist in `trial.params`.\n",
            "\n",
            "/home/yasin/all_program/machine_learning/venv/lib/python3.13/site-packages/optuna/visualization/_contour.py:193: UserWarning:\n",
            "\n",
            "Contour plot will not be displayed because `learning_rate` and `C` cannot co-exist in `trial.params`.\n",
            "\n",
            "/home/yasin/all_program/machine_learning/venv/lib/python3.13/site-packages/optuna/visualization/_contour.py:193: UserWarning:\n",
            "\n",
            "Contour plot will not be displayed because `learning_rate` and `bootstrap` cannot co-exist in `trial.params`.\n",
            "\n",
            "/home/yasin/all_program/machine_learning/venv/lib/python3.13/site-packages/optuna/visualization/_contour.py:193: UserWarning:\n",
            "\n",
            "Contour plot will not be displayed because `learning_rate` and `gamma` cannot co-exist in `trial.params`.\n",
            "\n",
            "/home/yasin/all_program/machine_learning/venv/lib/python3.13/site-packages/optuna/visualization/_contour.py:193: UserWarning:\n",
            "\n",
            "Contour plot will not be displayed because `learning_rate` and `kernal` cannot co-exist in `trial.params`.\n",
            "\n",
            "/home/yasin/all_program/machine_learning/venv/lib/python3.13/site-packages/optuna/visualization/_contour.py:193: UserWarning:\n",
            "\n",
            "Contour plot will not be displayed because `max_depth` and `C` cannot co-exist in `trial.params`.\n",
            "\n",
            "/home/yasin/all_program/machine_learning/venv/lib/python3.13/site-packages/optuna/visualization/_contour.py:193: UserWarning:\n",
            "\n",
            "Contour plot will not be displayed because `max_depth` and `gamma` cannot co-exist in `trial.params`.\n",
            "\n",
            "/home/yasin/all_program/machine_learning/venv/lib/python3.13/site-packages/optuna/visualization/_contour.py:193: UserWarning:\n",
            "\n",
            "Contour plot will not be displayed because `max_depth` and `kernal` cannot co-exist in `trial.params`.\n",
            "\n",
            "/home/yasin/all_program/machine_learning/venv/lib/python3.13/site-packages/optuna/visualization/_contour.py:193: UserWarning:\n",
            "\n",
            "Contour plot will not be displayed because `min_sample_leaf` and `C` cannot co-exist in `trial.params`.\n",
            "\n",
            "/home/yasin/all_program/machine_learning/venv/lib/python3.13/site-packages/optuna/visualization/_contour.py:193: UserWarning:\n",
            "\n",
            "Contour plot will not be displayed because `min_sample_leaf` and `gamma` cannot co-exist in `trial.params`.\n",
            "\n",
            "/home/yasin/all_program/machine_learning/venv/lib/python3.13/site-packages/optuna/visualization/_contour.py:193: UserWarning:\n",
            "\n",
            "Contour plot will not be displayed because `min_sample_leaf` and `kernal` cannot co-exist in `trial.params`.\n",
            "\n",
            "/home/yasin/all_program/machine_learning/venv/lib/python3.13/site-packages/optuna/visualization/_contour.py:193: UserWarning:\n",
            "\n",
            "Contour plot will not be displayed because `min_samples_split` and `C` cannot co-exist in `trial.params`.\n",
            "\n",
            "/home/yasin/all_program/machine_learning/venv/lib/python3.13/site-packages/optuna/visualization/_contour.py:193: UserWarning:\n",
            "\n",
            "Contour plot will not be displayed because `min_samples_split` and `gamma` cannot co-exist in `trial.params`.\n",
            "\n",
            "/home/yasin/all_program/machine_learning/venv/lib/python3.13/site-packages/optuna/visualization/_contour.py:193: UserWarning:\n",
            "\n",
            "Contour plot will not be displayed because `min_samples_split` and `kernal` cannot co-exist in `trial.params`.\n",
            "\n",
            "/home/yasin/all_program/machine_learning/venv/lib/python3.13/site-packages/optuna/visualization/_contour.py:193: UserWarning:\n",
            "\n",
            "Contour plot will not be displayed because `n_estimators` and `C` cannot co-exist in `trial.params`.\n",
            "\n",
            "/home/yasin/all_program/machine_learning/venv/lib/python3.13/site-packages/optuna/visualization/_contour.py:193: UserWarning:\n",
            "\n",
            "Contour plot will not be displayed because `n_estimators` and `gamma` cannot co-exist in `trial.params`.\n",
            "\n",
            "/home/yasin/all_program/machine_learning/venv/lib/python3.13/site-packages/optuna/visualization/_contour.py:193: UserWarning:\n",
            "\n",
            "Contour plot will not be displayed because `n_estimators` and `kernal` cannot co-exist in `trial.params`.\n",
            "\n"
          ]
        },
        {
          "data": {
            "application/vnd.plotly.v1+json": {
              "config": {
                "plotlyServerURL": "https://plot.ly"
              },
              "data": [
                {
                  "type": "scatter",
                  "xaxis": "x",
                  "yaxis": "y"
                },
                {
                  "showscale": true,
                  "type": "contour",
                  "xaxis": "x11",
                  "yaxis": "y11"
                },
                {
                  "type": "scatter",
                  "xaxis": "x11",
                  "yaxis": "y11"
                },
                {
                  "colorbar": {
                    "title": {
                      "text": "Objective Value"
                    }
                  },
                  "colorscale": [
                    [
                      0,
                      "rgb(247,251,255)"
                    ],
                    [
                      0.125,
                      "rgb(222,235,247)"
                    ],
                    [
                      0.25,
                      "rgb(198,219,239)"
                    ],
                    [
                      0.375,
                      "rgb(158,202,225)"
                    ],
                    [
                      0.5,
                      "rgb(107,174,214)"
                    ],
                    [
                      0.625,
                      "rgb(66,146,198)"
                    ],
                    [
                      0.75,
                      "rgb(33,113,181)"
                    ],
                    [
                      0.875,
                      "rgb(8,81,156)"
                    ],
                    [
                      1,
                      "rgb(8,48,107)"
                    ]
                  ],
                  "connectgaps": true,
                  "contours": {
                    "coloring": "heatmap"
                  },
                  "hoverinfo": "none",
                  "line": {
                    "smoothing": 1.3
                  },
                  "reversescale": false,
                  "showscale": false,
                  "type": "contour",
                  "x": [
                    0.07102148437105604,
                    0.10007272220904628,
                    0.10039056099633278,
                    0.10115633171825845,
                    0.10153928400906005,
                    0.10205553665570154,
                    0.10308192451987823,
                    0.10409374567582377,
                    0.10457358088434926,
                    0.10483650264359223,
                    0.1081911571401759,
                    0.11304695973433003,
                    0.11354816203530115,
                    0.11981265140213047,
                    0.12337798690937811,
                    0.12630599718925253,
                    0.12764058635384354,
                    0.1326946906743066,
                    0.13425137910046955,
                    0.1352086153340556,
                    0.13568526712078438,
                    0.13706238896427445,
                    0.13720632295060417,
                    0.14083621505731062,
                    0.14231133062694334,
                    0.1434854061845568,
                    0.14350477004843887,
                    0.1435758034480684,
                    0.1444360051218893,
                    0.14855371072309462,
                    0.1492663466459686,
                    0.15401834490584257,
                    0.15786978205638558,
                    0.1587858308497272,
                    0.16044624250588307,
                    0.16432147502999142,
                    0.16836901695868275,
                    0.1697753834155394,
                    0.1774194406636549,
                    0.17870583733615583,
                    0.18228242870516598,
                    0.18929615276475428,
                    0.19742536815509312,
                    0.19786644010962395,
                    0.20213001414491108,
                    0.20372663971304494,
                    0.20594418521771862,
                    0.21097589970492317,
                    0.22881944454482925,
                    0.2386118943243957,
                    0.23876170530451463,
                    0.24431349558176377,
                    0.2567342391350688,
                    0.26023475235098703,
                    0.2785638935162879,
                    0.2930764378604139,
                    0.30073877553165934,
                    0.3149849846620663,
                    0.31677968275691126,
                    0.3368635429290294,
                    0.33979043944081333,
                    0.37577606951277126,
                    0.3777967879195586,
                    0.42959014468756407,
                    0.4662193720000368,
                    0.5202346778097137,
                    0.5673937771597742,
                    0.6637318927821514,
                    0.8579476759778423,
                    0.8872969686043283,
                    1.394182172015757,
                    1.5998939555590013,
                    1.6035884544281889,
                    3.1539844450923975,
                    4.314756580922081,
                    6.079013149343286,
                    13.913077431197095,
                    15.00935758195136,
                    29.210834340438872,
                    88.07413852323239,
                    95.24344374276983,
                    134.20263983932574
                  ],
                  "xaxis": "x21",
                  "y": [
                    "GradientBoostingClassifier",
                    "RandomForestClassifier",
                    "SVC"
                  ],
                  "yaxis": "y21",
                  "z": {
                    "bdata": "AAAAAAAA+H8AAAAAAAD4fwAAAAAAAPh/AAAAAAAA+H8AAAAAAAD4fwAAAAAAAPh/AAAAAAAA+H8AAAAAAAD4fwAAAAAAAPh/AAAAAAAA+H8AAAAAAAD4fwAAAAAAAPh/AAAAAAAA+H8AAAAAAAD4fwAAAAAAAPh/AAAAAAAA+H8AAAAAAAD4fwAAAAAAAPh/AAAAAAAA+H8AAAAAAAD4fwAAAAAAAPh/AAAAAAAA+H8AAAAAAAD4fwAAAAAAAPh/AAAAAAAA+H8AAAAAAAD4fwAAAAAAAPh/AAAAAAAA+H8AAAAAAAD4fwAAAAAAAPh/AAAAAAAA+H8AAAAAAAD4fwAAAAAAAPh/AAAAAAAA+H8AAAAAAAD4fwAAAAAAAPh/AAAAAAAA+H8AAAAAAAD4fwAAAAAAAPh/AAAAAAAA+H8AAAAAAAD4fwAAAAAAAPh/AAAAAAAA+H8AAAAAAAD4fwAAAAAAAPh/AAAAAAAA+H8AAAAAAAD4fwAAAAAAAPh/AAAAAAAA+H8AAAAAAAD4fwAAAAAAAPh/AAAAAAAA+H8AAAAAAAD4fwAAAAAAAPh/AAAAAAAA+H8AAAAAAAD4fwAAAAAAAPh/AAAAAAAA+H8AAAAAAAD4fwAAAAAAAPh/AAAAAAAA+H8AAAAAAAD4fwAAAAAAAPh/AAAAAAAA+H8AAAAAAAD4fwAAAAAAAPh/AAAAAAAA+H8AAAAAAAD4fwAAAAAAAPh/AAAAAAAA+H8AAAAAAAD4fwAAAAAAAPh/AAAAAAAA+H8AAAAAAAD4fwAAAAAAAPh/AAAAAAAA+H8AAAAAAAD4fwAAAAAAAPh/AAAAAAAA+H8AAAAAAAD4fwAAAAAAAPh/AAAAAAAA+H8AAAAAAAD4fwAAAAAAAPh/AAAAAAAA+H8AAAAAAAD4fwAAAAAAAPh/AAAAAAAA+H8AAAAAAAD4fwAAAAAAAPh/AAAAAAAA+H8AAAAAAAD4fwAAAAAAAPh/AAAAAAAA+H8AAAAAAAD4fwAAAAAAAPh/AAAAAAAA+H8AAAAAAAD4fwAAAAAAAPh/AAAAAAAA+H8AAAAAAAD4fwAAAAAAAPh/AAAAAAAA+H8AAAAAAAD4fwAAAAAAAPh/AAAAAAAA+H8AAAAAAAD4fwAAAAAAAPh/AAAAAAAA+H8AAAAAAAD4fwAAAAAAAPh/AAAAAAAA+H8AAAAAAAD4fwAAAAAAAPh/AAAAAAAA+H8AAAAAAAD4fwAAAAAAAPh/AAAAAAAA+H8AAAAAAAD4fwAAAAAAAPh/AAAAAAAA+H8AAAAAAAD4fwAAAAAAAPh/AAAAAAAA+H8AAAAAAAD4fwAAAAAAAPh/AAAAAAAA+H8AAAAAAAD4fwAAAAAAAPh/AAAAAAAA+H8AAAAAAAD4fwAAAAAAAPh/AAAAAAAA+H8AAAAAAAD4fwAAAAAAAPh/AAAAAAAA+H8AAAAAAAD4fwAAAAAAAPh/AAAAAAAA+H8AAAAAAAD4fwAAAAAAAPh/AAAAAAAA+H8AAAAAAAD4fwAAAAAAAPh/AAAAAAAA+H8AAAAAAAD4fwAAAAAAAPh/AAAAAAAA+H8AAAAAAAD4fwAAAAAAAPh/AAAAAAAA+H8AAAAAAAD4fwAAAAAAAPh/AAAAAAAA+H8AAAAAAAD4fwAAAAAAAPh/AAAAAAAA+H8AAAAAAAD4fwAAAAAAAPh/AAAAAAAA+H8AAAAAAAD4fwAAAAAAAPh/AAAAAAAA+H8AAAAAAAD4fwAAAAAAAPh/cAsojOo06T9wCyiM6jTpP3ALKIzqNOk/cAsojOo06T9wCyiM6jTpP3ALKIzqNOk/cAsojOo06T9wCyiM6jTpP3ALKIzqNOk/cAsojOo06T/r4sTbK0TpP+vixNsrROk/6+LE2ytE6T/r4sTbK0TpPxgn3l4hyug/6+LE2ytE6T/r4sTbK0TpP+vixNsrROk/6+LE2ytE6T/r4sTbK0TpP+vixNsrROk/6+LE2ytE6T/r4sTbK0TpP+vixNsrROk/6+LE2ytE6T/r4sTbK0TpP+vixNsrROk/6+LE2ytE6T/r4sTbK0TpP+vixNsrROk/6+LE2ytE6T9wCyiM6jTpP3ALKIzqNOk/cAsojOo06T+dT0EP4LroP3ALKIzqNOk/RGv34RZQ6D9wCyiM6jTpP3ALKIzqNOk/cAsojOo06T8YJ95eIcroP/czizypJek/9zOLPKkl6T/3M4s8qSXpP/czizypJek/9zOLPKkl6T8jeKS/nqvoP7zmfAp6AOc/9zOLPKkl6T/3M4s8qSXpP/czizypJek/RGv34RZQ6D/3M4s8qSXpP/czizypJek/9zOLPKkl6T/3M4s8qSXpP/czizypJek/9zOLPKkl6T8tyWogHI3oP3xc7uxnFuk/kKJjh4R65z8BhVGdJgfpPzgaMYGZbug/fFzu7GcW6T98XO7sZxbpP3xc7uxnFuk/9zOLPKkl6T/3M4s8qSXpPxgn3l4hyug/LG1T+T0u5z+ooAdwXZzoP/UzizypJek/QQ/gujjx5j//KDp2SKjnP0xgphu20uY/CB7pr+cq5j/RiAnMdMPmP1ixbHwztOY/9TOLPKkl6T/1M4s8qSXpPwAAAAAAAPh/",
                    "dtype": "f8",
                    "shape": "3, 82"
                  }
                },
                {
                  "marker": {
                    "color": "black",
                    "line": {
                      "color": "Gray",
                      "width": 2
                    }
                  },
                  "mode": "markers",
                  "name": "Feasible Trial",
                  "showlegend": false,
                  "type": "scatter",
                  "x": [
                    13.913077431197095,
                    0.3149849846620663,
                    0.3368635429290294,
                    3.1539844450923975,
                    0.10308192451987823,
                    0.13425137910046955,
                    0.11304695973433003,
                    0.10409374567582377,
                    1.394182172015757,
                    95.24344374276983,
                    0.5202346778097137,
                    0.8872969686043283,
                    15.00935758195136,
                    0.10483650264359223,
                    0.10457358088434926,
                    0.30073877553165934,
                    0.19742536815509312,
                    0.19786644010962395,
                    0.8579476759778423,
                    0.21097589970492317,
                    0.10007272220904628,
                    0.10205553665570154,
                    0.1774194406636549,
                    0.5673937771597742,
                    0.1697753834155394,
                    0.37577606951277126,
                    0.16044624250588307,
                    1.6035884544281889,
                    0.1081911571401759,
                    0.10115633171825845,
                    0.16836901695868275,
                    6.079013149343286,
                    0.26023475235098703,
                    0.13720632295060417,
                    0.42959014468756407,
                    0.2785638935162879,
                    0.14855371072309462,
                    0.1435758034480684,
                    0.1444360051218893,
                    0.16432147502999142,
                    0.31677968275691126,
                    0.1434854061845568,
                    29.210834340438872,
                    0.23876170530451463,
                    0.6637318927821514,
                    0.14350477004843887,
                    0.1492663466459686,
                    0.1352086153340556,
                    0.3777967879195586,
                    0.2567342391350688,
                    0.14083621505731062,
                    0.2386118943243957,
                    4.314756580922081,
                    0.12764058635384354,
                    0.20594418521771862,
                    0.13706238896427445,
                    0.13568526712078438,
                    0.20372663971304494,
                    0.12630599718925253,
                    0.20213001414491108,
                    0.4662193720000368,
                    0.2930764378604139,
                    88.07413852323239,
                    0.15401834490584257,
                    0.1326946906743066,
                    0.17870583733615583,
                    0.11354816203530115,
                    0.1587858308497272,
                    1.5998939555590013,
                    0.33979043944081333,
                    0.22881944454482925,
                    0.12337798690937811,
                    0.10153928400906005,
                    0.15786978205638558,
                    0.18228242870516598,
                    0.11981265140213047,
                    0.14231133062694334,
                    0.18929615276475428,
                    0.10039056099633278,
                    0.24431349558176377
                  ],
                  "xaxis": "x21",
                  "y": [
                    "SVC",
                    "SVC",
                    "SVC",
                    "SVC",
                    "SVC",
                    "SVC",
                    "SVC",
                    "SVC",
                    "SVC",
                    "SVC",
                    "SVC",
                    "SVC",
                    "SVC",
                    "SVC",
                    "SVC",
                    "SVC",
                    "SVC",
                    "SVC",
                    "SVC",
                    "SVC",
                    "SVC",
                    "SVC",
                    "SVC",
                    "SVC",
                    "SVC",
                    "SVC",
                    "SVC",
                    "SVC",
                    "SVC",
                    "SVC",
                    "SVC",
                    "SVC",
                    "SVC",
                    "SVC",
                    "SVC",
                    "SVC",
                    "SVC",
                    "SVC",
                    "SVC",
                    "SVC",
                    "SVC",
                    "SVC",
                    "SVC",
                    "SVC",
                    "SVC",
                    "SVC",
                    "SVC",
                    "SVC",
                    "SVC",
                    "SVC",
                    "SVC",
                    "SVC",
                    "SVC",
                    "SVC",
                    "SVC",
                    "SVC",
                    "SVC",
                    "SVC",
                    "SVC",
                    "SVC",
                    "SVC",
                    "SVC",
                    "SVC",
                    "SVC",
                    "SVC",
                    "SVC",
                    "SVC",
                    "SVC",
                    "SVC",
                    "SVC",
                    "SVC",
                    "SVC",
                    "SVC",
                    "SVC",
                    "SVC",
                    "SVC",
                    "SVC",
                    "SVC",
                    "SVC",
                    "SVC"
                  ],
                  "yaxis": "y21"
                },
                {
                  "colorbar": {
                    "title": {
                      "text": "Objective Value"
                    }
                  },
                  "colorscale": [
                    [
                      0,
                      "rgb(247,251,255)"
                    ],
                    [
                      0.125,
                      "rgb(222,235,247)"
                    ],
                    [
                      0.25,
                      "rgb(198,219,239)"
                    ],
                    [
                      0.375,
                      "rgb(158,202,225)"
                    ],
                    [
                      0.5,
                      "rgb(107,174,214)"
                    ],
                    [
                      0.625,
                      "rgb(66,146,198)"
                    ],
                    [
                      0.75,
                      "rgb(33,113,181)"
                    ],
                    [
                      0.875,
                      "rgb(8,81,156)"
                    ],
                    [
                      1,
                      "rgb(8,48,107)"
                    ]
                  ],
                  "connectgaps": true,
                  "contours": {
                    "coloring": "heatmap"
                  },
                  "hoverinfo": "none",
                  "line": {
                    "smoothing": 1.3
                  },
                  "reversescale": false,
                  "showscale": false,
                  "type": "contour",
                  "x": [
                    0.07102148437105604,
                    0.10007272220904628,
                    0.10039056099633278,
                    0.10115633171825845,
                    0.10153928400906005,
                    0.10205553665570154,
                    0.10308192451987823,
                    0.10409374567582377,
                    0.10457358088434926,
                    0.10483650264359223,
                    0.1081911571401759,
                    0.11304695973433003,
                    0.11354816203530115,
                    0.11981265140213047,
                    0.12337798690937811,
                    0.12630599718925253,
                    0.12764058635384354,
                    0.1326946906743066,
                    0.13425137910046955,
                    0.1352086153340556,
                    0.13568526712078438,
                    0.13706238896427445,
                    0.13720632295060417,
                    0.14083621505731062,
                    0.14231133062694334,
                    0.1434854061845568,
                    0.14350477004843887,
                    0.1435758034480684,
                    0.1444360051218893,
                    0.14855371072309462,
                    0.1492663466459686,
                    0.15401834490584257,
                    0.15786978205638558,
                    0.1587858308497272,
                    0.16044624250588307,
                    0.16432147502999142,
                    0.16836901695868275,
                    0.1697753834155394,
                    0.1774194406636549,
                    0.17870583733615583,
                    0.18228242870516598,
                    0.18929615276475428,
                    0.19742536815509312,
                    0.19786644010962395,
                    0.20213001414491108,
                    0.20372663971304494,
                    0.20594418521771862,
                    0.21097589970492317,
                    0.22881944454482925,
                    0.2386118943243957,
                    0.23876170530451463,
                    0.24431349558176377,
                    0.2567342391350688,
                    0.26023475235098703,
                    0.2785638935162879,
                    0.2930764378604139,
                    0.30073877553165934,
                    0.3149849846620663,
                    0.31677968275691126,
                    0.3368635429290294,
                    0.33979043944081333,
                    0.37577606951277126,
                    0.3777967879195586,
                    0.42959014468756407,
                    0.4662193720000368,
                    0.5202346778097137,
                    0.5673937771597742,
                    0.6637318927821514,
                    0.8579476759778423,
                    0.8872969686043283,
                    1.394182172015757,
                    1.5998939555590013,
                    1.6035884544281889,
                    3.1539844450923975,
                    4.314756580922081,
                    6.079013149343286,
                    13.913077431197095,
                    15.00935758195136,
                    29.210834340438872,
                    88.07413852323239,
                    95.24344374276983,
                    134.20263983932574
                  ],
                  "xaxis": "x31",
                  "y": [
                    "auto",
                    "scale"
                  ],
                  "yaxis": "y31",
                  "z": {
                    "bdata": "AAAAAAAA+H9wCyiM6jTpPwAAAAAAAPh/cAsojOo06T8AAAAAAAD4f3ALKIzqNOk/cAsojOo06T9wCyiM6jTpP3ALKIzqNOk/cAsojOo06T9wCyiM6jTpP+vixNsrROk/AAAAAAAA+H8AAAAAAAD4fwAAAAAAAPh/AAAAAAAA+H8AAAAAAAD4fwAAAAAAAPh/6+LE2ytE6T8AAAAAAAD4fwAAAAAAAPh/AAAAAAAA+H8AAAAAAAD4fwAAAAAAAPh/6+LE2ytE6T8AAAAAAAD4fwAAAAAAAPh/AAAAAAAA+H8AAAAAAAD4fwAAAAAAAPh/AAAAAAAA+H8AAAAAAAD4fwAAAAAAAPh/AAAAAAAA+H9wCyiM6jTpPwAAAAAAAPh/cAsojOo06T9Ea/fhFlDoP3ALKIzqNOk/AAAAAAAA+H9wCyiM6jTpPwAAAAAAAPh/9zOLPKkl6T/3M4s8qSXpPwAAAAAAAPh/AAAAAAAA+H8AAAAAAAD4fyN4pL+eq+g/AAAAAAAA+H8AAAAAAAD4fwAAAAAAAPh/9zOLPKkl6T8AAAAAAAD4f/czizypJek/AAAAAAAA+H8AAAAAAAD4f/czizypJek/9zOLPKkl6T8AAAAAAAD4fwAAAAAAAPh/AAAAAAAA+H+QomOHhHrnPwAAAAAAAPh/AAAAAAAA+H8AAAAAAAD4f3xc7uxnFuk/fFzu7GcW6T8AAAAAAAD4fwAAAAAAAPh/GCfeXiHK6D8sbVP5PS7nPwAAAAAAAPh/AAAAAAAA+H8AAAAAAAD4fwAAAAAAAPh/TGCmG7bS5j8AAAAAAAD4f9GICcx0w+Y/AAAAAAAA+H8AAAAAAAD4f/UzizypJek/AAAAAAAA+H8AAAAAAAD4fwAAAAAAAPh/cAsojOo06T8AAAAAAAD4f3ALKIzqNOk/AAAAAAAA+H8AAAAAAAD4fwAAAAAAAPh/AAAAAAAA+H8AAAAAAAD4fwAAAAAAAPh/AAAAAAAA+H/r4sTbK0TpP+vixNsrROk/6+LE2ytE6T8YJ95eIcroP+vixNsrROk/6+LE2ytE6T8AAAAAAAD4f+vixNsrROk/6+LE2ytE6T/r4sTbK0TpP+vixNsrROk/6+LE2ytE6T8AAAAAAAD4f+vixNsrROk/6+LE2ytE6T/r4sTbK0TpP+vixNsrROk/6+LE2ytE6T/r4sTbK0TpP+vixNsrROk/cAsojOo06T9wCyiM6jTpPwAAAAAAAPh/nU9BD+C66D8AAAAAAAD4fwAAAAAAAPh/AAAAAAAA+H9wCyiM6jTpPwAAAAAAAPh/GCfeXiHK6D8AAAAAAAD4fwAAAAAAAPh/9zOLPKkl6T/3M4s8qSXpP/czizypJek/AAAAAAAA+H+85nwKegDnP/czizypJek/9zOLPKkl6T8AAAAAAAD4f0Rr9+EWUOg/AAAAAAAA+H/3M4s8qSXpP/czizypJek/AAAAAAAA+H8AAAAAAAD4f/czizypJek/LclqIByN6D98XO7sZxbpPwAAAAAAAPh/AYVRnSYH6T84GjGBmW7oP3xc7uxnFuk/AAAAAAAA+H8AAAAAAAD4f/czizypJek/9zOLPKkl6T8AAAAAAAD4fwAAAAAAAPh/qKAHcF2c6D/1M4s8qSXpP0EP4Lo48eY//yg6dkio5z8AAAAAAAD4fwge6a/nKuY/AAAAAAAA+H9YsWx8M7TmP/UzizypJek/AAAAAAAA+H8AAAAAAAD4fw==",
                    "dtype": "f8",
                    "shape": "2, 82"
                  }
                },
                {
                  "marker": {
                    "color": "black",
                    "line": {
                      "color": "Gray",
                      "width": 2
                    }
                  },
                  "mode": "markers",
                  "name": "Feasible Trial",
                  "showlegend": false,
                  "type": "scatter",
                  "x": [
                    13.913077431197095,
                    0.3149849846620663,
                    0.3368635429290294,
                    3.1539844450923975,
                    0.10308192451987823,
                    0.13425137910046955,
                    0.11304695973433003,
                    0.10409374567582377,
                    1.394182172015757,
                    95.24344374276983,
                    0.5202346778097137,
                    0.8872969686043283,
                    15.00935758195136,
                    0.10483650264359223,
                    0.10457358088434926,
                    0.30073877553165934,
                    0.19742536815509312,
                    0.19786644010962395,
                    0.8579476759778423,
                    0.21097589970492317,
                    0.10007272220904628,
                    0.10205553665570154,
                    0.1774194406636549,
                    0.5673937771597742,
                    0.1697753834155394,
                    0.37577606951277126,
                    0.16044624250588307,
                    1.6035884544281889,
                    0.1081911571401759,
                    0.10115633171825845,
                    0.16836901695868275,
                    6.079013149343286,
                    0.26023475235098703,
                    0.13720632295060417,
                    0.42959014468756407,
                    0.2785638935162879,
                    0.14855371072309462,
                    0.1435758034480684,
                    0.1444360051218893,
                    0.16432147502999142,
                    0.31677968275691126,
                    0.1434854061845568,
                    29.210834340438872,
                    0.23876170530451463,
                    0.6637318927821514,
                    0.14350477004843887,
                    0.1492663466459686,
                    0.1352086153340556,
                    0.3777967879195586,
                    0.2567342391350688,
                    0.14083621505731062,
                    0.2386118943243957,
                    4.314756580922081,
                    0.12764058635384354,
                    0.20594418521771862,
                    0.13706238896427445,
                    0.13568526712078438,
                    0.20372663971304494,
                    0.12630599718925253,
                    0.20213001414491108,
                    0.4662193720000368,
                    0.2930764378604139,
                    88.07413852323239,
                    0.15401834490584257,
                    0.1326946906743066,
                    0.17870583733615583,
                    0.11354816203530115,
                    0.1587858308497272,
                    1.5998939555590013,
                    0.33979043944081333,
                    0.22881944454482925,
                    0.12337798690937811,
                    0.10153928400906005,
                    0.15786978205638558,
                    0.18228242870516598,
                    0.11981265140213047,
                    0.14231133062694334,
                    0.18929615276475428,
                    0.10039056099633278,
                    0.24431349558176377
                  ],
                  "xaxis": "x31",
                  "y": [
                    "scale",
                    "auto",
                    "scale",
                    "scale",
                    "auto",
                    "auto",
                    "auto",
                    "auto",
                    "auto",
                    "auto",
                    "auto",
                    "auto",
                    "auto",
                    "auto",
                    "auto",
                    "auto",
                    "auto",
                    "auto",
                    "scale",
                    "auto",
                    "auto",
                    "auto",
                    "auto",
                    "auto",
                    "auto",
                    "auto",
                    "auto",
                    "scale",
                    "auto",
                    "auto",
                    "auto",
                    "auto",
                    "auto",
                    "scale",
                    "scale",
                    "scale",
                    "scale",
                    "scale",
                    "scale",
                    "scale",
                    "scale",
                    "scale",
                    "scale",
                    "scale",
                    "scale",
                    "scale",
                    "scale",
                    "scale",
                    "scale",
                    "scale",
                    "scale",
                    "scale",
                    "scale",
                    "scale",
                    "scale",
                    "scale",
                    "scale",
                    "scale",
                    "scale",
                    "scale",
                    "scale",
                    "scale",
                    "scale",
                    "scale",
                    "scale",
                    "scale",
                    "scale",
                    "scale",
                    "scale",
                    "scale",
                    "scale",
                    "scale",
                    "scale",
                    "scale",
                    "auto",
                    "scale",
                    "auto",
                    "scale",
                    "scale",
                    "auto"
                  ],
                  "yaxis": "y31"
                },
                {
                  "colorbar": {
                    "title": {
                      "text": "Objective Value"
                    }
                  },
                  "colorscale": [
                    [
                      0,
                      "rgb(247,251,255)"
                    ],
                    [
                      0.125,
                      "rgb(222,235,247)"
                    ],
                    [
                      0.25,
                      "rgb(198,219,239)"
                    ],
                    [
                      0.375,
                      "rgb(158,202,225)"
                    ],
                    [
                      0.5,
                      "rgb(107,174,214)"
                    ],
                    [
                      0.625,
                      "rgb(66,146,198)"
                    ],
                    [
                      0.75,
                      "rgb(33,113,181)"
                    ],
                    [
                      0.875,
                      "rgb(8,81,156)"
                    ],
                    [
                      1,
                      "rgb(8,48,107)"
                    ]
                  ],
                  "connectgaps": true,
                  "contours": {
                    "coloring": "heatmap"
                  },
                  "hoverinfo": "none",
                  "line": {
                    "smoothing": 1.3
                  },
                  "reversescale": false,
                  "showscale": false,
                  "type": "contour",
                  "x": [
                    0.07102148437105604,
                    0.10007272220904628,
                    0.10039056099633278,
                    0.10115633171825845,
                    0.10153928400906005,
                    0.10205553665570154,
                    0.10308192451987823,
                    0.10409374567582377,
                    0.10457358088434926,
                    0.10483650264359223,
                    0.1081911571401759,
                    0.11304695973433003,
                    0.11354816203530115,
                    0.11981265140213047,
                    0.12337798690937811,
                    0.12630599718925253,
                    0.12764058635384354,
                    0.1326946906743066,
                    0.13425137910046955,
                    0.1352086153340556,
                    0.13568526712078438,
                    0.13706238896427445,
                    0.13720632295060417,
                    0.14083621505731062,
                    0.14231133062694334,
                    0.1434854061845568,
                    0.14350477004843887,
                    0.1435758034480684,
                    0.1444360051218893,
                    0.14855371072309462,
                    0.1492663466459686,
                    0.15401834490584257,
                    0.15786978205638558,
                    0.1587858308497272,
                    0.16044624250588307,
                    0.16432147502999142,
                    0.16836901695868275,
                    0.1697753834155394,
                    0.1774194406636549,
                    0.17870583733615583,
                    0.18228242870516598,
                    0.18929615276475428,
                    0.19742536815509312,
                    0.19786644010962395,
                    0.20213001414491108,
                    0.20372663971304494,
                    0.20594418521771862,
                    0.21097589970492317,
                    0.22881944454482925,
                    0.2386118943243957,
                    0.23876170530451463,
                    0.24431349558176377,
                    0.2567342391350688,
                    0.26023475235098703,
                    0.2785638935162879,
                    0.2930764378604139,
                    0.30073877553165934,
                    0.3149849846620663,
                    0.31677968275691126,
                    0.3368635429290294,
                    0.33979043944081333,
                    0.37577606951277126,
                    0.3777967879195586,
                    0.42959014468756407,
                    0.4662193720000368,
                    0.5202346778097137,
                    0.5673937771597742,
                    0.6637318927821514,
                    0.8579476759778423,
                    0.8872969686043283,
                    1.394182172015757,
                    1.5998939555590013,
                    1.6035884544281889,
                    3.1539844450923975,
                    4.314756580922081,
                    6.079013149343286,
                    13.913077431197095,
                    15.00935758195136,
                    29.210834340438872,
                    88.07413852323239,
                    95.24344374276983,
                    134.20263983932574
                  ],
                  "xaxis": "x41",
                  "y": [
                    "linear",
                    "poly",
                    "rbf",
                    "sigmoid"
                  ],
                  "yaxis": "y41",
                  "z": {
                    "bdata": "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",
                    "dtype": "f8",
                    "shape": "4, 82"
                  }
                },
                {
                  "marker": {
                    "color": "black",
                    "line": {
                      "color": "Gray",
                      "width": 2
                    }
                  },
                  "mode": "markers",
                  "name": "Feasible Trial",
                  "showlegend": false,
                  "type": "scatter",
                  "x": [
                    13.913077431197095,
                    0.3149849846620663,
                    0.3368635429290294,
                    3.1539844450923975,
                    0.10308192451987823,
                    0.13425137910046955,
                    0.11304695973433003,
                    0.10409374567582377,
                    1.394182172015757,
                    95.24344374276983,
                    0.5202346778097137,
                    0.8872969686043283,
                    15.00935758195136,
                    0.10483650264359223,
                    0.10457358088434926,
                    0.30073877553165934,
                    0.19742536815509312,
                    0.19786644010962395,
                    0.8579476759778423,
                    0.21097589970492317,
                    0.10007272220904628,
                    0.10205553665570154,
                    0.1774194406636549,
                    0.5673937771597742,
                    0.1697753834155394,
                    0.37577606951277126,
                    0.16044624250588307,
                    1.6035884544281889,
                    0.1081911571401759,
                    0.10115633171825845,
                    0.16836901695868275,
                    6.079013149343286,
                    0.26023475235098703,
                    0.13720632295060417,
                    0.42959014468756407,
                    0.2785638935162879,
                    0.14855371072309462,
                    0.1435758034480684,
                    0.1444360051218893,
                    0.16432147502999142,
                    0.31677968275691126,
                    0.1434854061845568,
                    29.210834340438872,
                    0.23876170530451463,
                    0.6637318927821514,
                    0.14350477004843887,
                    0.1492663466459686,
                    0.1352086153340556,
                    0.3777967879195586,
                    0.2567342391350688,
                    0.14083621505731062,
                    0.2386118943243957,
                    4.314756580922081,
                    0.12764058635384354,
                    0.20594418521771862,
                    0.13706238896427445,
                    0.13568526712078438,
                    0.20372663971304494,
                    0.12630599718925253,
                    0.20213001414491108,
                    0.4662193720000368,
                    0.2930764378604139,
                    88.07413852323239,
                    0.15401834490584257,
                    0.1326946906743066,
                    0.17870583733615583,
                    0.11354816203530115,
                    0.1587858308497272,
                    1.5998939555590013,
                    0.33979043944081333,
                    0.22881944454482925,
                    0.12337798690937811,
                    0.10153928400906005,
                    0.15786978205638558,
                    0.18228242870516598,
                    0.11981265140213047,
                    0.14231133062694334,
                    0.18929615276475428,
                    0.10039056099633278,
                    0.24431349558176377
                  ],
                  "xaxis": "x41",
                  "y": [
                    "sigmoid",
                    "linear",
                    "rbf",
                    "sigmoid",
                    "linear",
                    "linear",
                    "linear",
                    "linear",
                    "poly",
                    "linear",
                    "linear",
                    "rbf",
                    "poly",
                    "linear",
                    "linear",
                    "linear",
                    "linear",
                    "linear",
                    "linear",
                    "sigmoid",
                    "linear",
                    "linear",
                    "linear",
                    "linear",
                    "rbf",
                    "poly",
                    "linear",
                    "linear",
                    "linear",
                    "linear",
                    "linear",
                    "sigmoid",
                    "linear",
                    "linear",
                    "rbf",
                    "linear",
                    "linear",
                    "linear",
                    "linear",
                    "sigmoid",
                    "linear",
                    "linear",
                    "poly",
                    "linear",
                    "linear",
                    "linear",
                    "linear",
                    "linear",
                    "linear",
                    "rbf",
                    "linear",
                    "linear",
                    "poly",
                    "linear",
                    "linear",
                    "linear",
                    "linear",
                    "linear",
                    "sigmoid",
                    "linear",
                    "linear",
                    "linear",
                    "linear",
                    "linear",
                    "linear",
                    "linear",
                    "linear",
                    "linear",
                    "rbf",
                    "linear",
                    "poly",
                    "linear",
                    "linear",
                    "linear",
                    "linear",
                    "linear",
                    "linear",
                    "sigmoid",
                    "linear",
                    "linear"
                  ],
                  "yaxis": "y41"
                },
                {
                  "showscale": false,
                  "type": "contour",
                  "xaxis": "x51",
                  "yaxis": "y51"
                },
                {
                  "type": "scatter",
                  "xaxis": "x51",
                  "yaxis": "y51"
                },
                {
                  "showscale": false,
                  "type": "contour",
                  "xaxis": "x61",
                  "yaxis": "y61"
                },
                {
                  "type": "scatter",
                  "xaxis": "x61",
                  "yaxis": "y61"
                },
                {
                  "showscale": false,
                  "type": "contour",
                  "xaxis": "x71",
                  "yaxis": "y71"
                },
                {
                  "type": "scatter",
                  "xaxis": "x71",
                  "yaxis": "y71"
                },
                {
                  "showscale": false,
                  "type": "contour",
                  "xaxis": "x81",
                  "yaxis": "y81"
                },
                {
                  "type": "scatter",
                  "xaxis": "x81",
                  "yaxis": "y81"
                },
                {
                  "showscale": false,
                  "type": "contour",
                  "xaxis": "x91",
                  "yaxis": "y91"
                },
                {
                  "type": "scatter",
                  "xaxis": "x91",
                  "yaxis": "y91"
                },
                {
                  "showscale": false,
                  "type": "contour",
                  "xaxis": "x2",
                  "yaxis": "y2"
                },
                {
                  "type": "scatter",
                  "xaxis": "x2",
                  "yaxis": "y2"
                },
                {
                  "type": "scatter",
                  "xaxis": "x12",
                  "yaxis": "y12"
                },
                {
                  "colorbar": {
                    "title": {
                      "text": "Objective Value"
                    }
                  },
                  "colorscale": [
                    [
                      0,
                      "rgb(247,251,255)"
                    ],
                    [
                      0.125,
                      "rgb(222,235,247)"
                    ],
                    [
                      0.25,
                      "rgb(198,219,239)"
                    ],
                    [
                      0.375,
                      "rgb(158,202,225)"
                    ],
                    [
                      0.5,
                      "rgb(107,174,214)"
                    ],
                    [
                      0.625,
                      "rgb(66,146,198)"
                    ],
                    [
                      0.75,
                      "rgb(33,113,181)"
                    ],
                    [
                      0.875,
                      "rgb(8,81,156)"
                    ],
                    [
                      1,
                      "rgb(8,48,107)"
                    ]
                  ],
                  "connectgaps": true,
                  "contours": {
                    "coloring": "heatmap"
                  },
                  "hoverinfo": "none",
                  "line": {
                    "smoothing": 1.3
                  },
                  "reversescale": false,
                  "showscale": false,
                  "type": "contour",
                  "x": [
                    "False",
                    "True"
                  ],
                  "xaxis": "x22",
                  "y": [
                    "GradientBoostingClassifier",
                    "RandomForestClassifier",
                    "SVC"
                  ],
                  "yaxis": "y22",
                  "z": {
                    "bdata": "AAAAAAAA+H8AAAAAAAD4f5H+eq5i2eg/GCfeXiHK6D8AAAAAAAD4fwAAAAAAAPh/",
                    "dtype": "f8",
                    "shape": "3, 2"
                  }
                },
                {
                  "marker": {
                    "color": "black",
                    "line": {
                      "color": "Gray",
                      "width": 2
                    }
                  },
                  "mode": "markers",
                  "name": "Feasible Trial",
                  "showlegend": false,
                  "type": "scatter",
                  "x": [
                    "False",
                    "True",
                    "True",
                    "True",
                    "False",
                    "False",
                    "False",
                    "True",
                    "True",
                    "False"
                  ],
                  "xaxis": "x22",
                  "y": [
                    "RandomForestClassifier",
                    "RandomForestClassifier",
                    "RandomForestClassifier",
                    "RandomForestClassifier",
                    "RandomForestClassifier",
                    "RandomForestClassifier",
                    "RandomForestClassifier",
                    "RandomForestClassifier",
                    "RandomForestClassifier",
                    "RandomForestClassifier"
                  ],
                  "yaxis": "y22"
                },
                {
                  "showscale": false,
                  "type": "contour",
                  "xaxis": "x32",
                  "yaxis": "y32"
                },
                {
                  "type": "scatter",
                  "xaxis": "x32",
                  "yaxis": "y32"
                },
                {
                  "showscale": false,
                  "type": "contour",
                  "xaxis": "x42",
                  "yaxis": "y42"
                },
                {
                  "type": "scatter",
                  "xaxis": "x42",
                  "yaxis": "y42"
                },
                {
                  "showscale": false,
                  "type": "contour",
                  "xaxis": "x52",
                  "yaxis": "y52"
                },
                {
                  "type": "scatter",
                  "xaxis": "x52",
                  "yaxis": "y52"
                },
                {
                  "colorbar": {
                    "title": {
                      "text": "Objective Value"
                    }
                  },
                  "colorscale": [
                    [
                      0,
                      "rgb(247,251,255)"
                    ],
                    [
                      0.125,
                      "rgb(222,235,247)"
                    ],
                    [
                      0.25,
                      "rgb(198,219,239)"
                    ],
                    [
                      0.375,
                      "rgb(158,202,225)"
                    ],
                    [
                      0.5,
                      "rgb(107,174,214)"
                    ],
                    [
                      0.625,
                      "rgb(66,146,198)"
                    ],
                    [
                      0.75,
                      "rgb(33,113,181)"
                    ],
                    [
                      0.875,
                      "rgb(8,81,156)"
                    ],
                    [
                      1,
                      "rgb(8,48,107)"
                    ]
                  ],
                  "connectgaps": true,
                  "contours": {
                    "coloring": "heatmap"
                  },
                  "hoverinfo": "none",
                  "line": {
                    "smoothing": 1.3
                  },
                  "reversescale": false,
                  "showscale": false,
                  "type": "contour",
                  "x": [
                    "False",
                    "True"
                  ],
                  "xaxis": "x62",
                  "y": [
                    2.15,
                    3,
                    4,
                    5,
                    7,
                    8,
                    10,
                    11,
                    12,
                    13,
                    14,
                    16,
                    17,
                    18,
                    19,
                    20,
                    20.85
                  ],
                  "yaxis": "y62",
                  "z": {
                    "bdata": "AAAAAAAA+H8AAAAAAAD4fwAAAAAAAPh/AAAAAAAA+H8tyWogHI3oP9TkIPNSIug/AAAAAAAA+H+9QpQxWF/oPwAAAAAAAPh/yJNaktVA6D8AAAAAAAD4f71ClDFYX+g/AAAAAAAA+H8AAAAAAAD4f51PQQ/guug/AAAAAAAA+H8AAAAAAAD4fwAAAAAAAPh/AAAAAAAA+H8AAAAAAAD4f51PQQ/guug/GCfeXiHK6D+9QpQxWF/oPwAAAAAAAPh/kf56rmLZ6D8AAAAAAAD4fwAAAAAAAPh/AAAAAAAA+H8AAAAAAAD4fwAAAAAAAPh/AAAAAAAA+H8AAAAAAAD4fwAAAAAAAPh/AAAAAAAA+H8=",
                    "dtype": "f8",
                    "shape": "17, 2"
                  }
                },
                {
                  "marker": {
                    "color": "black",
                    "line": {
                      "color": "Gray",
                      "width": 2
                    }
                  },
                  "mode": "markers",
                  "name": "Feasible Trial",
                  "showlegend": false,
                  "type": "scatter",
                  "x": [
                    "False",
                    "True",
                    "True",
                    "True",
                    "False",
                    "False",
                    "False",
                    "True",
                    "True",
                    "False"
                  ],
                  "xaxis": "x62",
                  "y": [
                    4,
                    5,
                    8,
                    4,
                    14,
                    16,
                    17,
                    7,
                    14,
                    11
                  ],
                  "yaxis": "y62"
                },
                {
                  "colorbar": {
                    "title": {
                      "text": "Objective Value"
                    }
                  },
                  "colorscale": [
                    [
                      0,
                      "rgb(247,251,255)"
                    ],
                    [
                      0.125,
                      "rgb(222,235,247)"
                    ],
                    [
                      0.25,
                      "rgb(198,219,239)"
                    ],
                    [
                      0.375,
                      "rgb(158,202,225)"
                    ],
                    [
                      0.5,
                      "rgb(107,174,214)"
                    ],
                    [
                      0.625,
                      "rgb(66,146,198)"
                    ],
                    [
                      0.75,
                      "rgb(33,113,181)"
                    ],
                    [
                      0.875,
                      "rgb(8,81,156)"
                    ],
                    [
                      1,
                      "rgb(8,48,107)"
                    ]
                  ],
                  "connectgaps": true,
                  "contours": {
                    "coloring": "heatmap"
                  },
                  "hoverinfo": "none",
                  "line": {
                    "smoothing": 1.3
                  },
                  "reversescale": false,
                  "showscale": false,
                  "type": "contour",
                  "x": [
                    "False",
                    "True"
                  ],
                  "xaxis": "x72",
                  "y": [
                    0.55,
                    1,
                    2,
                    3,
                    4,
                    5,
                    6,
                    7,
                    8,
                    9,
                    10,
                    10.45
                  ],
                  "yaxis": "y72",
                  "z": {
                    "bdata": "AAAAAAAA+H8AAAAAAAD4fwAAAAAAAPh/AAAAAAAA+H8AAAAAAAD4fwAAAAAAAPh/AAAAAAAA+H8AAAAAAAD4fy3JaiAcjeg/vUKUMVhf6D8AAAAAAAD4fxgn3l4hyug/vUKUMVhf6D/Ik1qS1UDoPwAAAAAAAPh/AAAAAAAA+H8AAAAAAAD4f71ClDFYX+g/kf56rmLZ6D8AAAAAAAD4f51PQQ/guug/AAAAAAAA+H8AAAAAAAD4fwAAAAAAAPh/",
                    "dtype": "f8",
                    "shape": "12, 2"
                  }
                },
                {
                  "marker": {
                    "color": "black",
                    "line": {
                      "color": "Gray",
                      "width": 2
                    }
                  },
                  "mode": "markers",
                  "name": "Feasible Trial",
                  "showlegend": false,
                  "type": "scatter",
                  "x": [
                    "False",
                    "True",
                    "True",
                    "True",
                    "False",
                    "False",
                    "False",
                    "True",
                    "True",
                    "False"
                  ],
                  "xaxis": "x72",
                  "y": [
                    4,
                    4,
                    8,
                    8,
                    10,
                    6,
                    9,
                    6,
                    5,
                    9
                  ],
                  "yaxis": "y72"
                },
                {
                  "colorbar": {
                    "title": {
                      "text": "Objective Value"
                    }
                  },
                  "colorscale": [
                    [
                      0,
                      "rgb(247,251,255)"
                    ],
                    [
                      0.125,
                      "rgb(222,235,247)"
                    ],
                    [
                      0.25,
                      "rgb(198,219,239)"
                    ],
                    [
                      0.375,
                      "rgb(158,202,225)"
                    ],
                    [
                      0.5,
                      "rgb(107,174,214)"
                    ],
                    [
                      0.625,
                      "rgb(66,146,198)"
                    ],
                    [
                      0.75,
                      "rgb(33,113,181)"
                    ],
                    [
                      0.875,
                      "rgb(8,81,156)"
                    ],
                    [
                      1,
                      "rgb(8,48,107)"
                    ]
                  ],
                  "connectgaps": true,
                  "contours": {
                    "coloring": "heatmap"
                  },
                  "hoverinfo": "none",
                  "line": {
                    "smoothing": 1.3
                  },
                  "reversescale": false,
                  "showscale": false,
                  "type": "contour",
                  "x": [
                    "False",
                    "True"
                  ],
                  "xaxis": "x82",
                  "y": [
                    1.6,
                    2,
                    3,
                    4,
                    5,
                    6,
                    7,
                    8,
                    9,
                    10,
                    10.4
                  ],
                  "yaxis": "y82",
                  "z": {
                    "bdata": "AAAAAAAA+H8AAAAAAAD4fwAAAAAAAPh/AAAAAAAA+H8AAAAAAAD4fwAAAAAAAPh/nU9BD+C66D+9QpQxWF/oP5H+eq5i2eg/GCfeXiHK6D8tyWogHI3oP9TkIPNSIug/nU9BD+C66D8AAAAAAAD4f71ClDFYX+g/AAAAAAAA+H8AAAAAAAD4f71ClDFYX+g/AAAAAAAA+H/Ik1qS1UDoPwAAAAAAAPh/AAAAAAAA+H8=",
                    "dtype": "f8",
                    "shape": "11, 2"
                  }
                },
                {
                  "marker": {
                    "color": "black",
                    "line": {
                      "color": "Gray",
                      "width": 2
                    }
                  },
                  "mode": "markers",
                  "name": "Feasible Trial",
                  "showlegend": false,
                  "type": "scatter",
                  "x": [
                    "False",
                    "True",
                    "True",
                    "True",
                    "False",
                    "False",
                    "False",
                    "True",
                    "True",
                    "False"
                  ],
                  "xaxis": "x82",
                  "y": [
                    6,
                    9,
                    4,
                    6,
                    4,
                    8,
                    5,
                    10,
                    5,
                    7
                  ],
                  "yaxis": "y82"
                },
                {
                  "colorbar": {
                    "title": {
                      "text": "Objective Value"
                    }
                  },
                  "colorscale": [
                    [
                      0,
                      "rgb(247,251,255)"
                    ],
                    [
                      0.125,
                      "rgb(222,235,247)"
                    ],
                    [
                      0.25,
                      "rgb(198,219,239)"
                    ],
                    [
                      0.375,
                      "rgb(158,202,225)"
                    ],
                    [
                      0.5,
                      "rgb(107,174,214)"
                    ],
                    [
                      0.625,
                      "rgb(66,146,198)"
                    ],
                    [
                      0.75,
                      "rgb(33,113,181)"
                    ],
                    [
                      0.875,
                      "rgb(8,81,156)"
                    ],
                    [
                      1,
                      "rgb(8,48,107)"
                    ]
                  ],
                  "connectgaps": true,
                  "contours": {
                    "coloring": "heatmap"
                  },
                  "hoverinfo": "none",
                  "line": {
                    "smoothing": 1.3
                  },
                  "reversescale": false,
                  "showscale": false,
                  "type": "contour",
                  "x": [
                    "False",
                    "True"
                  ],
                  "xaxis": "x92",
                  "y": [
                    38,
                    50,
                    53,
                    79,
                    93,
                    96,
                    116,
                    137,
                    142,
                    148,
                    177,
                    183,
                    198,
                    206,
                    220,
                    223,
                    246,
                    250,
                    260,
                    280,
                    290,
                    302
                  ],
                  "yaxis": "y92",
                  "z": {
                    "bdata": "AAAAAAAA+H8AAAAAAAD4fwAAAAAAAPh/AAAAAAAA+H8AAAAAAAD4fwAAAAAAAPh/kf56rmLZ6D8AAAAAAAD4fy3JaiAcjeg/AAAAAAAA+H8AAAAAAAD4fwAAAAAAAPh/AAAAAAAA+H8AAAAAAAD4fwAAAAAAAPh/AAAAAAAA+H8AAAAAAAD4f9TkIPNSIug/AAAAAAAA+H8AAAAAAAD4fwAAAAAAAPh/GCfeXiHK6D8AAAAAAAD4fwAAAAAAAPh/AAAAAAAA+H+9QpQxWF/oP51PQQ/guug/AAAAAAAA+H8AAAAAAAD4fwAAAAAAAPh/AAAAAAAA+H/Ik1qS1UDoP51PQQ/guug/AAAAAAAA+H+9QpQxWF/oPwAAAAAAAPh/AAAAAAAA+H8AAAAAAAD4fwAAAAAAAPh/vUKUMVhf6D8AAAAAAAD4fwAAAAAAAPh/AAAAAAAA+H8AAAAAAAD4fw==",
                    "dtype": "f8",
                    "shape": "22, 2"
                  }
                },
                {
                  "marker": {
                    "color": "black",
                    "line": {
                      "color": "Gray",
                      "width": 2
                    }
                  },
                  "mode": "markers",
                  "name": "Feasible Trial",
                  "showlegend": false,
                  "type": "scatter",
                  "x": [
                    "False",
                    "True",
                    "True",
                    "True",
                    "False",
                    "False",
                    "False",
                    "True",
                    "True",
                    "False"
                  ],
                  "xaxis": "x92",
                  "y": [
                    93,
                    198,
                    280,
                    142,
                    246,
                    250,
                    79,
                    223,
                    177,
                    206
                  ],
                  "yaxis": "y92"
                },
                {
                  "colorbar": {
                    "title": {
                      "text": "Objective Value"
                    }
                  },
                  "colorscale": [
                    [
                      0,
                      "rgb(247,251,255)"
                    ],
                    [
                      0.125,
                      "rgb(222,235,247)"
                    ],
                    [
                      0.25,
                      "rgb(198,219,239)"
                    ],
                    [
                      0.375,
                      "rgb(158,202,225)"
                    ],
                    [
                      0.5,
                      "rgb(107,174,214)"
                    ],
                    [
                      0.625,
                      "rgb(66,146,198)"
                    ],
                    [
                      0.75,
                      "rgb(33,113,181)"
                    ],
                    [
                      0.875,
                      "rgb(8,81,156)"
                    ],
                    [
                      1,
                      "rgb(8,48,107)"
                    ]
                  ],
                  "connectgaps": true,
                  "contours": {
                    "coloring": "heatmap"
                  },
                  "hoverinfo": "none",
                  "line": {
                    "smoothing": 1.3
                  },
                  "reversescale": false,
                  "showscale": false,
                  "type": "contour",
                  "x": [
                    "GradientBoostingClassifier",
                    "RandomForestClassifier",
                    "SVC"
                  ],
                  "xaxis": "x3",
                  "y": [
                    0.07102148437105604,
                    0.10007272220904628,
                    0.10039056099633278,
                    0.10115633171825845,
                    0.10153928400906005,
                    0.10205553665570154,
                    0.10308192451987823,
                    0.10409374567582377,
                    0.10457358088434926,
                    0.10483650264359223,
                    0.1081911571401759,
                    0.11304695973433003,
                    0.11354816203530115,
                    0.11981265140213047,
                    0.12337798690937811,
                    0.12630599718925253,
                    0.12764058635384354,
                    0.1326946906743066,
                    0.13425137910046955,
                    0.1352086153340556,
                    0.13568526712078438,
                    0.13706238896427445,
                    0.13720632295060417,
                    0.14083621505731062,
                    0.14231133062694334,
                    0.1434854061845568,
                    0.14350477004843887,
                    0.1435758034480684,
                    0.1444360051218893,
                    0.14855371072309462,
                    0.1492663466459686,
                    0.15401834490584257,
                    0.15786978205638558,
                    0.1587858308497272,
                    0.16044624250588307,
                    0.16432147502999142,
                    0.16836901695868275,
                    0.1697753834155394,
                    0.1774194406636549,
                    0.17870583733615583,
                    0.18228242870516598,
                    0.18929615276475428,
                    0.19742536815509312,
                    0.19786644010962395,
                    0.20213001414491108,
                    0.20372663971304494,
                    0.20594418521771862,
                    0.21097589970492317,
                    0.22881944454482925,
                    0.2386118943243957,
                    0.23876170530451463,
                    0.24431349558176377,
                    0.2567342391350688,
                    0.26023475235098703,
                    0.2785638935162879,
                    0.2930764378604139,
                    0.30073877553165934,
                    0.3149849846620663,
                    0.31677968275691126,
                    0.3368635429290294,
                    0.33979043944081333,
                    0.37577606951277126,
                    0.3777967879195586,
                    0.42959014468756407,
                    0.4662193720000368,
                    0.5202346778097137,
                    0.5673937771597742,
                    0.6637318927821514,
                    0.8579476759778423,
                    0.8872969686043283,
                    1.394182172015757,
                    1.5998939555590013,
                    1.6035884544281889,
                    3.1539844450923975,
                    4.314756580922081,
                    6.079013149343286,
                    13.913077431197095,
                    15.00935758195136,
                    29.210834340438872,
                    88.07413852323239,
                    95.24344374276983,
                    134.20263983932574
                  ],
                  "yaxis": "y3",
                  "z": {
                    "bdata": "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",
                    "dtype": "f8",
                    "shape": "82, 3"
                  }
                },
                {
                  "marker": {
                    "color": "black",
                    "line": {
                      "color": "Gray",
                      "width": 2
                    }
                  },
                  "mode": "markers",
                  "name": "Feasible Trial",
                  "showlegend": false,
                  "type": "scatter",
                  "x": [
                    "SVC",
                    "SVC",
                    "SVC",
                    "SVC",
                    "SVC",
                    "SVC",
                    "SVC",
                    "SVC",
                    "SVC",
                    "SVC",
                    "SVC",
                    "SVC",
                    "SVC",
                    "SVC",
                    "SVC",
                    "SVC",
                    "SVC",
                    "SVC",
                    "SVC",
                    "SVC",
                    "SVC",
                    "SVC",
                    "SVC",
                    "SVC",
                    "SVC",
                    "SVC",
                    "SVC",
                    "SVC",
                    "SVC",
                    "SVC",
                    "SVC",
                    "SVC",
                    "SVC",
                    "SVC",
                    "SVC",
                    "SVC",
                    "SVC",
                    "SVC",
                    "SVC",
                    "SVC",
                    "SVC",
                    "SVC",
                    "SVC",
                    "SVC",
                    "SVC",
                    "SVC",
                    "SVC",
                    "SVC",
                    "SVC",
                    "SVC",
                    "SVC",
                    "SVC",
                    "SVC",
                    "SVC",
                    "SVC",
                    "SVC",
                    "SVC",
                    "SVC",
                    "SVC",
                    "SVC",
                    "SVC",
                    "SVC",
                    "SVC",
                    "SVC",
                    "SVC",
                    "SVC",
                    "SVC",
                    "SVC",
                    "SVC",
                    "SVC",
                    "SVC",
                    "SVC",
                    "SVC",
                    "SVC",
                    "SVC",
                    "SVC",
                    "SVC",
                    "SVC",
                    "SVC",
                    "SVC"
                  ],
                  "xaxis": "x3",
                  "y": [
                    13.913077431197095,
                    0.3149849846620663,
                    0.3368635429290294,
                    3.1539844450923975,
                    0.10308192451987823,
                    0.13425137910046955,
                    0.11304695973433003,
                    0.10409374567582377,
                    1.394182172015757,
                    95.24344374276983,
                    0.5202346778097137,
                    0.8872969686043283,
                    15.00935758195136,
                    0.10483650264359223,
                    0.10457358088434926,
                    0.30073877553165934,
                    0.19742536815509312,
                    0.19786644010962395,
                    0.8579476759778423,
                    0.21097589970492317,
                    0.10007272220904628,
                    0.10205553665570154,
                    0.1774194406636549,
                    0.5673937771597742,
                    0.1697753834155394,
                    0.37577606951277126,
                    0.16044624250588307,
                    1.6035884544281889,
                    0.1081911571401759,
                    0.10115633171825845,
                    0.16836901695868275,
                    6.079013149343286,
                    0.26023475235098703,
                    0.13720632295060417,
                    0.42959014468756407,
                    0.2785638935162879,
                    0.14855371072309462,
                    0.1435758034480684,
                    0.1444360051218893,
                    0.16432147502999142,
                    0.31677968275691126,
                    0.1434854061845568,
                    29.210834340438872,
                    0.23876170530451463,
                    0.6637318927821514,
                    0.14350477004843887,
                    0.1492663466459686,
                    0.1352086153340556,
                    0.3777967879195586,
                    0.2567342391350688,
                    0.14083621505731062,
                    0.2386118943243957,
                    4.314756580922081,
                    0.12764058635384354,
                    0.20594418521771862,
                    0.13706238896427445,
                    0.13568526712078438,
                    0.20372663971304494,
                    0.12630599718925253,
                    0.20213001414491108,
                    0.4662193720000368,
                    0.2930764378604139,
                    88.07413852323239,
                    0.15401834490584257,
                    0.1326946906743066,
                    0.17870583733615583,
                    0.11354816203530115,
                    0.1587858308497272,
                    1.5998939555590013,
                    0.33979043944081333,
                    0.22881944454482925,
                    0.12337798690937811,
                    0.10153928400906005,
                    0.15786978205638558,
                    0.18228242870516598,
                    0.11981265140213047,
                    0.14231133062694334,
                    0.18929615276475428,
                    0.10039056099633278,
                    0.24431349558176377
                  ],
                  "yaxis": "y3"
                },
                {
                  "colorbar": {
                    "title": {
                      "text": "Objective Value"
                    }
                  },
                  "colorscale": [
                    [
                      0,
                      "rgb(247,251,255)"
                    ],
                    [
                      0.125,
                      "rgb(222,235,247)"
                    ],
                    [
                      0.25,
                      "rgb(198,219,239)"
                    ],
                    [
                      0.375,
                      "rgb(158,202,225)"
                    ],
                    [
                      0.5,
                      "rgb(107,174,214)"
                    ],
                    [
                      0.625,
                      "rgb(66,146,198)"
                    ],
                    [
                      0.75,
                      "rgb(33,113,181)"
                    ],
                    [
                      0.875,
                      "rgb(8,81,156)"
                    ],
                    [
                      1,
                      "rgb(8,48,107)"
                    ]
                  ],
                  "connectgaps": true,
                  "contours": {
                    "coloring": "heatmap"
                  },
                  "hoverinfo": "none",
                  "line": {
                    "smoothing": 1.3
                  },
                  "reversescale": false,
                  "showscale": false,
                  "type": "contour",
                  "x": [
                    "GradientBoostingClassifier",
                    "RandomForestClassifier",
                    "SVC"
                  ],
                  "xaxis": "x13",
                  "y": [
                    "False",
                    "True"
                  ],
                  "yaxis": "y13",
                  "z": {
                    "bdata": "AAAAAAAA+H+R/nquYtnoPwAAAAAAAPh/AAAAAAAA+H8YJ95eIcroPwAAAAAAAPh/",
                    "dtype": "f8",
                    "shape": "2, 3"
                  }
                },
                {
                  "marker": {
                    "color": "black",
                    "line": {
                      "color": "Gray",
                      "width": 2
                    }
                  },
                  "mode": "markers",
                  "name": "Feasible Trial",
                  "showlegend": false,
                  "type": "scatter",
                  "x": [
                    "RandomForestClassifier",
                    "RandomForestClassifier",
                    "RandomForestClassifier",
                    "RandomForestClassifier",
                    "RandomForestClassifier",
                    "RandomForestClassifier",
                    "RandomForestClassifier",
                    "RandomForestClassifier",
                    "RandomForestClassifier",
                    "RandomForestClassifier"
                  ],
                  "xaxis": "x13",
                  "y": [
                    "False",
                    "True",
                    "True",
                    "True",
                    "False",
                    "False",
                    "False",
                    "True",
                    "True",
                    "False"
                  ],
                  "yaxis": "y13"
                },
                {
                  "type": "scatter",
                  "xaxis": "x23",
                  "yaxis": "y23"
                },
                {
                  "colorbar": {
                    "title": {
                      "text": "Objective Value"
                    }
                  },
                  "colorscale": [
                    [
                      0,
                      "rgb(247,251,255)"
                    ],
                    [
                      0.125,
                      "rgb(222,235,247)"
                    ],
                    [
                      0.25,
                      "rgb(198,219,239)"
                    ],
                    [
                      0.375,
                      "rgb(158,202,225)"
                    ],
                    [
                      0.5,
                      "rgb(107,174,214)"
                    ],
                    [
                      0.625,
                      "rgb(66,146,198)"
                    ],
                    [
                      0.75,
                      "rgb(33,113,181)"
                    ],
                    [
                      0.875,
                      "rgb(8,81,156)"
                    ],
                    [
                      1,
                      "rgb(8,48,107)"
                    ]
                  ],
                  "connectgaps": true,
                  "contours": {
                    "coloring": "heatmap"
                  },
                  "hoverinfo": "none",
                  "line": {
                    "smoothing": 1.3
                  },
                  "reversescale": false,
                  "showscale": false,
                  "type": "contour",
                  "x": [
                    "GradientBoostingClassifier",
                    "RandomForestClassifier",
                    "SVC"
                  ],
                  "xaxis": "x33",
                  "y": [
                    "auto",
                    "scale"
                  ],
                  "yaxis": "y33",
                  "z": {
                    "bdata": "AAAAAAAA+H8AAAAAAAD4f+vixNsrROk/AAAAAAAA+H8AAAAAAAD4f+vixNsrROk/",
                    "dtype": "f8",
                    "shape": "2, 3"
                  }
                },
                {
                  "marker": {
                    "color": "black",
                    "line": {
                      "color": "Gray",
                      "width": 2
                    }
                  },
                  "mode": "markers",
                  "name": "Feasible Trial",
                  "showlegend": false,
                  "type": "scatter",
                  "x": [
                    "SVC",
                    "SVC",
                    "SVC",
                    "SVC",
                    "SVC",
                    "SVC",
                    "SVC",
                    "SVC",
                    "SVC",
                    "SVC",
                    "SVC",
                    "SVC",
                    "SVC",
                    "SVC",
                    "SVC",
                    "SVC",
                    "SVC",
                    "SVC",
                    "SVC",
                    "SVC",
                    "SVC",
                    "SVC",
                    "SVC",
                    "SVC",
                    "SVC",
                    "SVC",
                    "SVC",
                    "SVC",
                    "SVC",
                    "SVC",
                    "SVC",
                    "SVC",
                    "SVC",
                    "SVC",
                    "SVC",
                    "SVC",
                    "SVC",
                    "SVC",
                    "SVC",
                    "SVC",
                    "SVC",
                    "SVC",
                    "SVC",
                    "SVC",
                    "SVC",
                    "SVC",
                    "SVC",
                    "SVC",
                    "SVC",
                    "SVC",
                    "SVC",
                    "SVC",
                    "SVC",
                    "SVC",
                    "SVC",
                    "SVC",
                    "SVC",
                    "SVC",
                    "SVC",
                    "SVC",
                    "SVC",
                    "SVC",
                    "SVC",
                    "SVC",
                    "SVC",
                    "SVC",
                    "SVC",
                    "SVC",
                    "SVC",
                    "SVC",
                    "SVC",
                    "SVC",
                    "SVC",
                    "SVC",
                    "SVC",
                    "SVC",
                    "SVC",
                    "SVC",
                    "SVC",
                    "SVC"
                  ],
                  "xaxis": "x33",
                  "y": [
                    "scale",
                    "auto",
                    "scale",
                    "scale",
                    "auto",
                    "auto",
                    "auto",
                    "auto",
                    "auto",
                    "auto",
                    "auto",
                    "auto",
                    "auto",
                    "auto",
                    "auto",
                    "auto",
                    "auto",
                    "auto",
                    "scale",
                    "auto",
                    "auto",
                    "auto",
                    "auto",
                    "auto",
                    "auto",
                    "auto",
                    "auto",
                    "scale",
                    "auto",
                    "auto",
                    "auto",
                    "auto",
                    "auto",
                    "scale",
                    "scale",
                    "scale",
                    "scale",
                    "scale",
                    "scale",
                    "scale",
                    "scale",
                    "scale",
                    "scale",
                    "scale",
                    "scale",
                    "scale",
                    "scale",
                    "scale",
                    "scale",
                    "scale",
                    "scale",
                    "scale",
                    "scale",
                    "scale",
                    "scale",
                    "scale",
                    "scale",
                    "scale",
                    "scale",
                    "scale",
                    "scale",
                    "scale",
                    "scale",
                    "scale",
                    "scale",
                    "scale",
                    "scale",
                    "scale",
                    "scale",
                    "scale",
                    "scale",
                    "scale",
                    "scale",
                    "scale",
                    "auto",
                    "scale",
                    "auto",
                    "scale",
                    "scale",
                    "auto"
                  ],
                  "yaxis": "y33"
                },
                {
                  "colorbar": {
                    "title": {
                      "text": "Objective Value"
                    }
                  },
                  "colorscale": [
                    [
                      0,
                      "rgb(247,251,255)"
                    ],
                    [
                      0.125,
                      "rgb(222,235,247)"
                    ],
                    [
                      0.25,
                      "rgb(198,219,239)"
                    ],
                    [
                      0.375,
                      "rgb(158,202,225)"
                    ],
                    [
                      0.5,
                      "rgb(107,174,214)"
                    ],
                    [
                      0.625,
                      "rgb(66,146,198)"
                    ],
                    [
                      0.75,
                      "rgb(33,113,181)"
                    ],
                    [
                      0.875,
                      "rgb(8,81,156)"
                    ],
                    [
                      1,
                      "rgb(8,48,107)"
                    ]
                  ],
                  "connectgaps": true,
                  "contours": {
                    "coloring": "heatmap"
                  },
                  "hoverinfo": "none",
                  "line": {
                    "smoothing": 1.3
                  },
                  "reversescale": false,
                  "showscale": false,
                  "type": "contour",
                  "x": [
                    "GradientBoostingClassifier",
                    "RandomForestClassifier",
                    "SVC"
                  ],
                  "xaxis": "x43",
                  "y": [
                    "linear",
                    "poly",
                    "rbf",
                    "sigmoid"
                  ],
                  "yaxis": "y43",
                  "z": {
                    "bdata": "AAAAAAAA+H8AAAAAAAD4f+vixNsrROk/AAAAAAAA+H8AAAAAAAD4f/8oOnZIqOc/AAAAAAAA+H8AAAAAAAD4fxgn3l4hyug/AAAAAAAA+H8AAAAAAAD4fxgn3l4hyug/",
                    "dtype": "f8",
                    "shape": "4, 3"
                  }
                },
                {
                  "marker": {
                    "color": "black",
                    "line": {
                      "color": "Gray",
                      "width": 2
                    }
                  },
                  "mode": "markers",
                  "name": "Feasible Trial",
                  "showlegend": false,
                  "type": "scatter",
                  "x": [
                    "SVC",
                    "SVC",
                    "SVC",
                    "SVC",
                    "SVC",
                    "SVC",
                    "SVC",
                    "SVC",
                    "SVC",
                    "SVC",
                    "SVC",
                    "SVC",
                    "SVC",
                    "SVC",
                    "SVC",
                    "SVC",
                    "SVC",
                    "SVC",
                    "SVC",
                    "SVC",
                    "SVC",
                    "SVC",
                    "SVC",
                    "SVC",
                    "SVC",
                    "SVC",
                    "SVC",
                    "SVC",
                    "SVC",
                    "SVC",
                    "SVC",
                    "SVC",
                    "SVC",
                    "SVC",
                    "SVC",
                    "SVC",
                    "SVC",
                    "SVC",
                    "SVC",
                    "SVC",
                    "SVC",
                    "SVC",
                    "SVC",
                    "SVC",
                    "SVC",
                    "SVC",
                    "SVC",
                    "SVC",
                    "SVC",
                    "SVC",
                    "SVC",
                    "SVC",
                    "SVC",
                    "SVC",
                    "SVC",
                    "SVC",
                    "SVC",
                    "SVC",
                    "SVC",
                    "SVC",
                    "SVC",
                    "SVC",
                    "SVC",
                    "SVC",
                    "SVC",
                    "SVC",
                    "SVC",
                    "SVC",
                    "SVC",
                    "SVC",
                    "SVC",
                    "SVC",
                    "SVC",
                    "SVC",
                    "SVC",
                    "SVC",
                    "SVC",
                    "SVC",
                    "SVC",
                    "SVC"
                  ],
                  "xaxis": "x43",
                  "y": [
                    "sigmoid",
                    "linear",
                    "rbf",
                    "sigmoid",
                    "linear",
                    "linear",
                    "linear",
                    "linear",
                    "poly",
                    "linear",
                    "linear",
                    "rbf",
                    "poly",
                    "linear",
                    "linear",
                    "linear",
                    "linear",
                    "linear",
                    "linear",
                    "sigmoid",
                    "linear",
                    "linear",
                    "linear",
                    "linear",
                    "rbf",
                    "poly",
                    "linear",
                    "linear",
                    "linear",
                    "linear",
                    "linear",
                    "sigmoid",
                    "linear",
                    "linear",
                    "rbf",
                    "linear",
                    "linear",
                    "linear",
                    "linear",
                    "sigmoid",
                    "linear",
                    "linear",
                    "poly",
                    "linear",
                    "linear",
                    "linear",
                    "linear",
                    "linear",
                    "linear",
                    "rbf",
                    "linear",
                    "linear",
                    "poly",
                    "linear",
                    "linear",
                    "linear",
                    "linear",
                    "linear",
                    "sigmoid",
                    "linear",
                    "linear",
                    "linear",
                    "linear",
                    "linear",
                    "linear",
                    "linear",
                    "linear",
                    "linear",
                    "rbf",
                    "linear",
                    "poly",
                    "linear",
                    "linear",
                    "linear",
                    "linear",
                    "linear",
                    "linear",
                    "sigmoid",
                    "linear",
                    "linear"
                  ],
                  "yaxis": "y43"
                },
                {
                  "colorbar": {
                    "title": {
                      "text": "Objective Value"
                    }
                  },
                  "colorscale": [
                    [
                      0,
                      "rgb(247,251,255)"
                    ],
                    [
                      0.125,
                      "rgb(222,235,247)"
                    ],
                    [
                      0.25,
                      "rgb(198,219,239)"
                    ],
                    [
                      0.375,
                      "rgb(158,202,225)"
                    ],
                    [
                      0.5,
                      "rgb(107,174,214)"
                    ],
                    [
                      0.625,
                      "rgb(66,146,198)"
                    ],
                    [
                      0.75,
                      "rgb(33,113,181)"
                    ],
                    [
                      0.875,
                      "rgb(8,81,156)"
                    ],
                    [
                      1,
                      "rgb(8,48,107)"
                    ]
                  ],
                  "connectgaps": true,
                  "contours": {
                    "coloring": "heatmap"
                  },
                  "hoverinfo": "none",
                  "line": {
                    "smoothing": 1.3
                  },
                  "reversescale": false,
                  "showscale": false,
                  "type": "contour",
                  "x": [
                    "GradientBoostingClassifier",
                    "RandomForestClassifier",
                    "SVC"
                  ],
                  "xaxis": "x53",
                  "y": [
                    0.008471494652377815,
                    0.010014044202641247,
                    0.010310837415270203,
                    0.02467535008833722,
                    0.026573184384960768,
                    0.04421575283234797,
                    0.0939146027493534,
                    0.11156472957531484,
                    0.1265184615937343,
                    0.22312641054514146,
                    0.28418343862027984,
                    0.3359295652985262
                  ],
                  "yaxis": "y53",
                  "z": {
                    "bdata": "AAAAAAAA+H8AAAAAAAD4fwAAAAAAAPh/kKJjh4R65z8AAAAAAAD4fwAAAAAAAPh/bVP5PS535j8AAAAAAAD4fwAAAAAAAPh/OBoxgZlu6D8AAAAAAAD4fwAAAAAAAPh/6CqWjW+G5j8AAAAAAAD4fwAAAAAAAPh/FcvGN0Nr5z8AAAAAAAD4fwAAAAAAAPh/ACk6dkio5z8AAAAAAAD4fwAAAAAAAPh/yDdDa/fh5j8AAAAAAAD4fwAAAAAAAPh/C3oA18WJ5z8AAAAAAAD4fwAAAAAAAPh/IByNmMBM5z8AAAAAAAD4fwAAAAAAAPh/T7y9QpQx6D8AAAAAAAD4fwAAAAAAAPh/AAAAAAAA+H8AAAAAAAD4fwAAAAAAAPh/",
                    "dtype": "f8",
                    "shape": "12, 3"
                  }
                },
                {
                  "marker": {
                    "color": "black",
                    "line": {
                      "color": "Gray",
                      "width": 2
                    }
                  },
                  "mode": "markers",
                  "name": "Feasible Trial",
                  "showlegend": false,
                  "type": "scatter",
                  "x": [
                    "GradientBoostingClassifier",
                    "GradientBoostingClassifier",
                    "GradientBoostingClassifier",
                    "GradientBoostingClassifier",
                    "GradientBoostingClassifier",
                    "GradientBoostingClassifier",
                    "GradientBoostingClassifier",
                    "GradientBoostingClassifier",
                    "GradientBoostingClassifier",
                    "GradientBoostingClassifier"
                  ],
                  "xaxis": "x53",
                  "y": [
                    0.11156472957531484,
                    0.22312641054514146,
                    0.010014044202641247,
                    0.026573184384960768,
                    0.04421575283234797,
                    0.28418343862027984,
                    0.010310837415270203,
                    0.0939146027493534,
                    0.02467535008833722,
                    0.1265184615937343
                  ],
                  "yaxis": "y53"
                },
                {
                  "colorbar": {
                    "title": {
                      "text": "Objective Value"
                    }
                  },
                  "colorscale": [
                    [
                      0,
                      "rgb(247,251,255)"
                    ],
                    [
                      0.125,
                      "rgb(222,235,247)"
                    ],
                    [
                      0.25,
                      "rgb(198,219,239)"
                    ],
                    [
                      0.375,
                      "rgb(158,202,225)"
                    ],
                    [
                      0.5,
                      "rgb(107,174,214)"
                    ],
                    [
                      0.625,
                      "rgb(66,146,198)"
                    ],
                    [
                      0.75,
                      "rgb(33,113,181)"
                    ],
                    [
                      0.875,
                      "rgb(8,81,156)"
                    ],
                    [
                      1,
                      "rgb(8,48,107)"
                    ]
                  ],
                  "connectgaps": true,
                  "contours": {
                    "coloring": "heatmap"
                  },
                  "hoverinfo": "none",
                  "line": {
                    "smoothing": 1.3
                  },
                  "reversescale": false,
                  "showscale": false,
                  "type": "contour",
                  "x": [
                    "GradientBoostingClassifier",
                    "RandomForestClassifier",
                    "SVC"
                  ],
                  "xaxis": "x63",
                  "y": [
                    2.15,
                    3,
                    4,
                    5,
                    7,
                    8,
                    10,
                    11,
                    12,
                    13,
                    14,
                    16,
                    17,
                    18,
                    19,
                    20,
                    20.85
                  ],
                  "yaxis": "y63",
                  "z": {
                    "bdata": "AAAAAAAA+H8AAAAAAAD4fwAAAAAAAPh/C3oA18WJ5z8AAAAAAAD4fwAAAAAAAPh/AAAAAAAA+H8tyWogHI3oPwAAAAAAAPh/AAAAAAAA+H+9QpQxWF/oPwAAAAAAAPh/AAAAAAAA+H/Ik1qS1UDoPwAAAAAAAPh/T7y9QpQx6D+9QpQxWF/oPwAAAAAAAPh/6CqWjW+G5j8AAAAAAAD4fwAAAAAAAPh/AAAAAAAA+H+dT0EP4LroPwAAAAAAAPh/ACk6dkio5z8AAAAAAAD4fwAAAAAAAPh/kKJjh4R65z8AAAAAAAD4fwAAAAAAAPh/AAAAAAAA+H8YJ95eIcroPwAAAAAAAPh/IByNmMBM5z+9QpQxWF/oPwAAAAAAAPh/AAAAAAAA+H+R/nquYtnoPwAAAAAAAPh/OBoxgZlu6D8AAAAAAAD4fwAAAAAAAPh/FcvGN0Nr5z8AAAAAAAD4fwAAAAAAAPh/yDdDa/fh5j8AAAAAAAD4fwAAAAAAAPh/AAAAAAAA+H8AAAAAAAD4fwAAAAAAAPh/",
                    "dtype": "f8",
                    "shape": "17, 3"
                  }
                },
                {
                  "marker": {
                    "color": "black",
                    "line": {
                      "color": "Gray",
                      "width": 2
                    }
                  },
                  "mode": "markers",
                  "name": "Feasible Trial",
                  "showlegend": false,
                  "type": "scatter",
                  "x": [
                    "GradientBoostingClassifier",
                    "GradientBoostingClassifier",
                    "RandomForestClassifier",
                    "RandomForestClassifier",
                    "RandomForestClassifier",
                    "RandomForestClassifier",
                    "GradientBoostingClassifier",
                    "GradientBoostingClassifier",
                    "GradientBoostingClassifier",
                    "RandomForestClassifier",
                    "GradientBoostingClassifier",
                    "RandomForestClassifier",
                    "GradientBoostingClassifier",
                    "RandomForestClassifier",
                    "RandomForestClassifier",
                    "GradientBoostingClassifier",
                    "GradientBoostingClassifier",
                    "RandomForestClassifier",
                    "GradientBoostingClassifier",
                    "RandomForestClassifier"
                  ],
                  "xaxis": "x63",
                  "y": [
                    20,
                    16,
                    4,
                    5,
                    8,
                    4,
                    13,
                    10,
                    19,
                    14,
                    8,
                    16,
                    10,
                    17,
                    7,
                    12,
                    18,
                    14,
                    3,
                    11
                  ],
                  "yaxis": "y63"
                },
                {
                  "colorbar": {
                    "title": {
                      "text": "Objective Value"
                    }
                  },
                  "colorscale": [
                    [
                      0,
                      "rgb(247,251,255)"
                    ],
                    [
                      0.125,
                      "rgb(222,235,247)"
                    ],
                    [
                      0.25,
                      "rgb(198,219,239)"
                    ],
                    [
                      0.375,
                      "rgb(158,202,225)"
                    ],
                    [
                      0.5,
                      "rgb(107,174,214)"
                    ],
                    [
                      0.625,
                      "rgb(66,146,198)"
                    ],
                    [
                      0.75,
                      "rgb(33,113,181)"
                    ],
                    [
                      0.875,
                      "rgb(8,81,156)"
                    ],
                    [
                      1,
                      "rgb(8,48,107)"
                    ]
                  ],
                  "connectgaps": true,
                  "contours": {
                    "coloring": "heatmap"
                  },
                  "hoverinfo": "none",
                  "line": {
                    "smoothing": 1.3
                  },
                  "reversescale": false,
                  "showscale": false,
                  "type": "contour",
                  "x": [
                    "GradientBoostingClassifier",
                    "RandomForestClassifier",
                    "SVC"
                  ],
                  "xaxis": "x73",
                  "y": [
                    0.55,
                    1,
                    2,
                    3,
                    4,
                    5,
                    6,
                    7,
                    8,
                    9,
                    10,
                    10.45
                  ],
                  "yaxis": "y73",
                  "z": {
                    "bdata": "AAAAAAAA+H8AAAAAAAD4fwAAAAAAAPh/6CqWjW+G5j8AAAAAAAD4fwAAAAAAAPh/C3oA18WJ5z8AAAAAAAD4fwAAAAAAAPh/T7y9QpQx6D8AAAAAAAD4fwAAAAAAAPh/AAAAAAAA+H8tyWogHI3oPwAAAAAAAPh/IByNmMBM5z8YJ95eIcroPwAAAAAAAPh/AAAAAAAA+H+9QpQxWF/oPwAAAAAAAPh/OBoxgZlu6D8AAAAAAAD4fwAAAAAAAPh/AAAAAAAA+H+9QpQxWF/oPwAAAAAAAPh/AAAAAAAA+H+R/nquYtnoPwAAAAAAAPh/yDdDa/fh5j+dT0EP4LroPwAAAAAAAPh/AAAAAAAA+H8AAAAAAAD4fwAAAAAAAPh/",
                    "dtype": "f8",
                    "shape": "12, 3"
                  }
                },
                {
                  "marker": {
                    "color": "black",
                    "line": {
                      "color": "Gray",
                      "width": 2
                    }
                  },
                  "mode": "markers",
                  "name": "Feasible Trial",
                  "showlegend": false,
                  "type": "scatter",
                  "x": [
                    "GradientBoostingClassifier",
                    "GradientBoostingClassifier",
                    "RandomForestClassifier",
                    "RandomForestClassifier",
                    "RandomForestClassifier",
                    "RandomForestClassifier",
                    "GradientBoostingClassifier",
                    "GradientBoostingClassifier",
                    "GradientBoostingClassifier",
                    "RandomForestClassifier",
                    "GradientBoostingClassifier",
                    "RandomForestClassifier",
                    "GradientBoostingClassifier",
                    "RandomForestClassifier",
                    "RandomForestClassifier",
                    "GradientBoostingClassifier",
                    "GradientBoostingClassifier",
                    "RandomForestClassifier",
                    "GradientBoostingClassifier",
                    "RandomForestClassifier"
                  ],
                  "xaxis": "x73",
                  "y": [
                    10,
                    5,
                    4,
                    4,
                    8,
                    8,
                    2,
                    1,
                    7,
                    10,
                    3,
                    6,
                    1,
                    9,
                    6,
                    3,
                    7,
                    5,
                    2,
                    9
                  ],
                  "yaxis": "y73"
                },
                {
                  "colorbar": {
                    "title": {
                      "text": "Objective Value"
                    }
                  },
                  "colorscale": [
                    [
                      0,
                      "rgb(247,251,255)"
                    ],
                    [
                      0.125,
                      "rgb(222,235,247)"
                    ],
                    [
                      0.25,
                      "rgb(198,219,239)"
                    ],
                    [
                      0.375,
                      "rgb(158,202,225)"
                    ],
                    [
                      0.5,
                      "rgb(107,174,214)"
                    ],
                    [
                      0.625,
                      "rgb(66,146,198)"
                    ],
                    [
                      0.75,
                      "rgb(33,113,181)"
                    ],
                    [
                      0.875,
                      "rgb(8,81,156)"
                    ],
                    [
                      1,
                      "rgb(8,48,107)"
                    ]
                  ],
                  "connectgaps": true,
                  "contours": {
                    "coloring": "heatmap"
                  },
                  "hoverinfo": "none",
                  "line": {
                    "smoothing": 1.3
                  },
                  "reversescale": false,
                  "showscale": false,
                  "type": "contour",
                  "x": [
                    "GradientBoostingClassifier",
                    "RandomForestClassifier",
                    "SVC"
                  ],
                  "xaxis": "x83",
                  "y": [
                    1.6,
                    2,
                    3,
                    4,
                    5,
                    6,
                    7,
                    8,
                    9,
                    10,
                    10.4
                  ],
                  "yaxis": "y83",
                  "z": {
                    "bdata": "AAAAAAAA+H8AAAAAAAD4fwAAAAAAAPh/kKJjh4R65z8AAAAAAAD4fwAAAAAAAPh/C3oA18WJ5z8AAAAAAAD4fwAAAAAAAPh/T7y9QpQx6D+dT0EP4LroPwAAAAAAAPh/AAAAAAAA+H+R/nquYtnoPwAAAAAAAPh/AAAAAAAA+H8tyWogHI3oPwAAAAAAAPh/ACk6dkio5z+dT0EP4LroPwAAAAAAAPh/OBoxgZlu6D+9QpQxWF/oPwAAAAAAAPh/yDdDa/fh5j+9QpQxWF/oPwAAAAAAAPh/FcvGN0Nr5z/Ik1qS1UDoPwAAAAAAAPh/AAAAAAAA+H8AAAAAAAD4fwAAAAAAAPh/",
                    "dtype": "f8",
                    "shape": "11, 3"
                  }
                },
                {
                  "marker": {
                    "color": "black",
                    "line": {
                      "color": "Gray",
                      "width": 2
                    }
                  },
                  "mode": "markers",
                  "name": "Feasible Trial",
                  "showlegend": false,
                  "type": "scatter",
                  "x": [
                    "GradientBoostingClassifier",
                    "GradientBoostingClassifier",
                    "RandomForestClassifier",
                    "RandomForestClassifier",
                    "RandomForestClassifier",
                    "RandomForestClassifier",
                    "GradientBoostingClassifier",
                    "GradientBoostingClassifier",
                    "GradientBoostingClassifier",
                    "RandomForestClassifier",
                    "GradientBoostingClassifier",
                    "RandomForestClassifier",
                    "GradientBoostingClassifier",
                    "RandomForestClassifier",
                    "RandomForestClassifier",
                    "GradientBoostingClassifier",
                    "GradientBoostingClassifier",
                    "RandomForestClassifier",
                    "GradientBoostingClassifier",
                    "RandomForestClassifier"
                  ],
                  "xaxis": "x83",
                  "y": [
                    9,
                    7,
                    6,
                    9,
                    4,
                    6,
                    2,
                    2,
                    10,
                    4,
                    4,
                    8,
                    3,
                    5,
                    10,
                    7,
                    8,
                    5,
                    3,
                    7
                  ],
                  "yaxis": "y83"
                },
                {
                  "colorbar": {
                    "title": {
                      "text": "Objective Value"
                    }
                  },
                  "colorscale": [
                    [
                      0,
                      "rgb(247,251,255)"
                    ],
                    [
                      0.125,
                      "rgb(222,235,247)"
                    ],
                    [
                      0.25,
                      "rgb(198,219,239)"
                    ],
                    [
                      0.375,
                      "rgb(158,202,225)"
                    ],
                    [
                      0.5,
                      "rgb(107,174,214)"
                    ],
                    [
                      0.625,
                      "rgb(66,146,198)"
                    ],
                    [
                      0.75,
                      "rgb(33,113,181)"
                    ],
                    [
                      0.875,
                      "rgb(8,81,156)"
                    ],
                    [
                      1,
                      "rgb(8,48,107)"
                    ]
                  ],
                  "connectgaps": true,
                  "contours": {
                    "coloring": "heatmap"
                  },
                  "hoverinfo": "none",
                  "line": {
                    "smoothing": 1.3
                  },
                  "reversescale": false,
                  "showscale": false,
                  "type": "contour",
                  "x": [
                    "GradientBoostingClassifier",
                    "RandomForestClassifier",
                    "SVC"
                  ],
                  "xaxis": "x93",
                  "y": [
                    38,
                    50,
                    53,
                    79,
                    93,
                    96,
                    116,
                    137,
                    142,
                    148,
                    177,
                    183,
                    198,
                    206,
                    220,
                    223,
                    246,
                    250,
                    260,
                    280,
                    290,
                    302
                  ],
                  "yaxis": "y93",
                  "z": {
                    "bdata": "AAAAAAAA+H8AAAAAAAD4fwAAAAAAAPh/6CqWjW+G5j8AAAAAAAD4fwAAAAAAAPh/OBoxgZlu6D8AAAAAAAD4fwAAAAAAAPh/AAAAAAAA+H+R/nquYtnoPwAAAAAAAPh/AAAAAAAA+H8tyWogHI3oPwAAAAAAAPh/IByNmMBM5z8AAAAAAAD4fwAAAAAAAPh/ACk6dkio5z8AAAAAAAD4fwAAAAAAAPh/yDdDa/fh5j8AAAAAAAD4fwAAAAAAAPh/AAAAAAAA+H/U5CDzUiLoPwAAAAAAAPh/bVP5PS535j8AAAAAAAD4fwAAAAAAAPh/AAAAAAAA+H8YJ95eIcroPwAAAAAAAPh/T7y9QpQx6D8AAAAAAAD4fwAAAAAAAPh/AAAAAAAA+H+9QpQxWF/oPwAAAAAAAPh/AAAAAAAA+H+dT0EP4LroPwAAAAAAAPh/FcvGN0Nr5z8AAAAAAAD4fwAAAAAAAPh/AAAAAAAA+H/Ik1qS1UDoPwAAAAAAAPh/AAAAAAAA+H+dT0EP4LroPwAAAAAAAPh/AAAAAAAA+H+9QpQxWF/oPwAAAAAAAPh/C3oA18WJ5z8AAAAAAAD4fwAAAAAAAPh/AAAAAAAA+H+9QpQxWF/oPwAAAAAAAPh/kKJjh4R65z8AAAAAAAD4fwAAAAAAAPh/AAAAAAAA+H8AAAAAAAD4fwAAAAAAAPh/",
                    "dtype": "f8",
                    "shape": "22, 3"
                  }
                },
                {
                  "marker": {
                    "color": "black",
                    "line": {
                      "color": "Gray",
                      "width": 2
                    }
                  },
                  "mode": "markers",
                  "name": "Feasible Trial",
                  "showlegend": false,
                  "type": "scatter",
                  "x": [
                    "GradientBoostingClassifier",
                    "GradientBoostingClassifier",
                    "RandomForestClassifier",
                    "RandomForestClassifier",
                    "RandomForestClassifier",
                    "RandomForestClassifier",
                    "GradientBoostingClassifier",
                    "GradientBoostingClassifier",
                    "GradientBoostingClassifier",
                    "RandomForestClassifier",
                    "GradientBoostingClassifier",
                    "RandomForestClassifier",
                    "GradientBoostingClassifier",
                    "RandomForestClassifier",
                    "RandomForestClassifier",
                    "GradientBoostingClassifier",
                    "GradientBoostingClassifier",
                    "RandomForestClassifier",
                    "GradientBoostingClassifier",
                    "RandomForestClassifier"
                  ],
                  "xaxis": "x93",
                  "y": [
                    137,
                    96,
                    93,
                    198,
                    280,
                    142,
                    290,
                    50,
                    220,
                    246,
                    183,
                    250,
                    148,
                    79,
                    223,
                    116,
                    53,
                    177,
                    260,
                    206
                  ],
                  "yaxis": "y93"
                },
                {
                  "colorbar": {
                    "title": {
                      "text": "Objective Value"
                    }
                  },
                  "colorscale": [
                    [
                      0,
                      "rgb(247,251,255)"
                    ],
                    [
                      0.125,
                      "rgb(222,235,247)"
                    ],
                    [
                      0.25,
                      "rgb(198,219,239)"
                    ],
                    [
                      0.375,
                      "rgb(158,202,225)"
                    ],
                    [
                      0.5,
                      "rgb(107,174,214)"
                    ],
                    [
                      0.625,
                      "rgb(66,146,198)"
                    ],
                    [
                      0.75,
                      "rgb(33,113,181)"
                    ],
                    [
                      0.875,
                      "rgb(8,81,156)"
                    ],
                    [
                      1,
                      "rgb(8,48,107)"
                    ]
                  ],
                  "connectgaps": true,
                  "contours": {
                    "coloring": "heatmap"
                  },
                  "hoverinfo": "none",
                  "line": {
                    "smoothing": 1.3
                  },
                  "reversescale": false,
                  "showscale": false,
                  "type": "contour",
                  "x": [
                    "auto",
                    "scale"
                  ],
                  "xaxis": "x4",
                  "y": [
                    0.07102148437105604,
                    0.10007272220904628,
                    0.10039056099633278,
                    0.10115633171825845,
                    0.10153928400906005,
                    0.10205553665570154,
                    0.10308192451987823,
                    0.10409374567582377,
                    0.10457358088434926,
                    0.10483650264359223,
                    0.1081911571401759,
                    0.11304695973433003,
                    0.11354816203530115,
                    0.11981265140213047,
                    0.12337798690937811,
                    0.12630599718925253,
                    0.12764058635384354,
                    0.1326946906743066,
                    0.13425137910046955,
                    0.1352086153340556,
                    0.13568526712078438,
                    0.13706238896427445,
                    0.13720632295060417,
                    0.14083621505731062,
                    0.14231133062694334,
                    0.1434854061845568,
                    0.14350477004843887,
                    0.1435758034480684,
                    0.1444360051218893,
                    0.14855371072309462,
                    0.1492663466459686,
                    0.15401834490584257,
                    0.15786978205638558,
                    0.1587858308497272,
                    0.16044624250588307,
                    0.16432147502999142,
                    0.16836901695868275,
                    0.1697753834155394,
                    0.1774194406636549,
                    0.17870583733615583,
                    0.18228242870516598,
                    0.18929615276475428,
                    0.19742536815509312,
                    0.19786644010962395,
                    0.20213001414491108,
                    0.20372663971304494,
                    0.20594418521771862,
                    0.21097589970492317,
                    0.22881944454482925,
                    0.2386118943243957,
                    0.23876170530451463,
                    0.24431349558176377,
                    0.2567342391350688,
                    0.26023475235098703,
                    0.2785638935162879,
                    0.2930764378604139,
                    0.30073877553165934,
                    0.3149849846620663,
                    0.31677968275691126,
                    0.3368635429290294,
                    0.33979043944081333,
                    0.37577606951277126,
                    0.3777967879195586,
                    0.42959014468756407,
                    0.4662193720000368,
                    0.5202346778097137,
                    0.5673937771597742,
                    0.6637318927821514,
                    0.8579476759778423,
                    0.8872969686043283,
                    1.394182172015757,
                    1.5998939555590013,
                    1.6035884544281889,
                    3.1539844450923975,
                    4.314756580922081,
                    6.079013149343286,
                    13.913077431197095,
                    15.00935758195136,
                    29.210834340438872,
                    88.07413852323239,
                    95.24344374276983,
                    134.20263983932574
                  ],
                  "yaxis": "y4",
                  "z": {
                    "bdata": "AAAAAAAA+H8AAAAAAAD4f3ALKIzqNOk/AAAAAAAA+H8AAAAAAAD4f3ALKIzqNOk/cAsojOo06T8AAAAAAAD4fwAAAAAAAPh/cAsojOo06T9wCyiM6jTpPwAAAAAAAPh/cAsojOo06T8AAAAAAAD4f3ALKIzqNOk/AAAAAAAA+H9wCyiM6jTpPwAAAAAAAPh/cAsojOo06T8AAAAAAAD4f3ALKIzqNOk/AAAAAAAA+H/r4sTbK0TpPwAAAAAAAPh/AAAAAAAA+H/r4sTbK0TpPwAAAAAAAPh/6+LE2ytE6T8AAAAAAAD4f+vixNsrROk/AAAAAAAA+H8YJ95eIcroPwAAAAAAAPh/6+LE2ytE6T8AAAAAAAD4f+vixNsrROk/6+LE2ytE6T8AAAAAAAD4fwAAAAAAAPh/6+LE2ytE6T8AAAAAAAD4f+vixNsrROk/AAAAAAAA+H/r4sTbK0TpPwAAAAAAAPh/6+LE2ytE6T8AAAAAAAD4f+vixNsrROk/6+LE2ytE6T8AAAAAAAD4fwAAAAAAAPh/6+LE2ytE6T8AAAAAAAD4f+vixNsrROk/AAAAAAAA+H/r4sTbK0TpPwAAAAAAAPh/6+LE2ytE6T8AAAAAAAD4f+vixNsrROk/AAAAAAAA+H/r4sTbK0TpPwAAAAAAAPh/6+LE2ytE6T8AAAAAAAD4f3ALKIzqNOk/AAAAAAAA+H9wCyiM6jTpP3ALKIzqNOk/AAAAAAAA+H8AAAAAAAD4f51PQQ/guug/cAsojOo06T8AAAAAAAD4f0Rr9+EWUOg/AAAAAAAA+H9wCyiM6jTpPwAAAAAAAPh/AAAAAAAA+H9wCyiM6jTpP3ALKIzqNOk/AAAAAAAA+H8AAAAAAAD4fxgn3l4hyug/9zOLPKkl6T8AAAAAAAD4f/czizypJek/AAAAAAAA+H8AAAAAAAD4f/czizypJek/AAAAAAAA+H/3M4s8qSXpPwAAAAAAAPh/9zOLPKkl6T8jeKS/nqvoPwAAAAAAAPh/AAAAAAAA+H+85nwKegDnPwAAAAAAAPh/9zOLPKkl6T8AAAAAAAD4f/czizypJek/9zOLPKkl6T8AAAAAAAD4fwAAAAAAAPh/RGv34RZQ6D/3M4s8qSXpPwAAAAAAAPh/AAAAAAAA+H/3M4s8qSXpPwAAAAAAAPh/9zOLPKkl6T/3M4s8qSXpPwAAAAAAAPh/9zOLPKkl6T8AAAAAAAD4fwAAAAAAAPh/9zOLPKkl6T8AAAAAAAD4fy3JaiAcjeg/AAAAAAAA+H98XO7sZxbpP5CiY4eEeuc/AAAAAAAA+H8AAAAAAAD4fwGFUZ0mB+k/AAAAAAAA+H84GjGBmW7oPwAAAAAAAPh/fFzu7GcW6T98XO7sZxbpPwAAAAAAAPh/fFzu7GcW6T8AAAAAAAD4fwAAAAAAAPh/9zOLPKkl6T8AAAAAAAD4f/czizypJek/GCfeXiHK6D8AAAAAAAD4fyxtU/k9Luc/AAAAAAAA+H8AAAAAAAD4f6igB3BdnOg/AAAAAAAA+H/1M4s8qSXpPwAAAAAAAPh/QQ/gujjx5j8AAAAAAAD4f/8oOnZIqOc/TGCmG7bS5j8AAAAAAAD4fwAAAAAAAPh/CB7pr+cq5j/RiAnMdMPmPwAAAAAAAPh/AAAAAAAA+H9YsWx8M7TmPwAAAAAAAPh/9TOLPKkl6T/1M4s8qSXpPwAAAAAAAPh/AAAAAAAA+H8AAAAAAAD4fw==",
                    "dtype": "f8",
                    "shape": "82, 2"
                  }
                },
                {
                  "marker": {
                    "color": "black",
                    "line": {
                      "color": "Gray",
                      "width": 2
                    }
                  },
                  "mode": "markers",
                  "name": "Feasible Trial",
                  "showlegend": false,
                  "type": "scatter",
                  "x": [
                    "scale",
                    "auto",
                    "scale",
                    "scale",
                    "auto",
                    "auto",
                    "auto",
                    "auto",
                    "auto",
                    "auto",
                    "auto",
                    "auto",
                    "auto",
                    "auto",
                    "auto",
                    "auto",
                    "auto",
                    "auto",
                    "scale",
                    "auto",
                    "auto",
                    "auto",
                    "auto",
                    "auto",
                    "auto",
                    "auto",
                    "auto",
                    "scale",
                    "auto",
                    "auto",
                    "auto",
                    "auto",
                    "auto",
                    "scale",
                    "scale",
                    "scale",
                    "scale",
                    "scale",
                    "scale",
                    "scale",
                    "scale",
                    "scale",
                    "scale",
                    "scale",
                    "scale",
                    "scale",
                    "scale",
                    "scale",
                    "scale",
                    "scale",
                    "scale",
                    "scale",
                    "scale",
                    "scale",
                    "scale",
                    "scale",
                    "scale",
                    "scale",
                    "scale",
                    "scale",
                    "scale",
                    "scale",
                    "scale",
                    "scale",
                    "scale",
                    "scale",
                    "scale",
                    "scale",
                    "scale",
                    "scale",
                    "scale",
                    "scale",
                    "scale",
                    "scale",
                    "auto",
                    "scale",
                    "auto",
                    "scale",
                    "scale",
                    "auto"
                  ],
                  "xaxis": "x4",
                  "y": [
                    13.913077431197095,
                    0.3149849846620663,
                    0.3368635429290294,
                    3.1539844450923975,
                    0.10308192451987823,
                    0.13425137910046955,
                    0.11304695973433003,
                    0.10409374567582377,
                    1.394182172015757,
                    95.24344374276983,
                    0.5202346778097137,
                    0.8872969686043283,
                    15.00935758195136,
                    0.10483650264359223,
                    0.10457358088434926,
                    0.30073877553165934,
                    0.19742536815509312,
                    0.19786644010962395,
                    0.8579476759778423,
                    0.21097589970492317,
                    0.10007272220904628,
                    0.10205553665570154,
                    0.1774194406636549,
                    0.5673937771597742,
                    0.1697753834155394,
                    0.37577606951277126,
                    0.16044624250588307,
                    1.6035884544281889,
                    0.1081911571401759,
                    0.10115633171825845,
                    0.16836901695868275,
                    6.079013149343286,
                    0.26023475235098703,
                    0.13720632295060417,
                    0.42959014468756407,
                    0.2785638935162879,
                    0.14855371072309462,
                    0.1435758034480684,
                    0.1444360051218893,
                    0.16432147502999142,
                    0.31677968275691126,
                    0.1434854061845568,
                    29.210834340438872,
                    0.23876170530451463,
                    0.6637318927821514,
                    0.14350477004843887,
                    0.1492663466459686,
                    0.1352086153340556,
                    0.3777967879195586,
                    0.2567342391350688,
                    0.14083621505731062,
                    0.2386118943243957,
                    4.314756580922081,
                    0.12764058635384354,
                    0.20594418521771862,
                    0.13706238896427445,
                    0.13568526712078438,
                    0.20372663971304494,
                    0.12630599718925253,
                    0.20213001414491108,
                    0.4662193720000368,
                    0.2930764378604139,
                    88.07413852323239,
                    0.15401834490584257,
                    0.1326946906743066,
                    0.17870583733615583,
                    0.11354816203530115,
                    0.1587858308497272,
                    1.5998939555590013,
                    0.33979043944081333,
                    0.22881944454482925,
                    0.12337798690937811,
                    0.10153928400906005,
                    0.15786978205638558,
                    0.18228242870516598,
                    0.11981265140213047,
                    0.14231133062694334,
                    0.18929615276475428,
                    0.10039056099633278,
                    0.24431349558176377
                  ],
                  "yaxis": "y4"
                },
                {
                  "showscale": false,
                  "type": "contour",
                  "xaxis": "x14",
                  "yaxis": "y14"
                },
                {
                  "type": "scatter",
                  "xaxis": "x14",
                  "yaxis": "y14"
                },
                {
                  "colorbar": {
                    "title": {
                      "text": "Objective Value"
                    }
                  },
                  "colorscale": [
                    [
                      0,
                      "rgb(247,251,255)"
                    ],
                    [
                      0.125,
                      "rgb(222,235,247)"
                    ],
                    [
                      0.25,
                      "rgb(198,219,239)"
                    ],
                    [
                      0.375,
                      "rgb(158,202,225)"
                    ],
                    [
                      0.5,
                      "rgb(107,174,214)"
                    ],
                    [
                      0.625,
                      "rgb(66,146,198)"
                    ],
                    [
                      0.75,
                      "rgb(33,113,181)"
                    ],
                    [
                      0.875,
                      "rgb(8,81,156)"
                    ],
                    [
                      1,
                      "rgb(8,48,107)"
                    ]
                  ],
                  "connectgaps": true,
                  "contours": {
                    "coloring": "heatmap"
                  },
                  "hoverinfo": "none",
                  "line": {
                    "smoothing": 1.3
                  },
                  "reversescale": false,
                  "showscale": false,
                  "type": "contour",
                  "x": [
                    "auto",
                    "scale"
                  ],
                  "xaxis": "x24",
                  "y": [
                    "GradientBoostingClassifier",
                    "RandomForestClassifier",
                    "SVC"
                  ],
                  "yaxis": "y24",
                  "z": {
                    "bdata": "AAAAAAAA+H8AAAAAAAD4fwAAAAAAAPh/AAAAAAAA+H/r4sTbK0TpP+vixNsrROk/",
                    "dtype": "f8",
                    "shape": "3, 2"
                  }
                },
                {
                  "marker": {
                    "color": "black",
                    "line": {
                      "color": "Gray",
                      "width": 2
                    }
                  },
                  "mode": "markers",
                  "name": "Feasible Trial",
                  "showlegend": false,
                  "type": "scatter",
                  "x": [
                    "scale",
                    "auto",
                    "scale",
                    "scale",
                    "auto",
                    "auto",
                    "auto",
                    "auto",
                    "auto",
                    "auto",
                    "auto",
                    "auto",
                    "auto",
                    "auto",
                    "auto",
                    "auto",
                    "auto",
                    "auto",
                    "scale",
                    "auto",
                    "auto",
                    "auto",
                    "auto",
                    "auto",
                    "auto",
                    "auto",
                    "auto",
                    "scale",
                    "auto",
                    "auto",
                    "auto",
                    "auto",
                    "auto",
                    "scale",
                    "scale",
                    "scale",
                    "scale",
                    "scale",
                    "scale",
                    "scale",
                    "scale",
                    "scale",
                    "scale",
                    "scale",
                    "scale",
                    "scale",
                    "scale",
                    "scale",
                    "scale",
                    "scale",
                    "scale",
                    "scale",
                    "scale",
                    "scale",
                    "scale",
                    "scale",
                    "scale",
                    "scale",
                    "scale",
                    "scale",
                    "scale",
                    "scale",
                    "scale",
                    "scale",
                    "scale",
                    "scale",
                    "scale",
                    "scale",
                    "scale",
                    "scale",
                    "scale",
                    "scale",
                    "scale",
                    "scale",
                    "auto",
                    "scale",
                    "auto",
                    "scale",
                    "scale",
                    "auto"
                  ],
                  "xaxis": "x24",
                  "y": [
                    "SVC",
                    "SVC",
                    "SVC",
                    "SVC",
                    "SVC",
                    "SVC",
                    "SVC",
                    "SVC",
                    "SVC",
                    "SVC",
                    "SVC",
                    "SVC",
                    "SVC",
                    "SVC",
                    "SVC",
                    "SVC",
                    "SVC",
                    "SVC",
                    "SVC",
                    "SVC",
                    "SVC",
                    "SVC",
                    "SVC",
                    "SVC",
                    "SVC",
                    "SVC",
                    "SVC",
                    "SVC",
                    "SVC",
                    "SVC",
                    "SVC",
                    "SVC",
                    "SVC",
                    "SVC",
                    "SVC",
                    "SVC",
                    "SVC",
                    "SVC",
                    "SVC",
                    "SVC",
                    "SVC",
                    "SVC",
                    "SVC",
                    "SVC",
                    "SVC",
                    "SVC",
                    "SVC",
                    "SVC",
                    "SVC",
                    "SVC",
                    "SVC",
                    "SVC",
                    "SVC",
                    "SVC",
                    "SVC",
                    "SVC",
                    "SVC",
                    "SVC",
                    "SVC",
                    "SVC",
                    "SVC",
                    "SVC",
                    "SVC",
                    "SVC",
                    "SVC",
                    "SVC",
                    "SVC",
                    "SVC",
                    "SVC",
                    "SVC",
                    "SVC",
                    "SVC",
                    "SVC",
                    "SVC",
                    "SVC",
                    "SVC",
                    "SVC",
                    "SVC",
                    "SVC",
                    "SVC"
                  ],
                  "yaxis": "y24"
                },
                {
                  "type": "scatter",
                  "xaxis": "x34",
                  "yaxis": "y34"
                },
                {
                  "colorbar": {
                    "title": {
                      "text": "Objective Value"
                    }
                  },
                  "colorscale": [
                    [
                      0,
                      "rgb(247,251,255)"
                    ],
                    [
                      0.125,
                      "rgb(222,235,247)"
                    ],
                    [
                      0.25,
                      "rgb(198,219,239)"
                    ],
                    [
                      0.375,
                      "rgb(158,202,225)"
                    ],
                    [
                      0.5,
                      "rgb(107,174,214)"
                    ],
                    [
                      0.625,
                      "rgb(66,146,198)"
                    ],
                    [
                      0.75,
                      "rgb(33,113,181)"
                    ],
                    [
                      0.875,
                      "rgb(8,81,156)"
                    ],
                    [
                      1,
                      "rgb(8,48,107)"
                    ]
                  ],
                  "connectgaps": true,
                  "contours": {
                    "coloring": "heatmap"
                  },
                  "hoverinfo": "none",
                  "line": {
                    "smoothing": 1.3
                  },
                  "reversescale": false,
                  "showscale": false,
                  "type": "contour",
                  "x": [
                    "auto",
                    "scale"
                  ],
                  "xaxis": "x44",
                  "y": [
                    "linear",
                    "poly",
                    "rbf",
                    "sigmoid"
                  ],
                  "yaxis": "y44",
                  "z": {
                    "bdata": "6+LE2ytE6T/r4sTbK0TpP5CiY4eEeuc//yg6dkio5z8YJ95eIcroP6igB3BdnOg/I3ikv56r6D8YJ95eIcroPw==",
                    "dtype": "f8",
                    "shape": "4, 2"
                  }
                },
                {
                  "marker": {
                    "color": "black",
                    "line": {
                      "color": "Gray",
                      "width": 2
                    }
                  },
                  "mode": "markers",
                  "name": "Feasible Trial",
                  "showlegend": false,
                  "type": "scatter",
                  "x": [
                    "scale",
                    "auto",
                    "scale",
                    "scale",
                    "auto",
                    "auto",
                    "auto",
                    "auto",
                    "auto",
                    "auto",
                    "auto",
                    "auto",
                    "auto",
                    "auto",
                    "auto",
                    "auto",
                    "auto",
                    "auto",
                    "scale",
                    "auto",
                    "auto",
                    "auto",
                    "auto",
                    "auto",
                    "auto",
                    "auto",
                    "auto",
                    "scale",
                    "auto",
                    "auto",
                    "auto",
                    "auto",
                    "auto",
                    "scale",
                    "scale",
                    "scale",
                    "scale",
                    "scale",
                    "scale",
                    "scale",
                    "scale",
                    "scale",
                    "scale",
                    "scale",
                    "scale",
                    "scale",
                    "scale",
                    "scale",
                    "scale",
                    "scale",
                    "scale",
                    "scale",
                    "scale",
                    "scale",
                    "scale",
                    "scale",
                    "scale",
                    "scale",
                    "scale",
                    "scale",
                    "scale",
                    "scale",
                    "scale",
                    "scale",
                    "scale",
                    "scale",
                    "scale",
                    "scale",
                    "scale",
                    "scale",
                    "scale",
                    "scale",
                    "scale",
                    "scale",
                    "auto",
                    "scale",
                    "auto",
                    "scale",
                    "scale",
                    "auto"
                  ],
                  "xaxis": "x44",
                  "y": [
                    "sigmoid",
                    "linear",
                    "rbf",
                    "sigmoid",
                    "linear",
                    "linear",
                    "linear",
                    "linear",
                    "poly",
                    "linear",
                    "linear",
                    "rbf",
                    "poly",
                    "linear",
                    "linear",
                    "linear",
                    "linear",
                    "linear",
                    "linear",
                    "sigmoid",
                    "linear",
                    "linear",
                    "linear",
                    "linear",
                    "rbf",
                    "poly",
                    "linear",
                    "linear",
                    "linear",
                    "linear",
                    "linear",
                    "sigmoid",
                    "linear",
                    "linear",
                    "rbf",
                    "linear",
                    "linear",
                    "linear",
                    "linear",
                    "sigmoid",
                    "linear",
                    "linear",
                    "poly",
                    "linear",
                    "linear",
                    "linear",
                    "linear",
                    "linear",
                    "linear",
                    "rbf",
                    "linear",
                    "linear",
                    "poly",
                    "linear",
                    "linear",
                    "linear",
                    "linear",
                    "linear",
                    "sigmoid",
                    "linear",
                    "linear",
                    "linear",
                    "linear",
                    "linear",
                    "linear",
                    "linear",
                    "linear",
                    "linear",
                    "rbf",
                    "linear",
                    "poly",
                    "linear",
                    "linear",
                    "linear",
                    "linear",
                    "linear",
                    "linear",
                    "sigmoid",
                    "linear",
                    "linear"
                  ],
                  "yaxis": "y44"
                },
                {
                  "showscale": false,
                  "type": "contour",
                  "xaxis": "x54",
                  "yaxis": "y54"
                },
                {
                  "type": "scatter",
                  "xaxis": "x54",
                  "yaxis": "y54"
                },
                {
                  "showscale": false,
                  "type": "contour",
                  "xaxis": "x64",
                  "yaxis": "y64"
                },
                {
                  "type": "scatter",
                  "xaxis": "x64",
                  "yaxis": "y64"
                },
                {
                  "showscale": false,
                  "type": "contour",
                  "xaxis": "x74",
                  "yaxis": "y74"
                },
                {
                  "type": "scatter",
                  "xaxis": "x74",
                  "yaxis": "y74"
                },
                {
                  "showscale": false,
                  "type": "contour",
                  "xaxis": "x84",
                  "yaxis": "y84"
                },
                {
                  "type": "scatter",
                  "xaxis": "x84",
                  "yaxis": "y84"
                },
                {
                  "showscale": false,
                  "type": "contour",
                  "xaxis": "x94",
                  "yaxis": "y94"
                },
                {
                  "type": "scatter",
                  "xaxis": "x94",
                  "yaxis": "y94"
                },
                {
                  "colorbar": {
                    "title": {
                      "text": "Objective Value"
                    }
                  },
                  "colorscale": [
                    [
                      0,
                      "rgb(247,251,255)"
                    ],
                    [
                      0.125,
                      "rgb(222,235,247)"
                    ],
                    [
                      0.25,
                      "rgb(198,219,239)"
                    ],
                    [
                      0.375,
                      "rgb(158,202,225)"
                    ],
                    [
                      0.5,
                      "rgb(107,174,214)"
                    ],
                    [
                      0.625,
                      "rgb(66,146,198)"
                    ],
                    [
                      0.75,
                      "rgb(33,113,181)"
                    ],
                    [
                      0.875,
                      "rgb(8,81,156)"
                    ],
                    [
                      1,
                      "rgb(8,48,107)"
                    ]
                  ],
                  "connectgaps": true,
                  "contours": {
                    "coloring": "heatmap"
                  },
                  "hoverinfo": "none",
                  "line": {
                    "smoothing": 1.3
                  },
                  "reversescale": false,
                  "showscale": false,
                  "type": "contour",
                  "x": [
                    "linear",
                    "poly",
                    "rbf",
                    "sigmoid"
                  ],
                  "xaxis": "x5",
                  "y": [
                    0.07102148437105604,
                    0.10007272220904628,
                    0.10039056099633278,
                    0.10115633171825845,
                    0.10153928400906005,
                    0.10205553665570154,
                    0.10308192451987823,
                    0.10409374567582377,
                    0.10457358088434926,
                    0.10483650264359223,
                    0.1081911571401759,
                    0.11304695973433003,
                    0.11354816203530115,
                    0.11981265140213047,
                    0.12337798690937811,
                    0.12630599718925253,
                    0.12764058635384354,
                    0.1326946906743066,
                    0.13425137910046955,
                    0.1352086153340556,
                    0.13568526712078438,
                    0.13706238896427445,
                    0.13720632295060417,
                    0.14083621505731062,
                    0.14231133062694334,
                    0.1434854061845568,
                    0.14350477004843887,
                    0.1435758034480684,
                    0.1444360051218893,
                    0.14855371072309462,
                    0.1492663466459686,
                    0.15401834490584257,
                    0.15786978205638558,
                    0.1587858308497272,
                    0.16044624250588307,
                    0.16432147502999142,
                    0.16836901695868275,
                    0.1697753834155394,
                    0.1774194406636549,
                    0.17870583733615583,
                    0.18228242870516598,
                    0.18929615276475428,
                    0.19742536815509312,
                    0.19786644010962395,
                    0.20213001414491108,
                    0.20372663971304494,
                    0.20594418521771862,
                    0.21097589970492317,
                    0.22881944454482925,
                    0.2386118943243957,
                    0.23876170530451463,
                    0.24431349558176377,
                    0.2567342391350688,
                    0.26023475235098703,
                    0.2785638935162879,
                    0.2930764378604139,
                    0.30073877553165934,
                    0.3149849846620663,
                    0.31677968275691126,
                    0.3368635429290294,
                    0.33979043944081333,
                    0.37577606951277126,
                    0.3777967879195586,
                    0.42959014468756407,
                    0.4662193720000368,
                    0.5202346778097137,
                    0.5673937771597742,
                    0.6637318927821514,
                    0.8579476759778423,
                    0.8872969686043283,
                    1.394182172015757,
                    1.5998939555590013,
                    1.6035884544281889,
                    3.1539844450923975,
                    4.314756580922081,
                    6.079013149343286,
                    13.913077431197095,
                    15.00935758195136,
                    29.210834340438872,
                    88.07413852323239,
                    95.24344374276983,
                    134.20263983932574
                  ],
                  "yaxis": "y5",
                  "z": {
                    "bdata": "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",
                    "dtype": "f8",
                    "shape": "82, 4"
                  }
                },
                {
                  "marker": {
                    "color": "black",
                    "line": {
                      "color": "Gray",
                      "width": 2
                    }
                  },
                  "mode": "markers",
                  "name": "Feasible Trial",
                  "showlegend": false,
                  "type": "scatter",
                  "x": [
                    "sigmoid",
                    "linear",
                    "rbf",
                    "sigmoid",
                    "linear",
                    "linear",
                    "linear",
                    "linear",
                    "poly",
                    "linear",
                    "linear",
                    "rbf",
                    "poly",
                    "linear",
                    "linear",
                    "linear",
                    "linear",
                    "linear",
                    "linear",
                    "sigmoid",
                    "linear",
                    "linear",
                    "linear",
                    "linear",
                    "rbf",
                    "poly",
                    "linear",
                    "linear",
                    "linear",
                    "linear",
                    "linear",
                    "sigmoid",
                    "linear",
                    "linear",
                    "rbf",
                    "linear",
                    "linear",
                    "linear",
                    "linear",
                    "sigmoid",
                    "linear",
                    "linear",
                    "poly",
                    "linear",
                    "linear",
                    "linear",
                    "linear",
                    "linear",
                    "linear",
                    "rbf",
                    "linear",
                    "linear",
                    "poly",
                    "linear",
                    "linear",
                    "linear",
                    "linear",
                    "linear",
                    "sigmoid",
                    "linear",
                    "linear",
                    "linear",
                    "linear",
                    "linear",
                    "linear",
                    "linear",
                    "linear",
                    "linear",
                    "rbf",
                    "linear",
                    "poly",
                    "linear",
                    "linear",
                    "linear",
                    "linear",
                    "linear",
                    "linear",
                    "sigmoid",
                    "linear",
                    "linear"
                  ],
                  "xaxis": "x5",
                  "y": [
                    13.913077431197095,
                    0.3149849846620663,
                    0.3368635429290294,
                    3.1539844450923975,
                    0.10308192451987823,
                    0.13425137910046955,
                    0.11304695973433003,
                    0.10409374567582377,
                    1.394182172015757,
                    95.24344374276983,
                    0.5202346778097137,
                    0.8872969686043283,
                    15.00935758195136,
                    0.10483650264359223,
                    0.10457358088434926,
                    0.30073877553165934,
                    0.19742536815509312,
                    0.19786644010962395,
                    0.8579476759778423,
                    0.21097589970492317,
                    0.10007272220904628,
                    0.10205553665570154,
                    0.1774194406636549,
                    0.5673937771597742,
                    0.1697753834155394,
                    0.37577606951277126,
                    0.16044624250588307,
                    1.6035884544281889,
                    0.1081911571401759,
                    0.10115633171825845,
                    0.16836901695868275,
                    6.079013149343286,
                    0.26023475235098703,
                    0.13720632295060417,
                    0.42959014468756407,
                    0.2785638935162879,
                    0.14855371072309462,
                    0.1435758034480684,
                    0.1444360051218893,
                    0.16432147502999142,
                    0.31677968275691126,
                    0.1434854061845568,
                    29.210834340438872,
                    0.23876170530451463,
                    0.6637318927821514,
                    0.14350477004843887,
                    0.1492663466459686,
                    0.1352086153340556,
                    0.3777967879195586,
                    0.2567342391350688,
                    0.14083621505731062,
                    0.2386118943243957,
                    4.314756580922081,
                    0.12764058635384354,
                    0.20594418521771862,
                    0.13706238896427445,
                    0.13568526712078438,
                    0.20372663971304494,
                    0.12630599718925253,
                    0.20213001414491108,
                    0.4662193720000368,
                    0.2930764378604139,
                    88.07413852323239,
                    0.15401834490584257,
                    0.1326946906743066,
                    0.17870583733615583,
                    0.11354816203530115,
                    0.1587858308497272,
                    1.5998939555590013,
                    0.33979043944081333,
                    0.22881944454482925,
                    0.12337798690937811,
                    0.10153928400906005,
                    0.15786978205638558,
                    0.18228242870516598,
                    0.11981265140213047,
                    0.14231133062694334,
                    0.18929615276475428,
                    0.10039056099633278,
                    0.24431349558176377
                  ],
                  "yaxis": "y5"
                },
                {
                  "showscale": false,
                  "type": "contour",
                  "xaxis": "x15",
                  "yaxis": "y15"
                },
                {
                  "type": "scatter",
                  "xaxis": "x15",
                  "yaxis": "y15"
                },
                {
                  "colorbar": {
                    "title": {
                      "text": "Objective Value"
                    }
                  },
                  "colorscale": [
                    [
                      0,
                      "rgb(247,251,255)"
                    ],
                    [
                      0.125,
                      "rgb(222,235,247)"
                    ],
                    [
                      0.25,
                      "rgb(198,219,239)"
                    ],
                    [
                      0.375,
                      "rgb(158,202,225)"
                    ],
                    [
                      0.5,
                      "rgb(107,174,214)"
                    ],
                    [
                      0.625,
                      "rgb(66,146,198)"
                    ],
                    [
                      0.75,
                      "rgb(33,113,181)"
                    ],
                    [
                      0.875,
                      "rgb(8,81,156)"
                    ],
                    [
                      1,
                      "rgb(8,48,107)"
                    ]
                  ],
                  "connectgaps": true,
                  "contours": {
                    "coloring": "heatmap"
                  },
                  "hoverinfo": "none",
                  "line": {
                    "smoothing": 1.3
                  },
                  "reversescale": false,
                  "showscale": false,
                  "type": "contour",
                  "x": [
                    "linear",
                    "poly",
                    "rbf",
                    "sigmoid"
                  ],
                  "xaxis": "x25",
                  "y": [
                    "GradientBoostingClassifier",
                    "RandomForestClassifier",
                    "SVC"
                  ],
                  "yaxis": "y25",
                  "z": {
                    "bdata": "AAAAAAAA+H8AAAAAAAD4fwAAAAAAAPh/AAAAAAAA+H8AAAAAAAD4fwAAAAAAAPh/AAAAAAAA+H8AAAAAAAD4f+vixNsrROk//yg6dkio5z8YJ95eIcroPxgn3l4hyug/",
                    "dtype": "f8",
                    "shape": "3, 4"
                  }
                },
                {
                  "marker": {
                    "color": "black",
                    "line": {
                      "color": "Gray",
                      "width": 2
                    }
                  },
                  "mode": "markers",
                  "name": "Feasible Trial",
                  "showlegend": false,
                  "type": "scatter",
                  "x": [
                    "sigmoid",
                    "linear",
                    "rbf",
                    "sigmoid",
                    "linear",
                    "linear",
                    "linear",
                    "linear",
                    "poly",
                    "linear",
                    "linear",
                    "rbf",
                    "poly",
                    "linear",
                    "linear",
                    "linear",
                    "linear",
                    "linear",
                    "linear",
                    "sigmoid",
                    "linear",
                    "linear",
                    "linear",
                    "linear",
                    "rbf",
                    "poly",
                    "linear",
                    "linear",
                    "linear",
                    "linear",
                    "linear",
                    "sigmoid",
                    "linear",
                    "linear",
                    "rbf",
                    "linear",
                    "linear",
                    "linear",
                    "linear",
                    "sigmoid",
                    "linear",
                    "linear",
                    "poly",
                    "linear",
                    "linear",
                    "linear",
                    "linear",
                    "linear",
                    "linear",
                    "rbf",
                    "linear",
                    "linear",
                    "poly",
                    "linear",
                    "linear",
                    "linear",
                    "linear",
                    "linear",
                    "sigmoid",
                    "linear",
                    "linear",
                    "linear",
                    "linear",
                    "linear",
                    "linear",
                    "linear",
                    "linear",
                    "linear",
                    "rbf",
                    "linear",
                    "poly",
                    "linear",
                    "linear",
                    "linear",
                    "linear",
                    "linear",
                    "linear",
                    "sigmoid",
                    "linear",
                    "linear"
                  ],
                  "xaxis": "x25",
                  "y": [
                    "SVC",
                    "SVC",
                    "SVC",
                    "SVC",
                    "SVC",
                    "SVC",
                    "SVC",
                    "SVC",
                    "SVC",
                    "SVC",
                    "SVC",
                    "SVC",
                    "SVC",
                    "SVC",
                    "SVC",
                    "SVC",
                    "SVC",
                    "SVC",
                    "SVC",
                    "SVC",
                    "SVC",
                    "SVC",
                    "SVC",
                    "SVC",
                    "SVC",
                    "SVC",
                    "SVC",
                    "SVC",
                    "SVC",
                    "SVC",
                    "SVC",
                    "SVC",
                    "SVC",
                    "SVC",
                    "SVC",
                    "SVC",
                    "SVC",
                    "SVC",
                    "SVC",
                    "SVC",
                    "SVC",
                    "SVC",
                    "SVC",
                    "SVC",
                    "SVC",
                    "SVC",
                    "SVC",
                    "SVC",
                    "SVC",
                    "SVC",
                    "SVC",
                    "SVC",
                    "SVC",
                    "SVC",
                    "SVC",
                    "SVC",
                    "SVC",
                    "SVC",
                    "SVC",
                    "SVC",
                    "SVC",
                    "SVC",
                    "SVC",
                    "SVC",
                    "SVC",
                    "SVC",
                    "SVC",
                    "SVC",
                    "SVC",
                    "SVC",
                    "SVC",
                    "SVC",
                    "SVC",
                    "SVC",
                    "SVC",
                    "SVC",
                    "SVC",
                    "SVC",
                    "SVC",
                    "SVC"
                  ],
                  "yaxis": "y25"
                },
                {
                  "colorbar": {
                    "title": {
                      "text": "Objective Value"
                    }
                  },
                  "colorscale": [
                    [
                      0,
                      "rgb(247,251,255)"
                    ],
                    [
                      0.125,
                      "rgb(222,235,247)"
                    ],
                    [
                      0.25,
                      "rgb(198,219,239)"
                    ],
                    [
                      0.375,
                      "rgb(158,202,225)"
                    ],
                    [
                      0.5,
                      "rgb(107,174,214)"
                    ],
                    [
                      0.625,
                      "rgb(66,146,198)"
                    ],
                    [
                      0.75,
                      "rgb(33,113,181)"
                    ],
                    [
                      0.875,
                      "rgb(8,81,156)"
                    ],
                    [
                      1,
                      "rgb(8,48,107)"
                    ]
                  ],
                  "connectgaps": true,
                  "contours": {
                    "coloring": "heatmap"
                  },
                  "hoverinfo": "none",
                  "line": {
                    "smoothing": 1.3
                  },
                  "reversescale": false,
                  "showscale": false,
                  "type": "contour",
                  "x": [
                    "linear",
                    "poly",
                    "rbf",
                    "sigmoid"
                  ],
                  "xaxis": "x35",
                  "y": [
                    "auto",
                    "scale"
                  ],
                  "yaxis": "y35",
                  "z": {
                    "bdata": "6+LE2ytE6T+QomOHhHrnPxgn3l4hyug/I3ikv56r6D/r4sTbK0TpP/8oOnZIqOc/qKAHcF2c6D8YJ95eIcroPw==",
                    "dtype": "f8",
                    "shape": "2, 4"
                  }
                },
                {
                  "marker": {
                    "color": "black",
                    "line": {
                      "color": "Gray",
                      "width": 2
                    }
                  },
                  "mode": "markers",
                  "name": "Feasible Trial",
                  "showlegend": false,
                  "type": "scatter",
                  "x": [
                    "sigmoid",
                    "linear",
                    "rbf",
                    "sigmoid",
                    "linear",
                    "linear",
                    "linear",
                    "linear",
                    "poly",
                    "linear",
                    "linear",
                    "rbf",
                    "poly",
                    "linear",
                    "linear",
                    "linear",
                    "linear",
                    "linear",
                    "linear",
                    "sigmoid",
                    "linear",
                    "linear",
                    "linear",
                    "linear",
                    "rbf",
                    "poly",
                    "linear",
                    "linear",
                    "linear",
                    "linear",
                    "linear",
                    "sigmoid",
                    "linear",
                    "linear",
                    "rbf",
                    "linear",
                    "linear",
                    "linear",
                    "linear",
                    "sigmoid",
                    "linear",
                    "linear",
                    "poly",
                    "linear",
                    "linear",
                    "linear",
                    "linear",
                    "linear",
                    "linear",
                    "rbf",
                    "linear",
                    "linear",
                    "poly",
                    "linear",
                    "linear",
                    "linear",
                    "linear",
                    "linear",
                    "sigmoid",
                    "linear",
                    "linear",
                    "linear",
                    "linear",
                    "linear",
                    "linear",
                    "linear",
                    "linear",
                    "linear",
                    "rbf",
                    "linear",
                    "poly",
                    "linear",
                    "linear",
                    "linear",
                    "linear",
                    "linear",
                    "linear",
                    "sigmoid",
                    "linear",
                    "linear"
                  ],
                  "xaxis": "x35",
                  "y": [
                    "scale",
                    "auto",
                    "scale",
                    "scale",
                    "auto",
                    "auto",
                    "auto",
                    "auto",
                    "auto",
                    "auto",
                    "auto",
                    "auto",
                    "auto",
                    "auto",
                    "auto",
                    "auto",
                    "auto",
                    "auto",
                    "scale",
                    "auto",
                    "auto",
                    "auto",
                    "auto",
                    "auto",
                    "auto",
                    "auto",
                    "auto",
                    "scale",
                    "auto",
                    "auto",
                    "auto",
                    "auto",
                    "auto",
                    "scale",
                    "scale",
                    "scale",
                    "scale",
                    "scale",
                    "scale",
                    "scale",
                    "scale",
                    "scale",
                    "scale",
                    "scale",
                    "scale",
                    "scale",
                    "scale",
                    "scale",
                    "scale",
                    "scale",
                    "scale",
                    "scale",
                    "scale",
                    "scale",
                    "scale",
                    "scale",
                    "scale",
                    "scale",
                    "scale",
                    "scale",
                    "scale",
                    "scale",
                    "scale",
                    "scale",
                    "scale",
                    "scale",
                    "scale",
                    "scale",
                    "scale",
                    "scale",
                    "scale",
                    "scale",
                    "scale",
                    "scale",
                    "auto",
                    "scale",
                    "auto",
                    "scale",
                    "scale",
                    "auto"
                  ],
                  "yaxis": "y35"
                },
                {
                  "type": "scatter",
                  "xaxis": "x45",
                  "yaxis": "y45"
                },
                {
                  "showscale": false,
                  "type": "contour",
                  "xaxis": "x55",
                  "yaxis": "y55"
                },
                {
                  "type": "scatter",
                  "xaxis": "x55",
                  "yaxis": "y55"
                },
                {
                  "showscale": false,
                  "type": "contour",
                  "xaxis": "x65",
                  "yaxis": "y65"
                },
                {
                  "type": "scatter",
                  "xaxis": "x65",
                  "yaxis": "y65"
                },
                {
                  "showscale": false,
                  "type": "contour",
                  "xaxis": "x75",
                  "yaxis": "y75"
                },
                {
                  "type": "scatter",
                  "xaxis": "x75",
                  "yaxis": "y75"
                },
                {
                  "showscale": false,
                  "type": "contour",
                  "xaxis": "x85",
                  "yaxis": "y85"
                },
                {
                  "type": "scatter",
                  "xaxis": "x85",
                  "yaxis": "y85"
                },
                {
                  "showscale": false,
                  "type": "contour",
                  "xaxis": "x95",
                  "yaxis": "y95"
                },
                {
                  "type": "scatter",
                  "xaxis": "x95",
                  "yaxis": "y95"
                },
                {
                  "showscale": false,
                  "type": "contour",
                  "xaxis": "x6",
                  "yaxis": "y6"
                },
                {
                  "type": "scatter",
                  "xaxis": "x6",
                  "yaxis": "y6"
                },
                {
                  "showscale": false,
                  "type": "contour",
                  "xaxis": "x16",
                  "yaxis": "y16"
                },
                {
                  "type": "scatter",
                  "xaxis": "x16",
                  "yaxis": "y16"
                },
                {
                  "colorbar": {
                    "title": {
                      "text": "Objective Value"
                    }
                  },
                  "colorscale": [
                    [
                      0,
                      "rgb(247,251,255)"
                    ],
                    [
                      0.125,
                      "rgb(222,235,247)"
                    ],
                    [
                      0.25,
                      "rgb(198,219,239)"
                    ],
                    [
                      0.375,
                      "rgb(158,202,225)"
                    ],
                    [
                      0.5,
                      "rgb(107,174,214)"
                    ],
                    [
                      0.625,
                      "rgb(66,146,198)"
                    ],
                    [
                      0.75,
                      "rgb(33,113,181)"
                    ],
                    [
                      0.875,
                      "rgb(8,81,156)"
                    ],
                    [
                      1,
                      "rgb(8,48,107)"
                    ]
                  ],
                  "connectgaps": true,
                  "contours": {
                    "coloring": "heatmap"
                  },
                  "hoverinfo": "none",
                  "line": {
                    "smoothing": 1.3
                  },
                  "reversescale": false,
                  "showscale": false,
                  "type": "contour",
                  "x": [
                    0.008471494652377815,
                    0.010014044202641247,
                    0.010310837415270203,
                    0.02467535008833722,
                    0.026573184384960768,
                    0.04421575283234797,
                    0.0939146027493534,
                    0.11156472957531484,
                    0.1265184615937343,
                    0.22312641054514146,
                    0.28418343862027984,
                    0.3359295652985262
                  ],
                  "xaxis": "x26",
                  "y": [
                    "GradientBoostingClassifier",
                    "RandomForestClassifier",
                    "SVC"
                  ],
                  "yaxis": "y26",
                  "z": {
                    "bdata": "AAAAAAAA+H+QomOHhHrnP21T+T0ud+Y/OBoxgZlu6D/oKpaNb4bmPxXLxjdDa+c/ACk6dkio5z/IN0Nr9+HmPwt6ANfFiec/IByNmMBM5z9PvL1ClDHoPwAAAAAAAPh/AAAAAAAA+H8AAAAAAAD4fwAAAAAAAPh/AAAAAAAA+H8AAAAAAAD4fwAAAAAAAPh/AAAAAAAA+H8AAAAAAAD4fwAAAAAAAPh/AAAAAAAA+H8AAAAAAAD4fwAAAAAAAPh/AAAAAAAA+H8AAAAAAAD4fwAAAAAAAPh/AAAAAAAA+H8AAAAAAAD4fwAAAAAAAPh/AAAAAAAA+H8AAAAAAAD4fwAAAAAAAPh/AAAAAAAA+H8AAAAAAAD4fwAAAAAAAPh/",
                    "dtype": "f8",
                    "shape": "3, 12"
                  }
                },
                {
                  "marker": {
                    "color": "black",
                    "line": {
                      "color": "Gray",
                      "width": 2
                    }
                  },
                  "mode": "markers",
                  "name": "Feasible Trial",
                  "showlegend": false,
                  "type": "scatter",
                  "x": [
                    0.11156472957531484,
                    0.22312641054514146,
                    0.010014044202641247,
                    0.026573184384960768,
                    0.04421575283234797,
                    0.28418343862027984,
                    0.010310837415270203,
                    0.0939146027493534,
                    0.02467535008833722,
                    0.1265184615937343
                  ],
                  "xaxis": "x26",
                  "y": [
                    "GradientBoostingClassifier",
                    "GradientBoostingClassifier",
                    "GradientBoostingClassifier",
                    "GradientBoostingClassifier",
                    "GradientBoostingClassifier",
                    "GradientBoostingClassifier",
                    "GradientBoostingClassifier",
                    "GradientBoostingClassifier",
                    "GradientBoostingClassifier",
                    "GradientBoostingClassifier"
                  ],
                  "yaxis": "y26"
                },
                {
                  "showscale": false,
                  "type": "contour",
                  "xaxis": "x36",
                  "yaxis": "y36"
                },
                {
                  "type": "scatter",
                  "xaxis": "x36",
                  "yaxis": "y36"
                },
                {
                  "showscale": false,
                  "type": "contour",
                  "xaxis": "x46",
                  "yaxis": "y46"
                },
                {
                  "type": "scatter",
                  "xaxis": "x46",
                  "yaxis": "y46"
                },
                {
                  "type": "scatter",
                  "xaxis": "x56",
                  "yaxis": "y56"
                },
                {
                  "colorbar": {
                    "title": {
                      "text": "Objective Value"
                    }
                  },
                  "colorscale": [
                    [
                      0,
                      "rgb(247,251,255)"
                    ],
                    [
                      0.125,
                      "rgb(222,235,247)"
                    ],
                    [
                      0.25,
                      "rgb(198,219,239)"
                    ],
                    [
                      0.375,
                      "rgb(158,202,225)"
                    ],
                    [
                      0.5,
                      "rgb(107,174,214)"
                    ],
                    [
                      0.625,
                      "rgb(66,146,198)"
                    ],
                    [
                      0.75,
                      "rgb(33,113,181)"
                    ],
                    [
                      0.875,
                      "rgb(8,81,156)"
                    ],
                    [
                      1,
                      "rgb(8,48,107)"
                    ]
                  ],
                  "connectgaps": true,
                  "contours": {
                    "coloring": "heatmap"
                  },
                  "hoverinfo": "none",
                  "line": {
                    "smoothing": 1.3
                  },
                  "reversescale": false,
                  "showscale": false,
                  "type": "contour",
                  "x": [
                    0.008471494652377815,
                    0.010014044202641247,
                    0.010310837415270203,
                    0.02467535008833722,
                    0.026573184384960768,
                    0.04421575283234797,
                    0.0939146027493534,
                    0.11156472957531484,
                    0.1265184615937343,
                    0.22312641054514146,
                    0.28418343862027984,
                    0.3359295652985262
                  ],
                  "xaxis": "x66",
                  "y": [
                    2.15,
                    3,
                    4,
                    5,
                    7,
                    8,
                    10,
                    11,
                    12,
                    13,
                    14,
                    16,
                    17,
                    18,
                    19,
                    20,
                    20.85
                  ],
                  "yaxis": "y66",
                  "z": {
                    "bdata": "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",
                    "dtype": "f8",
                    "shape": "17, 12"
                  }
                },
                {
                  "marker": {
                    "color": "black",
                    "line": {
                      "color": "Gray",
                      "width": 2
                    }
                  },
                  "mode": "markers",
                  "name": "Feasible Trial",
                  "showlegend": false,
                  "type": "scatter",
                  "x": [
                    0.11156472957531484,
                    0.22312641054514146,
                    0.010014044202641247,
                    0.026573184384960768,
                    0.04421575283234797,
                    0.28418343862027984,
                    0.010310837415270203,
                    0.0939146027493534,
                    0.02467535008833722,
                    0.1265184615937343
                  ],
                  "xaxis": "x66",
                  "y": [
                    20,
                    16,
                    13,
                    10,
                    19,
                    8,
                    10,
                    12,
                    18,
                    3
                  ],
                  "yaxis": "y66"
                },
                {
                  "colorbar": {
                    "title": {
                      "text": "Objective Value"
                    }
                  },
                  "colorscale": [
                    [
                      0,
                      "rgb(247,251,255)"
                    ],
                    [
                      0.125,
                      "rgb(222,235,247)"
                    ],
                    [
                      0.25,
                      "rgb(198,219,239)"
                    ],
                    [
                      0.375,
                      "rgb(158,202,225)"
                    ],
                    [
                      0.5,
                      "rgb(107,174,214)"
                    ],
                    [
                      0.625,
                      "rgb(66,146,198)"
                    ],
                    [
                      0.75,
                      "rgb(33,113,181)"
                    ],
                    [
                      0.875,
                      "rgb(8,81,156)"
                    ],
                    [
                      1,
                      "rgb(8,48,107)"
                    ]
                  ],
                  "connectgaps": true,
                  "contours": {
                    "coloring": "heatmap"
                  },
                  "hoverinfo": "none",
                  "line": {
                    "smoothing": 1.3
                  },
                  "reversescale": false,
                  "showscale": false,
                  "type": "contour",
                  "x": [
                    0.008471494652377815,
                    0.010014044202641247,
                    0.010310837415270203,
                    0.02467535008833722,
                    0.026573184384960768,
                    0.04421575283234797,
                    0.0939146027493534,
                    0.11156472957531484,
                    0.1265184615937343,
                    0.22312641054514146,
                    0.28418343862027984,
                    0.3359295652985262
                  ],
                  "xaxis": "x76",
                  "y": [
                    0.55,
                    1,
                    2,
                    3,
                    4,
                    5,
                    6,
                    7,
                    8,
                    9,
                    10,
                    10.45
                  ],
                  "yaxis": "y76",
                  "z": {
                    "bdata": "AAAAAAAA+H8AAAAAAAD4fwAAAAAAAPh/AAAAAAAA+H8AAAAAAAD4fwAAAAAAAPh/AAAAAAAA+H8AAAAAAAD4fwAAAAAAAPh/AAAAAAAA+H8AAAAAAAD4fwAAAAAAAPh/AAAAAAAA+H8AAAAAAAD4f21T+T0ud+Y/AAAAAAAA+H/oKpaNb4bmPwAAAAAAAPh/AAAAAAAA+H8AAAAAAAD4fwAAAAAAAPh/AAAAAAAA+H8AAAAAAAD4fwAAAAAAAPh/AAAAAAAA+H+QomOHhHrnPwAAAAAAAPh/AAAAAAAA+H8AAAAAAAD4fwAAAAAAAPh/AAAAAAAA+H8AAAAAAAD4fwt6ANfFiec/AAAAAAAA+H8AAAAAAAD4fwAAAAAAAPh/AAAAAAAA+H8AAAAAAAD4fwAAAAAAAPh/AAAAAAAA+H8AAAAAAAD4fwAAAAAAAPh/ACk6dkio5z8AAAAAAAD4fwAAAAAAAPh/AAAAAAAA+H9PvL1ClDHoPwAAAAAAAPh/AAAAAAAA+H8AAAAAAAD4fwAAAAAAAPh/AAAAAAAA+H8AAAAAAAD4fwAAAAAAAPh/AAAAAAAA+H8AAAAAAAD4fwAAAAAAAPh/AAAAAAAA+H8AAAAAAAD4fwAAAAAAAPh/AAAAAAAA+H8AAAAAAAD4fwAAAAAAAPh/AAAAAAAA+H8AAAAAAAD4fwAAAAAAAPh/AAAAAAAA+H8AAAAAAAD4fwAAAAAAAPh/IByNmMBM5z8AAAAAAAD4fwAAAAAAAPh/AAAAAAAA+H8AAAAAAAD4fwAAAAAAAPh/AAAAAAAA+H8AAAAAAAD4fwAAAAAAAPh/AAAAAAAA+H8AAAAAAAD4fwAAAAAAAPh/AAAAAAAA+H8AAAAAAAD4fwAAAAAAAPh/AAAAAAAA+H8AAAAAAAD4fwAAAAAAAPh/OBoxgZlu6D8AAAAAAAD4fxXLxjdDa+c/AAAAAAAA+H8AAAAAAAD4fwAAAAAAAPh/AAAAAAAA+H8AAAAAAAD4fwAAAAAAAPh/AAAAAAAA+H8AAAAAAAD4fwAAAAAAAPh/AAAAAAAA+H8AAAAAAAD4fwAAAAAAAPh/AAAAAAAA+H8AAAAAAAD4fwAAAAAAAPh/AAAAAAAA+H8AAAAAAAD4fwAAAAAAAPh/AAAAAAAA+H8AAAAAAAD4fwAAAAAAAPh/AAAAAAAA+H8AAAAAAAD4fwAAAAAAAPh/AAAAAAAA+H8AAAAAAAD4fwAAAAAAAPh/AAAAAAAA+H8AAAAAAAD4fwAAAAAAAPh/AAAAAAAA+H8AAAAAAAD4fwAAAAAAAPh/AAAAAAAA+H8AAAAAAAD4fwAAAAAAAPh/AAAAAAAA+H/IN0Nr9+HmPwAAAAAAAPh/AAAAAAAA+H8AAAAAAAD4fwAAAAAAAPh/AAAAAAAA+H8AAAAAAAD4fwAAAAAAAPh/AAAAAAAA+H8AAAAAAAD4fwAAAAAAAPh/AAAAAAAA+H8AAAAAAAD4fwAAAAAAAPh/AAAAAAAA+H8AAAAAAAD4fwAAAAAAAPh/",
                    "dtype": "f8",
                    "shape": "12, 12"
                  }
                },
                {
                  "marker": {
                    "color": "black",
                    "line": {
                      "color": "Gray",
                      "width": 2
                    }
                  },
                  "mode": "markers",
                  "name": "Feasible Trial",
                  "showlegend": false,
                  "type": "scatter",
                  "x": [
                    0.11156472957531484,
                    0.22312641054514146,
                    0.010014044202641247,
                    0.026573184384960768,
                    0.04421575283234797,
                    0.28418343862027984,
                    0.010310837415270203,
                    0.0939146027493534,
                    0.02467535008833722,
                    0.1265184615937343
                  ],
                  "xaxis": "x76",
                  "y": [
                    10,
                    5,
                    2,
                    1,
                    7,
                    3,
                    1,
                    3,
                    7,
                    2
                  ],
                  "yaxis": "y76"
                },
                {
                  "colorbar": {
                    "title": {
                      "text": "Objective Value"
                    }
                  },
                  "colorscale": [
                    [
                      0,
                      "rgb(247,251,255)"
                    ],
                    [
                      0.125,
                      "rgb(222,235,247)"
                    ],
                    [
                      0.25,
                      "rgb(198,219,239)"
                    ],
                    [
                      0.375,
                      "rgb(158,202,225)"
                    ],
                    [
                      0.5,
                      "rgb(107,174,214)"
                    ],
                    [
                      0.625,
                      "rgb(66,146,198)"
                    ],
                    [
                      0.75,
                      "rgb(33,113,181)"
                    ],
                    [
                      0.875,
                      "rgb(8,81,156)"
                    ],
                    [
                      1,
                      "rgb(8,48,107)"
                    ]
                  ],
                  "connectgaps": true,
                  "contours": {
                    "coloring": "heatmap"
                  },
                  "hoverinfo": "none",
                  "line": {
                    "smoothing": 1.3
                  },
                  "reversescale": false,
                  "showscale": false,
                  "type": "contour",
                  "x": [
                    0.008471494652377815,
                    0.010014044202641247,
                    0.010310837415270203,
                    0.02467535008833722,
                    0.026573184384960768,
                    0.04421575283234797,
                    0.0939146027493534,
                    0.11156472957531484,
                    0.1265184615937343,
                    0.22312641054514146,
                    0.28418343862027984,
                    0.3359295652985262
                  ],
                  "xaxis": "x86",
                  "y": [
                    1.6,
                    2,
                    3,
                    4,
                    5,
                    6,
                    7,
                    8,
                    9,
                    10,
                    10.4
                  ],
                  "yaxis": "y86",
                  "z": {
                    "bdata": "AAAAAAAA+H8AAAAAAAD4fwAAAAAAAPh/AAAAAAAA+H8AAAAAAAD4fwAAAAAAAPh/AAAAAAAA+H8AAAAAAAD4fwAAAAAAAPh/AAAAAAAA+H8AAAAAAAD4fwAAAAAAAPh/AAAAAAAA+H+QomOHhHrnPwAAAAAAAPh/AAAAAAAA+H/oKpaNb4bmPwAAAAAAAPh/AAAAAAAA+H8AAAAAAAD4fwAAAAAAAPh/AAAAAAAA+H8AAAAAAAD4fwAAAAAAAPh/AAAAAAAA+H8AAAAAAAD4f21T+T0ud+Y/AAAAAAAA+H8AAAAAAAD4fwAAAAAAAPh/AAAAAAAA+H8AAAAAAAD4fwt6ANfFiec/AAAAAAAA+H8AAAAAAAD4fwAAAAAAAPh/AAAAAAAA+H8AAAAAAAD4fwAAAAAAAPh/AAAAAAAA+H8AAAAAAAD4fwAAAAAAAPh/AAAAAAAA+H8AAAAAAAD4fwAAAAAAAPh/AAAAAAAA+H9PvL1ClDHoPwAAAAAAAPh/AAAAAAAA+H8AAAAAAAD4fwAAAAAAAPh/AAAAAAAA+H8AAAAAAAD4fwAAAAAAAPh/AAAAAAAA+H8AAAAAAAD4fwAAAAAAAPh/AAAAAAAA+H8AAAAAAAD4fwAAAAAAAPh/AAAAAAAA+H8AAAAAAAD4fwAAAAAAAPh/AAAAAAAA+H8AAAAAAAD4fwAAAAAAAPh/AAAAAAAA+H8AAAAAAAD4fwAAAAAAAPh/AAAAAAAA+H8AAAAAAAD4fwAAAAAAAPh/AAAAAAAA+H8AAAAAAAD4fwAAAAAAAPh/AAAAAAAA+H8AAAAAAAD4fwAAAAAAAPh/ACk6dkio5z8AAAAAAAD4fwAAAAAAAPh/IByNmMBM5z8AAAAAAAD4fwAAAAAAAPh/AAAAAAAA+H8AAAAAAAD4fwAAAAAAAPh/OBoxgZlu6D8AAAAAAAD4fwAAAAAAAPh/AAAAAAAA+H8AAAAAAAD4fwAAAAAAAPh/AAAAAAAA+H8AAAAAAAD4fwAAAAAAAPh/AAAAAAAA+H8AAAAAAAD4fwAAAAAAAPh/AAAAAAAA+H8AAAAAAAD4fwAAAAAAAPh/AAAAAAAA+H/IN0Nr9+HmPwAAAAAAAPh/AAAAAAAA+H8AAAAAAAD4fwAAAAAAAPh/AAAAAAAA+H8AAAAAAAD4fwAAAAAAAPh/AAAAAAAA+H8AAAAAAAD4fxXLxjdDa+c/AAAAAAAA+H8AAAAAAAD4fwAAAAAAAPh/AAAAAAAA+H8AAAAAAAD4fwAAAAAAAPh/AAAAAAAA+H8AAAAAAAD4fwAAAAAAAPh/AAAAAAAA+H8AAAAAAAD4fwAAAAAAAPh/AAAAAAAA+H8AAAAAAAD4fwAAAAAAAPh/AAAAAAAA+H8AAAAAAAD4fwAAAAAAAPh/",
                    "dtype": "f8",
                    "shape": "11, 12"
                  }
                },
                {
                  "marker": {
                    "color": "black",
                    "line": {
                      "color": "Gray",
                      "width": 2
                    }
                  },
                  "mode": "markers",
                  "name": "Feasible Trial",
                  "showlegend": false,
                  "type": "scatter",
                  "x": [
                    0.11156472957531484,
                    0.22312641054514146,
                    0.010014044202641247,
                    0.026573184384960768,
                    0.04421575283234797,
                    0.28418343862027984,
                    0.010310837415270203,
                    0.0939146027493534,
                    0.02467535008833722,
                    0.1265184615937343
                  ],
                  "xaxis": "x86",
                  "y": [
                    9,
                    7,
                    2,
                    2,
                    10,
                    4,
                    3,
                    7,
                    8,
                    3
                  ],
                  "yaxis": "y86"
                },
                {
                  "colorbar": {
                    "title": {
                      "text": "Objective Value"
                    }
                  },
                  "colorscale": [
                    [
                      0,
                      "rgb(247,251,255)"
                    ],
                    [
                      0.125,
                      "rgb(222,235,247)"
                    ],
                    [
                      0.25,
                      "rgb(198,219,239)"
                    ],
                    [
                      0.375,
                      "rgb(158,202,225)"
                    ],
                    [
                      0.5,
                      "rgb(107,174,214)"
                    ],
                    [
                      0.625,
                      "rgb(66,146,198)"
                    ],
                    [
                      0.75,
                      "rgb(33,113,181)"
                    ],
                    [
                      0.875,
                      "rgb(8,81,156)"
                    ],
                    [
                      1,
                      "rgb(8,48,107)"
                    ]
                  ],
                  "connectgaps": true,
                  "contours": {
                    "coloring": "heatmap"
                  },
                  "hoverinfo": "none",
                  "line": {
                    "smoothing": 1.3
                  },
                  "reversescale": false,
                  "showscale": false,
                  "type": "contour",
                  "x": [
                    0.008471494652377815,
                    0.010014044202641247,
                    0.010310837415270203,
                    0.02467535008833722,
                    0.026573184384960768,
                    0.04421575283234797,
                    0.0939146027493534,
                    0.11156472957531484,
                    0.1265184615937343,
                    0.22312641054514146,
                    0.28418343862027984,
                    0.3359295652985262
                  ],
                  "xaxis": "x96",
                  "y": [
                    38,
                    50,
                    53,
                    79,
                    93,
                    96,
                    116,
                    137,
                    142,
                    148,
                    177,
                    183,
                    198,
                    206,
                    220,
                    223,
                    246,
                    250,
                    260,
                    280,
                    290,
                    302
                  ],
                  "yaxis": "y96",
                  "z": {
                    "bdata": "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",
                    "dtype": "f8",
                    "shape": "22, 12"
                  }
                },
                {
                  "marker": {
                    "color": "black",
                    "line": {
                      "color": "Gray",
                      "width": 2
                    }
                  },
                  "mode": "markers",
                  "name": "Feasible Trial",
                  "showlegend": false,
                  "type": "scatter",
                  "x": [
                    0.11156472957531484,
                    0.22312641054514146,
                    0.010014044202641247,
                    0.026573184384960768,
                    0.04421575283234797,
                    0.28418343862027984,
                    0.010310837415270203,
                    0.0939146027493534,
                    0.02467535008833722,
                    0.1265184615937343
                  ],
                  "xaxis": "x96",
                  "y": [
                    137,
                    96,
                    290,
                    50,
                    220,
                    183,
                    148,
                    116,
                    53,
                    260
                  ],
                  "yaxis": "y96"
                },
                {
                  "showscale": false,
                  "type": "contour",
                  "xaxis": "x7",
                  "yaxis": "y7"
                },
                {
                  "type": "scatter",
                  "xaxis": "x7",
                  "yaxis": "y7"
                },
                {
                  "colorbar": {
                    "title": {
                      "text": "Objective Value"
                    }
                  },
                  "colorscale": [
                    [
                      0,
                      "rgb(247,251,255)"
                    ],
                    [
                      0.125,
                      "rgb(222,235,247)"
                    ],
                    [
                      0.25,
                      "rgb(198,219,239)"
                    ],
                    [
                      0.375,
                      "rgb(158,202,225)"
                    ],
                    [
                      0.5,
                      "rgb(107,174,214)"
                    ],
                    [
                      0.625,
                      "rgb(66,146,198)"
                    ],
                    [
                      0.75,
                      "rgb(33,113,181)"
                    ],
                    [
                      0.875,
                      "rgb(8,81,156)"
                    ],
                    [
                      1,
                      "rgb(8,48,107)"
                    ]
                  ],
                  "connectgaps": true,
                  "contours": {
                    "coloring": "heatmap"
                  },
                  "hoverinfo": "none",
                  "line": {
                    "smoothing": 1.3
                  },
                  "reversescale": false,
                  "showscale": false,
                  "type": "contour",
                  "x": [
                    2.15,
                    3,
                    4,
                    5,
                    7,
                    8,
                    10,
                    11,
                    12,
                    13,
                    14,
                    16,
                    17,
                    18,
                    19,
                    20,
                    20.85
                  ],
                  "xaxis": "x17",
                  "y": [
                    "False",
                    "True"
                  ],
                  "yaxis": "y17",
                  "z": {
                    "bdata": "AAAAAAAA+H8AAAAAAAD4fy3JaiAcjeg/AAAAAAAA+H8AAAAAAAD4fwAAAAAAAPh/AAAAAAAA+H+dT0EP4LroPwAAAAAAAPh/AAAAAAAA+H+dT0EP4LroP71ClDFYX+g/kf56rmLZ6D8AAAAAAAD4fwAAAAAAAPh/AAAAAAAA+H8AAAAAAAD4fwAAAAAAAPh/AAAAAAAA+H/U5CDzUiLoP71ClDFYX+g/yJNaktVA6D+9QpQxWF/oPwAAAAAAAPh/AAAAAAAA+H8AAAAAAAD4fwAAAAAAAPh/GCfeXiHK6D8AAAAAAAD4fwAAAAAAAPh/AAAAAAAA+H8AAAAAAAD4fwAAAAAAAPh/AAAAAAAA+H8=",
                    "dtype": "f8",
                    "shape": "2, 17"
                  }
                },
                {
                  "marker": {
                    "color": "black",
                    "line": {
                      "color": "Gray",
                      "width": 2
                    }
                  },
                  "mode": "markers",
                  "name": "Feasible Trial",
                  "showlegend": false,
                  "type": "scatter",
                  "x": [
                    4,
                    5,
                    8,
                    4,
                    14,
                    16,
                    17,
                    7,
                    14,
                    11
                  ],
                  "xaxis": "x17",
                  "y": [
                    "False",
                    "True",
                    "True",
                    "True",
                    "False",
                    "False",
                    "False",
                    "True",
                    "True",
                    "False"
                  ],
                  "yaxis": "y17"
                },
                {
                  "colorbar": {
                    "title": {
                      "text": "Objective Value"
                    }
                  },
                  "colorscale": [
                    [
                      0,
                      "rgb(247,251,255)"
                    ],
                    [
                      0.125,
                      "rgb(222,235,247)"
                    ],
                    [
                      0.25,
                      "rgb(198,219,239)"
                    ],
                    [
                      0.375,
                      "rgb(158,202,225)"
                    ],
                    [
                      0.5,
                      "rgb(107,174,214)"
                    ],
                    [
                      0.625,
                      "rgb(66,146,198)"
                    ],
                    [
                      0.75,
                      "rgb(33,113,181)"
                    ],
                    [
                      0.875,
                      "rgb(8,81,156)"
                    ],
                    [
                      1,
                      "rgb(8,48,107)"
                    ]
                  ],
                  "connectgaps": true,
                  "contours": {
                    "coloring": "heatmap"
                  },
                  "hoverinfo": "none",
                  "line": {
                    "smoothing": 1.3
                  },
                  "reversescale": false,
                  "showscale": false,
                  "type": "contour",
                  "x": [
                    2.15,
                    3,
                    4,
                    5,
                    7,
                    8,
                    10,
                    11,
                    12,
                    13,
                    14,
                    16,
                    17,
                    18,
                    19,
                    20,
                    20.85
                  ],
                  "xaxis": "x27",
                  "y": [
                    "GradientBoostingClassifier",
                    "RandomForestClassifier",
                    "SVC"
                  ],
                  "yaxis": "y27",
                  "z": {
                    "bdata": "AAAAAAAA+H8LegDXxYnnPwAAAAAAAPh/AAAAAAAA+H8AAAAAAAD4f0+8vUKUMeg/6CqWjW+G5j8AAAAAAAD4fwApOnZIqOc/kKJjh4R65z8AAAAAAAD4fyAcjZjATOc/AAAAAAAA+H84GjGBmW7oPxXLxjdDa+c/yDdDa/fh5j8AAAAAAAD4fwAAAAAAAPh/AAAAAAAA+H8tyWogHI3oP71ClDFYX+g/yJNaktVA6D+9QpQxWF/oPwAAAAAAAPh/nU9BD+C66D8AAAAAAAD4fwAAAAAAAPh/GCfeXiHK6D+9QpQxWF/oP5H+eq5i2eg/AAAAAAAA+H8AAAAAAAD4fwAAAAAAAPh/AAAAAAAA+H8AAAAAAAD4fwAAAAAAAPh/AAAAAAAA+H8AAAAAAAD4fwAAAAAAAPh/AAAAAAAA+H8AAAAAAAD4fwAAAAAAAPh/AAAAAAAA+H8AAAAAAAD4fwAAAAAAAPh/AAAAAAAA+H8AAAAAAAD4fwAAAAAAAPh/AAAAAAAA+H8AAAAAAAD4fwAAAAAAAPh/",
                    "dtype": "f8",
                    "shape": "3, 17"
                  }
                },
                {
                  "marker": {
                    "color": "black",
                    "line": {
                      "color": "Gray",
                      "width": 2
                    }
                  },
                  "mode": "markers",
                  "name": "Feasible Trial",
                  "showlegend": false,
                  "type": "scatter",
                  "x": [
                    20,
                    16,
                    4,
                    5,
                    8,
                    4,
                    13,
                    10,
                    19,
                    14,
                    8,
                    16,
                    10,
                    17,
                    7,
                    12,
                    18,
                    14,
                    3,
                    11
                  ],
                  "xaxis": "x27",
                  "y": [
                    "GradientBoostingClassifier",
                    "GradientBoostingClassifier",
                    "RandomForestClassifier",
                    "RandomForestClassifier",
                    "RandomForestClassifier",
                    "RandomForestClassifier",
                    "GradientBoostingClassifier",
                    "GradientBoostingClassifier",
                    "GradientBoostingClassifier",
                    "RandomForestClassifier",
                    "GradientBoostingClassifier",
                    "RandomForestClassifier",
                    "GradientBoostingClassifier",
                    "RandomForestClassifier",
                    "RandomForestClassifier",
                    "GradientBoostingClassifier",
                    "GradientBoostingClassifier",
                    "RandomForestClassifier",
                    "GradientBoostingClassifier",
                    "RandomForestClassifier"
                  ],
                  "yaxis": "y27"
                },
                {
                  "showscale": false,
                  "type": "contour",
                  "xaxis": "x37",
                  "yaxis": "y37"
                },
                {
                  "type": "scatter",
                  "xaxis": "x37",
                  "yaxis": "y37"
                },
                {
                  "showscale": false,
                  "type": "contour",
                  "xaxis": "x47",
                  "yaxis": "y47"
                },
                {
                  "type": "scatter",
                  "xaxis": "x47",
                  "yaxis": "y47"
                },
                {
                  "colorbar": {
                    "title": {
                      "text": "Objective Value"
                    }
                  },
                  "colorscale": [
                    [
                      0,
                      "rgb(247,251,255)"
                    ],
                    [
                      0.125,
                      "rgb(222,235,247)"
                    ],
                    [
                      0.25,
                      "rgb(198,219,239)"
                    ],
                    [
                      0.375,
                      "rgb(158,202,225)"
                    ],
                    [
                      0.5,
                      "rgb(107,174,214)"
                    ],
                    [
                      0.625,
                      "rgb(66,146,198)"
                    ],
                    [
                      0.75,
                      "rgb(33,113,181)"
                    ],
                    [
                      0.875,
                      "rgb(8,81,156)"
                    ],
                    [
                      1,
                      "rgb(8,48,107)"
                    ]
                  ],
                  "connectgaps": true,
                  "contours": {
                    "coloring": "heatmap"
                  },
                  "hoverinfo": "none",
                  "line": {
                    "smoothing": 1.3
                  },
                  "reversescale": false,
                  "showscale": false,
                  "type": "contour",
                  "x": [
                    2.15,
                    3,
                    4,
                    5,
                    7,
                    8,
                    10,
                    11,
                    12,
                    13,
                    14,
                    16,
                    17,
                    18,
                    19,
                    20,
                    20.85
                  ],
                  "xaxis": "x57",
                  "y": [
                    0.008471494652377815,
                    0.010014044202641247,
                    0.010310837415270203,
                    0.02467535008833722,
                    0.026573184384960768,
                    0.04421575283234797,
                    0.0939146027493534,
                    0.11156472957531484,
                    0.1265184615937343,
                    0.22312641054514146,
                    0.28418343862027984,
                    0.3359295652985262
                  ],
                  "yaxis": "y57",
                  "z": {
                    "bdata": "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",
                    "dtype": "f8",
                    "shape": "12, 17"
                  }
                },
                {
                  "marker": {
                    "color": "black",
                    "line": {
                      "color": "Gray",
                      "width": 2
                    }
                  },
                  "mode": "markers",
                  "name": "Feasible Trial",
                  "showlegend": false,
                  "type": "scatter",
                  "x": [
                    20,
                    16,
                    13,
                    10,
                    19,
                    8,
                    10,
                    12,
                    18,
                    3
                  ],
                  "xaxis": "x57",
                  "y": [
                    0.11156472957531484,
                    0.22312641054514146,
                    0.010014044202641247,
                    0.026573184384960768,
                    0.04421575283234797,
                    0.28418343862027984,
                    0.010310837415270203,
                    0.0939146027493534,
                    0.02467535008833722,
                    0.1265184615937343
                  ],
                  "yaxis": "y57"
                },
                {
                  "type": "scatter",
                  "xaxis": "x67",
                  "yaxis": "y67"
                },
                {
                  "colorbar": {
                    "title": {
                      "text": "Objective Value"
                    }
                  },
                  "colorscale": [
                    [
                      0,
                      "rgb(247,251,255)"
                    ],
                    [
                      0.125,
                      "rgb(222,235,247)"
                    ],
                    [
                      0.25,
                      "rgb(198,219,239)"
                    ],
                    [
                      0.375,
                      "rgb(158,202,225)"
                    ],
                    [
                      0.5,
                      "rgb(107,174,214)"
                    ],
                    [
                      0.625,
                      "rgb(66,146,198)"
                    ],
                    [
                      0.75,
                      "rgb(33,113,181)"
                    ],
                    [
                      0.875,
                      "rgb(8,81,156)"
                    ],
                    [
                      1,
                      "rgb(8,48,107)"
                    ]
                  ],
                  "connectgaps": true,
                  "contours": {
                    "coloring": "heatmap"
                  },
                  "hoverinfo": "none",
                  "line": {
                    "smoothing": 1.3
                  },
                  "reversescale": false,
                  "showscale": false,
                  "type": "contour",
                  "x": [
                    2.15,
                    3,
                    4,
                    5,
                    7,
                    8,
                    10,
                    11,
                    12,
                    13,
                    14,
                    16,
                    17,
                    18,
                    19,
                    20,
                    20.85
                  ],
                  "xaxis": "x77",
                  "y": [
                    0.55,
                    1,
                    2,
                    3,
                    4,
                    5,
                    6,
                    7,
                    8,
                    9,
                    10,
                    10.45
                  ],
                  "yaxis": "y77",
                  "z": {
                    "bdata": "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",
                    "dtype": "f8",
                    "shape": "12, 17"
                  }
                },
                {
                  "marker": {
                    "color": "black",
                    "line": {
                      "color": "Gray",
                      "width": 2
                    }
                  },
                  "mode": "markers",
                  "name": "Feasible Trial",
                  "showlegend": false,
                  "type": "scatter",
                  "x": [
                    20,
                    16,
                    4,
                    5,
                    8,
                    4,
                    13,
                    10,
                    19,
                    14,
                    8,
                    16,
                    10,
                    17,
                    7,
                    12,
                    18,
                    14,
                    3,
                    11
                  ],
                  "xaxis": "x77",
                  "y": [
                    10,
                    5,
                    4,
                    4,
                    8,
                    8,
                    2,
                    1,
                    7,
                    10,
                    3,
                    6,
                    1,
                    9,
                    6,
                    3,
                    7,
                    5,
                    2,
                    9
                  ],
                  "yaxis": "y77"
                },
                {
                  "colorbar": {
                    "title": {
                      "text": "Objective Value"
                    }
                  },
                  "colorscale": [
                    [
                      0,
                      "rgb(247,251,255)"
                    ],
                    [
                      0.125,
                      "rgb(222,235,247)"
                    ],
                    [
                      0.25,
                      "rgb(198,219,239)"
                    ],
                    [
                      0.375,
                      "rgb(158,202,225)"
                    ],
                    [
                      0.5,
                      "rgb(107,174,214)"
                    ],
                    [
                      0.625,
                      "rgb(66,146,198)"
                    ],
                    [
                      0.75,
                      "rgb(33,113,181)"
                    ],
                    [
                      0.875,
                      "rgb(8,81,156)"
                    ],
                    [
                      1,
                      "rgb(8,48,107)"
                    ]
                  ],
                  "connectgaps": true,
                  "contours": {
                    "coloring": "heatmap"
                  },
                  "hoverinfo": "none",
                  "line": {
                    "smoothing": 1.3
                  },
                  "reversescale": false,
                  "showscale": false,
                  "type": "contour",
                  "x": [
                    2.15,
                    3,
                    4,
                    5,
                    7,
                    8,
                    10,
                    11,
                    12,
                    13,
                    14,
                    16,
                    17,
                    18,
                    19,
                    20,
                    20.85
                  ],
                  "xaxis": "x87",
                  "y": [
                    1.6,
                    2,
                    3,
                    4,
                    5,
                    6,
                    7,
                    8,
                    9,
                    10,
                    10.4
                  ],
                  "yaxis": "y87",
                  "z": {
                    "bdata": "AAAAAAAA+H8AAAAAAAD4fwAAAAAAAPh/AAAAAAAA+H8AAAAAAAD4fwAAAAAAAPh/AAAAAAAA+H8AAAAAAAD4fwAAAAAAAPh/AAAAAAAA+H8AAAAAAAD4fwAAAAAAAPh/AAAAAAAA+H8AAAAAAAD4fwAAAAAAAPh/AAAAAAAA+H8AAAAAAAD4fwAAAAAAAPh/AAAAAAAA+H8AAAAAAAD4fwAAAAAAAPh/AAAAAAAA+H8AAAAAAAD4f+gqlo1vhuY/AAAAAAAA+H8AAAAAAAD4f5CiY4eEeuc/AAAAAAAA+H8AAAAAAAD4fwAAAAAAAPh/AAAAAAAA+H8AAAAAAAD4fwAAAAAAAPh/AAAAAAAA+H8AAAAAAAD4fwt6ANfFiec/AAAAAAAA+H8AAAAAAAD4fwAAAAAAAPh/AAAAAAAA+H9tU/k9LnfmPwAAAAAAAPh/AAAAAAAA+H8AAAAAAAD4fwAAAAAAAPh/AAAAAAAA+H8AAAAAAAD4fwAAAAAAAPh/AAAAAAAA+H8AAAAAAAD4fwAAAAAAAPh/AAAAAAAA+H8AAAAAAAD4fwAAAAAAAPh/AAAAAAAA+H8AAAAAAAD4f71ClDFYX+g/AAAAAAAA+H8AAAAAAAD4fwAAAAAAAPh/AAAAAAAA+H+dT0EP4LroPwAAAAAAAPh/AAAAAAAA+H8AAAAAAAD4fwAAAAAAAPh/AAAAAAAA+H8AAAAAAAD4fwAAAAAAAPh/AAAAAAAA+H8AAAAAAAD4fwAAAAAAAPh/AAAAAAAA+H8AAAAAAAD4fwAAAAAAAPh/AAAAAAAA+H8AAAAAAAD4fwAAAAAAAPh/GCfeXiHK6D8AAAAAAAD4f5H+eq5i2eg/AAAAAAAA+H8AAAAAAAD4fwAAAAAAAPh/AAAAAAAA+H8AAAAAAAD4fwAAAAAAAPh/LclqIByN6D8AAAAAAAD4fwAAAAAAAPh/AAAAAAAA+H8AAAAAAAD4fwAAAAAAAPh/AAAAAAAA+H8AAAAAAAD4fwAAAAAAAPh/AAAAAAAA+H8AAAAAAAD4fwAAAAAAAPh/AAAAAAAA+H8AAAAAAAD4fwAAAAAAAPh/AAAAAAAA+H8AAAAAAAD4fwAAAAAAAPh/AAAAAAAA+H8AAAAAAAD4fwAAAAAAAPh/AAAAAAAA+H+dT0EP4LroPwApOnZIqOc/AAAAAAAA+H8AAAAAAAD4fyAcjZjATOc/AAAAAAAA+H8AAAAAAAD4fwAAAAAAAPh/AAAAAAAA+H8AAAAAAAD4fwAAAAAAAPh/AAAAAAAA+H8AAAAAAAD4fwAAAAAAAPh/AAAAAAAA+H8AAAAAAAD4fwAAAAAAAPh/AAAAAAAA+H8AAAAAAAD4fwAAAAAAAPh/AAAAAAAA+H+9QpQxWF/oPwAAAAAAAPh/OBoxgZlu6D8AAAAAAAD4fwAAAAAAAPh/AAAAAAAA+H8AAAAAAAD4fwAAAAAAAPh/AAAAAAAA+H+9QpQxWF/oPwAAAAAAAPh/AAAAAAAA+H8AAAAAAAD4fwAAAAAAAPh/AAAAAAAA+H8AAAAAAAD4fwAAAAAAAPh/AAAAAAAA+H8AAAAAAAD4fwAAAAAAAPh/AAAAAAAA+H/IN0Nr9+HmPwAAAAAAAPh/AAAAAAAA+H8AAAAAAAD4fwAAAAAAAPh/AAAAAAAA+H/Ik1qS1UDoPwAAAAAAAPh/AAAAAAAA+H8AAAAAAAD4fwAAAAAAAPh/AAAAAAAA+H8AAAAAAAD4fwAAAAAAAPh/AAAAAAAA+H8AAAAAAAD4fxXLxjdDa+c/AAAAAAAA+H8AAAAAAAD4fwAAAAAAAPh/AAAAAAAA+H8AAAAAAAD4fwAAAAAAAPh/AAAAAAAA+H8AAAAAAAD4fwAAAAAAAPh/AAAAAAAA+H8AAAAAAAD4fwAAAAAAAPh/AAAAAAAA+H8AAAAAAAD4fwAAAAAAAPh/AAAAAAAA+H8AAAAAAAD4fwAAAAAAAPh/AAAAAAAA+H8=",
                    "dtype": "f8",
                    "shape": "11, 17"
                  }
                },
                {
                  "marker": {
                    "color": "black",
                    "line": {
                      "color": "Gray",
                      "width": 2
                    }
                  },
                  "mode": "markers",
                  "name": "Feasible Trial",
                  "showlegend": false,
                  "type": "scatter",
                  "x": [
                    20,
                    16,
                    4,
                    5,
                    8,
                    4,
                    13,
                    10,
                    19,
                    14,
                    8,
                    16,
                    10,
                    17,
                    7,
                    12,
                    18,
                    14,
                    3,
                    11
                  ],
                  "xaxis": "x87",
                  "y": [
                    9,
                    7,
                    6,
                    9,
                    4,
                    6,
                    2,
                    2,
                    10,
                    4,
                    4,
                    8,
                    3,
                    5,
                    10,
                    7,
                    8,
                    5,
                    3,
                    7
                  ],
                  "yaxis": "y87"
                },
                {
                  "colorbar": {
                    "title": {
                      "text": "Objective Value"
                    }
                  },
                  "colorscale": [
                    [
                      0,
                      "rgb(247,251,255)"
                    ],
                    [
                      0.125,
                      "rgb(222,235,247)"
                    ],
                    [
                      0.25,
                      "rgb(198,219,239)"
                    ],
                    [
                      0.375,
                      "rgb(158,202,225)"
                    ],
                    [
                      0.5,
                      "rgb(107,174,214)"
                    ],
                    [
                      0.625,
                      "rgb(66,146,198)"
                    ],
                    [
                      0.75,
                      "rgb(33,113,181)"
                    ],
                    [
                      0.875,
                      "rgb(8,81,156)"
                    ],
                    [
                      1,
                      "rgb(8,48,107)"
                    ]
                  ],
                  "connectgaps": true,
                  "contours": {
                    "coloring": "heatmap"
                  },
                  "hoverinfo": "none",
                  "line": {
                    "smoothing": 1.3
                  },
                  "reversescale": false,
                  "showscale": false,
                  "type": "contour",
                  "x": [
                    2.15,
                    3,
                    4,
                    5,
                    7,
                    8,
                    10,
                    11,
                    12,
                    13,
                    14,
                    16,
                    17,
                    18,
                    19,
                    20,
                    20.85
                  ],
                  "xaxis": "x97",
                  "y": [
                    38,
                    50,
                    53,
                    79,
                    93,
                    96,
                    116,
                    137,
                    142,
                    148,
                    177,
                    183,
                    198,
                    206,
                    220,
                    223,
                    246,
                    250,
                    260,
                    280,
                    290,
                    302
                  ],
                  "yaxis": "y97",
                  "z": {
                    "bdata": "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",
                    "dtype": "f8",
                    "shape": "22, 17"
                  }
                },
                {
                  "marker": {
                    "color": "black",
                    "line": {
                      "color": "Gray",
                      "width": 2
                    }
                  },
                  "mode": "markers",
                  "name": "Feasible Trial",
                  "showlegend": false,
                  "type": "scatter",
                  "x": [
                    20,
                    16,
                    4,
                    5,
                    8,
                    4,
                    13,
                    10,
                    19,
                    14,
                    8,
                    16,
                    10,
                    17,
                    7,
                    12,
                    18,
                    14,
                    3,
                    11
                  ],
                  "xaxis": "x97",
                  "y": [
                    137,
                    96,
                    93,
                    198,
                    280,
                    142,
                    290,
                    50,
                    220,
                    246,
                    183,
                    250,
                    148,
                    79,
                    223,
                    116,
                    53,
                    177,
                    260,
                    206
                  ],
                  "yaxis": "y97"
                },
                {
                  "showscale": false,
                  "type": "contour",
                  "xaxis": "x8",
                  "yaxis": "y8"
                },
                {
                  "type": "scatter",
                  "xaxis": "x8",
                  "yaxis": "y8"
                },
                {
                  "colorbar": {
                    "title": {
                      "text": "Objective Value"
                    }
                  },
                  "colorscale": [
                    [
                      0,
                      "rgb(247,251,255)"
                    ],
                    [
                      0.125,
                      "rgb(222,235,247)"
                    ],
                    [
                      0.25,
                      "rgb(198,219,239)"
                    ],
                    [
                      0.375,
                      "rgb(158,202,225)"
                    ],
                    [
                      0.5,
                      "rgb(107,174,214)"
                    ],
                    [
                      0.625,
                      "rgb(66,146,198)"
                    ],
                    [
                      0.75,
                      "rgb(33,113,181)"
                    ],
                    [
                      0.875,
                      "rgb(8,81,156)"
                    ],
                    [
                      1,
                      "rgb(8,48,107)"
                    ]
                  ],
                  "connectgaps": true,
                  "contours": {
                    "coloring": "heatmap"
                  },
                  "hoverinfo": "none",
                  "line": {
                    "smoothing": 1.3
                  },
                  "reversescale": false,
                  "showscale": false,
                  "type": "contour",
                  "x": [
                    0.55,
                    1,
                    2,
                    3,
                    4,
                    5,
                    6,
                    7,
                    8,
                    9,
                    10,
                    10.45
                  ],
                  "xaxis": "x18",
                  "y": [
                    "False",
                    "True"
                  ],
                  "yaxis": "y18",
                  "z": {
                    "bdata": "AAAAAAAA+H8AAAAAAAD4fwAAAAAAAPh/AAAAAAAA+H8tyWogHI3oPwAAAAAAAPh/vUKUMVhf6D8AAAAAAAD4fwAAAAAAAPh/kf56rmLZ6D+dT0EP4LroPwAAAAAAAPh/AAAAAAAA+H8AAAAAAAD4fwAAAAAAAPh/AAAAAAAA+H+9QpQxWF/oPxgn3l4hyug/yJNaktVA6D8AAAAAAAD4f71ClDFYX+g/AAAAAAAA+H8AAAAAAAD4fwAAAAAAAPh/",
                    "dtype": "f8",
                    "shape": "2, 12"
                  }
                },
                {
                  "marker": {
                    "color": "black",
                    "line": {
                      "color": "Gray",
                      "width": 2
                    }
                  },
                  "mode": "markers",
                  "name": "Feasible Trial",
                  "showlegend": false,
                  "type": "scatter",
                  "x": [
                    4,
                    4,
                    8,
                    8,
                    10,
                    6,
                    9,
                    6,
                    5,
                    9
                  ],
                  "xaxis": "x18",
                  "y": [
                    "False",
                    "True",
                    "True",
                    "True",
                    "False",
                    "False",
                    "False",
                    "True",
                    "True",
                    "False"
                  ],
                  "yaxis": "y18"
                },
                {
                  "colorbar": {
                    "title": {
                      "text": "Objective Value"
                    }
                  },
                  "colorscale": [
                    [
                      0,
                      "rgb(247,251,255)"
                    ],
                    [
                      0.125,
                      "rgb(222,235,247)"
                    ],
                    [
                      0.25,
                      "rgb(198,219,239)"
                    ],
                    [
                      0.375,
                      "rgb(158,202,225)"
                    ],
                    [
                      0.5,
                      "rgb(107,174,214)"
                    ],
                    [
                      0.625,
                      "rgb(66,146,198)"
                    ],
                    [
                      0.75,
                      "rgb(33,113,181)"
                    ],
                    [
                      0.875,
                      "rgb(8,81,156)"
                    ],
                    [
                      1,
                      "rgb(8,48,107)"
                    ]
                  ],
                  "connectgaps": true,
                  "contours": {
                    "coloring": "heatmap"
                  },
                  "hoverinfo": "none",
                  "line": {
                    "smoothing": 1.3
                  },
                  "reversescale": false,
                  "showscale": false,
                  "type": "contour",
                  "x": [
                    0.55,
                    1,
                    2,
                    3,
                    4,
                    5,
                    6,
                    7,
                    8,
                    9,
                    10,
                    10.45
                  ],
                  "xaxis": "x28",
                  "y": [
                    "GradientBoostingClassifier",
                    "RandomForestClassifier",
                    "SVC"
                  ],
                  "yaxis": "y28",
                  "z": {
                    "bdata": "AAAAAAAA+H/oKpaNb4bmPwt6ANfFiec/T7y9QpQx6D8AAAAAAAD4fyAcjZjATOc/AAAAAAAA+H84GjGBmW7oPwAAAAAAAPh/AAAAAAAA+H/IN0Nr9+HmPwAAAAAAAPh/AAAAAAAA+H8AAAAAAAD4fwAAAAAAAPh/AAAAAAAA+H8tyWogHI3oPxgn3l4hyug/vUKUMVhf6D8AAAAAAAD4f71ClDFYX+g/kf56rmLZ6D+dT0EP4LroPwAAAAAAAPh/AAAAAAAA+H8AAAAAAAD4fwAAAAAAAPh/AAAAAAAA+H8AAAAAAAD4fwAAAAAAAPh/AAAAAAAA+H8AAAAAAAD4fwAAAAAAAPh/AAAAAAAA+H8AAAAAAAD4fwAAAAAAAPh/",
                    "dtype": "f8",
                    "shape": "3, 12"
                  }
                },
                {
                  "marker": {
                    "color": "black",
                    "line": {
                      "color": "Gray",
                      "width": 2
                    }
                  },
                  "mode": "markers",
                  "name": "Feasible Trial",
                  "showlegend": false,
                  "type": "scatter",
                  "x": [
                    10,
                    5,
                    4,
                    4,
                    8,
                    8,
                    2,
                    1,
                    7,
                    10,
                    3,
                    6,
                    1,
                    9,
                    6,
                    3,
                    7,
                    5,
                    2,
                    9
                  ],
                  "xaxis": "x28",
                  "y": [
                    "GradientBoostingClassifier",
                    "GradientBoostingClassifier",
                    "RandomForestClassifier",
                    "RandomForestClassifier",
                    "RandomForestClassifier",
                    "RandomForestClassifier",
                    "GradientBoostingClassifier",
                    "GradientBoostingClassifier",
                    "GradientBoostingClassifier",
                    "RandomForestClassifier",
                    "GradientBoostingClassifier",
                    "RandomForestClassifier",
                    "GradientBoostingClassifier",
                    "RandomForestClassifier",
                    "RandomForestClassifier",
                    "GradientBoostingClassifier",
                    "GradientBoostingClassifier",
                    "RandomForestClassifier",
                    "GradientBoostingClassifier",
                    "RandomForestClassifier"
                  ],
                  "yaxis": "y28"
                },
                {
                  "showscale": false,
                  "type": "contour",
                  "xaxis": "x38",
                  "yaxis": "y38"
                },
                {
                  "type": "scatter",
                  "xaxis": "x38",
                  "yaxis": "y38"
                },
                {
                  "showscale": false,
                  "type": "contour",
                  "xaxis": "x48",
                  "yaxis": "y48"
                },
                {
                  "type": "scatter",
                  "xaxis": "x48",
                  "yaxis": "y48"
                },
                {
                  "colorbar": {
                    "title": {
                      "text": "Objective Value"
                    }
                  },
                  "colorscale": [
                    [
                      0,
                      "rgb(247,251,255)"
                    ],
                    [
                      0.125,
                      "rgb(222,235,247)"
                    ],
                    [
                      0.25,
                      "rgb(198,219,239)"
                    ],
                    [
                      0.375,
                      "rgb(158,202,225)"
                    ],
                    [
                      0.5,
                      "rgb(107,174,214)"
                    ],
                    [
                      0.625,
                      "rgb(66,146,198)"
                    ],
                    [
                      0.75,
                      "rgb(33,113,181)"
                    ],
                    [
                      0.875,
                      "rgb(8,81,156)"
                    ],
                    [
                      1,
                      "rgb(8,48,107)"
                    ]
                  ],
                  "connectgaps": true,
                  "contours": {
                    "coloring": "heatmap"
                  },
                  "hoverinfo": "none",
                  "line": {
                    "smoothing": 1.3
                  },
                  "reversescale": false,
                  "showscale": false,
                  "type": "contour",
                  "x": [
                    0.55,
                    1,
                    2,
                    3,
                    4,
                    5,
                    6,
                    7,
                    8,
                    9,
                    10,
                    10.45
                  ],
                  "xaxis": "x58",
                  "y": [
                    0.008471494652377815,
                    0.010014044202641247,
                    0.010310837415270203,
                    0.02467535008833722,
                    0.026573184384960768,
                    0.04421575283234797,
                    0.0939146027493534,
                    0.11156472957531484,
                    0.1265184615937343,
                    0.22312641054514146,
                    0.28418343862027984,
                    0.3359295652985262
                  ],
                  "yaxis": "y58",
                  "z": {
                    "bdata": "AAAAAAAA+H8AAAAAAAD4fwAAAAAAAPh/AAAAAAAA+H8AAAAAAAD4fwAAAAAAAPh/AAAAAAAA+H8AAAAAAAD4fwAAAAAAAPh/AAAAAAAA+H8AAAAAAAD4fwAAAAAAAPh/AAAAAAAA+H8AAAAAAAD4f5CiY4eEeuc/AAAAAAAA+H8AAAAAAAD4fwAAAAAAAPh/AAAAAAAA+H8AAAAAAAD4fwAAAAAAAPh/AAAAAAAA+H8AAAAAAAD4fwAAAAAAAPh/AAAAAAAA+H9tU/k9LnfmPwAAAAAAAPh/AAAAAAAA+H8AAAAAAAD4fwAAAAAAAPh/AAAAAAAA+H8AAAAAAAD4fwAAAAAAAPh/AAAAAAAA+H8AAAAAAAD4fwAAAAAAAPh/AAAAAAAA+H8AAAAAAAD4fwAAAAAAAPh/AAAAAAAA+H8AAAAAAAD4fwAAAAAAAPh/AAAAAAAA+H84GjGBmW7oPwAAAAAAAPh/AAAAAAAA+H8AAAAAAAD4fwAAAAAAAPh/AAAAAAAA+H/oKpaNb4bmPwAAAAAAAPh/AAAAAAAA+H8AAAAAAAD4fwAAAAAAAPh/AAAAAAAA+H8AAAAAAAD4fwAAAAAAAPh/AAAAAAAA+H8AAAAAAAD4fwAAAAAAAPh/AAAAAAAA+H8AAAAAAAD4fwAAAAAAAPh/AAAAAAAA+H8AAAAAAAD4fwAAAAAAAPh/AAAAAAAA+H8Vy8Y3Q2vnPwAAAAAAAPh/AAAAAAAA+H8AAAAAAAD4fwAAAAAAAPh/AAAAAAAA+H8AAAAAAAD4fwAAAAAAAPh/ACk6dkio5z8AAAAAAAD4fwAAAAAAAPh/AAAAAAAA+H8AAAAAAAD4fwAAAAAAAPh/AAAAAAAA+H8AAAAAAAD4fwAAAAAAAPh/AAAAAAAA+H8AAAAAAAD4fwAAAAAAAPh/AAAAAAAA+H8AAAAAAAD4fwAAAAAAAPh/AAAAAAAA+H8AAAAAAAD4fwAAAAAAAPh/AAAAAAAA+H/IN0Nr9+HmPwAAAAAAAPh/AAAAAAAA+H8AAAAAAAD4fwt6ANfFiec/AAAAAAAA+H8AAAAAAAD4fwAAAAAAAPh/AAAAAAAA+H8AAAAAAAD4fwAAAAAAAPh/AAAAAAAA+H8AAAAAAAD4fwAAAAAAAPh/AAAAAAAA+H8AAAAAAAD4fwAAAAAAAPh/AAAAAAAA+H8AAAAAAAD4fyAcjZjATOc/AAAAAAAA+H8AAAAAAAD4fwAAAAAAAPh/AAAAAAAA+H8AAAAAAAD4fwAAAAAAAPh/AAAAAAAA+H8AAAAAAAD4fwAAAAAAAPh/T7y9QpQx6D8AAAAAAAD4fwAAAAAAAPh/AAAAAAAA+H8AAAAAAAD4fwAAAAAAAPh/AAAAAAAA+H8AAAAAAAD4fwAAAAAAAPh/AAAAAAAA+H8AAAAAAAD4fwAAAAAAAPh/AAAAAAAA+H8AAAAAAAD4fwAAAAAAAPh/AAAAAAAA+H8AAAAAAAD4fwAAAAAAAPh/AAAAAAAA+H8AAAAAAAD4fwAAAAAAAPh/",
                    "dtype": "f8",
                    "shape": "12, 12"
                  }
                },
                {
                  "marker": {
                    "color": "black",
                    "line": {
                      "color": "Gray",
                      "width": 2
                    }
                  },
                  "mode": "markers",
                  "name": "Feasible Trial",
                  "showlegend": false,
                  "type": "scatter",
                  "x": [
                    10,
                    5,
                    2,
                    1,
                    7,
                    3,
                    1,
                    3,
                    7,
                    2
                  ],
                  "xaxis": "x58",
                  "y": [
                    0.11156472957531484,
                    0.22312641054514146,
                    0.010014044202641247,
                    0.026573184384960768,
                    0.04421575283234797,
                    0.28418343862027984,
                    0.010310837415270203,
                    0.0939146027493534,
                    0.02467535008833722,
                    0.1265184615937343
                  ],
                  "yaxis": "y58"
                },
                {
                  "colorbar": {
                    "title": {
                      "text": "Objective Value"
                    }
                  },
                  "colorscale": [
                    [
                      0,
                      "rgb(247,251,255)"
                    ],
                    [
                      0.125,
                      "rgb(222,235,247)"
                    ],
                    [
                      0.25,
                      "rgb(198,219,239)"
                    ],
                    [
                      0.375,
                      "rgb(158,202,225)"
                    ],
                    [
                      0.5,
                      "rgb(107,174,214)"
                    ],
                    [
                      0.625,
                      "rgb(66,146,198)"
                    ],
                    [
                      0.75,
                      "rgb(33,113,181)"
                    ],
                    [
                      0.875,
                      "rgb(8,81,156)"
                    ],
                    [
                      1,
                      "rgb(8,48,107)"
                    ]
                  ],
                  "connectgaps": true,
                  "contours": {
                    "coloring": "heatmap"
                  },
                  "hoverinfo": "none",
                  "line": {
                    "smoothing": 1.3
                  },
                  "reversescale": false,
                  "showscale": false,
                  "type": "contour",
                  "x": [
                    0.55,
                    1,
                    2,
                    3,
                    4,
                    5,
                    6,
                    7,
                    8,
                    9,
                    10,
                    10.45
                  ],
                  "xaxis": "x68",
                  "y": [
                    2.15,
                    3,
                    4,
                    5,
                    7,
                    8,
                    10,
                    11,
                    12,
                    13,
                    14,
                    16,
                    17,
                    18,
                    19,
                    20,
                    20.85
                  ],
                  "yaxis": "y68",
                  "z": {
                    "bdata": "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",
                    "dtype": "f8",
                    "shape": "17, 12"
                  }
                },
                {
                  "marker": {
                    "color": "black",
                    "line": {
                      "color": "Gray",
                      "width": 2
                    }
                  },
                  "mode": "markers",
                  "name": "Feasible Trial",
                  "showlegend": false,
                  "type": "scatter",
                  "x": [
                    10,
                    5,
                    4,
                    4,
                    8,
                    8,
                    2,
                    1,
                    7,
                    10,
                    3,
                    6,
                    1,
                    9,
                    6,
                    3,
                    7,
                    5,
                    2,
                    9
                  ],
                  "xaxis": "x68",
                  "y": [
                    20,
                    16,
                    4,
                    5,
                    8,
                    4,
                    13,
                    10,
                    19,
                    14,
                    8,
                    16,
                    10,
                    17,
                    7,
                    12,
                    18,
                    14,
                    3,
                    11
                  ],
                  "yaxis": "y68"
                },
                {
                  "type": "scatter",
                  "xaxis": "x78",
                  "yaxis": "y78"
                },
                {
                  "colorbar": {
                    "title": {
                      "text": "Objective Value"
                    }
                  },
                  "colorscale": [
                    [
                      0,
                      "rgb(247,251,255)"
                    ],
                    [
                      0.125,
                      "rgb(222,235,247)"
                    ],
                    [
                      0.25,
                      "rgb(198,219,239)"
                    ],
                    [
                      0.375,
                      "rgb(158,202,225)"
                    ],
                    [
                      0.5,
                      "rgb(107,174,214)"
                    ],
                    [
                      0.625,
                      "rgb(66,146,198)"
                    ],
                    [
                      0.75,
                      "rgb(33,113,181)"
                    ],
                    [
                      0.875,
                      "rgb(8,81,156)"
                    ],
                    [
                      1,
                      "rgb(8,48,107)"
                    ]
                  ],
                  "connectgaps": true,
                  "contours": {
                    "coloring": "heatmap"
                  },
                  "hoverinfo": "none",
                  "line": {
                    "smoothing": 1.3
                  },
                  "reversescale": false,
                  "showscale": false,
                  "type": "contour",
                  "x": [
                    0.55,
                    1,
                    2,
                    3,
                    4,
                    5,
                    6,
                    7,
                    8,
                    9,
                    10,
                    10.45
                  ],
                  "xaxis": "x88",
                  "y": [
                    1.6,
                    2,
                    3,
                    4,
                    5,
                    6,
                    7,
                    8,
                    9,
                    10,
                    10.4
                  ],
                  "yaxis": "y88",
                  "z": {
                    "bdata": "AAAAAAAA+H8AAAAAAAD4fwAAAAAAAPh/AAAAAAAA+H8AAAAAAAD4fwAAAAAAAPh/AAAAAAAA+H8AAAAAAAD4fwAAAAAAAPh/AAAAAAAA+H8AAAAAAAD4fwAAAAAAAPh/AAAAAAAA+H/oKpaNb4bmP5CiY4eEeuc/AAAAAAAA+H8AAAAAAAD4fwAAAAAAAPh/AAAAAAAA+H8AAAAAAAD4fwAAAAAAAPh/AAAAAAAA+H8AAAAAAAD4fwAAAAAAAPh/AAAAAAAA+H9tU/k9LnfmPwt6ANfFiec/AAAAAAAA+H8AAAAAAAD4fwAAAAAAAPh/AAAAAAAA+H8AAAAAAAD4fwAAAAAAAPh/AAAAAAAA+H8AAAAAAAD4fwAAAAAAAPh/AAAAAAAA+H8AAAAAAAD4fwAAAAAAAPh/T7y9QpQx6D8AAAAAAAD4fwAAAAAAAPh/AAAAAAAA+H8AAAAAAAD4f71ClDFYX+g/AAAAAAAA+H+dT0EP4LroPwAAAAAAAPh/AAAAAAAA+H8AAAAAAAD4fwAAAAAAAPh/AAAAAAAA+H8AAAAAAAD4fxgn3l4hyug/AAAAAAAA+H8AAAAAAAD4fwAAAAAAAPh/kf56rmLZ6D8AAAAAAAD4fwAAAAAAAPh/AAAAAAAA+H8AAAAAAAD4fwAAAAAAAPh/AAAAAAAA+H8tyWogHI3oPwAAAAAAAPh/AAAAAAAA+H8AAAAAAAD4f9TkIPNSIug/AAAAAAAA+H8AAAAAAAD4fwAAAAAAAPh/AAAAAAAA+H8AAAAAAAD4fwAAAAAAAPh/ACk6dkio5z8AAAAAAAD4fyAcjZjATOc/AAAAAAAA+H8AAAAAAAD4fwAAAAAAAPh/nU9BD+C66D8AAAAAAAD4fwAAAAAAAPh/AAAAAAAA+H8AAAAAAAD4fwAAAAAAAPh/AAAAAAAA+H8AAAAAAAD4fwAAAAAAAPh/vUKUMVhf6D84GjGBmW7oPwAAAAAAAPh/AAAAAAAA+H8AAAAAAAD4fwAAAAAAAPh/AAAAAAAA+H8AAAAAAAD4fwAAAAAAAPh/AAAAAAAA+H+9QpQxWF/oPwAAAAAAAPh/AAAAAAAA+H8AAAAAAAD4fwAAAAAAAPh/AAAAAAAA+H/IN0Nr9+HmPwAAAAAAAPh/AAAAAAAA+H8AAAAAAAD4fwAAAAAAAPh/AAAAAAAA+H8AAAAAAAD4fwAAAAAAAPh/yJNaktVA6D8Vy8Y3Q2vnPwAAAAAAAPh/AAAAAAAA+H8AAAAAAAD4fwAAAAAAAPh/AAAAAAAA+H8AAAAAAAD4fwAAAAAAAPh/AAAAAAAA+H8AAAAAAAD4fwAAAAAAAPh/AAAAAAAA+H8AAAAAAAD4fwAAAAAAAPh/AAAAAAAA+H8AAAAAAAD4fwAAAAAAAPh/",
                    "dtype": "f8",
                    "shape": "11, 12"
                  }
                },
                {
                  "marker": {
                    "color": "black",
                    "line": {
                      "color": "Gray",
                      "width": 2
                    }
                  },
                  "mode": "markers",
                  "name": "Feasible Trial",
                  "showlegend": false,
                  "type": "scatter",
                  "x": [
                    10,
                    5,
                    4,
                    4,
                    8,
                    8,
                    2,
                    1,
                    7,
                    10,
                    3,
                    6,
                    1,
                    9,
                    6,
                    3,
                    7,
                    5,
                    2,
                    9
                  ],
                  "xaxis": "x88",
                  "y": [
                    9,
                    7,
                    6,
                    9,
                    4,
                    6,
                    2,
                    2,
                    10,
                    4,
                    4,
                    8,
                    3,
                    5,
                    10,
                    7,
                    8,
                    5,
                    3,
                    7
                  ],
                  "yaxis": "y88"
                },
                {
                  "colorbar": {
                    "title": {
                      "text": "Objective Value"
                    }
                  },
                  "colorscale": [
                    [
                      0,
                      "rgb(247,251,255)"
                    ],
                    [
                      0.125,
                      "rgb(222,235,247)"
                    ],
                    [
                      0.25,
                      "rgb(198,219,239)"
                    ],
                    [
                      0.375,
                      "rgb(158,202,225)"
                    ],
                    [
                      0.5,
                      "rgb(107,174,214)"
                    ],
                    [
                      0.625,
                      "rgb(66,146,198)"
                    ],
                    [
                      0.75,
                      "rgb(33,113,181)"
                    ],
                    [
                      0.875,
                      "rgb(8,81,156)"
                    ],
                    [
                      1,
                      "rgb(8,48,107)"
                    ]
                  ],
                  "connectgaps": true,
                  "contours": {
                    "coloring": "heatmap"
                  },
                  "hoverinfo": "none",
                  "line": {
                    "smoothing": 1.3
                  },
                  "reversescale": false,
                  "showscale": false,
                  "type": "contour",
                  "x": [
                    0.55,
                    1,
                    2,
                    3,
                    4,
                    5,
                    6,
                    7,
                    8,
                    9,
                    10,
                    10.45
                  ],
                  "xaxis": "x98",
                  "y": [
                    38,
                    50,
                    53,
                    79,
                    93,
                    96,
                    116,
                    137,
                    142,
                    148,
                    177,
                    183,
                    198,
                    206,
                    220,
                    223,
                    246,
                    250,
                    260,
                    280,
                    290,
                    302
                  ],
                  "yaxis": "y98",
                  "z": {
                    "bdata": "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",
                    "dtype": "f8",
                    "shape": "22, 12"
                  }
                },
                {
                  "marker": {
                    "color": "black",
                    "line": {
                      "color": "Gray",
                      "width": 2
                    }
                  },
                  "mode": "markers",
                  "name": "Feasible Trial",
                  "showlegend": false,
                  "type": "scatter",
                  "x": [
                    10,
                    5,
                    4,
                    4,
                    8,
                    8,
                    2,
                    1,
                    7,
                    10,
                    3,
                    6,
                    1,
                    9,
                    6,
                    3,
                    7,
                    5,
                    2,
                    9
                  ],
                  "xaxis": "x98",
                  "y": [
                    137,
                    96,
                    93,
                    198,
                    280,
                    142,
                    290,
                    50,
                    220,
                    246,
                    183,
                    250,
                    148,
                    79,
                    223,
                    116,
                    53,
                    177,
                    260,
                    206
                  ],
                  "yaxis": "y98"
                },
                {
                  "showscale": false,
                  "type": "contour",
                  "xaxis": "x9",
                  "yaxis": "y9"
                },
                {
                  "type": "scatter",
                  "xaxis": "x9",
                  "yaxis": "y9"
                },
                {
                  "colorbar": {
                    "title": {
                      "text": "Objective Value"
                    }
                  },
                  "colorscale": [
                    [
                      0,
                      "rgb(247,251,255)"
                    ],
                    [
                      0.125,
                      "rgb(222,235,247)"
                    ],
                    [
                      0.25,
                      "rgb(198,219,239)"
                    ],
                    [
                      0.375,
                      "rgb(158,202,225)"
                    ],
                    [
                      0.5,
                      "rgb(107,174,214)"
                    ],
                    [
                      0.625,
                      "rgb(66,146,198)"
                    ],
                    [
                      0.75,
                      "rgb(33,113,181)"
                    ],
                    [
                      0.875,
                      "rgb(8,81,156)"
                    ],
                    [
                      1,
                      "rgb(8,48,107)"
                    ]
                  ],
                  "connectgaps": true,
                  "contours": {
                    "coloring": "heatmap"
                  },
                  "hoverinfo": "none",
                  "line": {
                    "smoothing": 1.3
                  },
                  "reversescale": false,
                  "showscale": false,
                  "type": "contour",
                  "x": [
                    1.6,
                    2,
                    3,
                    4,
                    5,
                    6,
                    7,
                    8,
                    9,
                    10,
                    10.4
                  ],
                  "xaxis": "x19",
                  "y": [
                    "False",
                    "True"
                  ],
                  "yaxis": "y19",
                  "z": {
                    "bdata": "AAAAAAAA+H8AAAAAAAD4fwAAAAAAAPh/nU9BD+C66D+R/nquYtnoPy3JaiAcjeg/nU9BD+C66D+9QpQxWF/oPwAAAAAAAPh/AAAAAAAA+H8AAAAAAAD4fwAAAAAAAPh/AAAAAAAA+H8AAAAAAAD4f71ClDFYX+g/GCfeXiHK6D/U5CDzUiLoPwAAAAAAAPh/AAAAAAAA+H+9QpQxWF/oP8iTWpLVQOg/AAAAAAAA+H8=",
                    "dtype": "f8",
                    "shape": "2, 11"
                  }
                },
                {
                  "marker": {
                    "color": "black",
                    "line": {
                      "color": "Gray",
                      "width": 2
                    }
                  },
                  "mode": "markers",
                  "name": "Feasible Trial",
                  "showlegend": false,
                  "type": "scatter",
                  "x": [
                    6,
                    9,
                    4,
                    6,
                    4,
                    8,
                    5,
                    10,
                    5,
                    7
                  ],
                  "xaxis": "x19",
                  "y": [
                    "False",
                    "True",
                    "True",
                    "True",
                    "False",
                    "False",
                    "False",
                    "True",
                    "True",
                    "False"
                  ],
                  "yaxis": "y19"
                },
                {
                  "colorbar": {
                    "title": {
                      "text": "Objective Value"
                    }
                  },
                  "colorscale": [
                    [
                      0,
                      "rgb(247,251,255)"
                    ],
                    [
                      0.125,
                      "rgb(222,235,247)"
                    ],
                    [
                      0.25,
                      "rgb(198,219,239)"
                    ],
                    [
                      0.375,
                      "rgb(158,202,225)"
                    ],
                    [
                      0.5,
                      "rgb(107,174,214)"
                    ],
                    [
                      0.625,
                      "rgb(66,146,198)"
                    ],
                    [
                      0.75,
                      "rgb(33,113,181)"
                    ],
                    [
                      0.875,
                      "rgb(8,81,156)"
                    ],
                    [
                      1,
                      "rgb(8,48,107)"
                    ]
                  ],
                  "connectgaps": true,
                  "contours": {
                    "coloring": "heatmap"
                  },
                  "hoverinfo": "none",
                  "line": {
                    "smoothing": 1.3
                  },
                  "reversescale": false,
                  "showscale": false,
                  "type": "contour",
                  "x": [
                    1.6,
                    2,
                    3,
                    4,
                    5,
                    6,
                    7,
                    8,
                    9,
                    10,
                    10.4
                  ],
                  "xaxis": "x29",
                  "y": [
                    "GradientBoostingClassifier",
                    "RandomForestClassifier",
                    "SVC"
                  ],
                  "yaxis": "y29",
                  "z": {
                    "bdata": "AAAAAAAA+H+QomOHhHrnPwt6ANfFiec/T7y9QpQx6D8AAAAAAAD4fwAAAAAAAPh/ACk6dkio5z84GjGBmW7oP8g3Q2v34eY/FcvGN0Nr5z8AAAAAAAD4fwAAAAAAAPh/AAAAAAAA+H8AAAAAAAD4f51PQQ/guug/kf56rmLZ6D8tyWogHI3oP51PQQ/guug/vUKUMVhf6D+9QpQxWF/oP8iTWpLVQOg/AAAAAAAA+H8AAAAAAAD4fwAAAAAAAPh/AAAAAAAA+H8AAAAAAAD4fwAAAAAAAPh/AAAAAAAA+H8AAAAAAAD4fwAAAAAAAPh/AAAAAAAA+H8AAAAAAAD4fwAAAAAAAPh/",
                    "dtype": "f8",
                    "shape": "3, 11"
                  }
                },
                {
                  "marker": {
                    "color": "black",
                    "line": {
                      "color": "Gray",
                      "width": 2
                    }
                  },
                  "mode": "markers",
                  "name": "Feasible Trial",
                  "showlegend": false,
                  "type": "scatter",
                  "x": [
                    9,
                    7,
                    6,
                    9,
                    4,
                    6,
                    2,
                    2,
                    10,
                    4,
                    4,
                    8,
                    3,
                    5,
                    10,
                    7,
                    8,
                    5,
                    3,
                    7
                  ],
                  "xaxis": "x29",
                  "y": [
                    "GradientBoostingClassifier",
                    "GradientBoostingClassifier",
                    "RandomForestClassifier",
                    "RandomForestClassifier",
                    "RandomForestClassifier",
                    "RandomForestClassifier",
                    "GradientBoostingClassifier",
                    "GradientBoostingClassifier",
                    "GradientBoostingClassifier",
                    "RandomForestClassifier",
                    "GradientBoostingClassifier",
                    "RandomForestClassifier",
                    "GradientBoostingClassifier",
                    "RandomForestClassifier",
                    "RandomForestClassifier",
                    "GradientBoostingClassifier",
                    "GradientBoostingClassifier",
                    "RandomForestClassifier",
                    "GradientBoostingClassifier",
                    "RandomForestClassifier"
                  ],
                  "yaxis": "y29"
                },
                {
                  "showscale": false,
                  "type": "contour",
                  "xaxis": "x39",
                  "yaxis": "y39"
                },
                {
                  "type": "scatter",
                  "xaxis": "x39",
                  "yaxis": "y39"
                },
                {
                  "showscale": false,
                  "type": "contour",
                  "xaxis": "x49",
                  "yaxis": "y49"
                },
                {
                  "type": "scatter",
                  "xaxis": "x49",
                  "yaxis": "y49"
                },
                {
                  "colorbar": {
                    "title": {
                      "text": "Objective Value"
                    }
                  },
                  "colorscale": [
                    [
                      0,
                      "rgb(247,251,255)"
                    ],
                    [
                      0.125,
                      "rgb(222,235,247)"
                    ],
                    [
                      0.25,
                      "rgb(198,219,239)"
                    ],
                    [
                      0.375,
                      "rgb(158,202,225)"
                    ],
                    [
                      0.5,
                      "rgb(107,174,214)"
                    ],
                    [
                      0.625,
                      "rgb(66,146,198)"
                    ],
                    [
                      0.75,
                      "rgb(33,113,181)"
                    ],
                    [
                      0.875,
                      "rgb(8,81,156)"
                    ],
                    [
                      1,
                      "rgb(8,48,107)"
                    ]
                  ],
                  "connectgaps": true,
                  "contours": {
                    "coloring": "heatmap"
                  },
                  "hoverinfo": "none",
                  "line": {
                    "smoothing": 1.3
                  },
                  "reversescale": false,
                  "showscale": false,
                  "type": "contour",
                  "x": [
                    1.6,
                    2,
                    3,
                    4,
                    5,
                    6,
                    7,
                    8,
                    9,
                    10,
                    10.4
                  ],
                  "xaxis": "x59",
                  "y": [
                    0.008471494652377815,
                    0.010014044202641247,
                    0.010310837415270203,
                    0.02467535008833722,
                    0.026573184384960768,
                    0.04421575283234797,
                    0.0939146027493534,
                    0.11156472957531484,
                    0.1265184615937343,
                    0.22312641054514146,
                    0.28418343862027984,
                    0.3359295652985262
                  ],
                  "yaxis": "y59",
                  "z": {
                    "bdata": "AAAAAAAA+H8AAAAAAAD4fwAAAAAAAPh/AAAAAAAA+H8AAAAAAAD4fwAAAAAAAPh/AAAAAAAA+H8AAAAAAAD4fwAAAAAAAPh/AAAAAAAA+H8AAAAAAAD4fwAAAAAAAPh/kKJjh4R65z8AAAAAAAD4fwAAAAAAAPh/AAAAAAAA+H8AAAAAAAD4fwAAAAAAAPh/AAAAAAAA+H8AAAAAAAD4fwAAAAAAAPh/AAAAAAAA+H8AAAAAAAD4fwAAAAAAAPh/bVP5PS535j8AAAAAAAD4fwAAAAAAAPh/AAAAAAAA+H8AAAAAAAD4fwAAAAAAAPh/AAAAAAAA+H8AAAAAAAD4fwAAAAAAAPh/AAAAAAAA+H8AAAAAAAD4fwAAAAAAAPh/AAAAAAAA+H8AAAAAAAD4fwAAAAAAAPh/AAAAAAAA+H84GjGBmW7oPwAAAAAAAPh/AAAAAAAA+H8AAAAAAAD4fwAAAAAAAPh/6CqWjW+G5j8AAAAAAAD4fwAAAAAAAPh/AAAAAAAA+H8AAAAAAAD4fwAAAAAAAPh/AAAAAAAA+H8AAAAAAAD4fwAAAAAAAPh/AAAAAAAA+H8AAAAAAAD4fwAAAAAAAPh/AAAAAAAA+H8AAAAAAAD4fwAAAAAAAPh/AAAAAAAA+H8AAAAAAAD4fwAAAAAAAPh/AAAAAAAA+H8Vy8Y3Q2vnPwAAAAAAAPh/AAAAAAAA+H8AAAAAAAD4fwAAAAAAAPh/AAAAAAAA+H8AAAAAAAD4fwAAAAAAAPh/ACk6dkio5z8AAAAAAAD4fwAAAAAAAPh/AAAAAAAA+H8AAAAAAAD4fwAAAAAAAPh/AAAAAAAA+H8AAAAAAAD4fwAAAAAAAPh/AAAAAAAA+H8AAAAAAAD4fwAAAAAAAPh/AAAAAAAA+H/IN0Nr9+HmPwAAAAAAAPh/AAAAAAAA+H8AAAAAAAD4fwAAAAAAAPh/C3oA18WJ5z8AAAAAAAD4fwAAAAAAAPh/AAAAAAAA+H8AAAAAAAD4fwAAAAAAAPh/AAAAAAAA+H8AAAAAAAD4fwAAAAAAAPh/AAAAAAAA+H8AAAAAAAD4fwAAAAAAAPh/AAAAAAAA+H8AAAAAAAD4fwAAAAAAAPh/IByNmMBM5z8AAAAAAAD4fwAAAAAAAPh/AAAAAAAA+H8AAAAAAAD4fwAAAAAAAPh/AAAAAAAA+H8AAAAAAAD4f0+8vUKUMeg/AAAAAAAA+H8AAAAAAAD4fwAAAAAAAPh/AAAAAAAA+H8AAAAAAAD4fwAAAAAAAPh/AAAAAAAA+H8AAAAAAAD4fwAAAAAAAPh/AAAAAAAA+H8AAAAAAAD4fwAAAAAAAPh/AAAAAAAA+H8AAAAAAAD4fwAAAAAAAPh/AAAAAAAA+H8AAAAAAAD4fwAAAAAAAPh/",
                    "dtype": "f8",
                    "shape": "12, 11"
                  }
                },
                {
                  "marker": {
                    "color": "black",
                    "line": {
                      "color": "Gray",
                      "width": 2
                    }
                  },
                  "mode": "markers",
                  "name": "Feasible Trial",
                  "showlegend": false,
                  "type": "scatter",
                  "x": [
                    9,
                    7,
                    2,
                    2,
                    10,
                    4,
                    3,
                    7,
                    8,
                    3
                  ],
                  "xaxis": "x59",
                  "y": [
                    0.11156472957531484,
                    0.22312641054514146,
                    0.010014044202641247,
                    0.026573184384960768,
                    0.04421575283234797,
                    0.28418343862027984,
                    0.010310837415270203,
                    0.0939146027493534,
                    0.02467535008833722,
                    0.1265184615937343
                  ],
                  "yaxis": "y59"
                },
                {
                  "colorbar": {
                    "title": {
                      "text": "Objective Value"
                    }
                  },
                  "colorscale": [
                    [
                      0,
                      "rgb(247,251,255)"
                    ],
                    [
                      0.125,
                      "rgb(222,235,247)"
                    ],
                    [
                      0.25,
                      "rgb(198,219,239)"
                    ],
                    [
                      0.375,
                      "rgb(158,202,225)"
                    ],
                    [
                      0.5,
                      "rgb(107,174,214)"
                    ],
                    [
                      0.625,
                      "rgb(66,146,198)"
                    ],
                    [
                      0.75,
                      "rgb(33,113,181)"
                    ],
                    [
                      0.875,
                      "rgb(8,81,156)"
                    ],
                    [
                      1,
                      "rgb(8,48,107)"
                    ]
                  ],
                  "connectgaps": true,
                  "contours": {
                    "coloring": "heatmap"
                  },
                  "hoverinfo": "none",
                  "line": {
                    "smoothing": 1.3
                  },
                  "reversescale": false,
                  "showscale": false,
                  "type": "contour",
                  "x": [
                    1.6,
                    2,
                    3,
                    4,
                    5,
                    6,
                    7,
                    8,
                    9,
                    10,
                    10.4
                  ],
                  "xaxis": "x69",
                  "y": [
                    2.15,
                    3,
                    4,
                    5,
                    7,
                    8,
                    10,
                    11,
                    12,
                    13,
                    14,
                    16,
                    17,
                    18,
                    19,
                    20,
                    20.85
                  ],
                  "yaxis": "y69",
                  "z": {
                    "bdata": "AAAAAAAA+H8AAAAAAAD4fwAAAAAAAPh/AAAAAAAA+H8AAAAAAAD4fwAAAAAAAPh/AAAAAAAA+H8AAAAAAAD4fwAAAAAAAPh/AAAAAAAA+H8AAAAAAAD4fwAAAAAAAPh/AAAAAAAA+H8LegDXxYnnPwAAAAAAAPh/AAAAAAAA+H8AAAAAAAD4fwAAAAAAAPh/AAAAAAAA+H8AAAAAAAD4fwAAAAAAAPh/AAAAAAAA+H8AAAAAAAD4fwAAAAAAAPh/AAAAAAAA+H8AAAAAAAD4fwAAAAAAAPh/LclqIByN6D8AAAAAAAD4fwAAAAAAAPh/AAAAAAAA+H8AAAAAAAD4fwAAAAAAAPh/AAAAAAAA+H8AAAAAAAD4fwAAAAAAAPh/AAAAAAAA+H8AAAAAAAD4fwAAAAAAAPh/AAAAAAAA+H8AAAAAAAD4f71ClDFYX+g/AAAAAAAA+H8AAAAAAAD4fwAAAAAAAPh/AAAAAAAA+H8AAAAAAAD4fwAAAAAAAPh/AAAAAAAA+H8AAAAAAAD4fwAAAAAAAPh/AAAAAAAA+H8AAAAAAAD4f8iTWpLVQOg/AAAAAAAA+H8AAAAAAAD4fwAAAAAAAPh/AAAAAAAA+H+9QpQxWF/oPwAAAAAAAPh/AAAAAAAA+H8AAAAAAAD4fwAAAAAAAPh/AAAAAAAA+H8AAAAAAAD4fwAAAAAAAPh/AAAAAAAA+H/oKpaNb4bmP21T+T0ud+Y/AAAAAAAA+H8AAAAAAAD4fwAAAAAAAPh/AAAAAAAA+H8AAAAAAAD4fwAAAAAAAPh/AAAAAAAA+H8AAAAAAAD4fwAAAAAAAPh/AAAAAAAA+H8AAAAAAAD4fwAAAAAAAPh/AAAAAAAA+H8AAAAAAAD4f51PQQ/guug/AAAAAAAA+H8AAAAAAAD4fwAAAAAAAPh/AAAAAAAA+H8AAAAAAAD4fwAAAAAAAPh/AAAAAAAA+H8AAAAAAAD4fwAAAAAAAPh/AAAAAAAA+H8AKTp2SKjnPwAAAAAAAPh/AAAAAAAA+H8AAAAAAAD4fwAAAAAAAPh/AAAAAAAA+H+QomOHhHrnPwAAAAAAAPh/AAAAAAAA+H8AAAAAAAD4fwAAAAAAAPh/AAAAAAAA+H8AAAAAAAD4fwAAAAAAAPh/AAAAAAAA+H8AAAAAAAD4fwAAAAAAAPh/AAAAAAAA+H8AAAAAAAD4f51PQQ/guug/GCfeXiHK6D8AAAAAAAD4fwAAAAAAAPh/AAAAAAAA+H8AAAAAAAD4fwAAAAAAAPh/AAAAAAAA+H8AAAAAAAD4fwAAAAAAAPh/AAAAAAAA+H8AAAAAAAD4fwAAAAAAAPh/AAAAAAAA+H8gHI2YwEznP71ClDFYX+g/AAAAAAAA+H8AAAAAAAD4fwAAAAAAAPh/AAAAAAAA+H8AAAAAAAD4fwAAAAAAAPh/AAAAAAAA+H+R/nquYtnoPwAAAAAAAPh/AAAAAAAA+H8AAAAAAAD4fwAAAAAAAPh/AAAAAAAA+H8AAAAAAAD4fwAAAAAAAPh/AAAAAAAA+H8AAAAAAAD4fwAAAAAAAPh/AAAAAAAA+H8AAAAAAAD4fwAAAAAAAPh/OBoxgZlu6D8AAAAAAAD4fwAAAAAAAPh/AAAAAAAA+H8AAAAAAAD4fwAAAAAAAPh/AAAAAAAA+H8AAAAAAAD4fwAAAAAAAPh/AAAAAAAA+H8AAAAAAAD4fwAAAAAAAPh/AAAAAAAA+H8Vy8Y3Q2vnPwAAAAAAAPh/AAAAAAAA+H8AAAAAAAD4fwAAAAAAAPh/AAAAAAAA+H8AAAAAAAD4fwAAAAAAAPh/AAAAAAAA+H8AAAAAAAD4f8g3Q2v34eY/AAAAAAAA+H8AAAAAAAD4fwAAAAAAAPh/AAAAAAAA+H8AAAAAAAD4fwAAAAAAAPh/AAAAAAAA+H8AAAAAAAD4fwAAAAAAAPh/AAAAAAAA+H8AAAAAAAD4fwAAAAAAAPh/AAAAAAAA+H8=",
                    "dtype": "f8",
                    "shape": "17, 11"
                  }
                },
                {
                  "marker": {
                    "color": "black",
                    "line": {
                      "color": "Gray",
                      "width": 2
                    }
                  },
                  "mode": "markers",
                  "name": "Feasible Trial",
                  "showlegend": false,
                  "type": "scatter",
                  "x": [
                    9,
                    7,
                    6,
                    9,
                    4,
                    6,
                    2,
                    2,
                    10,
                    4,
                    4,
                    8,
                    3,
                    5,
                    10,
                    7,
                    8,
                    5,
                    3,
                    7
                  ],
                  "xaxis": "x69",
                  "y": [
                    20,
                    16,
                    4,
                    5,
                    8,
                    4,
                    13,
                    10,
                    19,
                    14,
                    8,
                    16,
                    10,
                    17,
                    7,
                    12,
                    18,
                    14,
                    3,
                    11
                  ],
                  "yaxis": "y69"
                },
                {
                  "colorbar": {
                    "title": {
                      "text": "Objective Value"
                    }
                  },
                  "colorscale": [
                    [
                      0,
                      "rgb(247,251,255)"
                    ],
                    [
                      0.125,
                      "rgb(222,235,247)"
                    ],
                    [
                      0.25,
                      "rgb(198,219,239)"
                    ],
                    [
                      0.375,
                      "rgb(158,202,225)"
                    ],
                    [
                      0.5,
                      "rgb(107,174,214)"
                    ],
                    [
                      0.625,
                      "rgb(66,146,198)"
                    ],
                    [
                      0.75,
                      "rgb(33,113,181)"
                    ],
                    [
                      0.875,
                      "rgb(8,81,156)"
                    ],
                    [
                      1,
                      "rgb(8,48,107)"
                    ]
                  ],
                  "connectgaps": true,
                  "contours": {
                    "coloring": "heatmap"
                  },
                  "hoverinfo": "none",
                  "line": {
                    "smoothing": 1.3
                  },
                  "reversescale": false,
                  "showscale": false,
                  "type": "contour",
                  "x": [
                    1.6,
                    2,
                    3,
                    4,
                    5,
                    6,
                    7,
                    8,
                    9,
                    10,
                    10.4
                  ],
                  "xaxis": "x79",
                  "y": [
                    0.55,
                    1,
                    2,
                    3,
                    4,
                    5,
                    6,
                    7,
                    8,
                    9,
                    10,
                    10.45
                  ],
                  "yaxis": "y79",
                  "z": {
                    "bdata": "AAAAAAAA+H8AAAAAAAD4fwAAAAAAAPh/AAAAAAAA+H8AAAAAAAD4fwAAAAAAAPh/AAAAAAAA+H8AAAAAAAD4fwAAAAAAAPh/AAAAAAAA+H8AAAAAAAD4fwAAAAAAAPh/6CqWjW+G5j9tU/k9LnfmPwAAAAAAAPh/AAAAAAAA+H8AAAAAAAD4fwAAAAAAAPh/AAAAAAAA+H8AAAAAAAD4fwAAAAAAAPh/AAAAAAAA+H8AAAAAAAD4f5CiY4eEeuc/C3oA18WJ5z8AAAAAAAD4fwAAAAAAAPh/AAAAAAAA+H8AAAAAAAD4fwAAAAAAAPh/AAAAAAAA+H8AAAAAAAD4fwAAAAAAAPh/AAAAAAAA+H8AAAAAAAD4fwAAAAAAAPh/T7y9QpQx6D8AAAAAAAD4fwAAAAAAAPh/ACk6dkio5z8AAAAAAAD4fwAAAAAAAPh/AAAAAAAA+H8AAAAAAAD4fwAAAAAAAPh/AAAAAAAA+H8AAAAAAAD4fwAAAAAAAPh/AAAAAAAA+H8tyWogHI3oPwAAAAAAAPh/AAAAAAAA+H+9QpQxWF/oPwAAAAAAAPh/AAAAAAAA+H8AAAAAAAD4fwAAAAAAAPh/AAAAAAAA+H8AAAAAAAD4fxgn3l4hyug/AAAAAAAA+H8gHI2YwEznPwAAAAAAAPh/AAAAAAAA+H8AAAAAAAD4fwAAAAAAAPh/AAAAAAAA+H8AAAAAAAD4fwAAAAAAAPh/AAAAAAAA+H8AAAAAAAD4fwAAAAAAAPh/AAAAAAAA+H+9QpQxWF/oPwAAAAAAAPh/yJNaktVA6D8AAAAAAAD4fwAAAAAAAPh/AAAAAAAA+H8AAAAAAAD4fwAAAAAAAPh/AAAAAAAA+H8AAAAAAAD4fwAAAAAAAPh/OBoxgZlu6D8AAAAAAAD4fxXLxjdDa+c/AAAAAAAA+H8AAAAAAAD4fwAAAAAAAPh/AAAAAAAA+H+9QpQxWF/oPwAAAAAAAPh/1OQg81Ii6D8AAAAAAAD4fwAAAAAAAPh/AAAAAAAA+H8AAAAAAAD4fwAAAAAAAPh/AAAAAAAA+H8AAAAAAAD4fwAAAAAAAPh/AAAAAAAA+H+R/nquYtnoPwAAAAAAAPh/nU9BD+C66D8AAAAAAAD4fwAAAAAAAPh/AAAAAAAA+H8AAAAAAAD4fwAAAAAAAPh/AAAAAAAA+H8AAAAAAAD4f51PQQ/guug/AAAAAAAA+H8AAAAAAAD4fwAAAAAAAPh/AAAAAAAA+H/IN0Nr9+HmPwAAAAAAAPh/AAAAAAAA+H8AAAAAAAD4fwAAAAAAAPh/AAAAAAAA+H8AAAAAAAD4fwAAAAAAAPh/AAAAAAAA+H8AAAAAAAD4fwAAAAAAAPh/AAAAAAAA+H8AAAAAAAD4fwAAAAAAAPh/",
                    "dtype": "f8",
                    "shape": "12, 11"
                  }
                },
                {
                  "marker": {
                    "color": "black",
                    "line": {
                      "color": "Gray",
                      "width": 2
                    }
                  },
                  "mode": "markers",
                  "name": "Feasible Trial",
                  "showlegend": false,
                  "type": "scatter",
                  "x": [
                    9,
                    7,
                    6,
                    9,
                    4,
                    6,
                    2,
                    2,
                    10,
                    4,
                    4,
                    8,
                    3,
                    5,
                    10,
                    7,
                    8,
                    5,
                    3,
                    7
                  ],
                  "xaxis": "x79",
                  "y": [
                    10,
                    5,
                    4,
                    4,
                    8,
                    8,
                    2,
                    1,
                    7,
                    10,
                    3,
                    6,
                    1,
                    9,
                    6,
                    3,
                    7,
                    5,
                    2,
                    9
                  ],
                  "yaxis": "y79"
                },
                {
                  "type": "scatter",
                  "xaxis": "x89",
                  "yaxis": "y89"
                },
                {
                  "colorbar": {
                    "title": {
                      "text": "Objective Value"
                    }
                  },
                  "colorscale": [
                    [
                      0,
                      "rgb(247,251,255)"
                    ],
                    [
                      0.125,
                      "rgb(222,235,247)"
                    ],
                    [
                      0.25,
                      "rgb(198,219,239)"
                    ],
                    [
                      0.375,
                      "rgb(158,202,225)"
                    ],
                    [
                      0.5,
                      "rgb(107,174,214)"
                    ],
                    [
                      0.625,
                      "rgb(66,146,198)"
                    ],
                    [
                      0.75,
                      "rgb(33,113,181)"
                    ],
                    [
                      0.875,
                      "rgb(8,81,156)"
                    ],
                    [
                      1,
                      "rgb(8,48,107)"
                    ]
                  ],
                  "connectgaps": true,
                  "contours": {
                    "coloring": "heatmap"
                  },
                  "hoverinfo": "none",
                  "line": {
                    "smoothing": 1.3
                  },
                  "reversescale": false,
                  "showscale": false,
                  "type": "contour",
                  "x": [
                    1.6,
                    2,
                    3,
                    4,
                    5,
                    6,
                    7,
                    8,
                    9,
                    10,
                    10.4
                  ],
                  "xaxis": "x99",
                  "y": [
                    38,
                    50,
                    53,
                    79,
                    93,
                    96,
                    116,
                    137,
                    142,
                    148,
                    177,
                    183,
                    198,
                    206,
                    220,
                    223,
                    246,
                    250,
                    260,
                    280,
                    290,
                    302
                  ],
                  "yaxis": "y99",
                  "z": {
                    "bdata": "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",
                    "dtype": "f8",
                    "shape": "22, 11"
                  }
                },
                {
                  "marker": {
                    "color": "black",
                    "line": {
                      "color": "Gray",
                      "width": 2
                    }
                  },
                  "mode": "markers",
                  "name": "Feasible Trial",
                  "showlegend": false,
                  "type": "scatter",
                  "x": [
                    9,
                    7,
                    6,
                    9,
                    4,
                    6,
                    2,
                    2,
                    10,
                    4,
                    4,
                    8,
                    3,
                    5,
                    10,
                    7,
                    8,
                    5,
                    3,
                    7
                  ],
                  "xaxis": "x99",
                  "y": [
                    137,
                    96,
                    93,
                    198,
                    280,
                    142,
                    290,
                    50,
                    220,
                    246,
                    183,
                    250,
                    148,
                    79,
                    223,
                    116,
                    53,
                    177,
                    260,
                    206
                  ],
                  "yaxis": "y99"
                },
                {
                  "showscale": false,
                  "type": "contour",
                  "xaxis": "x10",
                  "yaxis": "y10"
                },
                {
                  "type": "scatter",
                  "xaxis": "x10",
                  "yaxis": "y10"
                },
                {
                  "colorbar": {
                    "title": {
                      "text": "Objective Value"
                    }
                  },
                  "colorscale": [
                    [
                      0,
                      "rgb(247,251,255)"
                    ],
                    [
                      0.125,
                      "rgb(222,235,247)"
                    ],
                    [
                      0.25,
                      "rgb(198,219,239)"
                    ],
                    [
                      0.375,
                      "rgb(158,202,225)"
                    ],
                    [
                      0.5,
                      "rgb(107,174,214)"
                    ],
                    [
                      0.625,
                      "rgb(66,146,198)"
                    ],
                    [
                      0.75,
                      "rgb(33,113,181)"
                    ],
                    [
                      0.875,
                      "rgb(8,81,156)"
                    ],
                    [
                      1,
                      "rgb(8,48,107)"
                    ]
                  ],
                  "connectgaps": true,
                  "contours": {
                    "coloring": "heatmap"
                  },
                  "hoverinfo": "none",
                  "line": {
                    "smoothing": 1.3
                  },
                  "reversescale": false,
                  "showscale": false,
                  "type": "contour",
                  "x": [
                    38,
                    50,
                    53,
                    79,
                    93,
                    96,
                    116,
                    137,
                    142,
                    148,
                    177,
                    183,
                    198,
                    206,
                    220,
                    223,
                    246,
                    250,
                    260,
                    280,
                    290,
                    302
                  ],
                  "xaxis": "x20",
                  "y": [
                    "False",
                    "True"
                  ],
                  "yaxis": "y20",
                  "z": {
                    "bdata": "AAAAAAAA+H8AAAAAAAD4fwAAAAAAAPh/kf56rmLZ6D8tyWogHI3oPwAAAAAAAPh/AAAAAAAA+H8AAAAAAAD4fwAAAAAAAPh/AAAAAAAA+H8AAAAAAAD4fwAAAAAAAPh/AAAAAAAA+H+dT0EP4LroPwAAAAAAAPh/AAAAAAAA+H+dT0EP4LroP71ClDFYX+g/AAAAAAAA+H8AAAAAAAD4fwAAAAAAAPh/AAAAAAAA+H8AAAAAAAD4fwAAAAAAAPh/AAAAAAAA+H8AAAAAAAD4fwAAAAAAAPh/AAAAAAAA+H8AAAAAAAD4fwAAAAAAAPh/1OQg81Ii6D8AAAAAAAD4fxgn3l4hyug/AAAAAAAA+H+9QpQxWF/oPwAAAAAAAPh/AAAAAAAA+H/Ik1qS1UDoPwAAAAAAAPh/AAAAAAAA+H8AAAAAAAD4f71ClDFYX+g/AAAAAAAA+H8AAAAAAAD4fw==",
                    "dtype": "f8",
                    "shape": "2, 22"
                  }
                },
                {
                  "marker": {
                    "color": "black",
                    "line": {
                      "color": "Gray",
                      "width": 2
                    }
                  },
                  "mode": "markers",
                  "name": "Feasible Trial",
                  "showlegend": false,
                  "type": "scatter",
                  "x": [
                    93,
                    198,
                    280,
                    142,
                    246,
                    250,
                    79,
                    223,
                    177,
                    206
                  ],
                  "xaxis": "x20",
                  "y": [
                    "False",
                    "True",
                    "True",
                    "True",
                    "False",
                    "False",
                    "False",
                    "True",
                    "True",
                    "False"
                  ],
                  "yaxis": "y20"
                },
                {
                  "colorbar": {
                    "title": {
                      "text": "Objective Value"
                    }
                  },
                  "colorscale": [
                    [
                      0,
                      "rgb(247,251,255)"
                    ],
                    [
                      0.125,
                      "rgb(222,235,247)"
                    ],
                    [
                      0.25,
                      "rgb(198,219,239)"
                    ],
                    [
                      0.375,
                      "rgb(158,202,225)"
                    ],
                    [
                      0.5,
                      "rgb(107,174,214)"
                    ],
                    [
                      0.625,
                      "rgb(66,146,198)"
                    ],
                    [
                      0.75,
                      "rgb(33,113,181)"
                    ],
                    [
                      0.875,
                      "rgb(8,81,156)"
                    ],
                    [
                      1,
                      "rgb(8,48,107)"
                    ]
                  ],
                  "connectgaps": true,
                  "contours": {
                    "coloring": "heatmap"
                  },
                  "hoverinfo": "none",
                  "line": {
                    "smoothing": 1.3
                  },
                  "reversescale": false,
                  "showscale": false,
                  "type": "contour",
                  "x": [
                    38,
                    50,
                    53,
                    79,
                    93,
                    96,
                    116,
                    137,
                    142,
                    148,
                    177,
                    183,
                    198,
                    206,
                    220,
                    223,
                    246,
                    250,
                    260,
                    280,
                    290,
                    302
                  ],
                  "xaxis": "x30",
                  "y": [
                    "GradientBoostingClassifier",
                    "RandomForestClassifier",
                    "SVC"
                  ],
                  "yaxis": "y30",
                  "z": {
                    "bdata": "AAAAAAAA+H/oKpaNb4bmPzgaMYGZbug/AAAAAAAA+H8AAAAAAAD4fyAcjZjATOc/ACk6dkio5z/IN0Nr9+HmPwAAAAAAAPh/bVP5PS535j8AAAAAAAD4f0+8vUKUMeg/AAAAAAAA+H8AAAAAAAD4fxXLxjdDa+c/AAAAAAAA+H8AAAAAAAD4fwAAAAAAAPh/C3oA18WJ5z8AAAAAAAD4f5CiY4eEeuc/AAAAAAAA+H8AAAAAAAD4fwAAAAAAAPh/AAAAAAAA+H+R/nquYtnoPy3JaiAcjeg/AAAAAAAA+H8AAAAAAAD4fwAAAAAAAPh/1OQg81Ii6D8AAAAAAAD4fxgn3l4hyug/AAAAAAAA+H+9QpQxWF/oP51PQQ/guug/AAAAAAAA+H/Ik1qS1UDoP51PQQ/guug/vUKUMVhf6D8AAAAAAAD4f71ClDFYX+g/AAAAAAAA+H8AAAAAAAD4fwAAAAAAAPh/AAAAAAAA+H8AAAAAAAD4fwAAAAAAAPh/AAAAAAAA+H8AAAAAAAD4fwAAAAAAAPh/AAAAAAAA+H8AAAAAAAD4fwAAAAAAAPh/AAAAAAAA+H8AAAAAAAD4fwAAAAAAAPh/AAAAAAAA+H8AAAAAAAD4fwAAAAAAAPh/AAAAAAAA+H8AAAAAAAD4fwAAAAAAAPh/AAAAAAAA+H8AAAAAAAD4fwAAAAAAAPh/",
                    "dtype": "f8",
                    "shape": "3, 22"
                  }
                },
                {
                  "marker": {
                    "color": "black",
                    "line": {
                      "color": "Gray",
                      "width": 2
                    }
                  },
                  "mode": "markers",
                  "name": "Feasible Trial",
                  "showlegend": false,
                  "type": "scatter",
                  "x": [
                    137,
                    96,
                    93,
                    198,
                    280,
                    142,
                    290,
                    50,
                    220,
                    246,
                    183,
                    250,
                    148,
                    79,
                    223,
                    116,
                    53,
                    177,
                    260,
                    206
                  ],
                  "xaxis": "x30",
                  "y": [
                    "GradientBoostingClassifier",
                    "GradientBoostingClassifier",
                    "RandomForestClassifier",
                    "RandomForestClassifier",
                    "RandomForestClassifier",
                    "RandomForestClassifier",
                    "GradientBoostingClassifier",
                    "GradientBoostingClassifier",
                    "GradientBoostingClassifier",
                    "RandomForestClassifier",
                    "GradientBoostingClassifier",
                    "RandomForestClassifier",
                    "GradientBoostingClassifier",
                    "RandomForestClassifier",
                    "RandomForestClassifier",
                    "GradientBoostingClassifier",
                    "GradientBoostingClassifier",
                    "RandomForestClassifier",
                    "GradientBoostingClassifier",
                    "RandomForestClassifier"
                  ],
                  "yaxis": "y30"
                },
                {
                  "showscale": false,
                  "type": "contour",
                  "xaxis": "x40",
                  "yaxis": "y40"
                },
                {
                  "type": "scatter",
                  "xaxis": "x40",
                  "yaxis": "y40"
                },
                {
                  "showscale": false,
                  "type": "contour",
                  "xaxis": "x50",
                  "yaxis": "y50"
                },
                {
                  "type": "scatter",
                  "xaxis": "x50",
                  "yaxis": "y50"
                },
                {
                  "colorbar": {
                    "title": {
                      "text": "Objective Value"
                    }
                  },
                  "colorscale": [
                    [
                      0,
                      "rgb(247,251,255)"
                    ],
                    [
                      0.125,
                      "rgb(222,235,247)"
                    ],
                    [
                      0.25,
                      "rgb(198,219,239)"
                    ],
                    [
                      0.375,
                      "rgb(158,202,225)"
                    ],
                    [
                      0.5,
                      "rgb(107,174,214)"
                    ],
                    [
                      0.625,
                      "rgb(66,146,198)"
                    ],
                    [
                      0.75,
                      "rgb(33,113,181)"
                    ],
                    [
                      0.875,
                      "rgb(8,81,156)"
                    ],
                    [
                      1,
                      "rgb(8,48,107)"
                    ]
                  ],
                  "connectgaps": true,
                  "contours": {
                    "coloring": "heatmap"
                  },
                  "hoverinfo": "none",
                  "line": {
                    "smoothing": 1.3
                  },
                  "reversescale": false,
                  "showscale": false,
                  "type": "contour",
                  "x": [
                    38,
                    50,
                    53,
                    79,
                    93,
                    96,
                    116,
                    137,
                    142,
                    148,
                    177,
                    183,
                    198,
                    206,
                    220,
                    223,
                    246,
                    250,
                    260,
                    280,
                    290,
                    302
                  ],
                  "xaxis": "x60",
                  "y": [
                    0.008471494652377815,
                    0.010014044202641247,
                    0.010310837415270203,
                    0.02467535008833722,
                    0.026573184384960768,
                    0.04421575283234797,
                    0.0939146027493534,
                    0.11156472957531484,
                    0.1265184615937343,
                    0.22312641054514146,
                    0.28418343862027984,
                    0.3359295652985262
                  ],
                  "yaxis": "y60",
                  "z": {
                    "bdata": "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",
                    "dtype": "f8",
                    "shape": "12, 22"
                  }
                },
                {
                  "marker": {
                    "color": "black",
                    "line": {
                      "color": "Gray",
                      "width": 2
                    }
                  },
                  "mode": "markers",
                  "name": "Feasible Trial",
                  "showlegend": false,
                  "type": "scatter",
                  "x": [
                    137,
                    96,
                    290,
                    50,
                    220,
                    183,
                    148,
                    116,
                    53,
                    260
                  ],
                  "xaxis": "x60",
                  "y": [
                    0.11156472957531484,
                    0.22312641054514146,
                    0.010014044202641247,
                    0.026573184384960768,
                    0.04421575283234797,
                    0.28418343862027984,
                    0.010310837415270203,
                    0.0939146027493534,
                    0.02467535008833722,
                    0.1265184615937343
                  ],
                  "yaxis": "y60"
                },
                {
                  "colorbar": {
                    "title": {
                      "text": "Objective Value"
                    }
                  },
                  "colorscale": [
                    [
                      0,
                      "rgb(247,251,255)"
                    ],
                    [
                      0.125,
                      "rgb(222,235,247)"
                    ],
                    [
                      0.25,
                      "rgb(198,219,239)"
                    ],
                    [
                      0.375,
                      "rgb(158,202,225)"
                    ],
                    [
                      0.5,
                      "rgb(107,174,214)"
                    ],
                    [
                      0.625,
                      "rgb(66,146,198)"
                    ],
                    [
                      0.75,
                      "rgb(33,113,181)"
                    ],
                    [
                      0.875,
                      "rgb(8,81,156)"
                    ],
                    [
                      1,
                      "rgb(8,48,107)"
                    ]
                  ],
                  "connectgaps": true,
                  "contours": {
                    "coloring": "heatmap"
                  },
                  "hoverinfo": "none",
                  "line": {
                    "smoothing": 1.3
                  },
                  "reversescale": false,
                  "showscale": false,
                  "type": "contour",
                  "x": [
                    38,
                    50,
                    53,
                    79,
                    93,
                    96,
                    116,
                    137,
                    142,
                    148,
                    177,
                    183,
                    198,
                    206,
                    220,
                    223,
                    246,
                    250,
                    260,
                    280,
                    290,
                    302
                  ],
                  "xaxis": "x70",
                  "y": [
                    2.15,
                    3,
                    4,
                    5,
                    7,
                    8,
                    10,
                    11,
                    12,
                    13,
                    14,
                    16,
                    17,
                    18,
                    19,
                    20,
                    20.85
                  ],
                  "yaxis": "y70",
                  "z": {
                    "bdata": "AAAAAAAA+H8AAAAAAAD4fwAAAAAAAPh/AAAAAAAA+H8AAAAAAAD4fwAAAAAAAPh/AAAAAAAA+H8AAAAAAAD4fwAAAAAAAPh/AAAAAAAA+H8AAAAAAAD4fwAAAAAAAPh/AAAAAAAA+H8AAAAAAAD4fwAAAAAAAPh/AAAAAAAA+H8AAAAAAAD4fwAAAAAAAPh/AAAAAAAA+H8AAAAAAAD4fwAAAAAAAPh/AAAAAAAA+H8AAAAAAAD4fwAAAAAAAPh/AAAAAAAA+H8AAAAAAAD4fwAAAAAAAPh/AAAAAAAA+H8AAAAAAAD4fwAAAAAAAPh/AAAAAAAA+H8AAAAAAAD4fwAAAAAAAPh/AAAAAAAA+H8AAAAAAAD4fwAAAAAAAPh/AAAAAAAA+H8AAAAAAAD4fwAAAAAAAPh/AAAAAAAA+H8LegDXxYnnPwAAAAAAAPh/AAAAAAAA+H8AAAAAAAD4fwAAAAAAAPh/AAAAAAAA+H8AAAAAAAD4fwAAAAAAAPh/LclqIByN6D8AAAAAAAD4fwAAAAAAAPh/AAAAAAAA+H/U5CDzUiLoPwAAAAAAAPh/AAAAAAAA+H8AAAAAAAD4fwAAAAAAAPh/AAAAAAAA+H8AAAAAAAD4fwAAAAAAAPh/AAAAAAAA+H8AAAAAAAD4fwAAAAAAAPh/AAAAAAAA+H8AAAAAAAD4fwAAAAAAAPh/AAAAAAAA+H8AAAAAAAD4fwAAAAAAAPh/AAAAAAAA+H8AAAAAAAD4fwAAAAAAAPh/AAAAAAAA+H8AAAAAAAD4fwAAAAAAAPh/AAAAAAAA+H8AAAAAAAD4fwAAAAAAAPh/vUKUMVhf6D8AAAAAAAD4fwAAAAAAAPh/AAAAAAAA+H8AAAAAAAD4fwAAAAAAAPh/AAAAAAAA+H8AAAAAAAD4fwAAAAAAAPh/AAAAAAAA+H8AAAAAAAD4fwAAAAAAAPh/AAAAAAAA+H8AAAAAAAD4fwAAAAAAAPh/AAAAAAAA+H8AAAAAAAD4fwAAAAAAAPh/AAAAAAAA+H8AAAAAAAD4fwAAAAAAAPh/AAAAAAAA+H8AAAAAAAD4fwAAAAAAAPh/AAAAAAAA+H/Ik1qS1UDoPwAAAAAAAPh/AAAAAAAA+H8AAAAAAAD4fwAAAAAAAPh/AAAAAAAA+H8AAAAAAAD4fwAAAAAAAPh/AAAAAAAA+H8AAAAAAAD4fwAAAAAAAPh/AAAAAAAA+H8AAAAAAAD4fwAAAAAAAPh/AAAAAAAA+H8AAAAAAAD4fwAAAAAAAPh/AAAAAAAA+H9PvL1ClDHoPwAAAAAAAPh/AAAAAAAA+H8AAAAAAAD4fwAAAAAAAPh/AAAAAAAA+H8AAAAAAAD4fwAAAAAAAPh/vUKUMVhf6D8AAAAAAAD4fwAAAAAAAPh/AAAAAAAA+H/oKpaNb4bmPwAAAAAAAPh/AAAAAAAA+H8AAAAAAAD4fwAAAAAAAPh/AAAAAAAA+H8AAAAAAAD4fwAAAAAAAPh/bVP5PS535j8AAAAAAAD4fwAAAAAAAPh/AAAAAAAA+H8AAAAAAAD4fwAAAAAAAPh/AAAAAAAA+H8AAAAAAAD4fwAAAAAAAPh/AAAAAAAA+H8AAAAAAAD4fwAAAAAAAPh/AAAAAAAA+H8AAAAAAAD4fwAAAAAAAPh/AAAAAAAA+H8AAAAAAAD4fwAAAAAAAPh/AAAAAAAA+H8AAAAAAAD4fwAAAAAAAPh/AAAAAAAA+H8AAAAAAAD4fwAAAAAAAPh/AAAAAAAA+H8AAAAAAAD4f51PQQ/guug/AAAAAAAA+H8AAAAAAAD4fwAAAAAAAPh/AAAAAAAA+H8AAAAAAAD4fwAAAAAAAPh/AAAAAAAA+H8AAAAAAAD4fwAAAAAAAPh/AAAAAAAA+H8AAAAAAAD4fwAAAAAAAPh/AAAAAAAA+H8AAAAAAAD4fwApOnZIqOc/AAAAAAAA+H8AAAAAAAD4fwAAAAAAAPh/AAAAAAAA+H8AAAAAAAD4fwAAAAAAAPh/AAAAAAAA+H8AAAAAAAD4fwAAAAAAAPh/AAAAAAAA+H8AAAAAAAD4fwAAAAAAAPh/AAAAAAAA+H8AAAAAAAD4fwAAAAAAAPh/AAAAAAAA+H8AAAAAAAD4fwAAAAAAAPh/AAAAAAAA+H8AAAAAAAD4fwAAAAAAAPh/AAAAAAAA+H8AAAAAAAD4fwAAAAAAAPh/AAAAAAAA+H8AAAAAAAD4fwAAAAAAAPh/AAAAAAAA+H8AAAAAAAD4fwAAAAAAAPh/AAAAAAAA+H8AAAAAAAD4fwAAAAAAAPh/AAAAAAAA+H8AAAAAAAD4f5CiY4eEeuc/AAAAAAAA+H8AAAAAAAD4fwAAAAAAAPh/AAAAAAAA+H8AAAAAAAD4fwAAAAAAAPh/AAAAAAAA+H8AAAAAAAD4fwAAAAAAAPh/AAAAAAAA+H8AAAAAAAD4fxgn3l4hyug/AAAAAAAA+H8AAAAAAAD4fwAAAAAAAPh/AAAAAAAA+H8AAAAAAAD4f51PQQ/guug/AAAAAAAA+H8AAAAAAAD4fwAAAAAAAPh/AAAAAAAA+H8AAAAAAAD4fwAAAAAAAPh/AAAAAAAA+H8AAAAAAAD4fwAAAAAAAPh/AAAAAAAA+H8gHI2YwEznPwAAAAAAAPh/AAAAAAAA+H8AAAAAAAD4fwAAAAAAAPh/AAAAAAAA+H8AAAAAAAD4fwAAAAAAAPh/AAAAAAAA+H8AAAAAAAD4fwAAAAAAAPh/AAAAAAAA+H+9QpQxWF/oPwAAAAAAAPh/AAAAAAAA+H8AAAAAAAD4fwAAAAAAAPh/AAAAAAAA+H8AAAAAAAD4fwAAAAAAAPh/kf56rmLZ6D8AAAAAAAD4fwAAAAAAAPh/AAAAAAAA+H8AAAAAAAD4fwAAAAAAAPh/AAAAAAAA+H8AAAAAAAD4fwAAAAAAAPh/AAAAAAAA+H8AAAAAAAD4fwAAAAAAAPh/AAAAAAAA+H8AAAAAAAD4fwAAAAAAAPh/AAAAAAAA+H8AAAAAAAD4fwAAAAAAAPh/AAAAAAAA+H8AAAAAAAD4fwAAAAAAAPh/OBoxgZlu6D8AAAAAAAD4fwAAAAAAAPh/AAAAAAAA+H8AAAAAAAD4fwAAAAAAAPh/AAAAAAAA+H8AAAAAAAD4fwAAAAAAAPh/AAAAAAAA+H8AAAAAAAD4fwAAAAAAAPh/AAAAAAAA+H8AAAAAAAD4fwAAAAAAAPh/AAAAAAAA+H8AAAAAAAD4fwAAAAAAAPh/AAAAAAAA+H8AAAAAAAD4fwAAAAAAAPh/AAAAAAAA+H8AAAAAAAD4fwAAAAAAAPh/AAAAAAAA+H8AAAAAAAD4fwAAAAAAAPh/AAAAAAAA+H8AAAAAAAD4fwAAAAAAAPh/AAAAAAAA+H8AAAAAAAD4fwAAAAAAAPh/AAAAAAAA+H8Vy8Y3Q2vnPwAAAAAAAPh/AAAAAAAA+H8AAAAAAAD4fwAAAAAAAPh/AAAAAAAA+H8AAAAAAAD4fwAAAAAAAPh/AAAAAAAA+H8AAAAAAAD4fwAAAAAAAPh/AAAAAAAA+H8AAAAAAAD4fwAAAAAAAPh/AAAAAAAA+H/IN0Nr9+HmPwAAAAAAAPh/AAAAAAAA+H8AAAAAAAD4fwAAAAAAAPh/AAAAAAAA+H8AAAAAAAD4fwAAAAAAAPh/AAAAAAAA+H8AAAAAAAD4fwAAAAAAAPh/AAAAAAAA+H8AAAAAAAD4fwAAAAAAAPh/AAAAAAAA+H8AAAAAAAD4fwAAAAAAAPh/AAAAAAAA+H8AAAAAAAD4fwAAAAAAAPh/AAAAAAAA+H8AAAAAAAD4fwAAAAAAAPh/AAAAAAAA+H8AAAAAAAD4fwAAAAAAAPh/AAAAAAAA+H8AAAAAAAD4fwAAAAAAAPh/AAAAAAAA+H8AAAAAAAD4fwAAAAAAAPh/AAAAAAAA+H8AAAAAAAD4fwAAAAAAAPh/AAAAAAAA+H8AAAAAAAD4fw==",
                    "dtype": "f8",
                    "shape": "17, 22"
                  }
                },
                {
                  "marker": {
                    "color": "black",
                    "line": {
                      "color": "Gray",
                      "width": 2
                    }
                  },
                  "mode": "markers",
                  "name": "Feasible Trial",
                  "showlegend": false,
                  "type": "scatter",
                  "x": [
                    137,
                    96,
                    93,
                    198,
                    280,
                    142,
                    290,
                    50,
                    220,
                    246,
                    183,
                    250,
                    148,
                    79,
                    223,
                    116,
                    53,
                    177,
                    260,
                    206
                  ],
                  "xaxis": "x70",
                  "y": [
                    20,
                    16,
                    4,
                    5,
                    8,
                    4,
                    13,
                    10,
                    19,
                    14,
                    8,
                    16,
                    10,
                    17,
                    7,
                    12,
                    18,
                    14,
                    3,
                    11
                  ],
                  "yaxis": "y70"
                },
                {
                  "colorbar": {
                    "title": {
                      "text": "Objective Value"
                    }
                  },
                  "colorscale": [
                    [
                      0,
                      "rgb(247,251,255)"
                    ],
                    [
                      0.125,
                      "rgb(222,235,247)"
                    ],
                    [
                      0.25,
                      "rgb(198,219,239)"
                    ],
                    [
                      0.375,
                      "rgb(158,202,225)"
                    ],
                    [
                      0.5,
                      "rgb(107,174,214)"
                    ],
                    [
                      0.625,
                      "rgb(66,146,198)"
                    ],
                    [
                      0.75,
                      "rgb(33,113,181)"
                    ],
                    [
                      0.875,
                      "rgb(8,81,156)"
                    ],
                    [
                      1,
                      "rgb(8,48,107)"
                    ]
                  ],
                  "connectgaps": true,
                  "contours": {
                    "coloring": "heatmap"
                  },
                  "hoverinfo": "none",
                  "line": {
                    "smoothing": 1.3
                  },
                  "reversescale": false,
                  "showscale": false,
                  "type": "contour",
                  "x": [
                    38,
                    50,
                    53,
                    79,
                    93,
                    96,
                    116,
                    137,
                    142,
                    148,
                    177,
                    183,
                    198,
                    206,
                    220,
                    223,
                    246,
                    250,
                    260,
                    280,
                    290,
                    302
                  ],
                  "xaxis": "x80",
                  "y": [
                    0.55,
                    1,
                    2,
                    3,
                    4,
                    5,
                    6,
                    7,
                    8,
                    9,
                    10,
                    10.45
                  ],
                  "yaxis": "y80",
                  "z": {
                    "bdata": "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",
                    "dtype": "f8",
                    "shape": "12, 22"
                  }
                },
                {
                  "marker": {
                    "color": "black",
                    "line": {
                      "color": "Gray",
                      "width": 2
                    }
                  },
                  "mode": "markers",
                  "name": "Feasible Trial",
                  "showlegend": false,
                  "type": "scatter",
                  "x": [
                    137,
                    96,
                    93,
                    198,
                    280,
                    142,
                    290,
                    50,
                    220,
                    246,
                    183,
                    250,
                    148,
                    79,
                    223,
                    116,
                    53,
                    177,
                    260,
                    206
                  ],
                  "xaxis": "x80",
                  "y": [
                    10,
                    5,
                    4,
                    4,
                    8,
                    8,
                    2,
                    1,
                    7,
                    10,
                    3,
                    6,
                    1,
                    9,
                    6,
                    3,
                    7,
                    5,
                    2,
                    9
                  ],
                  "yaxis": "y80"
                },
                {
                  "colorbar": {
                    "title": {
                      "text": "Objective Value"
                    }
                  },
                  "colorscale": [
                    [
                      0,
                      "rgb(247,251,255)"
                    ],
                    [
                      0.125,
                      "rgb(222,235,247)"
                    ],
                    [
                      0.25,
                      "rgb(198,219,239)"
                    ],
                    [
                      0.375,
                      "rgb(158,202,225)"
                    ],
                    [
                      0.5,
                      "rgb(107,174,214)"
                    ],
                    [
                      0.625,
                      "rgb(66,146,198)"
                    ],
                    [
                      0.75,
                      "rgb(33,113,181)"
                    ],
                    [
                      0.875,
                      "rgb(8,81,156)"
                    ],
                    [
                      1,
                      "rgb(8,48,107)"
                    ]
                  ],
                  "connectgaps": true,
                  "contours": {
                    "coloring": "heatmap"
                  },
                  "hoverinfo": "none",
                  "line": {
                    "smoothing": 1.3
                  },
                  "reversescale": false,
                  "showscale": false,
                  "type": "contour",
                  "x": [
                    38,
                    50,
                    53,
                    79,
                    93,
                    96,
                    116,
                    137,
                    142,
                    148,
                    177,
                    183,
                    198,
                    206,
                    220,
                    223,
                    246,
                    250,
                    260,
                    280,
                    290,
                    302
                  ],
                  "xaxis": "x90",
                  "y": [
                    1.6,
                    2,
                    3,
                    4,
                    5,
                    6,
                    7,
                    8,
                    9,
                    10,
                    10.4
                  ],
                  "yaxis": "y90",
                  "z": {
                    "bdata": "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",
                    "dtype": "f8",
                    "shape": "11, 22"
                  }
                },
                {
                  "marker": {
                    "color": "black",
                    "line": {
                      "color": "Gray",
                      "width": 2
                    }
                  },
                  "mode": "markers",
                  "name": "Feasible Trial",
                  "showlegend": false,
                  "type": "scatter",
                  "x": [
                    137,
                    96,
                    93,
                    198,
                    280,
                    142,
                    290,
                    50,
                    220,
                    246,
                    183,
                    250,
                    148,
                    79,
                    223,
                    116,
                    53,
                    177,
                    260,
                    206
                  ],
                  "xaxis": "x90",
                  "y": [
                    9,
                    7,
                    6,
                    9,
                    4,
                    6,
                    2,
                    2,
                    10,
                    4,
                    4,
                    8,
                    3,
                    5,
                    10,
                    7,
                    8,
                    5,
                    3,
                    7
                  ],
                  "yaxis": "y90"
                },
                {
                  "type": "scatter",
                  "xaxis": "x100",
                  "yaxis": "y100"
                }
              ],
              "layout": {
                "template": {
                  "data": {
                    "bar": [
                      {
                        "error_x": {
                          "color": "#2a3f5f"
                        },
                        "error_y": {
                          "color": "#2a3f5f"
                        },
                        "marker": {
                          "line": {
                            "color": "#E5ECF6",
                            "width": 0.5
                          },
                          "pattern": {
                            "fillmode": "overlay",
                            "size": 10,
                            "solidity": 0.2
                          }
                        },
                        "type": "bar"
                      }
                    ],
                    "barpolar": [
                      {
                        "marker": {
                          "line": {
                            "color": "#E5ECF6",
                            "width": 0.5
                          },
                          "pattern": {
                            "fillmode": "overlay",
                            "size": 10,
                            "solidity": 0.2
                          }
                        },
                        "type": "barpolar"
                      }
                    ],
                    "carpet": [
                      {
                        "aaxis": {
                          "endlinecolor": "#2a3f5f",
                          "gridcolor": "white",
                          "linecolor": "white",
                          "minorgridcolor": "white",
                          "startlinecolor": "#2a3f5f"
                        },
                        "baxis": {
                          "endlinecolor": "#2a3f5f",
                          "gridcolor": "white",
                          "linecolor": "white",
                          "minorgridcolor": "white",
                          "startlinecolor": "#2a3f5f"
                        },
                        "type": "carpet"
                      }
                    ],
                    "choropleth": [
                      {
                        "colorbar": {
                          "outlinewidth": 0,
                          "ticks": ""
                        },
                        "type": "choropleth"
                      }
                    ],
                    "contour": [
                      {
                        "colorbar": {
                          "outlinewidth": 0,
                          "ticks": ""
                        },
                        "colorscale": [
                          [
                            0,
                            "#0d0887"
                          ],
                          [
                            0.1111111111111111,
                            "#46039f"
                          ],
                          [
                            0.2222222222222222,
                            "#7201a8"
                          ],
                          [
                            0.3333333333333333,
                            "#9c179e"
                          ],
                          [
                            0.4444444444444444,
                            "#bd3786"
                          ],
                          [
                            0.5555555555555556,
                            "#d8576b"
                          ],
                          [
                            0.6666666666666666,
                            "#ed7953"
                          ],
                          [
                            0.7777777777777778,
                            "#fb9f3a"
                          ],
                          [
                            0.8888888888888888,
                            "#fdca26"
                          ],
                          [
                            1,
                            "#f0f921"
                          ]
                        ],
                        "type": "contour"
                      }
                    ],
                    "contourcarpet": [
                      {
                        "colorbar": {
                          "outlinewidth": 0,
                          "ticks": ""
                        },
                        "type": "contourcarpet"
                      }
                    ],
                    "heatmap": [
                      {
                        "colorbar": {
                          "outlinewidth": 0,
                          "ticks": ""
                        },
                        "colorscale": [
                          [
                            0,
                            "#0d0887"
                          ],
                          [
                            0.1111111111111111,
                            "#46039f"
                          ],
                          [
                            0.2222222222222222,
                            "#7201a8"
                          ],
                          [
                            0.3333333333333333,
                            "#9c179e"
                          ],
                          [
                            0.4444444444444444,
                            "#bd3786"
                          ],
                          [
                            0.5555555555555556,
                            "#d8576b"
                          ],
                          [
                            0.6666666666666666,
                            "#ed7953"
                          ],
                          [
                            0.7777777777777778,
                            "#fb9f3a"
                          ],
                          [
                            0.8888888888888888,
                            "#fdca26"
                          ],
                          [
                            1,
                            "#f0f921"
                          ]
                        ],
                        "type": "heatmap"
                      }
                    ],
                    "histogram": [
                      {
                        "marker": {
                          "pattern": {
                            "fillmode": "overlay",
                            "size": 10,
                            "solidity": 0.2
                          }
                        },
                        "type": "histogram"
                      }
                    ],
                    "histogram2d": [
                      {
                        "colorbar": {
                          "outlinewidth": 0,
                          "ticks": ""
                        },
                        "colorscale": [
                          [
                            0,
                            "#0d0887"
                          ],
                          [
                            0.1111111111111111,
                            "#46039f"
                          ],
                          [
                            0.2222222222222222,
                            "#7201a8"
                          ],
                          [
                            0.3333333333333333,
                            "#9c179e"
                          ],
                          [
                            0.4444444444444444,
                            "#bd3786"
                          ],
                          [
                            0.5555555555555556,
                            "#d8576b"
                          ],
                          [
                            0.6666666666666666,
                            "#ed7953"
                          ],
                          [
                            0.7777777777777778,
                            "#fb9f3a"
                          ],
                          [
                            0.8888888888888888,
                            "#fdca26"
                          ],
                          [
                            1,
                            "#f0f921"
                          ]
                        ],
                        "type": "histogram2d"
                      }
                    ],
                    "histogram2dcontour": [
                      {
                        "colorbar": {
                          "outlinewidth": 0,
                          "ticks": ""
                        },
                        "colorscale": [
                          [
                            0,
                            "#0d0887"
                          ],
                          [
                            0.1111111111111111,
                            "#46039f"
                          ],
                          [
                            0.2222222222222222,
                            "#7201a8"
                          ],
                          [
                            0.3333333333333333,
                            "#9c179e"
                          ],
                          [
                            0.4444444444444444,
                            "#bd3786"
                          ],
                          [
                            0.5555555555555556,
                            "#d8576b"
                          ],
                          [
                            0.6666666666666666,
                            "#ed7953"
                          ],
                          [
                            0.7777777777777778,
                            "#fb9f3a"
                          ],
                          [
                            0.8888888888888888,
                            "#fdca26"
                          ],
                          [
                            1,
                            "#f0f921"
                          ]
                        ],
                        "type": "histogram2dcontour"
                      }
                    ],
                    "mesh3d": [
                      {
                        "colorbar": {
                          "outlinewidth": 0,
                          "ticks": ""
                        },
                        "type": "mesh3d"
                      }
                    ],
                    "parcoords": [
                      {
                        "line": {
                          "colorbar": {
                            "outlinewidth": 0,
                            "ticks": ""
                          }
                        },
                        "type": "parcoords"
                      }
                    ],
                    "pie": [
                      {
                        "automargin": true,
                        "type": "pie"
                      }
                    ],
                    "scatter": [
                      {
                        "fillpattern": {
                          "fillmode": "overlay",
                          "size": 10,
                          "solidity": 0.2
                        },
                        "type": "scatter"
                      }
                    ],
                    "scatter3d": [
                      {
                        "line": {
                          "colorbar": {
                            "outlinewidth": 0,
                            "ticks": ""
                          }
                        },
                        "marker": {
                          "colorbar": {
                            "outlinewidth": 0,
                            "ticks": ""
                          }
                        },
                        "type": "scatter3d"
                      }
                    ],
                    "scattercarpet": [
                      {
                        "marker": {
                          "colorbar": {
                            "outlinewidth": 0,
                            "ticks": ""
                          }
                        },
                        "type": "scattercarpet"
                      }
                    ],
                    "scattergeo": [
                      {
                        "marker": {
                          "colorbar": {
                            "outlinewidth": 0,
                            "ticks": ""
                          }
                        },
                        "type": "scattergeo"
                      }
                    ],
                    "scattergl": [
                      {
                        "marker": {
                          "colorbar": {
                            "outlinewidth": 0,
                            "ticks": ""
                          }
                        },
                        "type": "scattergl"
                      }
                    ],
                    "scattermap": [
                      {
                        "marker": {
                          "colorbar": {
                            "outlinewidth": 0,
                            "ticks": ""
                          }
                        },
                        "type": "scattermap"
                      }
                    ],
                    "scattermapbox": [
                      {
                        "marker": {
                          "colorbar": {
                            "outlinewidth": 0,
                            "ticks": ""
                          }
                        },
                        "type": "scattermapbox"
                      }
                    ],
                    "scatterpolar": [
                      {
                        "marker": {
                          "colorbar": {
                            "outlinewidth": 0,
                            "ticks": ""
                          }
                        },
                        "type": "scatterpolar"
                      }
                    ],
                    "scatterpolargl": [
                      {
                        "marker": {
                          "colorbar": {
                            "outlinewidth": 0,
                            "ticks": ""
                          }
                        },
                        "type": "scatterpolargl"
                      }
                    ],
                    "scatterternary": [
                      {
                        "marker": {
                          "colorbar": {
                            "outlinewidth": 0,
                            "ticks": ""
                          }
                        },
                        "type": "scatterternary"
                      }
                    ],
                    "surface": [
                      {
                        "colorbar": {
                          "outlinewidth": 0,
                          "ticks": ""
                        },
                        "colorscale": [
                          [
                            0,
                            "#0d0887"
                          ],
                          [
                            0.1111111111111111,
                            "#46039f"
                          ],
                          [
                            0.2222222222222222,
                            "#7201a8"
                          ],
                          [
                            0.3333333333333333,
                            "#9c179e"
                          ],
                          [
                            0.4444444444444444,
                            "#bd3786"
                          ],
                          [
                            0.5555555555555556,
                            "#d8576b"
                          ],
                          [
                            0.6666666666666666,
                            "#ed7953"
                          ],
                          [
                            0.7777777777777778,
                            "#fb9f3a"
                          ],
                          [
                            0.8888888888888888,
                            "#fdca26"
                          ],
                          [
                            1,
                            "#f0f921"
                          ]
                        ],
                        "type": "surface"
                      }
                    ],
                    "table": [
                      {
                        "cells": {
                          "fill": {
                            "color": "#EBF0F8"
                          },
                          "line": {
                            "color": "white"
                          }
                        },
                        "header": {
                          "fill": {
                            "color": "#C8D4E3"
                          },
                          "line": {
                            "color": "white"
                          }
                        },
                        "type": "table"
                      }
                    ]
                  },
                  "layout": {
                    "annotationdefaults": {
                      "arrowcolor": "#2a3f5f",
                      "arrowhead": 0,
                      "arrowwidth": 1
                    },
                    "autotypenumbers": "strict",
                    "coloraxis": {
                      "colorbar": {
                        "outlinewidth": 0,
                        "ticks": ""
                      }
                    },
                    "colorscale": {
                      "diverging": [
                        [
                          0,
                          "#8e0152"
                        ],
                        [
                          0.1,
                          "#c51b7d"
                        ],
                        [
                          0.2,
                          "#de77ae"
                        ],
                        [
                          0.3,
                          "#f1b6da"
                        ],
                        [
                          0.4,
                          "#fde0ef"
                        ],
                        [
                          0.5,
                          "#f7f7f7"
                        ],
                        [
                          0.6,
                          "#e6f5d0"
                        ],
                        [
                          0.7,
                          "#b8e186"
                        ],
                        [
                          0.8,
                          "#7fbc41"
                        ],
                        [
                          0.9,
                          "#4d9221"
                        ],
                        [
                          1,
                          "#276419"
                        ]
                      ],
                      "sequential": [
                        [
                          0,
                          "#0d0887"
                        ],
                        [
                          0.1111111111111111,
                          "#46039f"
                        ],
                        [
                          0.2222222222222222,
                          "#7201a8"
                        ],
                        [
                          0.3333333333333333,
                          "#9c179e"
                        ],
                        [
                          0.4444444444444444,
                          "#bd3786"
                        ],
                        [
                          0.5555555555555556,
                          "#d8576b"
                        ],
                        [
                          0.6666666666666666,
                          "#ed7953"
                        ],
                        [
                          0.7777777777777778,
                          "#fb9f3a"
                        ],
                        [
                          0.8888888888888888,
                          "#fdca26"
                        ],
                        [
                          1,
                          "#f0f921"
                        ]
                      ],
                      "sequentialminus": [
                        [
                          0,
                          "#0d0887"
                        ],
                        [
                          0.1111111111111111,
                          "#46039f"
                        ],
                        [
                          0.2222222222222222,
                          "#7201a8"
                        ],
                        [
                          0.3333333333333333,
                          "#9c179e"
                        ],
                        [
                          0.4444444444444444,
                          "#bd3786"
                        ],
                        [
                          0.5555555555555556,
                          "#d8576b"
                        ],
                        [
                          0.6666666666666666,
                          "#ed7953"
                        ],
                        [
                          0.7777777777777778,
                          "#fb9f3a"
                        ],
                        [
                          0.8888888888888888,
                          "#fdca26"
                        ],
                        [
                          1,
                          "#f0f921"
                        ]
                      ]
                    },
                    "colorway": [
                      "#636efa",
                      "#EF553B",
                      "#00cc96",
                      "#ab63fa",
                      "#FFA15A",
                      "#19d3f3",
                      "#FF6692",
                      "#B6E880",
                      "#FF97FF",
                      "#FECB52"
                    ],
                    "font": {
                      "color": "#2a3f5f"
                    },
                    "geo": {
                      "bgcolor": "white",
                      "lakecolor": "white",
                      "landcolor": "#E5ECF6",
                      "showlakes": true,
                      "showland": true,
                      "subunitcolor": "white"
                    },
                    "hoverlabel": {
                      "align": "left"
                    },
                    "hovermode": "closest",
                    "mapbox": {
                      "style": "light"
                    },
                    "paper_bgcolor": "white",
                    "plot_bgcolor": "#E5ECF6",
                    "polar": {
                      "angularaxis": {
                        "gridcolor": "white",
                        "linecolor": "white",
                        "ticks": ""
                      },
                      "bgcolor": "#E5ECF6",
                      "radialaxis": {
                        "gridcolor": "white",
                        "linecolor": "white",
                        "ticks": ""
                      }
                    },
                    "scene": {
                      "xaxis": {
                        "backgroundcolor": "#E5ECF6",
                        "gridcolor": "white",
                        "gridwidth": 2,
                        "linecolor": "white",
                        "showbackground": true,
                        "ticks": "",
                        "zerolinecolor": "white"
                      },
                      "yaxis": {
                        "backgroundcolor": "#E5ECF6",
                        "gridcolor": "white",
                        "gridwidth": 2,
                        "linecolor": "white",
                        "showbackground": true,
                        "ticks": "",
                        "zerolinecolor": "white"
                      },
                      "zaxis": {
                        "backgroundcolor": "#E5ECF6",
                        "gridcolor": "white",
                        "gridwidth": 2,
                        "linecolor": "white",
                        "showbackground": true,
                        "ticks": "",
                        "zerolinecolor": "white"
                      }
                    },
                    "shapedefaults": {
                      "line": {
                        "color": "#2a3f5f"
                      }
                    },
                    "ternary": {
                      "aaxis": {
                        "gridcolor": "white",
                        "linecolor": "white",
                        "ticks": ""
                      },
                      "baxis": {
                        "gridcolor": "white",
                        "linecolor": "white",
                        "ticks": ""
                      },
                      "bgcolor": "#E5ECF6",
                      "caxis": {
                        "gridcolor": "white",
                        "linecolor": "white",
                        "ticks": ""
                      }
                    },
                    "title": {
                      "x": 0.05
                    },
                    "xaxis": {
                      "automargin": true,
                      "gridcolor": "white",
                      "linecolor": "white",
                      "ticks": "",
                      "title": {
                        "standoff": 15
                      },
                      "zerolinecolor": "white",
                      "zerolinewidth": 2
                    },
                    "yaxis": {
                      "automargin": true,
                      "gridcolor": "white",
                      "linecolor": "white",
                      "ticks": "",
                      "title": {
                        "standoff": 15
                      },
                      "zerolinecolor": "white",
                      "zerolinewidth": 2
                    }
                  }
                },
                "title": {
                  "text": "Contour Plot"
                },
                "xaxis": {
                  "anchor": "y",
                  "domain": [
                    0,
                    0.082
                  ],
                  "matches": "x91",
                  "range": [
                    -1.148610255050146,
                    2.127761058726985
                  ],
                  "showticklabels": false,
                  "type": "log"
                },
                "xaxis10": {
                  "anchor": "y10",
                  "domain": [
                    0.9179999999999999,
                    0.9999999999999999
                  ],
                  "matches": "x100",
                  "range": [
                    38,
                    302
                  ],
                  "showticklabels": false
                },
                "xaxis100": {
                  "anchor": "y100",
                  "domain": [
                    0.9179999999999999,
                    0.9999999999999999
                  ],
                  "range": [
                    38,
                    302
                  ],
                  "title": {
                    "text": "n_estimators"
                  }
                },
                "xaxis11": {
                  "anchor": "y11",
                  "domain": [
                    0,
                    0.082
                  ],
                  "matches": "x91",
                  "range": [
                    -1.148610255050146,
                    2.127761058726985
                  ],
                  "showticklabels": false,
                  "type": "log"
                },
                "xaxis12": {
                  "anchor": "y12",
                  "domain": [
                    0.10200000000000001,
                    0.184
                  ],
                  "matches": "x92",
                  "range": [
                    -0.05,
                    1.05
                  ],
                  "showticklabels": false,
                  "type": "category"
                },
                "xaxis13": {
                  "anchor": "y13",
                  "domain": [
                    0.20400000000000001,
                    0.28600000000000003
                  ],
                  "matches": "x93",
                  "range": [
                    -0.1,
                    2.1
                  ],
                  "showticklabels": false,
                  "type": "category"
                },
                "xaxis14": {
                  "anchor": "y14",
                  "domain": [
                    0.306,
                    0.388
                  ],
                  "matches": "x94",
                  "range": [
                    -0.05,
                    1.05
                  ],
                  "showticklabels": false,
                  "type": "category"
                },
                "xaxis15": {
                  "anchor": "y15",
                  "domain": [
                    0.40800000000000003,
                    0.49000000000000005
                  ],
                  "matches": "x95",
                  "range": [
                    -0.15000000000000002,
                    3.15
                  ],
                  "showticklabels": false,
                  "type": "category"
                },
                "xaxis16": {
                  "anchor": "y16",
                  "domain": [
                    0.51,
                    0.592
                  ],
                  "matches": "x96",
                  "range": [
                    -2.0720399589711107,
                    -0.47375177204115704
                  ],
                  "showticklabels": false,
                  "type": "log"
                },
                "xaxis17": {
                  "anchor": "y17",
                  "domain": [
                    0.612,
                    0.694
                  ],
                  "matches": "x97",
                  "range": [
                    2.15,
                    20.85
                  ],
                  "showticklabels": false
                },
                "xaxis18": {
                  "anchor": "y18",
                  "domain": [
                    0.7140000000000001,
                    0.796
                  ],
                  "matches": "x98",
                  "range": [
                    0.55,
                    10.45
                  ],
                  "showticklabels": false
                },
                "xaxis19": {
                  "anchor": "y19",
                  "domain": [
                    0.8160000000000001,
                    0.898
                  ],
                  "matches": "x99",
                  "range": [
                    1.6,
                    10.4
                  ],
                  "showticklabels": false
                },
                "xaxis2": {
                  "anchor": "y2",
                  "domain": [
                    0.10200000000000001,
                    0.184
                  ],
                  "matches": "x92",
                  "range": [
                    -0.05,
                    1.05
                  ],
                  "showticklabels": false,
                  "type": "category"
                },
                "xaxis20": {
                  "anchor": "y20",
                  "domain": [
                    0.9179999999999999,
                    0.9999999999999999
                  ],
                  "matches": "x100",
                  "range": [
                    38,
                    302
                  ],
                  "showticklabels": false
                },
                "xaxis21": {
                  "anchor": "y21",
                  "domain": [
                    0,
                    0.082
                  ],
                  "matches": "x91",
                  "range": [
                    -1.148610255050146,
                    2.127761058726985
                  ],
                  "showticklabels": false,
                  "type": "log"
                },
                "xaxis22": {
                  "anchor": "y22",
                  "domain": [
                    0.10200000000000001,
                    0.184
                  ],
                  "matches": "x92",
                  "range": [
                    -0.05,
                    1.05
                  ],
                  "showticklabels": false,
                  "type": "category"
                },
                "xaxis23": {
                  "anchor": "y23",
                  "domain": [
                    0.20400000000000001,
                    0.28600000000000003
                  ],
                  "matches": "x93",
                  "range": [
                    -0.1,
                    2.1
                  ],
                  "showticklabels": false,
                  "type": "category"
                },
                "xaxis24": {
                  "anchor": "y24",
                  "domain": [
                    0.306,
                    0.388
                  ],
                  "matches": "x94",
                  "range": [
                    -0.05,
                    1.05
                  ],
                  "showticklabels": false,
                  "type": "category"
                },
                "xaxis25": {
                  "anchor": "y25",
                  "domain": [
                    0.40800000000000003,
                    0.49000000000000005
                  ],
                  "matches": "x95",
                  "range": [
                    -0.15000000000000002,
                    3.15
                  ],
                  "showticklabels": false,
                  "type": "category"
                },
                "xaxis26": {
                  "anchor": "y26",
                  "domain": [
                    0.51,
                    0.592
                  ],
                  "matches": "x96",
                  "range": [
                    -2.0720399589711107,
                    -0.47375177204115704
                  ],
                  "showticklabels": false,
                  "type": "log"
                },
                "xaxis27": {
                  "anchor": "y27",
                  "domain": [
                    0.612,
                    0.694
                  ],
                  "matches": "x97",
                  "range": [
                    2.15,
                    20.85
                  ],
                  "showticklabels": false
                },
                "xaxis28": {
                  "anchor": "y28",
                  "domain": [
                    0.7140000000000001,
                    0.796
                  ],
                  "matches": "x98",
                  "range": [
                    0.55,
                    10.45
                  ],
                  "showticklabels": false
                },
                "xaxis29": {
                  "anchor": "y29",
                  "domain": [
                    0.8160000000000001,
                    0.898
                  ],
                  "matches": "x99",
                  "range": [
                    1.6,
                    10.4
                  ],
                  "showticklabels": false
                },
                "xaxis3": {
                  "anchor": "y3",
                  "domain": [
                    0.20400000000000001,
                    0.28600000000000003
                  ],
                  "matches": "x93",
                  "range": [
                    -0.1,
                    2.1
                  ],
                  "showticklabels": false,
                  "type": "category"
                },
                "xaxis30": {
                  "anchor": "y30",
                  "domain": [
                    0.9179999999999999,
                    0.9999999999999999
                  ],
                  "matches": "x100",
                  "range": [
                    38,
                    302
                  ],
                  "showticklabels": false
                },
                "xaxis31": {
                  "anchor": "y31",
                  "domain": [
                    0,
                    0.082
                  ],
                  "matches": "x91",
                  "range": [
                    -1.148610255050146,
                    2.127761058726985
                  ],
                  "showticklabels": false,
                  "type": "log"
                },
                "xaxis32": {
                  "anchor": "y32",
                  "domain": [
                    0.10200000000000001,
                    0.184
                  ],
                  "matches": "x92",
                  "range": [
                    -0.05,
                    1.05
                  ],
                  "showticklabels": false,
                  "type": "category"
                },
                "xaxis33": {
                  "anchor": "y33",
                  "domain": [
                    0.20400000000000001,
                    0.28600000000000003
                  ],
                  "matches": "x93",
                  "range": [
                    -0.1,
                    2.1
                  ],
                  "showticklabels": false,
                  "type": "category"
                },
                "xaxis34": {
                  "anchor": "y34",
                  "domain": [
                    0.306,
                    0.388
                  ],
                  "matches": "x94",
                  "range": [
                    -0.05,
                    1.05
                  ],
                  "showticklabels": false,
                  "type": "category"
                },
                "xaxis35": {
                  "anchor": "y35",
                  "domain": [
                    0.40800000000000003,
                    0.49000000000000005
                  ],
                  "matches": "x95",
                  "range": [
                    -0.15000000000000002,
                    3.15
                  ],
                  "showticklabels": false,
                  "type": "category"
                },
                "xaxis36": {
                  "anchor": "y36",
                  "domain": [
                    0.51,
                    0.592
                  ],
                  "matches": "x96",
                  "range": [
                    -2.0720399589711107,
                    -0.47375177204115704
                  ],
                  "showticklabels": false,
                  "type": "log"
                },
                "xaxis37": {
                  "anchor": "y37",
                  "domain": [
                    0.612,
                    0.694
                  ],
                  "matches": "x97",
                  "range": [
                    2.15,
                    20.85
                  ],
                  "showticklabels": false
                },
                "xaxis38": {
                  "anchor": "y38",
                  "domain": [
                    0.7140000000000001,
                    0.796
                  ],
                  "matches": "x98",
                  "range": [
                    0.55,
                    10.45
                  ],
                  "showticklabels": false
                },
                "xaxis39": {
                  "anchor": "y39",
                  "domain": [
                    0.8160000000000001,
                    0.898
                  ],
                  "matches": "x99",
                  "range": [
                    1.6,
                    10.4
                  ],
                  "showticklabels": false
                },
                "xaxis4": {
                  "anchor": "y4",
                  "domain": [
                    0.306,
                    0.388
                  ],
                  "matches": "x94",
                  "range": [
                    -0.05,
                    1.05
                  ],
                  "showticklabels": false,
                  "type": "category"
                },
                "xaxis40": {
                  "anchor": "y40",
                  "domain": [
                    0.9179999999999999,
                    0.9999999999999999
                  ],
                  "matches": "x100",
                  "range": [
                    38,
                    302
                  ],
                  "showticklabels": false
                },
                "xaxis41": {
                  "anchor": "y41",
                  "domain": [
                    0,
                    0.082
                  ],
                  "matches": "x91",
                  "range": [
                    -1.148610255050146,
                    2.127761058726985
                  ],
                  "showticklabels": false,
                  "type": "log"
                },
                "xaxis42": {
                  "anchor": "y42",
                  "domain": [
                    0.10200000000000001,
                    0.184
                  ],
                  "matches": "x92",
                  "range": [
                    -0.05,
                    1.05
                  ],
                  "showticklabels": false,
                  "type": "category"
                },
                "xaxis43": {
                  "anchor": "y43",
                  "domain": [
                    0.20400000000000001,
                    0.28600000000000003
                  ],
                  "matches": "x93",
                  "range": [
                    -0.1,
                    2.1
                  ],
                  "showticklabels": false,
                  "type": "category"
                },
                "xaxis44": {
                  "anchor": "y44",
                  "domain": [
                    0.306,
                    0.388
                  ],
                  "matches": "x94",
                  "range": [
                    -0.05,
                    1.05
                  ],
                  "showticklabels": false,
                  "type": "category"
                },
                "xaxis45": {
                  "anchor": "y45",
                  "domain": [
                    0.40800000000000003,
                    0.49000000000000005
                  ],
                  "matches": "x95",
                  "range": [
                    -0.15000000000000002,
                    3.15
                  ],
                  "showticklabels": false,
                  "type": "category"
                },
                "xaxis46": {
                  "anchor": "y46",
                  "domain": [
                    0.51,
                    0.592
                  ],
                  "matches": "x96",
                  "range": [
                    -2.0720399589711107,
                    -0.47375177204115704
                  ],
                  "showticklabels": false,
                  "type": "log"
                },
                "xaxis47": {
                  "anchor": "y47",
                  "domain": [
                    0.612,
                    0.694
                  ],
                  "matches": "x97",
                  "range": [
                    2.15,
                    20.85
                  ],
                  "showticklabels": false
                },
                "xaxis48": {
                  "anchor": "y48",
                  "domain": [
                    0.7140000000000001,
                    0.796
                  ],
                  "matches": "x98",
                  "range": [
                    0.55,
                    10.45
                  ],
                  "showticklabels": false
                },
                "xaxis49": {
                  "anchor": "y49",
                  "domain": [
                    0.8160000000000001,
                    0.898
                  ],
                  "matches": "x99",
                  "range": [
                    1.6,
                    10.4
                  ],
                  "showticklabels": false
                },
                "xaxis5": {
                  "anchor": "y5",
                  "domain": [
                    0.40800000000000003,
                    0.49000000000000005
                  ],
                  "matches": "x95",
                  "range": [
                    -0.15000000000000002,
                    3.15
                  ],
                  "showticklabels": false,
                  "type": "category"
                },
                "xaxis50": {
                  "anchor": "y50",
                  "domain": [
                    0.9179999999999999,
                    0.9999999999999999
                  ],
                  "matches": "x100",
                  "range": [
                    38,
                    302
                  ],
                  "showticklabels": false
                },
                "xaxis51": {
                  "anchor": "y51",
                  "domain": [
                    0,
                    0.082
                  ],
                  "matches": "x91",
                  "range": [
                    -1.148610255050146,
                    2.127761058726985
                  ],
                  "showticklabels": false,
                  "type": "log"
                },
                "xaxis52": {
                  "anchor": "y52",
                  "domain": [
                    0.10200000000000001,
                    0.184
                  ],
                  "matches": "x92",
                  "range": [
                    -0.05,
                    1.05
                  ],
                  "showticklabels": false,
                  "type": "category"
                },
                "xaxis53": {
                  "anchor": "y53",
                  "domain": [
                    0.20400000000000001,
                    0.28600000000000003
                  ],
                  "matches": "x93",
                  "range": [
                    -0.1,
                    2.1
                  ],
                  "showticklabels": false,
                  "type": "category"
                },
                "xaxis54": {
                  "anchor": "y54",
                  "domain": [
                    0.306,
                    0.388
                  ],
                  "matches": "x94",
                  "range": [
                    -0.05,
                    1.05
                  ],
                  "showticklabels": false,
                  "type": "category"
                },
                "xaxis55": {
                  "anchor": "y55",
                  "domain": [
                    0.40800000000000003,
                    0.49000000000000005
                  ],
                  "matches": "x95",
                  "range": [
                    -0.15000000000000002,
                    3.15
                  ],
                  "showticklabels": false,
                  "type": "category"
                },
                "xaxis56": {
                  "anchor": "y56",
                  "domain": [
                    0.51,
                    0.592
                  ],
                  "matches": "x96",
                  "range": [
                    -2.0720399589711107,
                    -0.47375177204115704
                  ],
                  "showticklabels": false,
                  "type": "log"
                },
                "xaxis57": {
                  "anchor": "y57",
                  "domain": [
                    0.612,
                    0.694
                  ],
                  "matches": "x97",
                  "range": [
                    2.15,
                    20.85
                  ],
                  "showticklabels": false
                },
                "xaxis58": {
                  "anchor": "y58",
                  "domain": [
                    0.7140000000000001,
                    0.796
                  ],
                  "matches": "x98",
                  "range": [
                    0.55,
                    10.45
                  ],
                  "showticklabels": false
                },
                "xaxis59": {
                  "anchor": "y59",
                  "domain": [
                    0.8160000000000001,
                    0.898
                  ],
                  "matches": "x99",
                  "range": [
                    1.6,
                    10.4
                  ],
                  "showticklabels": false
                },
                "xaxis6": {
                  "anchor": "y6",
                  "domain": [
                    0.51,
                    0.592
                  ],
                  "matches": "x96",
                  "range": [
                    -2.0720399589711107,
                    -0.47375177204115704
                  ],
                  "showticklabels": false,
                  "type": "log"
                },
                "xaxis60": {
                  "anchor": "y60",
                  "domain": [
                    0.9179999999999999,
                    0.9999999999999999
                  ],
                  "matches": "x100",
                  "range": [
                    38,
                    302
                  ],
                  "showticklabels": false
                },
                "xaxis61": {
                  "anchor": "y61",
                  "domain": [
                    0,
                    0.082
                  ],
                  "matches": "x91",
                  "range": [
                    -1.148610255050146,
                    2.127761058726985
                  ],
                  "showticklabels": false,
                  "type": "log"
                },
                "xaxis62": {
                  "anchor": "y62",
                  "domain": [
                    0.10200000000000001,
                    0.184
                  ],
                  "matches": "x92",
                  "range": [
                    -0.05,
                    1.05
                  ],
                  "showticklabels": false,
                  "type": "category"
                },
                "xaxis63": {
                  "anchor": "y63",
                  "domain": [
                    0.20400000000000001,
                    0.28600000000000003
                  ],
                  "matches": "x93",
                  "range": [
                    -0.1,
                    2.1
                  ],
                  "showticklabels": false,
                  "type": "category"
                },
                "xaxis64": {
                  "anchor": "y64",
                  "domain": [
                    0.306,
                    0.388
                  ],
                  "matches": "x94",
                  "range": [
                    -0.05,
                    1.05
                  ],
                  "showticklabels": false,
                  "type": "category"
                },
                "xaxis65": {
                  "anchor": "y65",
                  "domain": [
                    0.40800000000000003,
                    0.49000000000000005
                  ],
                  "matches": "x95",
                  "range": [
                    -0.15000000000000002,
                    3.15
                  ],
                  "showticklabels": false,
                  "type": "category"
                },
                "xaxis66": {
                  "anchor": "y66",
                  "domain": [
                    0.51,
                    0.592
                  ],
                  "matches": "x96",
                  "range": [
                    -2.0720399589711107,
                    -0.47375177204115704
                  ],
                  "showticklabels": false,
                  "type": "log"
                },
                "xaxis67": {
                  "anchor": "y67",
                  "domain": [
                    0.612,
                    0.694
                  ],
                  "matches": "x97",
                  "range": [
                    2.15,
                    20.85
                  ],
                  "showticklabels": false
                },
                "xaxis68": {
                  "anchor": "y68",
                  "domain": [
                    0.7140000000000001,
                    0.796
                  ],
                  "matches": "x98",
                  "range": [
                    0.55,
                    10.45
                  ],
                  "showticklabels": false
                },
                "xaxis69": {
                  "anchor": "y69",
                  "domain": [
                    0.8160000000000001,
                    0.898
                  ],
                  "matches": "x99",
                  "range": [
                    1.6,
                    10.4
                  ],
                  "showticklabels": false
                },
                "xaxis7": {
                  "anchor": "y7",
                  "domain": [
                    0.612,
                    0.694
                  ],
                  "matches": "x97",
                  "range": [
                    2.15,
                    20.85
                  ],
                  "showticklabels": false
                },
                "xaxis70": {
                  "anchor": "y70",
                  "domain": [
                    0.9179999999999999,
                    0.9999999999999999
                  ],
                  "matches": "x100",
                  "range": [
                    38,
                    302
                  ],
                  "showticklabels": false
                },
                "xaxis71": {
                  "anchor": "y71",
                  "domain": [
                    0,
                    0.082
                  ],
                  "matches": "x91",
                  "range": [
                    -1.148610255050146,
                    2.127761058726985
                  ],
                  "showticklabels": false,
                  "type": "log"
                },
                "xaxis72": {
                  "anchor": "y72",
                  "domain": [
                    0.10200000000000001,
                    0.184
                  ],
                  "matches": "x92",
                  "range": [
                    -0.05,
                    1.05
                  ],
                  "showticklabels": false,
                  "type": "category"
                },
                "xaxis73": {
                  "anchor": "y73",
                  "domain": [
                    0.20400000000000001,
                    0.28600000000000003
                  ],
                  "matches": "x93",
                  "range": [
                    -0.1,
                    2.1
                  ],
                  "showticklabels": false,
                  "type": "category"
                },
                "xaxis74": {
                  "anchor": "y74",
                  "domain": [
                    0.306,
                    0.388
                  ],
                  "matches": "x94",
                  "range": [
                    -0.05,
                    1.05
                  ],
                  "showticklabels": false,
                  "type": "category"
                },
                "xaxis75": {
                  "anchor": "y75",
                  "domain": [
                    0.40800000000000003,
                    0.49000000000000005
                  ],
                  "matches": "x95",
                  "range": [
                    -0.15000000000000002,
                    3.15
                  ],
                  "showticklabels": false,
                  "type": "category"
                },
                "xaxis76": {
                  "anchor": "y76",
                  "domain": [
                    0.51,
                    0.592
                  ],
                  "matches": "x96",
                  "range": [
                    -2.0720399589711107,
                    -0.47375177204115704
                  ],
                  "showticklabels": false,
                  "type": "log"
                },
                "xaxis77": {
                  "anchor": "y77",
                  "domain": [
                    0.612,
                    0.694
                  ],
                  "matches": "x97",
                  "range": [
                    2.15,
                    20.85
                  ],
                  "showticklabels": false
                },
                "xaxis78": {
                  "anchor": "y78",
                  "domain": [
                    0.7140000000000001,
                    0.796
                  ],
                  "matches": "x98",
                  "range": [
                    0.55,
                    10.45
                  ],
                  "showticklabels": false
                },
                "xaxis79": {
                  "anchor": "y79",
                  "domain": [
                    0.8160000000000001,
                    0.898
                  ],
                  "matches": "x99",
                  "range": [
                    1.6,
                    10.4
                  ],
                  "showticklabels": false
                },
                "xaxis8": {
                  "anchor": "y8",
                  "domain": [
                    0.7140000000000001,
                    0.796
                  ],
                  "matches": "x98",
                  "range": [
                    0.55,
                    10.45
                  ],
                  "showticklabels": false
                },
                "xaxis80": {
                  "anchor": "y80",
                  "domain": [
                    0.9179999999999999,
                    0.9999999999999999
                  ],
                  "matches": "x100",
                  "range": [
                    38,
                    302
                  ],
                  "showticklabels": false
                },
                "xaxis81": {
                  "anchor": "y81",
                  "domain": [
                    0,
                    0.082
                  ],
                  "matches": "x91",
                  "range": [
                    -1.148610255050146,
                    2.127761058726985
                  ],
                  "showticklabels": false,
                  "type": "log"
                },
                "xaxis82": {
                  "anchor": "y82",
                  "domain": [
                    0.10200000000000001,
                    0.184
                  ],
                  "matches": "x92",
                  "range": [
                    -0.05,
                    1.05
                  ],
                  "showticklabels": false,
                  "type": "category"
                },
                "xaxis83": {
                  "anchor": "y83",
                  "domain": [
                    0.20400000000000001,
                    0.28600000000000003
                  ],
                  "matches": "x93",
                  "range": [
                    -0.1,
                    2.1
                  ],
                  "showticklabels": false,
                  "type": "category"
                },
                "xaxis84": {
                  "anchor": "y84",
                  "domain": [
                    0.306,
                    0.388
                  ],
                  "matches": "x94",
                  "range": [
                    -0.05,
                    1.05
                  ],
                  "showticklabels": false,
                  "type": "category"
                },
                "xaxis85": {
                  "anchor": "y85",
                  "domain": [
                    0.40800000000000003,
                    0.49000000000000005
                  ],
                  "matches": "x95",
                  "range": [
                    -0.15000000000000002,
                    3.15
                  ],
                  "showticklabels": false,
                  "type": "category"
                },
                "xaxis86": {
                  "anchor": "y86",
                  "domain": [
                    0.51,
                    0.592
                  ],
                  "matches": "x96",
                  "range": [
                    -2.0720399589711107,
                    -0.47375177204115704
                  ],
                  "showticklabels": false,
                  "type": "log"
                },
                "xaxis87": {
                  "anchor": "y87",
                  "domain": [
                    0.612,
                    0.694
                  ],
                  "matches": "x97",
                  "range": [
                    2.15,
                    20.85
                  ],
                  "showticklabels": false
                },
                "xaxis88": {
                  "anchor": "y88",
                  "domain": [
                    0.7140000000000001,
                    0.796
                  ],
                  "matches": "x98",
                  "range": [
                    0.55,
                    10.45
                  ],
                  "showticklabels": false
                },
                "xaxis89": {
                  "anchor": "y89",
                  "domain": [
                    0.8160000000000001,
                    0.898
                  ],
                  "matches": "x99",
                  "range": [
                    1.6,
                    10.4
                  ],
                  "showticklabels": false
                },
                "xaxis9": {
                  "anchor": "y9",
                  "domain": [
                    0.8160000000000001,
                    0.898
                  ],
                  "matches": "x99",
                  "range": [
                    1.6,
                    10.4
                  ],
                  "showticklabels": false
                },
                "xaxis90": {
                  "anchor": "y90",
                  "domain": [
                    0.9179999999999999,
                    0.9999999999999999
                  ],
                  "matches": "x100",
                  "range": [
                    38,
                    302
                  ],
                  "showticklabels": false
                },
                "xaxis91": {
                  "anchor": "y91",
                  "domain": [
                    0,
                    0.082
                  ],
                  "range": [
                    -1.148610255050146,
                    2.127761058726985
                  ],
                  "title": {
                    "text": "C"
                  },
                  "type": "log"
                },
                "xaxis92": {
                  "anchor": "y92",
                  "domain": [
                    0.10200000000000001,
                    0.184
                  ],
                  "range": [
                    -0.05,
                    1.05
                  ],
                  "title": {
                    "text": "bootstrap"
                  },
                  "type": "category"
                },
                "xaxis93": {
                  "anchor": "y93",
                  "domain": [
                    0.20400000000000001,
                    0.28600000000000003
                  ],
                  "range": [
                    -0.1,
                    2.1
                  ],
                  "title": {
                    "text": "classifier"
                  },
                  "type": "category"
                },
                "xaxis94": {
                  "anchor": "y94",
                  "domain": [
                    0.306,
                    0.388
                  ],
                  "range": [
                    -0.05,
                    1.05
                  ],
                  "title": {
                    "text": "gamma"
                  },
                  "type": "category"
                },
                "xaxis95": {
                  "anchor": "y95",
                  "domain": [
                    0.40800000000000003,
                    0.49000000000000005
                  ],
                  "range": [
                    -0.15000000000000002,
                    3.15
                  ],
                  "title": {
                    "text": "kernal"
                  },
                  "type": "category"
                },
                "xaxis96": {
                  "anchor": "y96",
                  "domain": [
                    0.51,
                    0.592
                  ],
                  "range": [
                    -2.0720399589711107,
                    -0.47375177204115704
                  ],
                  "title": {
                    "text": "learning_rate"
                  },
                  "type": "log"
                },
                "xaxis97": {
                  "anchor": "y97",
                  "domain": [
                    0.612,
                    0.694
                  ],
                  "range": [
                    2.15,
                    20.85
                  ],
                  "title": {
                    "text": "max_depth"
                  }
                },
                "xaxis98": {
                  "anchor": "y98",
                  "domain": [
                    0.7140000000000001,
                    0.796
                  ],
                  "range": [
                    0.55,
                    10.45
                  ],
                  "title": {
                    "text": "min_sample_leaf"
                  }
                },
                "xaxis99": {
                  "anchor": "y99",
                  "domain": [
                    0.8160000000000001,
                    0.898
                  ],
                  "range": [
                    1.6,
                    10.4
                  ],
                  "title": {
                    "text": "min_samples_split"
                  }
                },
                "yaxis": {
                  "anchor": "x",
                  "domain": [
                    0.9269999999999999,
                    0.9999999999999999
                  ],
                  "range": [
                    -1.148610255050146,
                    2.127761058726985
                  ],
                  "title": {
                    "text": "C"
                  },
                  "type": "log"
                },
                "yaxis10": {
                  "anchor": "x10",
                  "domain": [
                    0.9269999999999999,
                    0.9999999999999999
                  ],
                  "matches": "y",
                  "range": [
                    -1.148610255050146,
                    2.127761058726985
                  ],
                  "showticklabels": false,
                  "type": "log"
                },
                "yaxis100": {
                  "anchor": "x100",
                  "domain": [
                    0,
                    0.073
                  ],
                  "matches": "y91",
                  "range": [
                    38,
                    302
                  ],
                  "showticklabels": false
                },
                "yaxis11": {
                  "anchor": "x11",
                  "domain": [
                    0.824,
                    0.8969999999999999
                  ],
                  "range": [
                    -0.05,
                    1.05
                  ],
                  "title": {
                    "text": "bootstrap"
                  },
                  "type": "category"
                },
                "yaxis12": {
                  "anchor": "x12",
                  "domain": [
                    0.824,
                    0.8969999999999999
                  ],
                  "matches": "y11",
                  "range": [
                    -0.05,
                    1.05
                  ],
                  "showticklabels": false,
                  "type": "category"
                },
                "yaxis13": {
                  "anchor": "x13",
                  "domain": [
                    0.824,
                    0.8969999999999999
                  ],
                  "matches": "y11",
                  "range": [
                    -0.05,
                    1.05
                  ],
                  "showticklabels": false,
                  "type": "category"
                },
                "yaxis14": {
                  "anchor": "x14",
                  "domain": [
                    0.824,
                    0.8969999999999999
                  ],
                  "matches": "y11",
                  "range": [
                    -0.05,
                    1.05
                  ],
                  "showticklabels": false,
                  "type": "category"
                },
                "yaxis15": {
                  "anchor": "x15",
                  "domain": [
                    0.824,
                    0.8969999999999999
                  ],
                  "matches": "y11",
                  "range": [
                    -0.05,
                    1.05
                  ],
                  "showticklabels": false,
                  "type": "category"
                },
                "yaxis16": {
                  "anchor": "x16",
                  "domain": [
                    0.824,
                    0.8969999999999999
                  ],
                  "matches": "y11",
                  "range": [
                    -0.05,
                    1.05
                  ],
                  "showticklabels": false,
                  "type": "category"
                },
                "yaxis17": {
                  "anchor": "x17",
                  "domain": [
                    0.824,
                    0.8969999999999999
                  ],
                  "matches": "y11",
                  "range": [
                    -0.05,
                    1.05
                  ],
                  "showticklabels": false,
                  "type": "category"
                },
                "yaxis18": {
                  "anchor": "x18",
                  "domain": [
                    0.824,
                    0.8969999999999999
                  ],
                  "matches": "y11",
                  "range": [
                    -0.05,
                    1.05
                  ],
                  "showticklabels": false,
                  "type": "category"
                },
                "yaxis19": {
                  "anchor": "x19",
                  "domain": [
                    0.824,
                    0.8969999999999999
                  ],
                  "matches": "y11",
                  "range": [
                    -0.05,
                    1.05
                  ],
                  "showticklabels": false,
                  "type": "category"
                },
                "yaxis2": {
                  "anchor": "x2",
                  "domain": [
                    0.9269999999999999,
                    0.9999999999999999
                  ],
                  "matches": "y",
                  "range": [
                    -1.148610255050146,
                    2.127761058726985
                  ],
                  "showticklabels": false,
                  "type": "log"
                },
                "yaxis20": {
                  "anchor": "x20",
                  "domain": [
                    0.824,
                    0.8969999999999999
                  ],
                  "matches": "y11",
                  "range": [
                    -0.05,
                    1.05
                  ],
                  "showticklabels": false,
                  "type": "category"
                },
                "yaxis21": {
                  "anchor": "x21",
                  "domain": [
                    0.721,
                    0.7939999999999999
                  ],
                  "range": [
                    -0.1,
                    2.1
                  ],
                  "title": {
                    "text": "classifier"
                  },
                  "type": "category"
                },
                "yaxis22": {
                  "anchor": "x22",
                  "domain": [
                    0.721,
                    0.7939999999999999
                  ],
                  "matches": "y21",
                  "range": [
                    -0.1,
                    2.1
                  ],
                  "showticklabels": false,
                  "type": "category"
                },
                "yaxis23": {
                  "anchor": "x23",
                  "domain": [
                    0.721,
                    0.7939999999999999
                  ],
                  "matches": "y21",
                  "range": [
                    -0.1,
                    2.1
                  ],
                  "showticklabels": false,
                  "type": "category"
                },
                "yaxis24": {
                  "anchor": "x24",
                  "domain": [
                    0.721,
                    0.7939999999999999
                  ],
                  "matches": "y21",
                  "range": [
                    -0.1,
                    2.1
                  ],
                  "showticklabels": false,
                  "type": "category"
                },
                "yaxis25": {
                  "anchor": "x25",
                  "domain": [
                    0.721,
                    0.7939999999999999
                  ],
                  "matches": "y21",
                  "range": [
                    -0.1,
                    2.1
                  ],
                  "showticklabels": false,
                  "type": "category"
                },
                "yaxis26": {
                  "anchor": "x26",
                  "domain": [
                    0.721,
                    0.7939999999999999
                  ],
                  "matches": "y21",
                  "range": [
                    -0.1,
                    2.1
                  ],
                  "showticklabels": false,
                  "type": "category"
                },
                "yaxis27": {
                  "anchor": "x27",
                  "domain": [
                    0.721,
                    0.7939999999999999
                  ],
                  "matches": "y21",
                  "range": [
                    -0.1,
                    2.1
                  ],
                  "showticklabels": false,
                  "type": "category"
                },
                "yaxis28": {
                  "anchor": "x28",
                  "domain": [
                    0.721,
                    0.7939999999999999
                  ],
                  "matches": "y21",
                  "range": [
                    -0.1,
                    2.1
                  ],
                  "showticklabels": false,
                  "type": "category"
                },
                "yaxis29": {
                  "anchor": "x29",
                  "domain": [
                    0.721,
                    0.7939999999999999
                  ],
                  "matches": "y21",
                  "range": [
                    -0.1,
                    2.1
                  ],
                  "showticklabels": false,
                  "type": "category"
                },
                "yaxis3": {
                  "anchor": "x3",
                  "domain": [
                    0.9269999999999999,
                    0.9999999999999999
                  ],
                  "matches": "y",
                  "range": [
                    -1.148610255050146,
                    2.127761058726985
                  ],
                  "showticklabels": false,
                  "type": "log"
                },
                "yaxis30": {
                  "anchor": "x30",
                  "domain": [
                    0.721,
                    0.7939999999999999
                  ],
                  "matches": "y21",
                  "range": [
                    -0.1,
                    2.1
                  ],
                  "showticklabels": false,
                  "type": "category"
                },
                "yaxis31": {
                  "anchor": "x31",
                  "domain": [
                    0.6179999999999999,
                    0.6909999999999998
                  ],
                  "range": [
                    -0.05,
                    1.05
                  ],
                  "title": {
                    "text": "gamma"
                  },
                  "type": "category"
                },
                "yaxis32": {
                  "anchor": "x32",
                  "domain": [
                    0.6179999999999999,
                    0.6909999999999998
                  ],
                  "matches": "y31",
                  "range": [
                    -0.05,
                    1.05
                  ],
                  "showticklabels": false,
                  "type": "category"
                },
                "yaxis33": {
                  "anchor": "x33",
                  "domain": [
                    0.6179999999999999,
                    0.6909999999999998
                  ],
                  "matches": "y31",
                  "range": [
                    -0.05,
                    1.05
                  ],
                  "showticklabels": false,
                  "type": "category"
                },
                "yaxis34": {
                  "anchor": "x34",
                  "domain": [
                    0.6179999999999999,
                    0.6909999999999998
                  ],
                  "matches": "y31",
                  "range": [
                    -0.05,
                    1.05
                  ],
                  "showticklabels": false,
                  "type": "category"
                },
                "yaxis35": {
                  "anchor": "x35",
                  "domain": [
                    0.6179999999999999,
                    0.6909999999999998
                  ],
                  "matches": "y31",
                  "range": [
                    -0.05,
                    1.05
                  ],
                  "showticklabels": false,
                  "type": "category"
                },
                "yaxis36": {
                  "anchor": "x36",
                  "domain": [
                    0.6179999999999999,
                    0.6909999999999998
                  ],
                  "matches": "y31",
                  "range": [
                    -0.05,
                    1.05
                  ],
                  "showticklabels": false,
                  "type": "category"
                },
                "yaxis37": {
                  "anchor": "x37",
                  "domain": [
                    0.6179999999999999,
                    0.6909999999999998
                  ],
                  "matches": "y31",
                  "range": [
                    -0.05,
                    1.05
                  ],
                  "showticklabels": false,
                  "type": "category"
                },
                "yaxis38": {
                  "anchor": "x38",
                  "domain": [
                    0.6179999999999999,
                    0.6909999999999998
                  ],
                  "matches": "y31",
                  "range": [
                    -0.05,
                    1.05
                  ],
                  "showticklabels": false,
                  "type": "category"
                },
                "yaxis39": {
                  "anchor": "x39",
                  "domain": [
                    0.6179999999999999,
                    0.6909999999999998
                  ],
                  "matches": "y31",
                  "range": [
                    -0.05,
                    1.05
                  ],
                  "showticklabels": false,
                  "type": "category"
                },
                "yaxis4": {
                  "anchor": "x4",
                  "domain": [
                    0.9269999999999999,
                    0.9999999999999999
                  ],
                  "matches": "y",
                  "range": [
                    -1.148610255050146,
                    2.127761058726985
                  ],
                  "showticklabels": false,
                  "type": "log"
                },
                "yaxis40": {
                  "anchor": "x40",
                  "domain": [
                    0.6179999999999999,
                    0.6909999999999998
                  ],
                  "matches": "y31",
                  "range": [
                    -0.05,
                    1.05
                  ],
                  "showticklabels": false,
                  "type": "category"
                },
                "yaxis41": {
                  "anchor": "x41",
                  "domain": [
                    0.515,
                    0.588
                  ],
                  "range": [
                    -0.15000000000000002,
                    3.15
                  ],
                  "title": {
                    "text": "kernal"
                  },
                  "type": "category"
                },
                "yaxis42": {
                  "anchor": "x42",
                  "domain": [
                    0.515,
                    0.588
                  ],
                  "matches": "y41",
                  "range": [
                    -0.15000000000000002,
                    3.15
                  ],
                  "showticklabels": false,
                  "type": "category"
                },
                "yaxis43": {
                  "anchor": "x43",
                  "domain": [
                    0.515,
                    0.588
                  ],
                  "matches": "y41",
                  "range": [
                    -0.15000000000000002,
                    3.15
                  ],
                  "showticklabels": false,
                  "type": "category"
                },
                "yaxis44": {
                  "anchor": "x44",
                  "domain": [
                    0.515,
                    0.588
                  ],
                  "matches": "y41",
                  "range": [
                    -0.15000000000000002,
                    3.15
                  ],
                  "showticklabels": false,
                  "type": "category"
                },
                "yaxis45": {
                  "anchor": "x45",
                  "domain": [
                    0.515,
                    0.588
                  ],
                  "matches": "y41",
                  "range": [
                    -0.15000000000000002,
                    3.15
                  ],
                  "showticklabels": false,
                  "type": "category"
                },
                "yaxis46": {
                  "anchor": "x46",
                  "domain": [
                    0.515,
                    0.588
                  ],
                  "matches": "y41",
                  "range": [
                    -0.15000000000000002,
                    3.15
                  ],
                  "showticklabels": false,
                  "type": "category"
                },
                "yaxis47": {
                  "anchor": "x47",
                  "domain": [
                    0.515,
                    0.588
                  ],
                  "matches": "y41",
                  "range": [
                    -0.15000000000000002,
                    3.15
                  ],
                  "showticklabels": false,
                  "type": "category"
                },
                "yaxis48": {
                  "anchor": "x48",
                  "domain": [
                    0.515,
                    0.588
                  ],
                  "matches": "y41",
                  "range": [
                    -0.15000000000000002,
                    3.15
                  ],
                  "showticklabels": false,
                  "type": "category"
                },
                "yaxis49": {
                  "anchor": "x49",
                  "domain": [
                    0.515,
                    0.588
                  ],
                  "matches": "y41",
                  "range": [
                    -0.15000000000000002,
                    3.15
                  ],
                  "showticklabels": false,
                  "type": "category"
                },
                "yaxis5": {
                  "anchor": "x5",
                  "domain": [
                    0.9269999999999999,
                    0.9999999999999999
                  ],
                  "matches": "y",
                  "range": [
                    -1.148610255050146,
                    2.127761058726985
                  ],
                  "showticklabels": false,
                  "type": "log"
                },
                "yaxis50": {
                  "anchor": "x50",
                  "domain": [
                    0.515,
                    0.588
                  ],
                  "matches": "y41",
                  "range": [
                    -0.15000000000000002,
                    3.15
                  ],
                  "showticklabels": false,
                  "type": "category"
                },
                "yaxis51": {
                  "anchor": "x51",
                  "domain": [
                    0.412,
                    0.485
                  ],
                  "range": [
                    -2.0720399589711107,
                    -0.47375177204115704
                  ],
                  "title": {
                    "text": "learning_rate"
                  },
                  "type": "log"
                },
                "yaxis52": {
                  "anchor": "x52",
                  "domain": [
                    0.412,
                    0.485
                  ],
                  "matches": "y51",
                  "range": [
                    -2.0720399589711107,
                    -0.47375177204115704
                  ],
                  "showticklabels": false,
                  "type": "log"
                },
                "yaxis53": {
                  "anchor": "x53",
                  "domain": [
                    0.412,
                    0.485
                  ],
                  "matches": "y51",
                  "range": [
                    -2.0720399589711107,
                    -0.47375177204115704
                  ],
                  "showticklabels": false,
                  "type": "log"
                },
                "yaxis54": {
                  "anchor": "x54",
                  "domain": [
                    0.412,
                    0.485
                  ],
                  "matches": "y51",
                  "range": [
                    -2.0720399589711107,
                    -0.47375177204115704
                  ],
                  "showticklabels": false,
                  "type": "log"
                },
                "yaxis55": {
                  "anchor": "x55",
                  "domain": [
                    0.412,
                    0.485
                  ],
                  "matches": "y51",
                  "range": [
                    -2.0720399589711107,
                    -0.47375177204115704
                  ],
                  "showticklabels": false,
                  "type": "log"
                },
                "yaxis56": {
                  "anchor": "x56",
                  "domain": [
                    0.412,
                    0.485
                  ],
                  "matches": "y51",
                  "range": [
                    -2.0720399589711107,
                    -0.47375177204115704
                  ],
                  "showticklabels": false,
                  "type": "log"
                },
                "yaxis57": {
                  "anchor": "x57",
                  "domain": [
                    0.412,
                    0.485
                  ],
                  "matches": "y51",
                  "range": [
                    -2.0720399589711107,
                    -0.47375177204115704
                  ],
                  "showticklabels": false,
                  "type": "log"
                },
                "yaxis58": {
                  "anchor": "x58",
                  "domain": [
                    0.412,
                    0.485
                  ],
                  "matches": "y51",
                  "range": [
                    -2.0720399589711107,
                    -0.47375177204115704
                  ],
                  "showticklabels": false,
                  "type": "log"
                },
                "yaxis59": {
                  "anchor": "x59",
                  "domain": [
                    0.412,
                    0.485
                  ],
                  "matches": "y51",
                  "range": [
                    -2.0720399589711107,
                    -0.47375177204115704
                  ],
                  "showticklabels": false,
                  "type": "log"
                },
                "yaxis6": {
                  "anchor": "x6",
                  "domain": [
                    0.9269999999999999,
                    0.9999999999999999
                  ],
                  "matches": "y",
                  "range": [
                    -1.148610255050146,
                    2.127761058726985
                  ],
                  "showticklabels": false,
                  "type": "log"
                },
                "yaxis60": {
                  "anchor": "x60",
                  "domain": [
                    0.412,
                    0.485
                  ],
                  "matches": "y51",
                  "range": [
                    -2.0720399589711107,
                    -0.47375177204115704
                  ],
                  "showticklabels": false,
                  "type": "log"
                },
                "yaxis61": {
                  "anchor": "x61",
                  "domain": [
                    0.30899999999999994,
                    0.38199999999999995
                  ],
                  "range": [
                    2.15,
                    20.85
                  ],
                  "title": {
                    "text": "max_depth"
                  }
                },
                "yaxis62": {
                  "anchor": "x62",
                  "domain": [
                    0.30899999999999994,
                    0.38199999999999995
                  ],
                  "matches": "y61",
                  "range": [
                    2.15,
                    20.85
                  ],
                  "showticklabels": false
                },
                "yaxis63": {
                  "anchor": "x63",
                  "domain": [
                    0.30899999999999994,
                    0.38199999999999995
                  ],
                  "matches": "y61",
                  "range": [
                    2.15,
                    20.85
                  ],
                  "showticklabels": false
                },
                "yaxis64": {
                  "anchor": "x64",
                  "domain": [
                    0.30899999999999994,
                    0.38199999999999995
                  ],
                  "matches": "y61",
                  "range": [
                    2.15,
                    20.85
                  ],
                  "showticklabels": false
                },
                "yaxis65": {
                  "anchor": "x65",
                  "domain": [
                    0.30899999999999994,
                    0.38199999999999995
                  ],
                  "matches": "y61",
                  "range": [
                    2.15,
                    20.85
                  ],
                  "showticklabels": false
                },
                "yaxis66": {
                  "anchor": "x66",
                  "domain": [
                    0.30899999999999994,
                    0.38199999999999995
                  ],
                  "matches": "y61",
                  "range": [
                    2.15,
                    20.85
                  ],
                  "showticklabels": false
                },
                "yaxis67": {
                  "anchor": "x67",
                  "domain": [
                    0.30899999999999994,
                    0.38199999999999995
                  ],
                  "matches": "y61",
                  "range": [
                    2.15,
                    20.85
                  ],
                  "showticklabels": false
                },
                "yaxis68": {
                  "anchor": "x68",
                  "domain": [
                    0.30899999999999994,
                    0.38199999999999995
                  ],
                  "matches": "y61",
                  "range": [
                    2.15,
                    20.85
                  ],
                  "showticklabels": false
                },
                "yaxis69": {
                  "anchor": "x69",
                  "domain": [
                    0.30899999999999994,
                    0.38199999999999995
                  ],
                  "matches": "y61",
                  "range": [
                    2.15,
                    20.85
                  ],
                  "showticklabels": false
                },
                "yaxis7": {
                  "anchor": "x7",
                  "domain": [
                    0.9269999999999999,
                    0.9999999999999999
                  ],
                  "matches": "y",
                  "range": [
                    -1.148610255050146,
                    2.127761058726985
                  ],
                  "showticklabels": false,
                  "type": "log"
                },
                "yaxis70": {
                  "anchor": "x70",
                  "domain": [
                    0.30899999999999994,
                    0.38199999999999995
                  ],
                  "matches": "y61",
                  "range": [
                    2.15,
                    20.85
                  ],
                  "showticklabels": false
                },
                "yaxis71": {
                  "anchor": "x71",
                  "domain": [
                    0.206,
                    0.27899999999999997
                  ],
                  "range": [
                    0.55,
                    10.45
                  ],
                  "title": {
                    "text": "min_sample_leaf"
                  }
                },
                "yaxis72": {
                  "anchor": "x72",
                  "domain": [
                    0.206,
                    0.27899999999999997
                  ],
                  "matches": "y71",
                  "range": [
                    0.55,
                    10.45
                  ],
                  "showticklabels": false
                },
                "yaxis73": {
                  "anchor": "x73",
                  "domain": [
                    0.206,
                    0.27899999999999997
                  ],
                  "matches": "y71",
                  "range": [
                    0.55,
                    10.45
                  ],
                  "showticklabels": false
                },
                "yaxis74": {
                  "anchor": "x74",
                  "domain": [
                    0.206,
                    0.27899999999999997
                  ],
                  "matches": "y71",
                  "range": [
                    0.55,
                    10.45
                  ],
                  "showticklabels": false
                },
                "yaxis75": {
                  "anchor": "x75",
                  "domain": [
                    0.206,
                    0.27899999999999997
                  ],
                  "matches": "y71",
                  "range": [
                    0.55,
                    10.45
                  ],
                  "showticklabels": false
                },
                "yaxis76": {
                  "anchor": "x76",
                  "domain": [
                    0.206,
                    0.27899999999999997
                  ],
                  "matches": "y71",
                  "range": [
                    0.55,
                    10.45
                  ],
                  "showticklabels": false
                },
                "yaxis77": {
                  "anchor": "x77",
                  "domain": [
                    0.206,
                    0.27899999999999997
                  ],
                  "matches": "y71",
                  "range": [
                    0.55,
                    10.45
                  ],
                  "showticklabels": false
                },
                "yaxis78": {
                  "anchor": "x78",
                  "domain": [
                    0.206,
                    0.27899999999999997
                  ],
                  "matches": "y71",
                  "range": [
                    0.55,
                    10.45
                  ],
                  "showticklabels": false
                },
                "yaxis79": {
                  "anchor": "x79",
                  "domain": [
                    0.206,
                    0.27899999999999997
                  ],
                  "matches": "y71",
                  "range": [
                    0.55,
                    10.45
                  ],
                  "showticklabels": false
                },
                "yaxis8": {
                  "anchor": "x8",
                  "domain": [
                    0.9269999999999999,
                    0.9999999999999999
                  ],
                  "matches": "y",
                  "range": [
                    -1.148610255050146,
                    2.127761058726985
                  ],
                  "showticklabels": false,
                  "type": "log"
                },
                "yaxis80": {
                  "anchor": "x80",
                  "domain": [
                    0.206,
                    0.27899999999999997
                  ],
                  "matches": "y71",
                  "range": [
                    0.55,
                    10.45
                  ],
                  "showticklabels": false
                },
                "yaxis81": {
                  "anchor": "x81",
                  "domain": [
                    0.103,
                    0.176
                  ],
                  "range": [
                    1.6,
                    10.4
                  ],
                  "title": {
                    "text": "min_samples_split"
                  }
                },
                "yaxis82": {
                  "anchor": "x82",
                  "domain": [
                    0.103,
                    0.176
                  ],
                  "matches": "y81",
                  "range": [
                    1.6,
                    10.4
                  ],
                  "showticklabels": false
                },
                "yaxis83": {
                  "anchor": "x83",
                  "domain": [
                    0.103,
                    0.176
                  ],
                  "matches": "y81",
                  "range": [
                    1.6,
                    10.4
                  ],
                  "showticklabels": false
                },
                "yaxis84": {
                  "anchor": "x84",
                  "domain": [
                    0.103,
                    0.176
                  ],
                  "matches": "y81",
                  "range": [
                    1.6,
                    10.4
                  ],
                  "showticklabels": false
                },
                "yaxis85": {
                  "anchor": "x85",
                  "domain": [
                    0.103,
                    0.176
                  ],
                  "matches": "y81",
                  "range": [
                    1.6,
                    10.4
                  ],
                  "showticklabels": false
                },
                "yaxis86": {
                  "anchor": "x86",
                  "domain": [
                    0.103,
                    0.176
                  ],
                  "matches": "y81",
                  "range": [
                    1.6,
                    10.4
                  ],
                  "showticklabels": false
                },
                "yaxis87": {
                  "anchor": "x87",
                  "domain": [
                    0.103,
                    0.176
                  ],
                  "matches": "y81",
                  "range": [
                    1.6,
                    10.4
                  ],
                  "showticklabels": false
                },
                "yaxis88": {
                  "anchor": "x88",
                  "domain": [
                    0.103,
                    0.176
                  ],
                  "matches": "y81",
                  "range": [
                    1.6,
                    10.4
                  ],
                  "showticklabels": false
                },
                "yaxis89": {
                  "anchor": "x89",
                  "domain": [
                    0.103,
                    0.176
                  ],
                  "matches": "y81",
                  "range": [
                    1.6,
                    10.4
                  ],
                  "showticklabels": false
                },
                "yaxis9": {
                  "anchor": "x9",
                  "domain": [
                    0.9269999999999999,
                    0.9999999999999999
                  ],
                  "matches": "y",
                  "range": [
                    -1.148610255050146,
                    2.127761058726985
                  ],
                  "showticklabels": false,
                  "type": "log"
                },
                "yaxis90": {
                  "anchor": "x90",
                  "domain": [
                    0.103,
                    0.176
                  ],
                  "matches": "y81",
                  "range": [
                    1.6,
                    10.4
                  ],
                  "showticklabels": false
                },
                "yaxis91": {
                  "anchor": "x91",
                  "domain": [
                    0,
                    0.073
                  ],
                  "range": [
                    38,
                    302
                  ],
                  "title": {
                    "text": "n_estimators"
                  }
                },
                "yaxis92": {
                  "anchor": "x92",
                  "domain": [
                    0,
                    0.073
                  ],
                  "matches": "y91",
                  "range": [
                    38,
                    302
                  ],
                  "showticklabels": false
                },
                "yaxis93": {
                  "anchor": "x93",
                  "domain": [
                    0,
                    0.073
                  ],
                  "matches": "y91",
                  "range": [
                    38,
                    302
                  ],
                  "showticklabels": false
                },
                "yaxis94": {
                  "anchor": "x94",
                  "domain": [
                    0,
                    0.073
                  ],
                  "matches": "y91",
                  "range": [
                    38,
                    302
                  ],
                  "showticklabels": false
                },
                "yaxis95": {
                  "anchor": "x95",
                  "domain": [
                    0,
                    0.073
                  ],
                  "matches": "y91",
                  "range": [
                    38,
                    302
                  ],
                  "showticklabels": false
                },
                "yaxis96": {
                  "anchor": "x96",
                  "domain": [
                    0,
                    0.073
                  ],
                  "matches": "y91",
                  "range": [
                    38,
                    302
                  ],
                  "showticklabels": false
                },
                "yaxis97": {
                  "anchor": "x97",
                  "domain": [
                    0,
                    0.073
                  ],
                  "matches": "y91",
                  "range": [
                    38,
                    302
                  ],
                  "showticklabels": false
                },
                "yaxis98": {
                  "anchor": "x98",
                  "domain": [
                    0,
                    0.073
                  ],
                  "matches": "y91",
                  "range": [
                    38,
                    302
                  ],
                  "showticklabels": false
                },
                "yaxis99": {
                  "anchor": "x99",
                  "domain": [
                    0,
                    0.073
                  ],
                  "matches": "y91",
                  "range": [
                    38,
                    302
                  ],
                  "showticklabels": false
                }
              }
            }
          },
          "metadata": {},
          "output_type": "display_data"
        }
      ],
      "source": [
        "\n",
        "\n",
        "plot_contour(study).show()\n"
      ]
    },
    {
      "cell_type": "markdown",
      "metadata": {
        "id": "6HM4JqV7blUd"
      },
      "source": [
        "\n",
        "<br>\n",
        "\n",
        "- We can also use distributed computing with optuna.\n",
        "- We can intregrate it with sklearn,tensorflow,pytorch and also for mlflow.\n",
        "- We can also use it in ml and also dl.\n",
        "\n",
        "<br>\n",
        "\n"
      ]
    }
  ],
  "metadata": {
    "colab": {
      "name": "Welcome To Colab",
      "provenance": []
    },
    "kernelspec": {
      "display_name": "venv",
      "language": "python",
      "name": "python3"
    },
    "language_info": {
      "codemirror_mode": {
        "name": "ipython",
        "version": 3
      },
      "file_extension": ".py",
      "mimetype": "text/x-python",
      "name": "python",
      "nbconvert_exporter": "python",
      "pygments_lexer": "ipython3",
      "version": "3.13.3"
    }
  },
  "nbformat": 4,
  "nbformat_minor": 0
}
