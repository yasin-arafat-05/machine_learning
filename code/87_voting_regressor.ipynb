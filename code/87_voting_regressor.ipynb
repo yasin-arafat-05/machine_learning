{
 "cells": [
  {
   "cell_type": "markdown",
   "metadata": {},
   "source": [
    "<br>\n",
    "<br>\n",
    "\n",
    "# `# Voting regressor:`\n",
    "\n",
    "<br>\n",
    "<br>"
   ]
  },
  {
   "cell_type": "code",
   "execution_count": null,
   "metadata": {},
   "outputs": [],
   "source": [
    "\n",
    "import numpy as np \n",
    "from sklearn.datasets import load_diabetes\n",
    "\n",
    "\n",
    "X,y = load_diabetes(return_X_y=True) \n"
   ]
  },
  {
   "cell_type": "code",
   "execution_count": 29,
   "metadata": {},
   "outputs": [
    {
     "name": "stdout",
     "output_type": "stream",
     "text": [
      "dict_keys(['data', 'target', 'frame', 'DESCR', 'feature_names', 'data_filename', 'target_filename', 'data_module'])\n"
     ]
    },
    {
     "data": {
      "text/plain": [
       "array([151.,  75., 141., 206., 135.,  97., 138.,  63., 110., 310., 101.,\n",
       "        69., 179., 185., 118., 171., 166., 144.,  97., 168.,  68.,  49.,\n",
       "        68., 245., 184., 202., 137.,  85., 131., 283., 129.,  59., 341.,\n",
       "        87.,  65., 102., 265., 276., 252.,  90., 100.,  55.,  61.,  92.,\n",
       "       259.,  53., 190., 142.,  75., 142., 155., 225.,  59., 104., 182.,\n",
       "       128.,  52.,  37., 170., 170.,  61., 144.,  52., 128.,  71., 163.,\n",
       "       150.,  97., 160., 178.,  48., 270., 202., 111.,  85.,  42., 170.,\n",
       "       200., 252., 113., 143.,  51.,  52., 210.,  65., 141.,  55., 134.,\n",
       "        42., 111.,  98., 164.,  48.,  96.,  90., 162., 150., 279.,  92.,\n",
       "        83., 128., 102., 302., 198.,  95.,  53., 134., 144., 232.,  81.,\n",
       "       104.,  59., 246., 297., 258., 229., 275., 281., 179., 200., 200.,\n",
       "       173., 180.,  84., 121., 161.,  99., 109., 115., 268., 274., 158.,\n",
       "       107.,  83., 103., 272.,  85., 280., 336., 281., 118., 317., 235.,\n",
       "        60., 174., 259., 178., 128.,  96., 126., 288.,  88., 292.,  71.,\n",
       "       197., 186.,  25.,  84.,  96., 195.,  53., 217., 172., 131., 214.,\n",
       "        59.,  70., 220., 268., 152.,  47.,  74., 295., 101., 151., 127.,\n",
       "       237., 225.,  81., 151., 107.,  64., 138., 185., 265., 101., 137.,\n",
       "       143., 141.,  79., 292., 178.,  91., 116.,  86., 122.,  72., 129.,\n",
       "       142.,  90., 158.,  39., 196., 222., 277.,  99., 196., 202., 155.,\n",
       "        77., 191.,  70.,  73.,  49.,  65., 263., 248., 296., 214., 185.,\n",
       "        78.,  93., 252., 150.,  77., 208.,  77., 108., 160.,  53., 220.,\n",
       "       154., 259.,  90., 246., 124.,  67.,  72., 257., 262., 275., 177.,\n",
       "        71.,  47., 187., 125.,  78.,  51., 258., 215., 303., 243.,  91.,\n",
       "       150., 310., 153., 346.,  63.,  89.,  50.,  39., 103., 308., 116.,\n",
       "       145.,  74.,  45., 115., 264.,  87., 202., 127., 182., 241.,  66.,\n",
       "        94., 283.,  64., 102., 200., 265.,  94., 230., 181., 156., 233.,\n",
       "        60., 219.,  80.,  68., 332., 248.,  84., 200.,  55.,  85.,  89.,\n",
       "        31., 129.,  83., 275.,  65., 198., 236., 253., 124.,  44., 172.,\n",
       "       114., 142., 109., 180., 144., 163., 147.,  97., 220., 190., 109.,\n",
       "       191., 122., 230., 242., 248., 249., 192., 131., 237.,  78., 135.,\n",
       "       244., 199., 270., 164.,  72.,  96., 306.,  91., 214.,  95., 216.,\n",
       "       263., 178., 113., 200., 139., 139.,  88., 148.,  88., 243.,  71.,\n",
       "        77., 109., 272.,  60.,  54., 221.,  90., 311., 281., 182., 321.,\n",
       "        58., 262., 206., 233., 242., 123., 167.,  63., 197.,  71., 168.,\n",
       "       140., 217., 121., 235., 245.,  40.,  52., 104., 132.,  88.,  69.,\n",
       "       219.,  72., 201., 110.,  51., 277.,  63., 118.,  69., 273., 258.,\n",
       "        43., 198., 242., 232., 175.,  93., 168., 275., 293., 281.,  72.,\n",
       "       140., 189., 181., 209., 136., 261., 113., 131., 174., 257.,  55.,\n",
       "        84.,  42., 146., 212., 233.,  91., 111., 152., 120.,  67., 310.,\n",
       "        94., 183.,  66., 173.,  72.,  49.,  64.,  48., 178., 104., 132.,\n",
       "       220.,  57.])"
      ]
     },
     "execution_count": 29,
     "metadata": {},
     "output_type": "execute_result"
    }
   ],
   "source": [
    "\n",
    "print(load_diabetes().keys())\n",
    "load_diabetes()['target']\n"
   ]
  },
  {
   "cell_type": "code",
   "execution_count": null,
   "metadata": {},
   "outputs": [],
   "source": [
    "\n",
    "# < ---- import necessary files:  ----> \n",
    "from sklearn.linear_model import LinearRegression\n",
    "from sklearn.svm import SVR\n",
    "from sklearn.tree import DecisionTreeRegressor\n",
    "from sklearn.model_selection import cross_val_score\n"
   ]
  },
  {
   "cell_type": "code",
   "execution_count": 32,
   "metadata": {},
   "outputs": [],
   "source": [
    "\n",
    "clf1 = LinearRegression()\n",
    "clf2 = DecisionTreeRegressor()\n",
    "clf3 = SVR()\n",
    "\n",
    "estimators = [('LR',clf1),('DT',clf2),('SVR',clf3)]\n",
    "\n"
   ]
  },
  {
   "cell_type": "code",
   "execution_count": null,
   "metadata": {},
   "outputs": [
    {
     "name": "stdout",
     "output_type": "stream",
     "text": [
      " LR : 0.46\n",
      " DT : -0.22\n",
      " SVR : 0.15\n"
     ]
    }
   ],
   "source": [
    "\n",
    "# without voting ensamble: \n",
    "\n",
    "for estimator in estimators:\n",
    "    x = cross_val_score(estimator=estimator[1],X=X,y=y,cv=10,scoring=\"r2\")\n",
    "    print(f\" {estimator[0]} : {np.round(np.mean(x),2)}\")\n",
    "    "
   ]
  },
  {
   "cell_type": "markdown",
   "metadata": {},
   "source": [
    "<br>\n",
    "\n",
    "# `#Voting Regressor:`\n",
    "\n",
    "<br>"
   ]
  },
  {
   "cell_type": "code",
   "execution_count": 36,
   "metadata": {},
   "outputs": [
    {
     "name": "stdout",
     "output_type": "stream",
     "text": [
      "0.35\n"
     ]
    }
   ],
   "source": [
    "\n",
    "# with voting ensamble: \n",
    "from sklearn.ensemble import VotingRegressor\n",
    "\n",
    "vr = VotingRegressor(estimators=estimators,verbose=False)\n",
    "x = cross_val_score(estimator=vr,X=X,y=y,scoring=\"r2\",cv=10)\n",
    "print(np.round(np.mean(x),2))\n"
   ]
  },
  {
   "cell_type": "markdown",
   "metadata": {},
   "source": [
    "<br>\n",
    "\n",
    "# `#Weighted Voting Regressor:`\n",
    "\n",
    "<br>"
   ]
  },
  {
   "cell_type": "code",
   "execution_count": 40,
   "metadata": {},
   "outputs": [
    {
     "name": "stdout",
     "output_type": "stream",
     "text": [
      "i=1 j=1 k=1: r2:  0.35\n",
      "i=1 j=1 k=2: r2:  0.33\n",
      "i=1 j=1 k=3: r2:  0.32\n",
      "i=1 j=2 k=1: r2:  0.26\n",
      "i=1 j=2 k=2: r2:  0.29\n",
      "i=1 j=2 k=3: r2:  0.29\n",
      "i=1 j=3 k=1: r2:  0.18\n",
      "i=1 j=3 k=2: r2:  0.24\n",
      "i=1 j=3 k=3: r2:  0.27\n",
      "i=2 j=1 k=1: r2:  0.39\n",
      "i=2 j=1 k=2: r2:  0.38\n",
      "i=2 j=1 k=3: r2:  0.37\n",
      "i=2 j=2 k=1: r2:  0.31\n",
      "i=2 j=2 k=2: r2:  0.34\n",
      "i=2 j=2 k=3: r2:  0.35\n",
      "i=2 j=3 k=1: r2:  0.28\n",
      "i=2 j=3 k=2: r2:  0.31\n",
      "i=2 j=3 k=3: r2:  0.32\n",
      "i=3 j=1 k=1: r2:  0.42\n",
      "i=3 j=1 k=2: r2:  0.41\n",
      "i=3 j=1 k=3: r2:  0.39\n",
      "i=3 j=2 k=1: r2:  0.36\n",
      "i=3 j=2 k=2: r2:  0.37\n",
      "i=3 j=2 k=3: r2:  0.38\n",
      "i=3 j=3 k=1: r2:  0.31\n",
      "i=3 j=3 k=2: r2:  0.35\n",
      "i=3 j=3 k=3: r2:  0.34\n"
     ]
    }
   ],
   "source": [
    "\n",
    "# we have 3 model so, let's create with a 3 nested for loop: from (1to3) 0 is not valid \n",
    "for i in range(1,4):\n",
    "    for j in range(1,4):\n",
    "        for k in range(1,4):\n",
    "            vr = VotingRegressor(estimators=estimators,weights=[i,j,k])\n",
    "            x = cross_val_score(estimator=vr,X=X,y=y,scoring=\"r2\",cv=10)\n",
    "            print(f\"i={i} j={j} k={k}: r2: \",np.round(np.mean(x),2))\n",
    "            \n",
    "            "
   ]
  },
  {
   "cell_type": "markdown",
   "metadata": {},
   "source": [
    "<br>\n",
    "<br>\n",
    "\n",
    "# `# Using same algorithrm: hyperparamter exprement.`\n",
    "\n",
    "<br>\n",
    "<br>"
   ]
  },
  {
   "cell_type": "code",
   "execution_count": 41,
   "metadata": {},
   "outputs": [],
   "source": [
    "\n",
    "\n",
    "dt1 = DecisionTreeRegressor(max_depth=1)\n",
    "dt2 = DecisionTreeRegressor(max_depth=3)\n",
    "dt3 = DecisionTreeRegressor(max_depth=5)\n",
    "dt4 = DecisionTreeRegressor(max_depth=7)\n",
    "dt5 = DecisionTreeRegressor(max_depth=10)\n",
    "dt6 = DecisionTreeRegressor(max_depth=None)\n",
    "\n",
    "estimators = [(\"dt1\",dt1),(\"dt2\",dt2),(\"dt3\",dt3),(\"dt4\",dt4),(\"dt5\",dt5),(\"dt6\",dt6)]\n"
   ]
  },
  {
   "cell_type": "code",
   "execution_count": 43,
   "metadata": {},
   "outputs": [
    {
     "name": "stdout",
     "output_type": "stream",
     "text": [
      "dt1 :  0.15\n",
      "dt2 :  0.29\n",
      "dt3 :  0.15\n",
      "dt4 :  -0.04\n",
      "dt5 :  -0.26\n",
      "dt6 :  -0.22\n"
     ]
    }
   ],
   "source": [
    "\n",
    "\n",
    "for estimator in estimators:\n",
    "    x = cross_val_score(estimator=estimator[1],X=X,y=y,cv=10,scoring='r2')\n",
    "    print(f\"{estimator[0]} : \",np.round(np.mean(x),2))\n"
   ]
  },
  {
   "cell_type": "code",
   "execution_count": 51,
   "metadata": {},
   "outputs": [
    {
     "name": "stdout",
     "output_type": "stream",
     "text": [
      "0.18\n"
     ]
    }
   ],
   "source": [
    "\n",
    "vr = VotingRegressor(estimators=estimators)\n",
    "x = cross_val_score(estimator=vr,X=X,y=y,scoring=\"r2\",cv=10)\n",
    "print(np.round(np.mean(x),2))\n"
   ]
  }
 ],
 "metadata": {
  "kernelspec": {
   "display_name": "venv",
   "language": "python",
   "name": "python3"
  },
  "language_info": {
   "codemirror_mode": {
    "name": "ipython",
    "version": 3
   },
   "file_extension": ".py",
   "mimetype": "text/x-python",
   "name": "python",
   "nbconvert_exporter": "python",
   "pygments_lexer": "ipython3",
   "version": "3.13.2"
  }
 },
 "nbformat": 4,
 "nbformat_minor": 2
}
