{
 "cells": [
  {
   "cell_type": "code",
   "execution_count": 1,
   "metadata": {},
   "outputs": [],
   "source": [
    "import numpy as np "
   ]
  },
  {
   "cell_type": "markdown",
   "metadata": {},
   "source": [
    "<Br>\n",
    "\n",
    "# 0D (Zero Dimention) tensor:\n",
    "\n",
    "<Br>"
   ]
  },
  {
   "cell_type": "code",
   "execution_count": 4,
   "metadata": {},
   "outputs": [
    {
     "name": "stdout",
     "output_type": "stream",
     "text": [
      "zero_d : 4\n",
      "zero_d : <class 'numpy.ndarray'>\n",
      "dimention: 0\n"
     ]
    }
   ],
   "source": [
    "zero_d = np.array(4)\n",
    "\n",
    "print(f\"zero_d : {zero_d}\")\n",
    "\n",
    "print(f\"zero_d : {type(zero_d)}\")\n",
    "\n",
    "print(f\"dimention: {zero_d.ndim}\")"
   ]
  },
  {
   "cell_type": "markdown",
   "metadata": {},
   "source": [
    "<br>\n",
    "\n",
    "# 1D Tensor:\n",
    "\n",
    "<br>"
   ]
  },
  {
   "cell_type": "code",
   "execution_count": 6,
   "metadata": {},
   "outputs": [
    {
     "name": "stdout",
     "output_type": "stream",
     "text": [
      "one_d : [1 2 3 4 5]\n",
      "one_d : <class 'numpy.ndarray'>\n",
      "dimention: 1\n"
     ]
    }
   ],
   "source": [
    "one_d = np.array([1,2,3,4,5])\n",
    "\n",
    "print(f\"one_d : {one_d}\")\n",
    "\n",
    "print(f\"one_d : {type(one_d)}\")\n",
    "\n",
    "print(f\"dimention: {one_d.ndim}\")"
   ]
  },
  {
   "cell_type": "markdown",
   "metadata": {},
   "source": [
    "<br>\n",
    "\n",
    "# 2D Tensor:\n",
    "\n",
    "<br>"
   ]
  },
  {
   "cell_type": "code",
   "execution_count": 11,
   "metadata": {},
   "outputs": [
    {
     "name": "stdout",
     "output_type": "stream",
     "text": [
      "two_d : \n",
      "\n",
      " [[ 1  2  3  4  5]\n",
      " [ 6  7  8  9 10]\n",
      " [11 12 13 14 15]]\n",
      "\n",
      "\n",
      "two_d : <class 'numpy.ndarray'>\n",
      "dimention: 2\n"
     ]
    }
   ],
   "source": [
    "two_d = np.array([\n",
    "                 [1,2,3,4,5],\n",
    "                 [6,7,8,9,10],\n",
    "                 [11,12,13,14,15]\n",
    "                 ]\n",
    "                 )\n",
    "\n",
    "print(f\"two_d : \\n\\n {two_d}\\n\\n\")\n",
    "\n",
    "print(f\"two_d : {type(two_d)}\")\n",
    "\n",
    "print(f\"dimention: {two_d.ndim}\")"
   ]
  }
 ],
 "metadata": {
  "kernelspec": {
   "display_name": "Python 3",
   "language": "python",
   "name": "python3"
  },
  "language_info": {
   "codemirror_mode": {
    "name": "ipython",
    "version": 3
   },
   "file_extension": ".py",
   "mimetype": "text/x-python",
   "name": "python",
   "nbconvert_exporter": "python",
   "pygments_lexer": "ipython3",
   "version": "3.12.3"
  }
 },
 "nbformat": 4,
 "nbformat_minor": 2
}
