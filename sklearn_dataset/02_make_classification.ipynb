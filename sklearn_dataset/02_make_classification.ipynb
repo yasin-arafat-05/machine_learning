{
 "cells": [
  {
   "cell_type": "markdown",
   "metadata": {},
   "source": [
    "<br>\n",
    "\n",
    "# `# make_classification: `\n",
    "\n",
    "<br>"
   ]
  },
  {
   "cell_type": "code",
   "execution_count": 1,
   "metadata": {},
   "outputs": [],
   "source": [
    "\n",
    "import matplotlib.pyplot as plt\n",
    "import seaborn as sns\n",
    "from sklearn.datasets import make_classification"
   ]
  },
  {
   "cell_type": "markdown",
   "metadata": {},
   "source": [
    "## Some key points:\n",
    "\n",
    "- hypercuve: `(n_feature এ যত ভ্যালু দিব আমাদের dimention তত বেশি হবে । n=2, our cluster is in sqare from, n=3 -> cuve, n=4 or more we called hypercuve or hypercuvoid. )`\n",
    "\n"
   ]
  },
  {
   "cell_type": "code",
   "execution_count": 16,
   "metadata": {},
   "outputs": [
    {
     "data": {
      "text/plain": [
       "<Axes: >"
      ]
     },
     "execution_count": 16,
     "metadata": {},
     "output_type": "execute_result"
    },
    {
     "data": {
      "image/png": "[encoded data removed]",
      "text/plain": [
       "<Figure size 640x480 with 1 Axes>"
      ]
     },
     "metadata": {},
     "output_type": "display_data"
    }
   ],
   "source": [
    "\n",
    "X,y = make_classification(n_samples=10,\n",
    "                          n_features=2,\n",
    "                          n_informative=2,\n",
    "                          n_redundant=0,\n",
    "                          n_repeated=0,\n",
    "                          n_clusters_per_class=2,\n",
    "                          class_sep=3,\n",
    "                          flip_y=0,\n",
    "                          random_state=42)\n",
    "\n",
    "sns.scatterplot(data=X)"
   ]
  },
  {
   "cell_type": "markdown",
   "metadata": {},
   "source": [
    "\n",
    "---\n",
    "---\n",
    "\n",
    "**random_state=42:**\n",
    "\n",
    "- The dataset will always look the same every time you run the code.\n",
    "\n",
    "- The cluster centers, point distributions, and noise will be identical.\n",
    "\n",
    "**random_state=41:**\n",
    "\n",
    "- The dataset will look different compared to random_state=42.\n",
    "\n",
    "- The cluster centers, point distributions, and noise will change.\n",
    "\n",
    "<br>\n",
    "\n",
    "---\n",
    "---\n",
    "\n",
    "<br>\n",
    "\n",
    "### **Parameters:**\n",
    "\n",
    "1. **`n_samples`**:\n",
    "   - **English**: The number of samples (data points) to generate.\n",
    "   - **Bangla**: ডেটা পয়েন্টের সংখ্যা (নমুনা) তৈরি করতে।\n",
    "\n",
    "2. **`n_features`**:\n",
    "   - **English**: The total number of features (dimensions) in the dataset. This includes informative, redundant, repeated, and useless features.\n",
    "   - **Bangla**: ডেটাসেটে মোট ফিচারের সংখ্যা (ডাইমেনশন)। এতে ইনফরমেটিভ, রিডানডেন্ট, রিপিটেড এবং ইউজলেস ফিচার অন্তর্ভুক্ত।\n",
    "\n",
    "3. **`n_informative`**:\n",
    "   - **English**: The number of informative features. These are the features that are useful for classification. Clusters are generated around the vertices of a hypercube in this subspace.\n",
    "   - **Bangla**: ইনফরমেটিভ ফিচারের সংখ্যা। এগুলি ক্লাসিফিকেশনের জন্য দরকারী ফিচার। ক্লাস্টারগুলি এই সাবস্পেসে একটি হাইপারকিউবের শীর্ষবিন্দুগুলির চারপাশে তৈরি হয়।\n",
    "\n",
    "4. **`n_redundant`**:\n",
    "   - **English**: The number of redundant features. These are random linear combinations of the informative features.\n",
    "   - **Bangla**: রিডানডেন্ট ফিচারের সংখ্যা। এগুলি ইনফরমেটিভ ফিচারগুলির র্যান্ডম লিনিয়ার কম্বিনেশন।\n",
    "\n",
    "5. **`n_repeated`**:\n",
    "   - **English**: The number of duplicated features. These are randomly drawn from the informative and redundant features.\n",
    "   - **Bangla**: ডুপ্লিকেট ফিচারের সংখ্যা। এগুলি ইনফরমেটিভ এবং রিডানডেন্ট ফিচার থেকে র্যান্ডমলি আঁকা হয়।\n",
    "\n",
    "6. **`n_classes`**:\n",
    "   - **English**: The number of classes (labels) in the classification problem.\n",
    "   - **Bangla**: ক্লাসিফিকেশন সমস্যায় ক্লাসের (লেবেল) সংখ্যা।\n",
    "\n",
    "7. **`n_clusters_per_class`**:\n",
    "   - **English**: The number of clusters per class. Each class is composed of multiple clusters.\n",
    "   - **Bangla**: প্রতি ক্লাসে ক্লাস্টারের সংখ্যা। প্রতিটি ক্লাস একাধিক ক্লাস্টার নিয়ে গঠিত।\n",
    "\n",
    "8. **`weights`**:\n",
    "   - **English**: The proportions of samples assigned to each class. If `None`, classes are balanced.\n",
    "   - **Bangla**: প্রতিটি ক্লাসে নমুনার অনুপাত। যদি `None` হয়, ক্লাসগুলি ব্যালেন্সড হয়।\n",
    "\n",
    "9. **`flip_y`**:\n",
    "   - **English**: The fraction of samples whose class is assigned randomly. This introduces noise in the labels.\n",
    "   - **Bangla**: নমুনার যে ভগ্নাংশের ক্লাস র্যান্ডমলি নির্ধারণ করা হয়। এটি লেবেলে নয়েজ যোগ করে।\n",
    "\n",
    "10. **`class_sep`**:\n",
    "    - **English**: The factor multiplying the hypercube size. Larger values spread out the clusters and make classification easier.\n",
    "    - **Bangla**: হাইপারকিউবের আকারকে গুণ করার ফ্যাক্টর। বড় মান ক্লাস্টারগুলিকে ছড়িয়ে দেয় এবং ক্লাসিফিকেশনকে সহজ করে।\n",
    "\n",
    "11. **`hypercube`**:\n",
    "    - **English**: If `True`, clusters are placed on the vertices of a hypercube. If `False`, clusters are placed on the vertices of a random polytope.\n",
    "    - **Bangla**: যদি `True` হয়, ক্লাস্টারগুলি হাইপারকিউবের শীর্ষবিন্দুতে স্থাপন করা হয়। যদি `False` হয়, ক্লাস্টারগুলি র্যান্ডম পলিটোপের শীর্ষবিন্দুতে স্থাপন করা হয়।\n",
    "\n",
    "12. **`shift`**:\n",
    "    - **English**: Shift features by the specified value. If `None`, features are shifted by a random value.\n",
    "    - **Bangla**: ফিচারগুলিকে নির্দিষ্ট মান দ্বারা শিফট করুন। যদি `None` হয়, ফিচারগুলি র্যান্ডম মান দ্বারা শিফট করা হয়।\n",
    "\n",
    "13. **`scale`**:\n",
    "    - **English**: Multiply features by the specified value. If `None`, features are scaled by a random value.\n",
    "    - **Bangla**: ফিচারগুলিকে নির্দিষ্ট মান দ্বারা গুণ করুন। যদি `None` হয়, ফিচারগুলি র্যান্ডম মান দ্বারা স্কেল করা হয়।\n",
    "\n",
    "14. **`shuffle`**:\n",
    "    - **English**: Shuffle the samples and features. If `True`, the order of samples and features is randomized.\n",
    "    - **Bangla**: নমুনা এবং ফিচারগুলিকে শাফল করুন। যদি `True` হয়, নমুনা এবং ফিচারগুলির ক্রম র্যান্ডমাইজ করা হয়।\n",
    "\n",
    "15. **`random_state`**:\n",
    "    - **English**: Controls the random number generation for reproducibility. Pass an integer for consistent results.\n",
    "    - **Bangla**: রিপ্রোডিউসিবিলিটির জন্য র্যান্ডম নম্বর জেনারেশন নিয়ন্ত্রণ করে। সামঞ্জস্যপূর্ণ ফলাফলের জন্য একটি পূর্ণসংখ্যা পাস করুন।\n",
    "\n",
    "\n",
    "\n"
   ]
  }
 ],
 "metadata": {
  "kernelspec": {
   "display_name": "venv",
   "language": "python",
   "name": "python3"
  },
  "language_info": {
   "codemirror_mode": {
    "name": "ipython",
    "version": 3
   },
   "file_extension": ".py",
   "mimetype": "text/x-python",
   "name": "python",
   "nbconvert_exporter": "python",
   "pygments_lexer": "ipython3",
   "version": "3.13.2"
  }
 },
 "nbformat": 4,
 "nbformat_minor": 2
}
